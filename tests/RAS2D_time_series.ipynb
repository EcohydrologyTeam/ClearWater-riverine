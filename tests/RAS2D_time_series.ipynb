{
 "cells": [
  {
   "cell_type": "markdown",
   "source": [
    "# Muncie HEC-RAS-2D Animation"
   ],
   "metadata": {}
  },
  {
   "cell_type": "code",
   "execution_count": 1,
   "source": [
    "import unittest\n",
    "import os\n",
    "import sys\n",
    "import numpy\n",
    "import datetime\n",
    "import pyproj\n",
    "import matplotlib\n",
    "import matplotlib.pyplot as plt\n",
    "import matplotlib.animation as animation\n",
    "import pandas as pd\n",
    "plt.rcParams['animation.html'] = 'html5'"
   ],
   "outputs": [],
   "metadata": {}
  },
  {
   "cell_type": "markdown",
   "source": [
    "## Set data and module paths"
   ],
   "metadata": {}
  },
  {
   "cell_type": "code",
   "execution_count": 2,
   "source": [
    "local_path = os.path.dirname(os.path.realpath('.'))\n",
    "repo_path = os.path.join(local_path.split('ClearWater')[0], 'ClearWater')\n",
    "src_path = os.path.join(repo_path, 'riverine', 'src', 'riverine', 'ras2d')\n",
    "inputs_path = os.path.join(repo_path, 'riverine', 'tests', 'input_files')\n",
    "outputs_path = os.path.join(repo_path, 'riverine', 'tests', 'output_files')\n",
    "\n",
    "print(f'repo path: {repo_path}')\n",
    "print(f'src path: {src_path}')\n",
    "print(f'inputs path: {inputs_path}')\n",
    "print(f'outputs path: {outputs_path}')"
   ],
   "outputs": [
    {
     "output_type": "stream",
     "name": "stdout",
     "text": [
      "repo path: /Users/todd/GitHub/environmentalsystems/ClearWater\n",
      "src path: /Users/todd/GitHub/environmentalsystems/ClearWater/riverine/src/riverine/ras2d\n",
      "inputs path: /Users/todd/GitHub/environmentalsystems/ClearWater/riverine/tests/input_files\n",
      "outputs path: /Users/todd/GitHub/environmentalsystems/ClearWater/riverine/tests/output_files\n"
     ]
    }
   ],
   "metadata": {}
  },
  {
   "cell_type": "code",
   "execution_count": 3,
   "source": [
    "''' Import RAS2D '''\n",
    "sys.path.insert(0, src_path)\n",
    "import RAS2D"
   ],
   "outputs": [
    {
     "output_type": "stream",
     "name": "stdout",
     "text": [
      "module_path = /Users/todd/GitHub/environmentalsystems/ClearWater/modules/python/src\n",
      "ClearWater repo path: /Users/todd/GitHub/environmentalsystems/ClearWater\n",
      "TSM source path: /Users/todd/GitHub/environmentalsystems/ClearWater/modules/python/src/TSM\n"
     ]
    }
   ],
   "metadata": {}
  },
  {
   "cell_type": "code",
   "execution_count": 4,
   "source": [
    "# Open HEC-RAS 2D output file\n",
    "# Muncie, Indiana, East Indiana State Plane, NAD83, feet\n",
    "ras_file_path = os.path.join(inputs_path, 'Muncie.p04.hdf')\n",
    "ras2d_data = RAS2D.RAS_HDF5(ras_file_path, variables=[])\n",
    "ras2d_data.read()\n",
    "\n",
    "# Pick a better year, since Muncie uses 1900\n",
    "dates = [d + datetime.timedelta(days=120*365) for d in ras2d_data.results['dates']]\n",
    "\n",
    "# Set coordinate system\n",
    "crs=\"epsg:2245\"\n",
    "\n",
    "# Create colormap similar to the HEC-RAS-2D water depth colormap\n",
    "colors = [\n",
    "    (255, 255, 255),\n",
    "    (98, 208, 230),\n",
    "    (87, 188, 217),\n",
    "    (70, 156, 195),\n",
    "    (55, 123, 176),\n",
    "    (38, 87, 160),\n",
    "    (26, 57, 143),\n",
    "    (24, 49, 143), \n",
    "    (16, 24, 130)\n",
    "    ]\n",
    "\n",
    "position = numpy.array([0, 0.01, 1, 2, 3, 4, 5, 6, 7])/7.0\n",
    "position = position.tolist()\n",
    "\n",
    "ras_cmap = RAS2D.make_colormap(colors, eight_bit=True, position=position)\n",
    "\n",
    "# Set output file path, which will be string-intepolated with the current index\n",
    "# as it loops through the data\n",
    "outfile_interp_path = os.path.join(outputs_path, 'muncie_chloropleth_%03d.png')"
   ],
   "outputs": [],
   "metadata": {}
  },
  {
   "cell_type": "code",
   "execution_count": 5,
   "source": [
    "# Plot the 2D time series\n",
    "images = RAS2D.plot_ras2d(ras2d_data.geometry['elements_array'], ras2d_data.geometry['nodes_array'],\n",
    "    ras2d_data.results['depth'], dates, outfile_interp_path=outfile_interp_path,\n",
    "    xmin=404000.0, xmax=413000.0, ymin=1800000.0, ymax=1806000.0, vmin=0.0, vmax=20.0,\n",
    "    variable_name=\"Depths\", xlabel=\"Easting (ft)\", ylabel=\"Northing (ft)\", clabel=\"Depths (ft)\",\n",
    "    crs=crs, cmap=ras_cmap, alpha=0.7, scheme=None, start_index=35, end_index=289, figsize=(5,3))"
   ],
   "outputs": [
    {
     "output_type": "stream",
     "name": "stderr",
     "text": [
      "/Users/todd/GitHub/environmentalsystems/ClearWater/riverine/src/riverine/ras2d/RAS2D.py:180: RuntimeWarning: More than 20 figures have been opened. Figures created through the pyplot interface (`matplotlib.pyplot.figure`) are retained until explicitly closed and may consume too much memory. (To control this warning, see the rcParam `figure.max_open_warning`).\n",
      "  fig, ax = plt.subplots(nrows=1, ncols=1, figsize=figsize)\n"
     ]
    }
   ],
   "metadata": {}
  },
  {
   "cell_type": "code",
   "execution_count": null,
   "source": [
    "'''\n",
    "fig = plt.figure(figsize=(10,6))\n",
    "ani = animation.ArtistAnimation(fig, images, interval=35, blit=True,\n",
    "                                repeat_delay=1000)\n",
    "'''"
   ],
   "outputs": [],
   "metadata": {}
  },
  {
   "cell_type": "markdown",
   "source": [],
   "metadata": {}
  }
 ],
 "metadata": {
  "kernelspec": {
   "name": "python3",
   "display_name": "Python 3.8.10 64-bit ('base': conda)"
  },
  "language_info": {
   "codemirror_mode": {
    "name": "ipython",
    "version": 3
   },
   "file_extension": ".py",
   "mimetype": "text/x-python",
   "name": "python",
   "nbconvert_exporter": "python",
   "pygments_lexer": "ipython3",
   "version": "3.8.10"
  },
  "interpreter": {
   "hash": "77794af8f97ea1b73debad74141516801bcb4cefc372994530b278164800ed5e"
  }
 },
 "nbformat": 4,
 "nbformat_minor": 2
}