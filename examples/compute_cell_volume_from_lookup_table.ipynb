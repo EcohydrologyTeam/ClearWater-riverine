{
 "cells": [
  {
   "cell_type": "markdown",
   "metadata": {},
   "source": [
    "# Prototype: Compute cell volumes using lookup table in HEC-RAS HDF5 file"
   ]
  },
  {
   "cell_type": "code",
   "execution_count": 1,
   "metadata": {},
   "outputs": [],
   "source": [
    "import pandas as pd\n",
    "import numpy as np\n",
    "import numba\n",
    "import h5py"
   ]
  },
  {
   "cell_type": "markdown",
   "metadata": {},
   "source": [
    "## Read data from HDF5\n",
    "\n",
    "### NOTE:\n",
    "This is failing to read with recent versions of h5py. I tested this on MacOs and Windows. Conda is using hdf=1.10. I think the RAS team is using HDF5 V1.12.0."
   ]
  },
  {
   "cell_type": "code",
   "execution_count": 5,
   "metadata": {},
   "outputs": [
    {
     "ename": "KeyError",
     "evalue": "'Unable to open object (component not found)'",
     "output_type": "error",
     "traceback": [
      "\u001b[0;31m---------------------------------------------------------------------------\u001b[0m",
      "\u001b[0;31mKeyError\u001b[0m                                  Traceback (most recent call last)",
      "\u001b[1;32m/Users/todd/GitHub/environmentalsystems/ClearWater-riverine/examples/compute_cell_volume_from_lookup_table.ipynb Cell 4\u001b[0m in \u001b[0;36m<cell line: 1>\u001b[0;34m()\u001b[0m\n\u001b[1;32m      <a href='vscode-notebook-cell:/Users/todd/GitHub/environmentalsystems/ClearWater-riverine/examples/compute_cell_volume_from_lookup_table.ipynb#ch0000003?line=0'>1</a>\u001b[0m \u001b[39mwith\u001b[39;00m h5py\u001b[39m.\u001b[39mFile(\u001b[39m'\u001b[39m\u001b[39m../tests/input_files/Muncie.p04.hdf\u001b[39m\u001b[39m'\u001b[39m, \u001b[39m'\u001b[39m\u001b[39mr\u001b[39m\u001b[39m'\u001b[39m) \u001b[39mas\u001b[39;00m infile:\n\u001b[0;32m----> <a href='vscode-notebook-cell:/Users/todd/GitHub/environmentalsystems/ClearWater-riverine/examples/compute_cell_volume_from_lookup_table.ipynb#ch0000003?line=1'>2</a>\u001b[0m     \u001b[39mprint\u001b[39m(infile[\u001b[39mf\u001b[39;49m\u001b[39m'\u001b[39;49m\u001b[39mGeometry/2D Flow Areas/Perimeter 1/Faces NormalUnitVector and Length\u001b[39;49m\u001b[39m'\u001b[39;49m][()][:,\u001b[39m2\u001b[39m])\n",
      "File \u001b[0;32mh5py/_objects.pyx:54\u001b[0m, in \u001b[0;36mh5py._objects.with_phil.wrapper\u001b[0;34m()\u001b[0m\n",
      "File \u001b[0;32mh5py/_objects.pyx:55\u001b[0m, in \u001b[0;36mh5py._objects.with_phil.wrapper\u001b[0;34m()\u001b[0m\n",
      "File \u001b[0;32m~/opt/miniconda3/envs/clearwater/lib/python3.10/site-packages/h5py/_hl/group.py:305\u001b[0m, in \u001b[0;36mGroup.__getitem__\u001b[0;34m(self, name)\u001b[0m\n\u001b[1;32m    303\u001b[0m         \u001b[39mraise\u001b[39;00m \u001b[39mValueError\u001b[39;00m(\u001b[39m\"\u001b[39m\u001b[39mInvalid HDF5 object reference\u001b[39m\u001b[39m\"\u001b[39m)\n\u001b[1;32m    304\u001b[0m \u001b[39melif\u001b[39;00m \u001b[39misinstance\u001b[39m(name, (\u001b[39mbytes\u001b[39m, \u001b[39mstr\u001b[39m)):\n\u001b[0;32m--> 305\u001b[0m     oid \u001b[39m=\u001b[39m h5o\u001b[39m.\u001b[39;49mopen(\u001b[39mself\u001b[39;49m\u001b[39m.\u001b[39;49mid, \u001b[39mself\u001b[39;49m\u001b[39m.\u001b[39;49m_e(name), lapl\u001b[39m=\u001b[39;49m\u001b[39mself\u001b[39;49m\u001b[39m.\u001b[39;49m_lapl)\n\u001b[1;32m    306\u001b[0m \u001b[39melse\u001b[39;00m:\n\u001b[1;32m    307\u001b[0m     \u001b[39mraise\u001b[39;00m \u001b[39mTypeError\u001b[39;00m(\u001b[39m\"\u001b[39m\u001b[39mAccessing a group is done with bytes or str, \u001b[39m\u001b[39m\"\u001b[39m\n\u001b[1;32m    308\u001b[0m                     \u001b[39m\"\u001b[39m\u001b[39m not \u001b[39m\u001b[39m{}\u001b[39;00m\u001b[39m\"\u001b[39m\u001b[39m.\u001b[39mformat(\u001b[39mtype\u001b[39m(name)))\n",
      "File \u001b[0;32mh5py/_objects.pyx:54\u001b[0m, in \u001b[0;36mh5py._objects.with_phil.wrapper\u001b[0;34m()\u001b[0m\n",
      "File \u001b[0;32mh5py/_objects.pyx:55\u001b[0m, in \u001b[0;36mh5py._objects.with_phil.wrapper\u001b[0;34m()\u001b[0m\n",
      "File \u001b[0;32mh5py/h5o.pyx:190\u001b[0m, in \u001b[0;36mh5py.h5o.open\u001b[0;34m()\u001b[0m\n",
      "\u001b[0;31mKeyError\u001b[0m: 'Unable to open object (component not found)'"
     ]
    }
   ],
   "source": [
    "# with h5py.File('../tests/input_files/Muncie.p04.hdf', 'r') as infile:\n",
    "    # cells_volume_info = infile['Geometry/2D_Flow_Areas/2D_Interior_Area/Cells_Volume_Elevation_Info'][()]\n",
    "    # cells_elev_vol = infile['Geometry/2D_Flow_Areas/2D_Interior_Area/Cells_Volume_Elevation_Values'][()]\n",
    "    # cells_surface_area = infile['Geometry/2D_Flow_Areas/2D_Interior_Area/Cells_Surface_Area'][()]\n",
    "    # water_surface_elev = infile['Results/Unsteady/Output/Output_Blocks/Base_Output/Unsteady_Time_Series/2D_Flow_Areas/2D_Interior_Area/Water_Surface'][()]\n",
    "    # Test:\n",
    "    # print(infile[f'Geometry/2D Flow Areas/Perimeter 1/Faces NormalUnitVector and Length'][()][:,2]) "
   ]
  },
  {
   "cell_type": "markdown",
   "metadata": {},
   "source": [
    "## Read the RAS data\n",
    "\n",
    "Note: I exported the data we need from the HDF5 file to CSV files using Panoply"
   ]
  },
  {
   "cell_type": "code",
   "execution_count": null,
   "metadata": {},
   "outputs": [],
   "source": [
    "cells_volume_info_df = pd.read_csv('Cells_Volume_Elevation_Info.csv', names = ['Index', 'Count'])\n",
    "cells_elev_vol_df = pd.read_csv('Cells_Volume_Elevation_Values.csv', names=['Elevation', 'Volume'])\n",
    "cells_surface_area_df = pd.read_csv('Cells_Surface_Area.csv', names = range(5765))\n",
    "water_surface_elev_df = pd.read_csv('Water_Surface.csv', names = range(5765))"
   ]
  },
  {
   "cell_type": "code",
   "execution_count": null,
   "metadata": {},
   "outputs": [],
   "source": [
    "index_arr = cells_volume_info_df.Index.to_numpy()\n",
    "count_arr = cells_volume_info_df.Count.to_numpy()\n",
    "elev_arr = cells_elev_vol_df.Elevation.to_numpy()\n",
    "vol_arr = cells_elev_vol_df.Volume.to_numpy()\n",
    "water_surface_elev_arr = water_surface_elev_df.to_numpy()\n",
    "cells_surface_area_arr = cells_surface_area_df.to_numpy()[0]"
   ]
  },
  {
   "cell_type": "markdown",
   "metadata": {},
   "source": [
    "## Compute cell volume"
   ]
  },
  {
   "cell_type": "code",
   "execution_count": null,
   "metadata": {},
   "outputs": [],
   "source": [
    "@numba.njit\n",
    "def compute_volume(water_surface_elev_arr: np.array, cells_surface_area_arr: np.array, index_arr: np.array, count_arr: np.array, elev_arr: np.array, vol_arr: np.array, time: int, cell: int, VERBOSE=False) -> float:\n",
    "    water_surface_elev = water_surface_elev_arr[time, cell]\n",
    "    surface_area = cells_surface_area_arr[cell]\n",
    "    index = index_arr[cell] # Start index in the volume-elevation table for this cell\n",
    "    count = count_arr[cell] # Number of points in the table for this cell\n",
    "\n",
    "    # A number of cells have an index that is just past the end of the array. Return a volume of 0.0 for these cells. The count for these cells should also be zero, but\n",
    "    # we are checking for either condition.\n",
    "    if index >= len(elev_arr) or count == 0:\n",
    "        return 0.0\n",
    "\n",
    "    elev = elev_arr[index:index + count] # Get the elevation table for this cell\n",
    "    vol = vol_arr[index:index + count] # Get the volume table for this cell\n",
    "\n",
    "    if water_surface_elev > elev[-1]:\n",
    "        # Compute the net volume: the max volume in the lookup table plus the volume of the water above the max elevation in the lookup table\n",
    "        net_vol = vol[-1] + (water_surface_elev - elev[-1]) * surface_area\n",
    "    elif water_surface_elev == elev[-1]:\n",
    "        net_vol = vol[-1]\n",
    "    elif water_surface_elev == elev[0]:\n",
    "        net_vol = vol[0]\n",
    "    else:\n",
    "        # Interpolate\n",
    "        net_vol = 0.0 # Default\n",
    "        npts = len(elev)\n",
    "        for i in range(npts-1, -1, -1):\n",
    "            if elev[i] > water_surface_elev:\n",
    "                x = water_surface_elev\n",
    "                m = (vol[i] - vol[i-1])/(elev[i] - elev[i-1])\n",
    "                x1 = elev[i]\n",
    "                y1 = vol[i]\n",
    "                # y = m * (x - x1) + y1\n",
    "                net_vol = m * (x - x1) + y1\n",
    "\n",
    "    if VERBOSE:\n",
    "        print('water_surface_elev:', water_surface_elev)\n",
    "        print('surface_area:', surface_area)\n",
    "        print('index:', index)\n",
    "        print('count:', count)\n",
    "        print('cell:', cell)\n",
    "        print('elev:', elev)\n",
    "        print('len(elev_arr):', len(elev_arr))\n",
    "        print('vol:', vol)\n",
    "        print('net_vol:', net_vol)\n",
    "    return net_vol"
   ]
  },
  {
   "cell_type": "code",
   "execution_count": null,
   "metadata": {},
   "outputs": [],
   "source": [
    "time = 288\n",
    "cell = 5764\n",
    "compute_volume(water_surface_elev_arr, cells_surface_area_arr, index_arr, count_arr, elev_arr, vol_arr, time, cell, VERBOSE=True)"
   ]
  },
  {
   "cell_type": "code",
   "execution_count": null,
   "metadata": {},
   "outputs": [],
   "source": [
    "@numba.njit\n",
    "def compute(water_surface_elev_arr: np.array, cells_surface_area_arr: np.array, index_arr: np.array, count_arr: np.array, elev_arr: np.array, vol_arr: np.array, ntimes: int, ncells: int):\n",
    "    cell_volumes = np.zeros((ntimes, ncells))\n",
    "\n",
    "    for cell in range(ncells):\n",
    "        for time in range(ntimes):\n",
    "            cell_volumes[time, cell] = compute_volume(water_surface_elev_arr, cells_surface_area_arr, index_arr, count_arr, elev_arr, vol_arr, time, cell)\n",
    "\n",
    "    return cell_volumes"
   ]
  },
  {
   "cell_type": "markdown",
   "metadata": {},
   "source": [
    "## Example"
   ]
  },
  {
   "cell_type": "code",
   "execution_count": null,
   "metadata": {},
   "outputs": [],
   "source": [
    "ncells = 5765\n",
    "ntimes = 289\n",
    "\n",
    "cell_volumes = compute(water_surface_elev_arr, cells_surface_area_arr, index_arr, count_arr, elev_arr, vol_arr, ntimes, ncells)\n",
    "cell_volumes_df = pd.DataFrame(cell_volumes, columns = range(ncells))\n",
    "cell_volumes_df"
   ]
  },
  {
   "cell_type": "code",
   "execution_count": null,
   "metadata": {},
   "outputs": [],
   "source": [
    "import matplotlib.pyplot as plt\n",
    "plt.pcolor(cell_volumes[range(100)])\n",
    "cb = plt.colorbar()"
   ]
  },
  {
   "cell_type": "code",
   "execution_count": null,
   "metadata": {},
   "outputs": [],
   "source": [
    "cell_volumes_df[range(100)].plot()"
   ]
  },
  {
   "cell_type": "code",
   "execution_count": null,
   "metadata": {},
   "outputs": [],
   "source": []
  }
 ],
 "metadata": {
  "kernelspec": {
   "display_name": "Python 3.10.5 ('clearwater')",
   "language": "python",
   "name": "python3"
  },
  "language_info": {
   "codemirror_mode": {
    "name": "ipython",
    "version": 3
   },
   "file_extension": ".py",
   "mimetype": "text/x-python",
   "name": "python",
   "nbconvert_exporter": "python",
   "pygments_lexer": "ipython3",
   "version": "3.10.5"
  },
  "orig_nbformat": 4,
  "vscode": {
   "interpreter": {
    "hash": "e6c70388f1b84876e6f3105ac98ef15d4b7d1e2b6314ab62781b7fdf46969e65"
   }
  }
 },
 "nbformat": 4,
 "nbformat_minor": 2
}
