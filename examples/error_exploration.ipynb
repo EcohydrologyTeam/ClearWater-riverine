{
 "cells": [
  {
   "cell_type": "markdown",
   "metadata": {},
   "source": [
    "# Error Exploration\n",
    "We are not obtaining the desired results, so I am going to look at CELL 0 in the box model to figure out where the coefficients are going wrong. "
   ]
  },
  {
   "cell_type": "code",
   "execution_count": 1,
   "metadata": {},
   "outputs": [],
   "source": [
    "import xarray as xr \n",
    "import numpy as np"
   ]
  },
  {
   "cell_type": "code",
   "execution_count": 2,
   "metadata": {},
   "outputs": [],
   "source": [
    "# Open Zarr\n",
    "ds_zarr = xr.open_zarr('box-example.zarr',\n",
    "                       consolidated=True,  # http://xarray.pydata.org/en/stable/user-guide/io.html#consolidated-metadata\n",
    "                      )"
   ]
  },
  {
   "cell_type": "markdown",
   "metadata": {},
   "source": [
    "## Initial conditions\n",
    "\n",
    "$\\frac{V_0^{0}C_0^{0}}{\\Delta t \\beta}$, assume an an initial concentration of 1 and $\\beta = 1$"
   ]
  },
  {
   "cell_type": "code",
   "execution_count": 16,
   "metadata": {},
   "outputs": [
    {
     "name": "stdout",
     "output_type": "stream",
     "text": [
      "10.0\n"
     ]
    }
   ],
   "source": [
    "init_load = ds_zarr['volume'][0][0] * 1 / (ds_zarr['dt'][0]/ np.timedelta64(1, 's') * 1) \n",
    "print(init_load.values)"
   ]
  },
  {
   "cell_type": "markdown",
   "metadata": {},
   "source": [
    "## Load at next timestep\n",
    "$\\frac{V_0^{1}C_0^{1}}{\\Delta t \\beta}$ "
   ]
  },
  {
   "cell_type": "code",
   "execution_count": 19,
   "metadata": {},
   "outputs": [
    {
     "name": "stdout",
     "output_type": "stream",
     "text": [
      "13.96484375\n"
     ]
    }
   ],
   "source": [
    "load_coeff = ds_zarr['volume'][1][0] / (ds_zarr['dt'][0]/ np.timedelta64(1, 's') * 1) \n",
    "print(load_coeff.values)"
   ]
  },
  {
   "cell_type": "markdown",
   "metadata": {},
   "source": [
    "## Advection and Dispersion\n",
    "\n",
    "$\\sum_f{\\bigl[\\frac{A_f \\epsilon _f}{\\delta_{PN}}(C^{n+1}_N - C^{n+1}_P) - F_fC^{n+1}_f\\bigr]}$\n",
    "* Assume $\\epsilon_f$ (dispersion coefficient) is 0.1\n",
    "* Assume $A_f$ refers to $A_f$ at the $n+1$ timestep?\n",
    "\n",
    "Faces:\n",
    "* 4 total \n",
    "* Cell 0 touches Cell 1 and Cell 3\n",
    "* As well as pseudo-cells C9 and C17"
   ]
  },
  {
   "cell_type": "code",
   "execution_count": 26,
   "metadata": {},
   "outputs": [
    {
     "name": "stdout",
     "output_type": "stream",
     "text": [
      "[0 0 0 1 1 1 2 2 4 4 4 5 5 3 3 6 6 7 7 8 0 2 6 8]\n",
      "[ 3  1  9  2 10  4  5 11  5  3  7  8 12  6 13  7 14 15  8 16 17 18 19 20]\n"
     ]
    }
   ],
   "source": [
    "f1 = ds_zarr['edge_face_connectivity'].T[0]\n",
    "f2 = ds_zarr['edge_face_connectivity'].T[1]\n",
    "\n",
    "print(f1.values)\n",
    "print(f2.values)"
   ]
  },
  {
   "cell_type": "markdown",
   "metadata": {},
   "source": [
    "### Diffusion\n",
    "Errors found:\n",
    "* Used a method that improperly indexed the faces, which caused some values to be on the wrong face. \n",
    "\n",
    "Questions:\n",
    "* Is there a sign of the $\\frac{A_f \\epsilon _f}{\\delta_{PN}}$ term? based on direction? \"Face orientation\"?"
   ]
  },
  {
   "cell_type": "code",
   "execution_count": 23,
   "metadata": {},
   "outputs": [
    {
     "data": {
      "text/plain": [
       "array([0.13964869, 0.13964869, 0.27929737, 0.13690821, 0.27381641,\n",
       "       0.13690821, 0.16318815, 0.19120069, 0.12800928, 0.12800928,\n",
       "       0.12800928, 0.15210023, 0.17820943, 0.13167749, 0.26335499,\n",
       "       0.13690434, 0.26996508, 0.16904192, 0.13230803, 0.19867844,\n",
       "       0.27929737, 0.31959611, 0.17491433, 0.1830569 ])"
      ]
     },
     "execution_count": 23,
     "metadata": {},
     "output_type": "execute_result"
    }
   ],
   "source": [
    "t = 1\n",
    "\n",
    "# diffusion\n",
    "diffusion = ds_zarr['edge_vertical_area'][t]  * 0.1 / ds_zarr['face_to_face_dist']\n",
    "diffusion.values"
   ]
  },
  {
   "cell_type": "code",
   "execution_count": 76,
   "metadata": {},
   "outputs": [],
   "source": [
    "def sum_vals(face, time_index, sum_array):\n",
    "    '''\n",
    "    https://stackoverflow.com/questions/67108215/how-to-get-sum-of-values-in-a-numpy-array-based-on-another-array-with-repetitive\n",
    "    '''\n",
    "    nodal_values = np.bincount(face.values, diffusion)\n",
    "    sum_array[0:len(nodal_values)] = nodal_values\n",
    "    return sum_array\n",
    "\n",
    "\n",
    "sum_diffusion_array = np.zeros(len(ds_zarr['nface']))\n",
    "\n",
    "t = 1\n",
    "\n",
    "f1_sums = np.zeros(len(ds_zarr['nface'])) \n",
    "f2_sums = np.zeros(len(ds_zarr['nface']))\n",
    "\n",
    "f1_sums = sum_vals(f1, t, f1_sums)\n",
    "f2_sums = sum_vals(f2, t, f2_sums)\n",
    "\n",
    "sum_diffusion_array[:] = f1_sums + f2_sums\n"
   ]
  },
  {
   "cell_type": "code",
   "execution_count": 77,
   "metadata": {},
   "outputs": [
    {
     "name": "stdout",
     "output_type": "stream",
     "text": [
      "0.8378921127319336\n",
      "0.8378921127319336\n"
     ]
    }
   ],
   "source": [
    "# confirm they're the same. \n",
    "print(sum_diffusion_array[0])\n",
    "print(diffusion[0].values + diffusion[1].values + diffusion[2].values + diffusion[20].values)"
   ]
  },
  {
   "cell_type": "code",
   "execution_count": 72,
   "metadata": {},
   "outputs": [
    {
     "name": "stdout",
     "output_type": "stream",
     "text": [
      "0.13964868545532227 0.13964868545532227 0.27929737091064455 0.27929737091064455\n"
     ]
    }
   ],
   "source": [
    "print(diffusion[0].values, diffusion[1].values, diffusion[2].values, diffusion[20].values)"
   ]
  },
  {
   "cell_type": "markdown",
   "metadata": {},
   "source": [
    "### Advection\n",
    "$\\sum_f{F_fC^{n+1}_f}$\n",
    "\n",
    "**Upwind differencing** - if $F_f >0$, this indicates that mass is flowing out of the cell; if $F_f < 0$ mass will flow out of the cell. If mass is flowing out of the cell, $C_f$ is $C_0$ (the reference cell), else $C_f$ is $C_N$ (the adjacent cell -- here, either $C_1, C_3, C_9, or C_{17}$ \n",
    "\n",
    "The sign is controlled by the velocity. \n",
    "\n",
    "Errors:\n",
    "* `ds_zarr['dt']` was in nanoseconds. \n"
   ]
  },
  {
   "cell_type": "code",
   "execution_count": 75,
   "metadata": {},
   "outputs": [
    {
     "data": {
      "text/plain": [
       "array([[ 0,  3],\n",
       "       [ 0,  1],\n",
       "       [ 0,  9],\n",
       "       [ 0, 17]])"
      ]
     },
     "execution_count": 75,
     "metadata": {},
     "output_type": "execute_result"
    }
   ],
   "source": [
    "ds_zarr['edge_face_connectivity'][[0,1,2,20]].values"
   ]
  },
  {
   "cell_type": "code",
   "execution_count": 71,
   "metadata": {},
   "outputs": [
    {
     "name": "stdout",
     "output_type": "stream",
     "text": [
      "[383.84390464 167.78782046   0.           0.        ]\n"
     ]
    }
   ],
   "source": [
    "# face normal water flow\n",
    "\n",
    "edge_normal_water_flow = ds_zarr['edge_vertical_area'][1] * ds_zarr['edge_velocity'][t] * ds_zarr['dt'][0] /np.timedelta64(1, 's')  # L2 * L/T * T = L3\n",
    "print(edge_normal_water_flow.values[[0,1,2,20]])"
   ]
  },
  {
   "cell_type": "markdown",
   "metadata": {},
   "source": [
    "The faces that connect $C_0$ and regular cells ($C_1, C_3$) have a positive face normal water flow, so the advection is OUT.\n",
    "* Following the upwinds scheme, this means $C_f$ is $C_0$ in all cases.\n",
    "\n",
    "There is no advection to the two adjacent pseudo cells. \n",
    " \n"
   ]
  },
  {
   "cell_type": "markdown",
   "metadata": {},
   "source": [
    "# CELL 1"
   ]
  },
  {
   "cell_type": "code",
   "execution_count": 81,
   "metadata": {},
   "outputs": [
    {
     "name": "stdout",
     "output_type": "stream",
     "text": [
      "13.167724609375\n"
     ]
    }
   ],
   "source": [
    "load_coeff = ds_zarr['volume'][1][3] / (ds_zarr['dt'][0]/ np.timedelta64(1, 's') * 1) \n",
    "print(load_coeff.values)\n"
   ]
  },
  {
   "cell_type": "code",
   "execution_count": null,
   "metadata": {},
   "outputs": [],
   "source": []
  },
  {
   "cell_type": "code",
   "execution_count": null,
   "metadata": {},
   "outputs": [],
   "source": []
  },
  {
   "cell_type": "code",
   "execution_count": null,
   "metadata": {},
   "outputs": [],
   "source": []
  },
  {
   "cell_type": "markdown",
   "metadata": {},
   "source": []
  }
 ],
 "metadata": {
  "kernelspec": {
   "display_name": "Python 3.9.13 ('ras2d_wq')",
   "language": "python",
   "name": "python3"
  },
  "language_info": {
   "codemirror_mode": {
    "name": "ipython",
    "version": 3
   },
   "file_extension": ".py",
   "mimetype": "text/x-python",
   "name": "python",
   "nbconvert_exporter": "python",
   "pygments_lexer": "ipython3",
   "version": "3.9.13"
  },
  "orig_nbformat": 4,
  "vscode": {
   "interpreter": {
    "hash": "d3bc885d7ab0c0c38d99a4317f3c6d4e3a047e25556b25c1c90fb7abbfef4bee"
   }
  }
 },
 "nbformat": 4,
 "nbformat_minor": 2
}
