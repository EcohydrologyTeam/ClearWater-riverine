import pandas as pd
import numpy as np
import h5py
import xarray as xr
import os
import sys
import datetime


fpath = '../tests/input_files/Muncie.p04.hdf'

h5py_file = h5py.File(fpath,
                      mode='r',  # Readonly, file must exist (default)
                     )

h5py_file.close()


def get_project_name(inp_file):
    return inp_file['Geometry/2D Flow Areas/Attributes'][()][0][0].decode('UTF-8')


project_name = get_project_name(h5py_file)
print(project_name)


# src_path = os.path.join('..', 'src', 'riverine', 'ras2d')
# sys.path.insert(0, src_path)
# import RAS2D

class RAS_HDF5:
    '''
    Read HEC-RAS 2D geometry and variables and return as a dictionary
    '''

    def __init__(self, hdf5_file_path: str, variables: list = []):

        self.variables = {}
        self.hdf5_file_path = hdf5_file_path
        self.results = {}
        self.geometry = {}



    def read(self):
        with h5py.File(self.hdf5_file_path, 'r') as infile:
            '''
            Read the Geometry data
            '''

            project_name = infile['Geometry/2D Flow Areas/Attributes'][()][0][0].decode('UTF-8')

            # For the Muncie data set: max value: 5773, shape(5765, 7)
            self.geometry['elements_array'] = infile[f'Geometry/2D Flow Areas/{project_name}/Cells FacePoint Indexes'][()]
            # For the Muncie data set: shape(5774, 2)
            self.geometry['nodes_array'] = infile[f'Geometry/2D Flow Areas/{project_name}/FacePoints Coordinate'][()]
            self.geometry['faces_cell_indexes'] = infile[f'Geometry/2D Flow Areas/{project_name}/Faces Cell Indexes'][()]
            self.geometry['cells_surface_area'] = infile[f'Geometry/2D Flow Areas/{project_name}/Cells Surface Area'][()]
            self.geometry['faces_normal_unit_vector_and_length'] = infile[f'Geometry/2D Flow Areas/{project_name}/Faces NormalUnitVector and Length'][()]
            self.geometry['cells_center_coordinate'] = infile[f'Geometry/2D Flow Areas/{project_name}/Cells Center Coordinate'][()]
            # faces_area_elevation_values = infile['Geometry/2D Flow Areas/2D Interior Area/Faces Area Elevation Values'][()]

            self.geometry['face_length'] = self.geometry['faces_normal_unit_vector_and_length'][:,2]
            
            self.geometry['face_facepoint_connectivity'] = infile[f'Geometry/2D Flow Areas/{project_name}/Faces FacePoint Indexes'][()]


            '''
            Read the Results data
            '''
            self.results['depth'] = infile[f'Results/Unsteady/Output/Output Blocks/Base Output/Unsteady Time Series/2D Flow Areas/{project_name}/Depth'][()]

            '''
            NOTE:
            The node velocities (Node X Vel and Node Y vel) are not automatically written to the HDF output file. 
            Have to opt into printing them to HDF: https://www.hec.usace.army.mil/software/hec-ras/documentation/HEC-RAS%205.0%202D%20Modeling%20Users%20Manual.pdf
            How to handle? Try/except? Do we need them?
            '''

            self.results['node_x_velocity'] = infile[f'Results/Unsteady/Output/Output Blocks/Base Output/Unsteady Time Series/2D Flow Areas/{project_name}/Node X Vel'][()]
            self.results['node_y_velocity'] = infile[f'Results/Unsteady/Output/Output Blocks/Base Output/Unsteady Time Series/2D Flow Areas/{project_name}/Node Y Vel'][()]
            self.results['face_velocity'] = infile[f'Results/Unsteady/Output/Output Blocks/Base Output/Unsteady Time Series/2D Flow Areas/{project_name}/Face Velocity'][()]
            self.results['face_q'] = infile[f'Results/Unsteady/Output/Output Blocks/Base Output/Unsteady Time Series/2D Flow Areas/{project_name}/Face Q'][()]
            self.results['node_speed'] = np.sqrt(self.results['node_x_velocity']**2 + self.results['node_y_velocity']**2)

            
            time_stamps_binary = infile['Results/Unsteady/Output/Output Blocks/Base Output/Unsteady Time Series/Time Date Stamp'][()]

            # Read the specified variables, if any
            for variable in self.variables:
                data_path = f'Results/Unsteady/Output/Output Blocks/Base Output/Unsteady Time Series/2D Flow Areas/{project_name}/{variable}'
                self.results['variable'] = infile[data_path]

        # Convert from binary strings to utf8 strings
        time_stamps = [x.decode("utf8") for x in time_stamps_binary]
        self.results['dates'] = [datetime.datetime.strptime(x, '%d%b%Y %H:%M:%S') for x in time_stamps] # '02JAN1900 22:55:00'

        # Convert all lists to numpy arrays
        for key, value in self.geometry.items():
            self.geometry[key] = np.array(value)
        for key, value in self.results.items():
            self.results[key] = np.array(value)


get_ipython().run_cell_magic("time", "", """ras2d_data = RAS_HDF5(fpath, variables=[])
ras2d_data.read()""")


ras2d_data.geometry.keys()


ras2d_data.results['face_velocity'].min()


out = xr.Dataset()

out["mesh2d"] = xr.DataArray(
    data=0,
    attrs={
        # required topology attributes
        'cf_role': 'mesh_topology',
        'long_name': 'Topology data of 2D mesh',
        'topology_dimension': 2,
        'node_coordinates': 'node_x node_y',
        'face_node_connectivity': 'face_nodes',
        # optionally required attributes
        'face_dimension': 'face',
        'edge_node_connectivity': 'edge_nodes',
        'edge_dimension': 'edge',
        # optional attributes 
        'face_edge_connectivity': 'face_edges',
        'face_face_connectivity': 'face_face_connectivity',
        'edge_face_connectivity': 'edge_face_connectivity',
        'boundary_node_connectivity': 'boundary_node_connectivity',
        'face_coordinates': 'face x face_y',
        'edge_coordinates': 'edge_x edge_y',
    }
)


out = out.assign_coords(
    node_x=xr.DataArray(
        data=[f[0] for f in ras2d_data.geometry['nodes_array']],
        dims=("node",),
    )
)


out = out.assign_coords(
    node_y=xr.DataArray(
        data=[f[1] for f in ras2d_data.geometry['nodes_array']],
        dims=("node",),
    )
)

out = out.assign_coords(
    time=xr.DataArray(
        data=ras2d_data.results['dates'],
        dims=("time",),
            )
        )



out["face_nodes"] = xr.DataArray(
    data=ras2d_data.geometry['elements_array'],
    coords={
        "face_x": ("nface", [f[0] for f in ras2d_data.geometry['cells_center_coordinate']]),
        "face_y": ("nface", [f[1] for f in ras2d_data.geometry['cells_center_coordinate']]),
    },
    dims=("nface", "nmax_face"),
    attrs={
        'cf_role': 'face_node_connectivity',
        'long_name': 'Vertex nodes of mesh faces (counterclockwise)',
        'start_index': 0, 
        '_FillValue': -1
    })


out["edge_nodes"] = xr.DataArray(
    data=ras2d_data.geometry['face_facepoint_connectivity'],
    dims=("nedge", '2'),
    attrs={
        'cf_role': 'edge_node_connectivity',
        'long_name': 'Vertex nodes of mesh edges',
        'start_index': 0
    })


out["edge_face_connectivity"] = xr.DataArray(
    data=ras2d_data.geometry['faces_cell_indexes'],
    dims=("nedge", '2'),
    attrs={
        'cf_role': 'edge_face_connectivity',
        'long_name': 'neighbor faces for edges',
        'start_index': 0
    })


ras2d_data.results.keys()


out["depth"] = xr.DataArray(
    data=ras2d_data.results['depth'],
    dims=("time", 'nface'),
    attrs={
        'units':'feet' # confirm units - can be fps or mps, how can we tell from output?
    })


out["face_velocity"] = xr.DataArray(
    data=ras2d_data.results['face_velocity'],
    dims=("time", 'nedge'),
    attrs={
        'units':'feet per second' # confirm units - can be fps or mps, how can we tell from output?
    })




out


out.attrs = {'Conventions': 'CF-1.8 UGRID-1.0 Deltares-0.10'}
out.to_netcdf("ugrid-example.nc")



