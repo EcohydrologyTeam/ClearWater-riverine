{
 "cells": [
  {
   "cell_type": "markdown",
   "id": "3b4f4de8-b1bd-4567-aa8c-796b44f34373",
   "metadata": {},
   "source": [
    "# UGRID Conventions\n",
    "\n",
    "UGRID Conventions are used for storing unstructured (or flexible mesh) model data in the Unidata Network Common Data Form (NetCDF) file. See the documentation [here](https://ugrid-conventions.github.io/ugrid-conventions/) and a working example of formatting Python data with these conventions [here](https://github.com/ugrid-conventions/ugrid-conventions/issues/48). \n",
    "\n",
    "In this notebook, we read unstructured mesh model output from an HDF5 file to an xarray following UGRID conventions. "
   ]
  },
  {
   "cell_type": "code",
   "execution_count": 1,
   "id": "a7e1cd5a-fe46-464b-a8db-b73afe4a15bf",
   "metadata": {},
   "outputs": [],
   "source": [
    "import pandas as pd\n",
    "import numpy as np\n",
    "import h5py\n",
    "import xarray as xr\n",
    "import os\n",
    "import sys\n",
    "import datetime"
   ]
  },
  {
   "cell_type": "markdown",
   "id": "ae0a9875-3cf9-46c6-aa17-1c6faaf86de2",
   "metadata": {},
   "source": [
    "# Open Results File with h5py library\n",
    "\n",
    "[h5py](https://docs.h5py.org) is the most capable Python library for dealing with HDF5 files, with a low-level API that closely follows the HDF5 C API, and with a high-level API which offers the main features of HDF5 in an interface modelled on dictionaries and NumPy arrays.\n",
    "\n",
    "- Demo: https://nbviewer.jupyter.org/github/jackdbd/hdf5-pydata-munich/blob/master/hdf5_in_python.ipynb\n",
    "- Docs: \n",
    "  - https://docs.h5py.org\n",
    "  - File Objects: https://docs.h5py.org/en/stable/high/file.html#opening-creating-files\n",
    "  - Groups: https://docs.h5py.org/en/stable/high/group.html\n",
    "  - Datasets: https://docs.h5py.org/en/stable/high/dataset.html\n",
    "- Refs:\n",
    "  - File Objects: https://docs.h5py.org/en/stable/high/file.html#reference"
   ]
  },
  {
   "cell_type": "code",
   "execution_count": 2,
   "id": "5c4772f0-69b0-4492-9f05-94d581b7192d",
   "metadata": {},
   "outputs": [
    {
     "name": "stdout",
     "output_type": "stream",
     "text": [
      "['.virtual_documents', 'File_Conversion.ipynb', 'HDF_Exploration.ipynb', 'HDF_Plotting.ipynb', 'model', 'Sparse_Matrix_Framework.ipynb', 'ugrid-example.nc']\n"
     ]
    }
   ],
   "source": [
    "print(os.listdir())\n",
    "fpath = '../tests/input_files/Muncie.p04.hdf'\n",
    "\n",
    "h5py_file = h5py.File(fpath,\n",
    "                      mode='r',  # Readonly, file must exist (default)\n",
    "                     )"
   ]
  },
  {
   "cell_type": "markdown",
   "id": "738e811c-3c83-4996-aeec-c767c4e6197f",
   "metadata": {},
   "source": [
    "## Read Geometry Data "
   ]
  },
  {
   "cell_type": "code",
   "execution_count": 3,
   "id": "8f559cc1-fb01-4f10-8db7-85b225017b2a",
   "metadata": {},
   "outputs": [],
   "source": [
    "def get_project_name(inp_file):\n",
    "    return inp_file['Geometry/2D Flow Areas/Attributes'][()][0][0].decode('UTF-8')"
   ]
  },
  {
   "cell_type": "code",
   "execution_count": 4,
   "id": "46eada4e-7c63-40c6-a1ea-34837777a6a0",
   "metadata": {},
   "outputs": [
    {
     "name": "stdout",
     "output_type": "stream",
     "text": [
      "2D Interior Area\n"
     ]
    }
   ],
   "source": [
    "project_name = get_project_name(h5py_file)\n",
    "print(project_name)\n",
    "h5py_file.close()"
   ]
  },
  {
   "cell_type": "code",
   "execution_count": 21,
   "id": "467d5d50-ab58-49ab-b4d9-08716c5795ba",
   "metadata": {},
   "outputs": [],
   "source": [
    "# src_path = os.path.join('..', 'src', 'riverine', 'ras2d')\n",
    "# sys.path.insert(0, src_path)\n",
    "# import RAS2D\n",
    "\n",
    "class RAS_HDF5:\n",
    "    '''\n",
    "    Read HEC-RAS 2D geometry and variables and return as a dictionary\n",
    "    '''\n",
    "\n",
    "    def __init__(self, hdf5_file_path: str, variables: list = []):\n",
    "\n",
    "        self.variables = {}\n",
    "        self.hdf5_file_path = hdf5_file_path\n",
    "        self.results = {}\n",
    "        self.geometry = {}\n",
    "\n",
    "\n",
    "\n",
    "    def read(self):\n",
    "        with h5py.File(self.hdf5_file_path, 'r') as infile:\n",
    "            '''\n",
    "            Read the Geometry data\n",
    "            '''\n",
    "\n",
    "            project_name = infile['Geometry/2D Flow Areas/Attributes'][()][0][0].decode('UTF-8')\n",
    "\n",
    "            # For the Muncie data set: max value: 5773, shape(5765, 7)\n",
    "            self.geometry['elements_array'] = infile[f'Geometry/2D Flow Areas/{project_name}/Cells FacePoint Indexes'][()]\n",
    "            # For the Muncie data set: shape(5774, 2)\n",
    "            self.geometry['nodes_array'] = infile[f'Geometry/2D Flow Areas/{project_name}/FacePoints Coordinate'][()]\n",
    "            self.geometry['faces_cell_indexes'] = infile[f'Geometry/2D Flow Areas/{project_name}/Faces Cell Indexes'][()]\n",
    "            self.geometry['cells_surface_area'] = infile[f'Geometry/2D Flow Areas/{project_name}/Cells Surface Area'][()]\n",
    "            self.geometry['faces_normal_unit_vector_and_length'] = infile[f'Geometry/2D Flow Areas/{project_name}/Faces NormalUnitVector and Length'][()]\n",
    "            self.geometry['cells_center_coordinate'] = infile[f'Geometry/2D Flow Areas/{project_name}/Cells Center Coordinate'][()]\n",
    "            # faces_area_elevation_values = infile['Geometry/2D Flow Areas/2D Interior Area/Faces Area Elevation Values'][()]\n",
    "\n",
    "            self.geometry['face_length'] = self.geometry['faces_normal_unit_vector_and_length'][:,2]\n",
    "            \n",
    "            self.geometry['face_facepoint_connectivity'] = infile[f'Geometry/2D Flow Areas/{project_name}/Faces FacePoint Indexes'][()]\n",
    "\n",
    "\n",
    "            '''\n",
    "            Read the Results data\n",
    "            '''\n",
    "            self.results['depth'] = infile[f'Results/Unsteady/Output/Output Blocks/Base Output/Unsteady Time Series/2D Flow Areas/{project_name}/Depth'][()]\n",
    "\n",
    "            '''\n",
    "            NOTE:\n",
    "            The node velocities (Node X Vel and Node Y vel) are not automatically written to the HDF output file. \n",
    "            Have to opt into printing them to HDF: https://www.hec.usace.army.mil/software/hec-ras/documentation/HEC-RAS%205.0%202D%20Modeling%20Users%20Manual.pdf\n",
    "            How to handle? Try/except? Do we need them?\n",
    "            '''\n",
    "\n",
    "            self.results['node_x_velocity'] = infile[f'Results/Unsteady/Output/Output Blocks/Base Output/Unsteady Time Series/2D Flow Areas/{project_name}/Node X Vel'][()]\n",
    "            self.results['node_y_velocity'] = infile[f'Results/Unsteady/Output/Output Blocks/Base Output/Unsteady Time Series/2D Flow Areas/{project_name}/Node Y Vel'][()]\n",
    "            self.results['face_velocity'] = infile[f'Results/Unsteady/Output/Output Blocks/Base Output/Unsteady Time Series/2D Flow Areas/{project_name}/Face Velocity'][()]\n",
    "            self.results['face_q'] = infile[f'Results/Unsteady/Output/Output Blocks/Base Output/Unsteady Time Series/2D Flow Areas/{project_name}/Face Q'][()]\n",
    "            self.results['node_speed'] = np.sqrt(self.results['node_x_velocity']**2 + self.results['node_y_velocity']**2)\n",
    "\n",
    "            \n",
    "            time_stamps_binary = infile['Results/Unsteady/Output/Output Blocks/Base Output/Unsteady Time Series/Time Date Stamp'][()]\n",
    "\n",
    "            # Read the specified variables, if any\n",
    "            for variable in self.variables:\n",
    "                data_path = f'Results/Unsteady/Output/Output Blocks/Base Output/Unsteady Time Series/2D Flow Areas/{project_name}/{variable}'\n",
    "                self.results['variable'] = infile[data_path]\n",
    "\n",
    "        # Convert from binary strings to utf8 strings\n",
    "        time_stamps = [x.decode(\"utf8\") for x in time_stamps_binary]\n",
    "        self.results['dates'] = [datetime.datetime.strptime(x, '%d%b%Y %H:%M:%S') for x in time_stamps] # '02JAN1900 22:55:00'\n",
    "\n",
    "        # Convert all lists to numpy arrays\n",
    "        for key, value in self.geometry.items():\n",
    "            self.geometry[key] = np.array(value)\n",
    "        for key, value in self.results.items():\n",
    "            self.results[key] = np.array(value)"
   ]
  },
  {
   "cell_type": "code",
   "execution_count": 6,
   "id": "623fffe9-8748-4fdd-a04c-d943dc1f4114",
   "metadata": {},
   "outputs": [
    {
     "name": "stdout",
     "output_type": "stream",
     "text": [
      "CPU times: total: 344 ms\n",
      "Wall time: 471 ms\n"
     ]
    }
   ],
   "source": [
    "%%time\n",
    "ras2d_data = RAS_HDF5(fpath, variables=[])\n",
    "ras2d_data.read()"
   ]
  },
  {
   "cell_type": "code",
   "execution_count": 7,
   "id": "f1eed606-7b6b-426e-9bef-3d1e96045402",
   "metadata": {},
   "outputs": [
    {
     "data": {
      "text/plain": [
       "dict_keys(['elements_array', 'nodes_array', 'faces_cell_indexes', 'cells_surface_area', 'faces_normal_unit_vector_and_length', 'cells_center_coordinate', 'face_length', 'face_facepoint_connectivity'])"
      ]
     },
     "execution_count": 7,
     "metadata": {},
     "output_type": "execute_result"
    }
   ],
   "source": [
    "ras2d_data.geometry.keys()"
   ]
  },
  {
   "cell_type": "code",
   "execution_count": 8,
   "id": "16067bbb-755f-4234-b441-439a850d89b3",
   "metadata": {},
   "outputs": [
    {
     "data": {
      "text/plain": [
       "-5.692632"
      ]
     },
     "execution_count": 8,
     "metadata": {},
     "output_type": "execute_result"
    }
   ],
   "source": [
    "ras2d_data.results['face_velocity'].min()"
   ]
  },
  {
   "cell_type": "markdown",
   "id": "e25cd576-1cc7-47c6-b713-81de5a5306e6",
   "metadata": {},
   "source": [
    "## Geometry Data to Xarray\n",
    "Some notes on naming conventions:\n",
    "\n",
    "| RAS Output  | UGRID       |\n",
    "| ----------- | ----------- |\n",
    "| Facepoint   | Node        |\n",
    "| Face        | Edge        |\n",
    "| Cell        | Face        |\n",
    "\n",
    "Very confusing! \n",
    "\n",
    "This is a 2D flexible mesh (mixed triangles, quadrilaterals, etc.), which can have the following attributes:"
   ]
  },
  {
   "cell_type": "code",
   "execution_count": 9,
   "id": "b7d5e5ed-9e0b-4432-9fcc-32e429c0cc2c",
   "metadata": {},
   "outputs": [],
   "source": [
    "out = xr.Dataset()\n",
    "\n",
    "out[\"mesh2d\"] = xr.DataArray(\n",
    "    data=0,\n",
    "    attrs={\n",
    "        # required topology attributes\n",
    "        'cf_role': 'mesh_topology',\n",
    "        'long_name': 'Topology data of 2D mesh',\n",
    "        'topology_dimension': 2,\n",
    "        'node_coordinates': 'node_x node_y',\n",
    "        'face_node_connectivity': 'face_nodes',\n",
    "        # optionally required attributes\n",
    "        'face_dimension': 'face',\n",
    "        'edge_node_connectivity': 'edge_nodes',\n",
    "        'edge_dimension': 'edge',\n",
    "        # optional attributes \n",
    "        'face_edge_connectivity': 'face_edges',\n",
    "        'face_face_connectivity': 'face_face_connectivity',\n",
    "        'edge_face_connectivity': 'edge_face_connectivity',\n",
    "        'boundary_node_connectivity': 'boundary_node_connectivity',\n",
    "        'face_coordinates': 'face x face_y',\n",
    "        'edge_coordinates': 'edge_x edge_y',\n",
    "    }\n",
    ")"
   ]
  },
  {
   "cell_type": "markdown",
   "id": "7336390c-83ac-4d03-a7c4-a4257b4b4227",
   "metadata": {},
   "source": [
    "Start by filling in the coordinates of the facepoints (aka nodes in UGRID)."
   ]
  },
  {
   "cell_type": "code",
   "execution_count": 10,
   "id": "c13492bb-7ac7-405a-b835-9131e97dee54",
   "metadata": {},
   "outputs": [],
   "source": [
    "out = out.assign_coords(\n",
    "    node_x=xr.DataArray(\n",
    "        data=[f[0] for f in ras2d_data.geometry['nodes_array']],\n",
    "        dims=(\"node\",),\n",
    "    )\n",
    ")\n",
    "\n",
    "\n",
    "out = out.assign_coords(\n",
    "    node_y=xr.DataArray(\n",
    "        data=[f[1] for f in ras2d_data.geometry['nodes_array']],\n",
    "        dims=(\"node\",),\n",
    "    )\n",
    ")\n",
    "\n",
    "out = out.assign_coords(\n",
    "    time=xr.DataArray(\n",
    "        data=ras2d_data.results['dates'],\n",
    "        dims=(\"time\",),\n",
    "            )\n",
    "        )\n"
   ]
  },
  {
   "cell_type": "markdown",
   "id": "a968eac8-d0f3-42af-abc6-be039b0e78b4",
   "metadata": {},
   "source": [
    "The attribute `face_node_connectivity` points to an index variable identifying for every face the indices of its corner nodes. The corner nodes should be specified in anticlockwise direction as viewed from above (consistent with the CF-convention for bounds of p-sided cells). The connectivity array will be a matrix of size nFaces x MaxNumNodesPerFace; if a face has less corner nodes than MaxNumNodesPerFace then the last node indices shall be equal to _FillValue (which should obviously be larger than the number of nodes in the mesh). "
   ]
  },
  {
   "cell_type": "code",
   "execution_count": 11,
   "id": "e79079b5-166a-45bb-a19c-bb542156e5c8",
   "metadata": {},
   "outputs": [],
   "source": [
    "out[\"face_nodes\"] = xr.DataArray(\n",
    "    data=ras2d_data.geometry['elements_array'],\n",
    "    coords={\n",
    "        \"face_x\": (\"nface\", [f[0] for f in ras2d_data.geometry['cells_center_coordinate']]),\n",
    "        \"face_y\": (\"nface\", [f[1] for f in ras2d_data.geometry['cells_center_coordinate']]),\n",
    "    },\n",
    "    dims=(\"nface\", \"nmax_face\"),\n",
    "    attrs={\n",
    "        'cf_role': 'face_node_connectivity',\n",
    "        'long_name': 'Vertex nodes of mesh faces (counterclockwise)',\n",
    "        'start_index': 0, \n",
    "        '_FillValue': -1\n",
    "    })"
   ]
  },
  {
   "cell_type": "markdown",
   "id": "7d53eeec-fad1-43d6-8cb2-3508c2f9d42a",
   "metadata": {},
   "source": [
    "`edge_node_connectivity` attribute maps edges to nodes. Although the face to node mapping implicitly also defines the location of the edges, it does not specify the global numbering of the edges. Again the indexing convention of edge_node_connectivity should be specified using the start_index attribute to the index variable (i.e. Mesh2_edge_nodes in the example below) and 0-based indexing is the default. Since it does not apply to edges globally, specifying the boundary_node_connectivity attribute described below does not (in and of itself) necessitate the need to specify the edge_node_connectivity attribute too."
   ]
  },
  {
   "cell_type": "code",
   "execution_count": 12,
   "id": "ff6e514a-bd99-4e54-86ac-60145276447e",
   "metadata": {},
   "outputs": [],
   "source": [
    "out[\"edge_nodes\"] = xr.DataArray(\n",
    "    data=ras2d_data.geometry['face_facepoint_connectivity'],\n",
    "    dims=(\"nedge\", '2'),\n",
    "    attrs={\n",
    "        'cf_role': 'edge_node_connectivity',\n",
    "        'long_name': 'Vertex nodes of mesh edges',\n",
    "        'start_index': 0\n",
    "    })"
   ]
  },
  {
   "cell_type": "markdown",
   "id": "61b245f0-aac8-4a26-899d-8733d818f81b",
   "metadata": {},
   "source": [
    "`edge_face_connectivity` points to an index variable identifying all faces that share the same edge, i. e. are neighbors to an edge. This connectivity array is thus a matrix of size (# of edges) x 2. It is intended to be used in combination with data defined on edges. The start_index attribute should be used to specify the indexing convention and 0-based indexing is the default. Attribute _FillValue must be present. Missing neighbor faces are expressed using _FillValue, e.g for edges at the boundary with only one neighbor face present. For details see definition of variable Mesh2_edge_face_links below. **Note** do not have fill value. "
   ]
  },
  {
   "cell_type": "code",
   "execution_count": 13,
   "id": "f28a56c5-0de0-45a3-990b-77a7ea124baf",
   "metadata": {},
   "outputs": [],
   "source": [
    "out[\"edge_face_connectivity\"] = xr.DataArray(\n",
    "    data=ras2d_data.geometry['faces_cell_indexes'],\n",
    "    dims=(\"nedge\", '2'),\n",
    "    attrs={\n",
    "        'cf_role': 'edge_face_connectivity',\n",
    "        'long_name': 'neighbor faces for edges',\n",
    "        'start_index': 0\n",
    "    })"
   ]
  },
  {
   "cell_type": "markdown",
   "id": "2056f641-ad42-4bea-aabe-15a92f1d1775",
   "metadata": {},
   "source": [
    "## Store results\n",
    "\n",
    "For discussion: vocab to use."
   ]
  },
  {
   "cell_type": "code",
   "execution_count": 32,
   "id": "6ce97000-9110-4320-86cc-9b463f3480d2",
   "metadata": {},
   "outputs": [],
   "source": [
    "out[\"depth\"] = xr.DataArray(\n",
    "    data=ras2d_data.results['depth'],\n",
    "    dims=(\"time\", 'nface'),\n",
    "    attrs={\n",
    "        'units':'feet' # will need to update units based on prj file\n",
    "    })\n",
    "\n",
    "out[\"faces_surface_area\"] = xr.DataArray(\n",
    "    data = ras2d_data.geometry['cells_surface_area'],\n",
    "    dims = (\"nface\"), \n",
    "    attrs={\n",
    "        'units': 'square feet' # will need to update units based on prj file\n",
    "})\n",
    "\n",
    "out[\"edge_length\"] = xr.DataArray(\n",
    "    data = ras2d_data.geometry['face_length'],\n",
    "    dims = (\"nedge\"), \n",
    "    attrs={\n",
    "        'units': 'feet' # will need to update units based on prj file\n",
    "})\n",
    "\n",
    "\n",
    "out[\"edge_velocity\"] = xr.DataArray(\n",
    "    data=ras2d_data.results['face_velocity'],\n",
    "    dims=(\"time\", 'nedge'),\n",
    "    attrs={\n",
    "        'units':'feet per second' # will need to update units based on prj file\n",
    "    })\n",
    "\n"
   ]
  },
  {
   "cell_type": "code",
   "execution_count": 61,
   "id": "6ff4b4c6",
   "metadata": {},
   "outputs": [],
   "source": [
    "import math"
   ]
  },
  {
   "cell_type": "code",
   "execution_count": 62,
   "id": "6e0970aa",
   "metadata": {},
   "outputs": [],
   "source": [
    "d = np.zeros(len(out['nedge']))\n",
    "for i in range(len(out['edge_face_connectivity'])):\n",
    "    val = out['edge_face_connectivity'][i]\n",
    "    x1 = out['face_x'][val[0]]\n",
    "    x2 = out['face_x'][val[1]]\n",
    "\n",
    "    y1 = out['face_y'][val[0]]\n",
    "    y2 = out['face_y'][val[1]]\n",
    "    \n",
    "    d = math.dist((x1, y1), (x2, y2))\n",
    "\n",
    "\n"
   ]
  },
  {
   "cell_type": "code",
   "execution_count": 90,
   "id": "6942ee3c",
   "metadata": {},
   "outputs": [],
   "source": [
    "f1 = out['edge_face_connectivity'].T[0]\n",
    "f2 = out['edge_face_connectivity'].T[1]\n",
    "\n",
    "x1_coords = out['face_x'][f1]\n",
    "y1_coords = out['face_y'][f1]\n",
    "x2_coords = out['face_x'][f2]\n",
    "y2_coords = out['face_y'][f2]\n",
    "\n",
    "dist_data = np.sqrt((x1_coords - x2_coords)**2 + (y1_coords - y2_coords)**2)\n",
    "\n"
   ]
  },
  {
   "cell_type": "code",
   "execution_count": 102,
   "id": "a4d935e6",
   "metadata": {},
   "outputs": [],
   "source": [
    "out[\"face_to_face_dist\"] = xr.DataArray(\n",
    "    data = dist_data,\n",
    "    dims = (\"nedge\"), \n",
    "    attrs={\n",
    "        'units': 'feet' # will need to update units based on prj file\n",
    "})"
   ]
  },
  {
   "cell_type": "markdown",
   "id": "8aa5f3ed-1118-4069-9d2c-f65659881ef7",
   "metadata": {},
   "source": [
    "Units are saved in the \".prj\" file - we will need this! This will allow us to store attributes for each variable, whether they are feet/feet per second or meters/meters per second: https://www.kleinschmidtgroup.com/ras-post/hec-ras-file-types/"
   ]
  },
  {
   "cell_type": "markdown",
   "id": "43bf7568-42f7-4d57-895d-2729c6a5084e",
   "metadata": {},
   "source": [
    "## Save to NetCDF"
   ]
  },
  {
   "cell_type": "code",
   "execution_count": 103,
   "id": "63004525-f844-429b-ac9d-66176f1784ec",
   "metadata": {},
   "outputs": [],
   "source": [
    "out.attrs = {'Conventions': 'CF-1.8 UGRID-1.0 Deltares-0.10'}\n",
    "out.to_netcdf(\"ugrid-example.nc\")"
   ]
  },
  {
   "cell_type": "markdown",
   "id": "d6baf7ca-349e-4c46-aae1-e6c8fc53df79",
   "metadata": {},
   "source": [
    "## Save to Zarr\n",
    "\n",
    "[Zarr](http://zarr.readthedocs.io/) is a chunked, compressed, N-dimensional data array file format designed for performance in the cloud:\n",
    "- Zarr is preferred by Pangeo for cloud applications: https://pangeo.io/data.html#data-in-the-cloud\n",
    "- Guide:\n",
    "  - http://xarray.pydata.org/en/stable/user-guide/io.html#zarr\n",
    "- Refs:\n",
    "  - http://xarray.pydata.org/en/stable/generated/xarray.Dataset.to_zarr.html#xarray.Dataset.to_zarr"
   ]
  },
  {
   "cell_type": "code",
   "execution_count": 104,
   "id": "614b3f4d",
   "metadata": {},
   "outputs": [
    {
     "name": "stdout",
     "output_type": "stream",
     "text": [
      "CPU times: total: 359 ms\n",
      "Wall time: 681 ms\n"
     ]
    },
    {
     "data": {
      "text/plain": [
       "<xarray.backends.zarr.ZarrStore at 0x278379bfc80>"
      ]
     },
     "execution_count": 104,
     "metadata": {},
     "output_type": "execute_result"
    }
   ],
   "source": [
    "%%time\n",
    "\n",
    "# Save to Zarr\n",
    "out.to_zarr('ugrid-example.zarr',\n",
    "           mode='w',\n",
    "           consolidated=True,  # http://xarray.pydata.org/en/stable/user-guide/io.html#consolidated-metadata\n",
    "          )"
   ]
  },
  {
   "cell_type": "code",
   "execution_count": null,
   "id": "0dc32d1b",
   "metadata": {},
   "outputs": [],
   "source": []
  }
 ],
 "metadata": {
  "kernelspec": {
   "display_name": "Python 3.8.13 ('pangeo')",
   "language": "python",
   "name": "python3"
  },
  "language_info": {
   "codemirror_mode": {
    "name": "ipython",
    "version": 3
   },
   "file_extension": ".py",
   "mimetype": "text/x-python",
   "name": "python",
   "nbconvert_exporter": "python",
   "pygments_lexer": "ipython3",
   "version": "3.8.13"
  },
  "vscode": {
   "interpreter": {
    "hash": "ca9c102c993ec5098f9415bfd9c8dc2596203ff57f790977ac673fa35e43661d"
   }
  }
 },
 "nbformat": 4,
 "nbformat_minor": 5
}
