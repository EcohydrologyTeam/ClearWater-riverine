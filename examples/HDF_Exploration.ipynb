{
 "cells": [
  {
   "cell_type": "markdown",
   "id": "e7741176-dc6f-4160-8165-7d5c92a46280",
   "metadata": {},
   "source": [
    "# Read HDF File"
   ]
  },
  {
   "cell_type": "code",
   "execution_count": 1,
   "id": "860605cc-0bb8-4fb8-a6ca-23601f01aad2",
   "metadata": {},
   "outputs": [],
   "source": [
    "import unittest\n",
    "import os\n",
    "import sys\n",
    "import numpy\n",
    "import datetime\n",
    "import h5py\n",
    "# import pyproj\n",
    "import matplotlib\n",
    "import matplotlib.pyplot as plt\n",
    "import matplotlib.animation as animation\n",
    "import pandas as pd\n",
    "plt.rcParams['animation.html'] = 'html5'"
   ]
  },
  {
   "cell_type": "code",
   "execution_count": 7,
   "id": "28271075-a49b-436a-80e5-f9d21f36e372",
   "metadata": {},
   "outputs": [],
   "source": [
    "hdf_path = os.path.realpath('./model/')"
   ]
  },
  {
   "cell_type": "code",
   "execution_count": 8,
   "id": "aec230b3",
   "metadata": {},
   "outputs": [
    {
     "data": {
      "text/plain": [
       "['Chippewa_2D.b02',\n",
       " 'Chippewa_2D.bco02',\n",
       " 'Chippewa_2D.c01',\n",
       " 'Chippewa_2D.dss',\n",
       " 'Chippewa_2D.g01',\n",
       " 'Chippewa_2D.g01.hdf',\n",
       " 'Chippewa_2D.IC.O02',\n",
       " 'Chippewa_2D.p02',\n",
       " 'Chippewa_2D.p02.hdf',\n",
       " 'Chippewa_2D.prj',\n",
       " 'Chippewa_2D.rasmap',\n",
       " 'Chippewa_2D.rasmap.backup',\n",
       " 'Chippewa_2D.s01',\n",
       " 'Chippewa_2D.sed02',\n",
       " 'Chippewa_2D.SedHeadXS02',\n",
       " 'Chippewa_2D.SedLY01',\n",
       " 'Chippewa_2D.SedLY_TEXT01',\n",
       " 'Chippewa_2D.SedXS02',\n",
       " 'Chippewa_2D.u04',\n",
       " 'Chippewa_2D.u04.hdf',\n",
       " 'Chippewa_2D.x01',\n",
       " 'Mannings_n.hdf',\n",
       " 'Mannings_n.tif',\n",
       " 'Sediment Materials.hdf']"
      ]
     },
     "execution_count": 8,
     "metadata": {},
     "output_type": "execute_result"
    }
   ],
   "source": [
    "os.listdir(hdf_path)"
   ]
  },
  {
   "cell_type": "code",
   "execution_count": 9,
   "id": "b2fa97a2",
   "metadata": {},
   "outputs": [
    {
     "name": "stdout",
     "output_type": "stream",
     "text": [
      "All Keys: ['DSS Time Series', 'Event Conditions', 'Geometry', 'Plan Data', 'Results', 'Sediment', 'Unsteady Time Series']\n",
      "Sub-Groups for DSS Time Series: ['2D Flow Areas', 'Boundary Conditions', 'Time', 'Time Date Stamp', 'Time Date Stamp (ms)', 'Time Step']\n",
      "Sub-Groups for Event Conditions: ['Sediment', 'Unsteady']\n",
      "Sub-Groups for Geometry: ['2D Flow Areas', 'AutoUpdateParameters', 'Boundary Condition Lines', 'Compute Processes', 'Cross Sections', 'GeomPreprocess', \"Land Cover (Manning's n)\", 'Structures']\n",
      "Sub-Groups for Plan Data: ['Plan Information', 'Plan Parameters', 'Sediment']\n",
      "Sub-Groups for Results: ['Summary', 'Unsteady']\n",
      "Sub-Groups for Sediment: ['Bed Gradation Data', 'Boundary Conditions', 'Grain Class Data', 'Options', 'Sediment Control Volume']\n",
      "Sub-Groups for Unsteady Time Series: ['2D Flow Areas', 'Boundary Conditions', 'Time', 'Time Date Stamp', 'Time Date Stamp (ms)', 'Time Step']\n"
     ]
    }
   ],
   "source": [
    "# explore hdf structure \n",
    "ras_file_path = os.path.join(hdf_path, \"Chippewa_2D.p02.hdf\")\n",
    "geo_file_path = os.path.join(hdf_path, \"Chippewa_2D.g01.hdf\")\n",
    "\n",
    "import h5py\n",
    "with h5py.File(ras_file_path, 'r') as infile:\n",
    "    # list all groups\n",
    "    print(\"All Keys: %s\" % list(infile.keys()))\n",
    "    for k in infile.keys():\n",
    "        print(\"Sub-Groups for %s: %s\" % (k, list(infile[k].keys())))\n"
   ]
  },
  {
   "cell_type": "markdown",
   "id": "bd39d01a",
   "metadata": {},
   "source": [
    "Note that there can be multiple flow areas. For now, the number of flow areas will be limited to one. However, future considerations of multiple flow areas include:\n",
    "* connect with 1d model [limitation]\n",
    "* connect across \n",
    "* others?\n",
    "\n",
    "The 2D Flow Area Name is stored in the \"Attributes\" key of the HDF output file, and then there's another key named after the 2D Flow Area Name with all relevant geometry info. We will want to write code that will identify name of single flow area and use that information to retrieve the geometry. \n",
    "\n",
    "Main level keys:\n",
    "* `DDS Time Series`\n",
    "* `Event Conditions`\n",
    "* `Geometry`\n",
    "* `Plan Data`\n",
    "* `Results`\n",
    "* `Sediment`\n",
    "* `Unsteady Time Series`"
   ]
  },
  {
   "cell_type": "markdown",
   "id": "55f9049f",
   "metadata": {},
   "source": [
    "## Explore Geometry for 2D Flow Areas \n",
    "`geometry`\n",
    "* `2D Flow Areas`:\n",
    "    * `Cell Points`: northings and eastings of cell points (one for each cell)\n",
    "    * `Cell Info`: min and max cell value  \n",
    "    * `Attributes`: default values for 2d flow area generation. The first element of this array is the name of the 2D Flow Area. \n",
    "    * `Perimeter 1` (or other name -- whatever the 2D Flow Area is named): contains more keys to access additional geometry information. \n",
    "    * `Polygon Info`: what polygon points the 2D Flow area starts and ends with -- may need to explore further. \n",
    "    * `Polygon Parts`: Number of polygon points on the perimeter for every 2D Flow Area \n",
    "    * `Polygon Points`: Northings and eastings of the points along the perimeter of the boundary"
   ]
  },
  {
   "cell_type": "code",
   "execution_count": 16,
   "id": "9d39e3df",
   "metadata": {},
   "outputs": [
    {
     "name": "stdout",
     "output_type": "stream",
     "text": [
      "Perimeter 1\n"
     ]
    }
   ],
   "source": [
    "# explore first level 2d flow area geometry keys:\n",
    "\n",
    "with h5py.File(ras_file_path, 'r') as infile:\n",
    "    # list all groups\n",
    "    # print(infile['Geometry/2D Flow Areas/Cell Points'][()]) # northings and eastings \n",
    "    # print(infile['Geometry/2D Flow Areas/Cell Info'][()]) # number of cells\n",
    "    # print(infile['Geometry/2D Flow Areas/Attributes'][()]) # default values for the 2d flow area generation \n",
    "\n",
    "    \n",
    "    # print(infile['Geometry/2D Flow Areas/Perimeter 1'].keys()) # geometry info for perimeter 1 2d flow area \n",
    "\n",
    "    # print(infile['Geometry/2D Flow Areas/Polygon Info'][()]) # what polygon points it starts and ends with\n",
    "    # print(infile['Geometry/2D Flow Areas/Polygon Parts'][()]) # number of polygon points on the perimeter for every 2d flow area \n",
    "    # print(infile['Geometry/2D Flow Areas/Polygon Points'][()].shape) # northings and eastings of the points along the perimeter of the boundary\n",
    "\n",
    "\n",
    "    print(infile['Geometry/2D Flow Areas/Attributes'][()][0][0].decode('UTF-8'))"
   ]
  },
  {
   "cell_type": "markdown",
   "id": "596d4791",
   "metadata": {},
   "source": [
    "Notation Notes\n",
    "* $c_r$ is the number of actual cells: here, 356 \n",
    "* $c_p$ is the number of boundary cells/pseudo cells: here, 79 ?\n",
    "* $c$ is the total number of cell: here, 435 ($c_r + c_p$)\n",
    "* $m$ is the maximum number of facepoints making up a cell: here, 6\n",
    "* $p$ is the number of facepoints: here, 433\n",
    "* $f$ is the number of faces: here, 788\n",
    "\n",
    "Cells:\n",
    "* `Cells Center Coordinate`: Northings and Eastings \n",
    "    * $c$ x 2 \n",
    "* `Cells Center Manning's n`\n",
    "    * $c$ x 1\n",
    "* `Cells Face and Orientation Info`\n",
    "    * $c$ x 2 \n",
    "    * first position: ranges from (0, 1575) \n",
    "    * second position: ranges from (1, $m$) -- max number of facepoints in a cell?\n",
    "\n",
    "* `Cells Facepoint Indexes`\n",
    "    * $c$ x $m$ array \n",
    "    * values are the facepoint values that make up the cell boundary\n",
    "    * -1 for no data: fewer facepoints than the max number in the whole 2D area.\n",
    "    * 2 positions have values for all cells > $c_r$ because just making the edge for a pseudo cell. \n",
    "* `Cells Minimum Elevation`\n",
    "    * $c$ x 1 \n",
    "* `Cells Surface Area`\n",
    "    * $c$ x 1 \n",
    "* `Cells Volume Elevation Info`\n",
    "    * $c$ x 2 \n",
    "    * first position ranges from (0,6063)\n",
    "    * second position ranges from (0, 48)\n",
    "* `Cells Volume Elevation Values`\n",
    "\n",
    "Facepoints:\n",
    "* `Facepoints Cell Index Values`: matches each FacePoint to a cell? **DON'T UNDERSTAND THE NUMBER**\n",
    "    * 1655 x 1\n",
    "    * Values range from (0, 434) -- $c$ - 1 (zero indexed)\n",
    "* `FacePoints Cell Info`: ??\n",
    "    * 433 x 2\n",
    "    * first position ranges from (0, 1652)\n",
    "    * second position ranges from (3, 5)\n",
    "* `FacePoints Coordinate`: Northings and Eastings\n",
    "    * 433 x 2 \n",
    "* `FacePoints Face and Orientation Info`\n",
    "    * 433 x 2 \n",
    "    * first position ranges from (0, 1574)\n",
    "    * second position ranges from (2, 5)\n",
    "* `FacePoints Face and Orientation Values` **DON'T UNDERSTAND THE NUMBER**\n",
    "    * 1576 x 2\n",
    "    * first position (0, 787)\n",
    "    * second position (-1, 1)\n",
    "* `FacePoints Is Perimeter`\n",
    "    * 433 x 1 \n",
    "    * values are -1 or 0 \n",
    "\n",
    "Faces:\n",
    "* `Faces Area Elevation Info`\n",
    "    * 788 x 2 \n",
    "* `Faces Area Elevation Values` **DON'T UNDERSTAND THE NUMBER**\n",
    "    * 5059 x 4\n",
    "* `Faces Cell Indexes`\n",
    "    * 788 x 2 \n",
    "    * first value ranges from (0, 354) $c_r$ -1 \n",
    "        * Is this the \"start\" cell?\n",
    "    * second value ranges from (0, 434) - $c$ - 1 \n",
    "        * Is this the \"end\" cell? \n",
    "        * If it flows to a pseudo cell, then flowing OUT of the mesh.\n",
    "* `Faces Facepoint Indexes`\n",
    "    * 788 x 2 \n",
    "    * first value ranges from (0, 432)\n",
    "    * second value ranges from (0, 432)\n",
    "* `Faces Low Elevation Centroid`\n",
    "* `Faces Minimum Elevation`\n",
    "* `Faces NormalUnitVector and Length`\n",
    "* `Faces Perimeter Info`\n",
    "* `Faces Perimeter Values`\n",
    "* `Perimeter`\n",
    "* `Sediment Bed Material`\n",
    "\n"
   ]
  },
  {
   "cell_type": "code",
   "execution_count": 15,
   "id": "6e6b8b02",
   "metadata": {},
   "outputs": [
    {
     "name": "stdout",
     "output_type": "stream",
     "text": [
      "<KeysViewHDF5 ['Boundary Conditions', 'Face Velocity', 'Log Hydraulics', 'Time Step', 'Water Surface']>\n",
      "[396.04105  190.34332  274.1631   190.17271  140.36095  228.07346\n",
      " 396.563    185.37605  234.07625  188.71815  210.91814  193.69731\n",
      " 168.11853  190.04433  166.45038  161.04118  187.09326  173.88037\n",
      " 168.21417  188.16167  162.08055  187.86644  198.27412  177.61464\n",
      " 189.32039  199.54259  195.10329  180.52954  186.53804  209.52008\n",
      " 174.69524  212.7367   146.38344  209.16638  143.31389  185.67015\n",
      " 208.91365  149.56662  213.70403   94.7883   204.36354  253.60501\n",
      "  96.96086  199.78383  286.38837  344.63272  153.18445  182.89415\n",
      " 251.76665  405.04086   97.53615  205.72838   94.53212  203.64989\n",
      " 188.51726  100.70706  207.68802  165.52376  218.6575   168.66534\n",
      " 204.6544   190.15535  160.54916  186.61353  202.28099  189.82863\n",
      " 178.3808   201.49173  179.92699  165.38507  134.66267  129.36743\n",
      "  93.76235  153.83192  200.34483  166.38867  200.92462  174.92055\n",
      " 199.34131  209.97566  186.91425  117.68275  178.57997  174.78859\n",
      " 173.56978  253.01843  228.24817  195.01094  180.8481   230.99423\n",
      " 212.88376  132.99251  381.38898  139.88356  223.4167   197.4059\n",
      " 183.9047   137.48744  169.40395  220.63593  197.90358   92.31329\n",
      " 212.58165  175.99721  255.47005  218.08281  231.66374  207.37329\n",
      " 200.61618  214.9514   198.83237  238.13834  261.52103  193.7273\n",
      " 267.6627   186.40312  180.90842  204.0562   184.00671  163.80879\n",
      " 183.98055  178.29373  228.62405  204.19641  203.37192   84.32684\n",
      " 104.61962  194.1776   100.107445 192.10182  187.37325  181.48671\n",
      " 201.0509   157.59583  207.71217  155.2022   182.65445  169.69257\n",
      " 188.83305  158.46689  194.71864  179.14519  177.57568  175.50124\n",
      " 186.02525  169.79243  236.34027  220.17856  251.15923  125.31199\n",
      "  57.32773  155.13965  231.76303  173.2275   231.02357  201.80629\n",
      " 304.0824   284.15686  167.84605  212.50958  206.50352  177.20518\n",
      " 234.19855  189.3867   272.50226  204.71608  206.80298  189.27602\n",
      " 190.13057  273.76782  199.0199   328.33926  190.54031  204.3001\n",
      " 189.97955  195.6695   181.13258  182.25351  200.22728  272.13147\n",
      " 233.62029  173.74695  143.87865   39.36336  166.24202   95.58692\n",
      " 148.01355  255.8978   191.53387  173.5027    99.52125  260.26266\n",
      " 222.2006   200.97737  199.09007  194.44643  228.06741  208.67207\n",
      " 200.79211  187.40503  206.62505  202.80304  206.46727  187.12369\n",
      " 204.58038  181.80783  259.57538  185.07288  255.74733  200.68866\n",
      " 212.77388  230.37079  252.8584   100.162384 141.89464  228.75197\n",
      " 255.48503  198.96416  180.74934  148.21152  218.29326  176.79637\n",
      " 178.29808  208.26021  179.11781  310.83957  189.38602  201.07191\n",
      " 228.56131  203.86948  200.6204   173.18552  195.99312  179.4081\n",
      " 185.7635   196.28456  185.48782  228.37929  164.00728  216.40413\n",
      " 229.82689  174.79384  188.81877  193.10646  172.53412  179.44334\n",
      " 212.98676  337.59845  179.08986  192.3503   238.4865   196.3331\n",
      " 228.34099  249.57634  149.44177  244.39227  166.80807  173.1571\n",
      " 237.7855   194.10844  227.7402   221.03477  178.36914  209.63203\n",
      " 205.58386   59.587914  78.32017  163.56145  231.46219  320.61572\n",
      " 229.06622  213.06213  185.53105  258.44922  325.73294  191.98453\n",
      " 213.71278  208.018    164.44368  181.09627  195.10805  193.40184\n",
      " 186.18007  201.07706  197.13719  169.04366  190.72482  214.27573\n",
      " 193.86224  214.94797  218.10652  211.30423  178.4173   176.01083\n",
      " 197.4475   227.51646  148.69643  189.17613  213.50677  187.97716\n",
      "  46.915817 174.44669  148.45297  150.6555   112.10676   75.70788\n",
      "  60.98016  185.57967  199.69102  167.55794  187.95056  181.9096\n",
      " 168.94865  191.33296  212.27115  160.8441   184.79362  256.03348\n",
      " 211.20583  270.25903  208.17647  157.22462  179.15576  314.96112\n",
      " 272.5393   474.40463  206.69633  334.85004  190.92839  269.37396\n",
      " 164.3238   183.78926  308.02243   94.93345  107.44457  231.46603\n",
      " 180.27278  217.75763  102.89945  198.23053  154.17932  185.93289\n",
      " 212.76491   54.636395 155.37234  138.77586  201.30641  149.36201\n",
      " 198.05821  182.1232   180.36627  153.24603  176.53093  221.61298\n",
      " 170.06642  209.24263  191.89507  202.41252  218.28474  210.56755\n",
      " 233.56432  191.36234  228.59303  182.36227  188.36177  228.71014\n",
      " 198.83563  316.6922   144.56567  271.24603  154.6614   177.87782\n",
      " 368.40805  181.58585  137.84468  195.79584  154.07137  158.59215\n",
      " 188.83693  181.2451   206.32521  163.27777  202.54417  175.8689\n",
      " 180.91869  158.34727  188.51562  174.21013  213.52417  266.41266\n",
      " 201.1313   294.17706  189.16559  207.43465  206.52802  233.38882\n",
      " 191.31183  203.10948  188.74292  197.47986  189.46461  201.1384\n",
      " 181.30772  186.61783  200.76535  211.90872  216.50586  363.47977\n",
      " 211.2993   307.5049   202.15636  201.25813  337.86142  215.89742\n",
      " 218.46524  210.20465  229.9565   194.25931  210.15973  195.0699\n",
      " 191.64134  228.66315  149.93922  406.3534   257.64923  220.38866\n",
      " 206.26958  180.0948   228.43698  238.03069  201.98598  235.57979\n",
      " 199.42143  186.32259  167.31384  284.77823  158.00354  161.1226\n",
      " 169.56483  206.85953  140.9794    55.819355 202.03452  179.74309\n",
      " 192.16731  209.11456  206.9257   127.35865  271.4468   390.2846\n",
      " 242.2625   231.98552  277.93378  273.07877  206.07272  189.12474\n",
      " 204.54066  282.02914  255.79279  164.13441  222.14334  199.02824\n",
      " 250.1945   199.22525  255.77577  344.52637  206.83913  208.39755\n",
      " 191.57454  196.24535  206.65515  206.84024  209.77391  206.37274\n",
      " 204.59999  207.4984   223.67355  207.07109  185.3208    49.563595\n",
      " 171.68567  163.5989   199.38147  219.56317  153.0496   147.61317\n",
      " 209.63991  210.07343  219.75134  157.22313  192.31247  272.77197\n",
      " 177.14154  322.21625  295.27716  310.64383  209.19185  295.9692\n",
      " 408.41562  198.47739  213.74356  232.13728  199.13477  220.94525\n",
      " 193.37927  237.19298  214.81752  235.79608  205.35507  278.6333\n",
      " 294.25958   90.001465 143.30562  107.143814 261.05447  341.81305\n",
      " 278.14478  284.1193   315.6502   232.3673   192.63661  166.40672\n",
      " 166.90614  197.19547  159.25586  220.91298  210.36252  220.16745\n",
      " 302.50528  252.23506  305.5504   250.97304  135.71541  195.8994\n",
      " 242.97511  223.14359  183.41228  130.96202   80.12467  193.03316\n",
      " 184.46709  104.68382   95.60072   93.174034 184.26993  222.80174\n",
      " 110.42318  198.85376  266.0327   183.81296  149.72874  180.39534\n",
      " 216.65936  202.72798  120.29136  224.70744  160.8703   141.26605\n",
      " 139.86688  349.63416  312.4922   136.6287   196.9179   256.98062\n",
      "  86.65212  248.1635   298.80222  194.71715  194.226     89.940704\n",
      " 133.00748  146.2859   207.33382  197.80963  313.99686  325.98636\n",
      " 214.71617  230.45668  196.24483  219.89519  201.80348  184.15424\n",
      "  63.639214 223.51956  173.12363  145.35805  201.92902  227.60646\n",
      " 181.6828   264.82123  161.49626  111.97726  209.08696  253.70975\n",
      " 167.20952  125.92339  195.20361  221.58804  239.88585  169.64131\n",
      " 214.9442   198.3483   208.596    186.39804  223.69978  200.48363\n",
      " 194.73578  143.05144  146.32265  201.52802  127.861725 184.02037\n",
      " 252.73589  178.27965  124.82024  182.72174  151.47678  280.32565\n",
      " 101.05663  146.31573  107.42778  158.33257   93.87212  106.55306\n",
      " 162.99619  205.6935   173.41476  274.08145  237.54327  214.99588\n",
      " 230.67133  233.78651  194.17734  100.51042  115.35606  185.57556\n",
      " 110.250374 143.37323  170.10332  187.68517  289.86972  219.19266\n",
      " 209.80598  196.6525   205.78024  195.74573  202.41008  138.88318\n",
      " 184.24446  137.97758  180.75745  208.2102   140.93752  153.46814\n",
      " 190.24707  111.397194 273.21628  199.00974  198.2838   245.01656\n",
      " 200.5441   214.76064  201.6213   113.8549   176.70573  140.55606\n",
      " 227.9335    62.0211   201.92021   89.99828  155.33945  119.59517\n",
      " 180.46057  149.53978  132.2471   199.42662  141.97653  165.79205\n",
      " 190.0149   197.685    183.72879  172.17216  164.35796  183.59604\n",
      " 236.8725   160.71764  150.70576  235.35522  227.06696  224.42429\n",
      " 225.03737  239.83858  237.31825  377.0827    40.63842  250.39621\n",
      " 333.26013  346.25323  212.7635   233.92464  323.64395  395.4195\n",
      " 199.91649  201.50542  215.11998  204.1322   193.33882  183.01909\n",
      " 207.59015  158.43388  186.66295  229.84933   99.51027  240.90634\n",
      " 216.5829    94.74059  212.17293  180.21378  183.18066  206.43262\n",
      " 109.08042  192.25346  108.831665 185.55638  120.881996 136.07074\n",
      " 208.11246  135.29904  202.72266   89.92845  202.3568    89.156975\n",
      " 192.69095  207.8541   190.28534  131.63861   90.41883  196.61217\n",
      " 174.91962  175.93279  114.277756 214.88622  225.11429  178.01927\n",
      " 204.95355  223.44637  144.47208  180.13992  208.30745  199.31012\n",
      " 230.47095  202.46475  217.85173  171.57123  206.11443  203.98743\n",
      " 114.2475   168.97368  120.26499  166.37338  105.83308  215.79338\n",
      " 166.85657  166.33247  148.28311  185.60158  162.46637  164.3331\n",
      " 106.484085 201.39664  206.73418  206.23184   95.13201  208.78844\n",
      "  83.9072   168.26543  201.74997  209.7332   134.80078  200.61598\n",
      "  72.78809  174.10622  135.22864  191.3743   345.32635  157.69066\n",
      " 471.25256  377.27475 ]\n"
     ]
    }
   ],
   "source": [
    "# dig into 2d flow area [Perimeter 1] \n",
    "with h5py.File(ras_file_path, 'r') as infile:\n",
    "    print(infile['Results/Unsteady/Output/Output Blocks/Base Output/Unsteady Time Series/2D Flow Areas/Perimeter 1/'].keys())\n",
    "    # print(infile['Geometry/2D Flow Areas/Perimeter 1/'].keys())\n",
    "    ############### CELLS #####################################################################\n",
    "    # print(infile['Geometry/2D Flow Areas/Perimeter 1/Cells Center Coordinate'][()])\n",
    "    # print(infile[\"Geometry/2D Flow Areas/Perimeter 1/Cells Center Manning's n\"][()].shape)\n",
    "    # print(max([f[1] for f in infile[\"Geometry/2D Flow Areas/Perimeter 1/Cells Face and Orientation Info\"][()]]))\n",
    "    # print(infile['Geometry/2D Flow Areas/Perimeter 1/Cells FacePoint Indexes'][()][356:]) \n",
    "    # print(infile['Geometry/2D Flow Areas/Perimeter 1/Cells Minimum Elevation'][()].shape) \n",
    "    # print(infile['Geometry/2D Flow Areas/Perimeter 1/Cells Surface Area'][()].shape) \n",
    "    # print(max([f[1] for f in infile['Geometry/2D Flow Areas/Perimeter 1/Cells Volume Elevation Info'][()]])) \n",
    "    # print(min(infile['Geometry/2D Flow Areas/Perimeter 1/FacePoints Cell Index Values'][()])) \n",
    "    # print(infile['Geometry/2D Flow Areas/Perimeter 1/Cells Surface Area'][()].shape) \n",
    "\n",
    "    ################### FACEPOINTS #############################################################\n",
    "    # print(max([f[1] for f in infile['Geometry/2D Flow Areas/Perimeter 1/FacePoints Cell Info'][()]])) \n",
    "    # print(infile['Geometry/2D Flow Areas/Perimeter 1/FacePoints Coordinate'][()]) \n",
    "    # print(max([f[1] for f in infile['Geometry/2D Flow Areas/Perimeter 1/FacePoints Face and Orientation Info'][()]])) \n",
    "    # print(max([f[0] for f in infile['Geometry/2D Flow Areas/Perimeter 1/FacePoints Face and Orientation Values'][()]])) \n",
    "    # print(infile['Geometry/2D Flow Areas/Perimeter 1/FacePoints Face and Orientation Values'][()]) \n",
    "    # print(infile['Geometry/2D Flow Areas/Perimeter 1/FacePoints Is Perimeter'][()].shape) \n",
    "\n",
    "    #################### FACES ###########################################################\n",
    "    # print(infile['Geometry/2D Flow Areas/Perimeter 1/Faces Area Elevation Info'][()].shape) \n",
    "    # print(infile['Geometry/2D Flow Areas/Perimeter 1/Faces Area Elevation Values'][()].shape) \n",
    "    # print(min([f[1] for f in infile['Geometry/2D Flow Areas/Perimeter 1/Faces Cell Indexes'][()]])) \n",
    "    # print(min([f[1] for f in infile['Geometry/2D Flow Areas/Perimeter 1/Faces FacePoint Indexes'][()]])) \n",
    "    # print(infile['Geometry/2D Flow Areas/Perimeter 1/Faces FacePoint Indexes'][()]) \n",
    "    print(infile['Geometry/2D Flow Areas/Perimeter 1/Faces NormalUnitVector and Length'][()][:,2]) \n",
    "\n",
    "\n",
    "\n",
    "\n",
    "    # print(infile['Geometry/2D Flow Areas/Perimeter 1/FacePoints Coordinate'][()].shape) # northings and eastings of a facepoint\n",
    "\n",
    "\n",
    "\n",
    "    #self.geometry['faces_cell_indexes'] = infile['Geometry/2D Flow Areas/2D Interior Area/Faces Cell Indexes'][()]\n",
    "    # self.geometry['cells_surface_area'] = infile['Geometry/2D Flow Areas/2D Interior Area/Cells Surface Area'][()]\n",
    "    # self.geometry['faces_normal_unit_vector_and_length'] = infile['Geometry/2D Flow Areas/2D Interior Area/Faces NormalUnitVector and Length'][()]\n",
    "    # self.geometry['cells_center_coordinate'] = infile['Geometry/2D Flow Areas/2D Interior Area/Cells Center Coordinate'][()]\n",
    "    # faces_area_elevation_values = infile['Geometry/2D Flow Areas/2D Interior Area/Faces Area Elevation Values'][()]\n",
    "\n",
    "    #self.geometry['face_length'] = self.geometry['faces_normal_unit_vector_and_length'][:,2]\n"
   ]
  },
  {
   "cell_type": "markdown",
   "id": "00445dc3-d9a1-406e-9cac-fddbc03e3c05",
   "metadata": {},
   "source": [
    "### Voronoi Plotting"
   ]
  },
  {
   "cell_type": "code",
   "execution_count": 6,
   "id": "5caf1266-62dc-495f-a128-4741a45ade26",
   "metadata": {},
   "outputs": [],
   "source": [
    "from scipy.spatial import Voronoi, voronoi_plot_2d\n",
    "import numpy as np"
   ]
  },
  {
   "cell_type": "code",
   "execution_count": 7,
   "id": "98916d40-12fc-4cb3-a078-f098bbddfaf2",
   "metadata": {},
   "outputs": [
    {
     "name": "stdout",
     "output_type": "stream",
     "text": [
      "[[0.94039396 0.84077019]\n",
      " [0.36705205 0.27727313]\n",
      " [0.9224136  0.50228849]\n",
      " [0.39892901 0.73394417]\n",
      " [0.87781997 0.10043824]\n",
      " [0.03258967 0.05476883]\n",
      " [0.40830056 0.90829601]\n",
      " [0.68505152 0.91660376]\n",
      " [0.91267033 0.75924481]\n",
      " [0.4678361  0.96821919]]\n"
     ]
    }
   ],
   "source": [
    "import matplotlib.pyplot as plt\n",
    "rng = np.random.default_rng()\n",
    "points = rng.random((10,2))\n",
    "print(points)"
   ]
  },
  {
   "cell_type": "code",
   "execution_count": 8,
   "id": "82684b0a-936b-492c-bd5a-94dc7896ccf3",
   "metadata": {},
   "outputs": [
    {
     "data": {
      "text/plain": [
       "<scipy.spatial.qhull.Voronoi at 0x147d9d91510>"
      ]
     },
     "execution_count": 8,
     "metadata": {},
     "output_type": "execute_result"
    }
   ],
   "source": [
    "vor = Voronoi(points)\n",
    "vor"
   ]
  },
  {
   "cell_type": "code",
   "execution_count": 9,
   "id": "3d924d9e-3382-44c6-9d66-8586951031b9",
   "metadata": {},
   "outputs": [
    {
     "data": {
      "image/png": "[encoded data removed]",
      "text/plain": [
       "<Figure size 432x288 with 1 Axes>"
      ]
     },
     "metadata": {
      "needs_background": "light"
     },
     "output_type": "display_data"
    }
   ],
   "source": [
    "fig = voronoi_plot_2d(vor)"
   ]
  },
  {
   "cell_type": "markdown",
   "id": "b8bbe7a9-4ab1-49c0-8af0-586fd6ad705a",
   "metadata": {},
   "source": [
    "## Explore other areas\n",
    "\n",
    "### Plan Data\n",
    "\n",
    "#### Sediment"
   ]
  },
  {
   "cell_type": "code",
   "execution_count": 10,
   "id": "8c520df4-136f-4c33-8c02-1a6374de18f3",
   "metadata": {},
   "outputs": [
    {
     "name": "stdout",
     "output_type": "stream",
     "text": [
      "<KeysViewHDF5 ['Plan Information', 'Plan Parameters', 'Sediment']>\n",
      "[b'2D Cell Manning Total' b'2D Cell Manning Grain'\n",
      " b'2D Cell Settling Velocity (by GC)'\n",
      " b'2D Cell Critical Shear Stress (by GC)' b'2D Cell d50 Active'\n",
      " b'2D Cell d10 Active' b'2D Cell d90 Active'\n",
      " b'2D Cell Total-load Concentration (by GC)'\n",
      " b'2D Cell Total-load Conc Capacity (by GC)']\n"
     ]
    }
   ],
   "source": [
    "with h5py.File(ras_file_path, 'r') as infile:\n",
    "    print(infile['Plan Data'].keys())\n",
    "    print(infile['Plan Data']['Sediment']['Output Parameters']['Custom Variables'][()])"
   ]
  },
  {
   "cell_type": "code",
   "execution_count": 11,
   "id": "67c99f9f-5b22-4948-ba82-0a7b64e2bb06",
   "metadata": {},
   "outputs": [
    {
     "name": "stdout",
     "output_type": "stream",
     "text": [
      "<KeysViewHDF5 []>\n"
     ]
    }
   ],
   "source": [
    "with h5py.File(ras_file_path, 'r') as infile:\n",
    "    print(infile['Plan Data']['Sediment']['Sediment Run Parameters'].keys())"
   ]
  },
  {
   "cell_type": "markdown",
   "id": "7b7d1c3b-dc2a-45d8-b4a8-891c07b9b5f9",
   "metadata": {},
   "source": [
    "#### Plan Parameters"
   ]
  },
  {
   "cell_type": "code",
   "execution_count": 12,
   "id": "59428b62-fa15-47c3-ae13-d73921589179",
   "metadata": {},
   "outputs": [
    {
     "name": "stdout",
     "output_type": "stream",
     "text": [
      "<HDF5 group \"/Plan Data/Plan Parameters\" (0 members)>\n"
     ]
    }
   ],
   "source": [
    "with h5py.File(ras_file_path, 'r') as infile:\n",
    "    print(infile['Plan Data']['Plan Parameters'])"
   ]
  },
  {
   "cell_type": "markdown",
   "id": "805c7830-9a24-47a0-ad67-93088b688bee",
   "metadata": {},
   "source": [
    "#### Plan Information"
   ]
  },
  {
   "cell_type": "code",
   "execution_count": 13,
   "id": "1bd1e5ed-de32-4f8a-bd4c-ddebdf8222c0",
   "metadata": {},
   "outputs": [
    {
     "name": "stdout",
     "output_type": "stream",
     "text": [
      "<KeysViewHDF5 ['Debug Commands']>\n"
     ]
    }
   ],
   "source": [
    "with h5py.File(ras_file_path, 'r') as infile:\n",
    "    print(infile['Plan Data']['Plan Information'].keys())"
   ]
  },
  {
   "cell_type": "markdown",
   "id": "99dfedc3-cdc6-4d88-bd42-996c3f8db06b",
   "metadata": {},
   "source": [
    "### Sediment"
   ]
  },
  {
   "cell_type": "code",
   "execution_count": 14,
   "id": "239e59ff-9648-4265-9c80-2b9bbcd33d8b",
   "metadata": {},
   "outputs": [
    {
     "name": "stdout",
     "output_type": "stream",
     "text": [
      "<KeysViewHDF5 ['Bed Gradation Data', 'Boundary Conditions', 'Grain Class Data', 'Options', 'Sediment Control Volume']>\n"
     ]
    }
   ],
   "source": [
    "with h5py.File(ras_file_path, 'r') as infile:\n",
    "    print(infile['Sediment'].keys())"
   ]
  },
  {
   "cell_type": "code",
   "execution_count": 15,
   "id": "1064016f-5357-4992-8dc5-eef7870c6c32",
   "metadata": {},
   "outputs": [
    {
     "name": "stdout",
     "output_type": "stream",
     "text": [
      "<KeysViewHDF5 ['Cohesive Classes', 'Density Data', 'Grain Class Bounds', 'Grain Class Names', 'Settling Depth']>\n"
     ]
    }
   ],
   "source": [
    "with h5py.File(ras_file_path, 'r') as infile:\n",
    "    print(infile['Sediment']['Grain Class Data'].keys())"
   ]
  },
  {
   "cell_type": "code",
   "execution_count": 16,
   "id": "b05cc667-3405-404a-b158-43f5ce991127",
   "metadata": {},
   "outputs": [
    {
     "name": "stdout",
     "output_type": "stream",
     "text": [
      "(1633, 788)\n",
      "[[-0.0000000e+00 -0.0000000e+00 -0.0000000e+00 ... -0.0000000e+00\n",
      "  -0.0000000e+00 -0.0000000e+00]\n",
      " [-0.0000000e+00 -0.0000000e+00 -0.0000000e+00 ... -0.0000000e+00\n",
      "  -0.0000000e+00  0.0000000e+00]\n",
      " [-0.0000000e+00 -0.0000000e+00 -0.0000000e+00 ... -0.0000000e+00\n",
      "  -0.0000000e+00  0.0000000e+00]\n",
      " ...\n",
      " [-7.3885353e-04  6.8620387e-03 -4.5182803e-04 ... -0.0000000e+00\n",
      "   1.7372467e-07  0.0000000e+00]\n",
      " [-7.3574705e-04  6.8466631e-03 -4.4891675e-04 ... -0.0000000e+00\n",
      "   1.7344526e-07  0.0000000e+00]\n",
      " [-7.3266670e-04  6.8313414e-03 -4.4601416e-04 ... -0.0000000e+00\n",
      "   1.7316606e-07  0.0000000e+00]]\n"
     ]
    }
   ],
   "source": [
    "###\n",
    "\n",
    "\n",
    "with h5py.File(ras_file_path, 'r') as infile:\n",
    "    print(infile['Results']['Unsteady']['Output']['Output Blocks']['Base Output']['Unsteady Time Series']['2D Flow Areas']['Perimeter 1']['Face Velocity'][()].shape)\n",
    "    print(infile['Results']['Unsteady']['Output']['Output Blocks']['Base Output']['Unsteady Time Series']['2D Flow Areas']['Perimeter 1']['Face Velocity'][()])"
   ]
  },
  {
   "cell_type": "code",
   "execution_count": null,
   "id": "48c83ef7",
   "metadata": {},
   "outputs": [],
   "source": [
    "\n",
    "\n",
    "with h5py.File(ras_file_path, 'r') as infile:\n",
    "    print(infile['Results']['Unsteady']['Output']['Output Blocks']['Base Output']['Unsteady Time Series']['2D Flow Areas']['Perimeter 1']['Face Velocity'][()].shape)\n",
    "    print(infile['Results']['Unsteady']['Output']['Output Blocks']['Base Output']['Unsteady Time Series']['2D Flow Areas']['Perimeter 1']['Face Velocity'][()])"
   ]
  },
  {
   "cell_type": "code",
   "execution_count": 17,
   "id": "00d3310f-9a85-433a-b5f3-6500c55e1a9d",
   "metadata": {},
   "outputs": [
    {
     "name": "stdout",
     "output_type": "stream",
     "text": [
      "[ 36. 120. 120. ... 120. 120. 120.]\n"
     ]
    }
   ],
   "source": [
    "# computational interval: every 2 minutes \n",
    "# why is the first timestep different?\n",
    "with h5py.File(ras_file_path, 'r') as infile:\n",
    "    print(infile['Results']['Unsteady']['Output']['Output Blocks']['Base Output']['Unsteady Time Series']['2D Flow Areas']['Perimeter 1']['Time Step'][()])"
   ]
  },
  {
   "cell_type": "code",
   "execution_count": 14,
   "id": "068cab7c",
   "metadata": {},
   "outputs": [
    {
     "name": "stdout",
     "output_type": "stream",
     "text": [
      "<KeysViewHDF5 ['Boundary Conditions', 'Face Velocity', 'Log Hydraulics', 'Time Step', 'Water Surface']>\n",
      "<KeysViewHDF5 ['Downstream', 'Downstream - Flow per Cell', 'Downstream - Stage per Cell', 'Upstream', 'Upstream - Flow per Cell', 'Upstream - Stage per Cell']>\n"
     ]
    }
   ],
   "source": [
    "with h5py.File(ras_file_path, 'r') as infile:   \n",
    "    print(infile['Results/Unsteady/Output/Output Blocks/Base Output/Unsteady Time Series/2D Flow Areas/Perimeter 1'].keys())\n",
    "    print(infile['Results/Unsteady/Output/Output Blocks/Base Output/Unsteady Time Series/2D Flow Areas/Perimeter 1/Boundary Conditions'].keys())"
   ]
  },
  {
   "cell_type": "code",
   "execution_count": 18,
   "id": "b39da9ab",
   "metadata": {},
   "outputs": [
    {
     "name": "stdout",
     "output_type": "stream",
     "text": [
      "[-0.00000000e+00  2.08333333e-02  4.16666667e-02 ...  3.39583333e+01\n",
      "  3.39791667e+01  3.40000000e+01]\n",
      "<KeysViewHDF5 ['2D Flow Areas', 'Boundary Conditions', 'Time', 'Time Date Stamp', 'Time Date Stamp (ms)', 'Time Step']>\n"
     ]
    }
   ],
   "source": [
    "\n",
    "with h5py.File(ras_file_path, 'r') as infile:\n",
    "    # time in days maybe for boundary condition input files maybe\n",
    "    print(infile['Results']['Unsteady']['Output']['Output Blocks']['Base Output']['Unsteady Time Series']['Time'][()])"
   ]
  },
  {
   "cell_type": "markdown",
   "id": "9363e456",
   "metadata": {},
   "source": [
    "## Results\n",
    "### Timeseries\n",
    "\n",
    "1633 timesteps"
   ]
  },
  {
   "cell_type": "code",
   "execution_count": 19,
   "id": "fafe795d",
   "metadata": {},
   "outputs": [
    {
     "name": "stdout",
     "output_type": "stream",
     "text": [
      "<KeysViewHDF5 ['2D Flow Areas', 'Boundary Conditions', 'Time', 'Time Date Stamp', 'Time Date Stamp (ms)', 'Time Step']>\n",
      "<KeysViewHDF5 ['Boundary Conditions', 'Face Velocity', 'Log Hydraulics', 'Time Step', 'Water Surface']>\n",
      "(1633, 10)\n",
      "(1633, 788)\n",
      "(1633, 435)\n",
      "(1633,)\n"
     ]
    }
   ],
   "source": [
    "# look in results\n",
    "with h5py.File(ras_file_path, 'r') as f:\n",
    "    print(f['Results']['Unsteady']['Output']['Output Blocks']['Base Output']['Unsteady Time Series'].keys())\n",
    "    print(f['Results']['Unsteady']['Output']['Output Blocks']['Base Output']['Unsteady Time Series']['2D Flow Areas']['Perimeter 1'].keys())\n",
    "    print(f['Results']['Unsteady']['Output']['Output Blocks']['Base Output']['Unsteady Time Series']['2D Flow Areas']['Perimeter 1']['Log Hydraulics'][()].shape)\n",
    "    print(f['Results']['Unsteady']['Output']['Output Blocks']['Base Output']['Unsteady Time Series']['2D Flow Areas']['Perimeter 1']['Face Velocity'][()].shape)\n",
    "    print(f['Results']['Unsteady']['Output']['Output Blocks']['Base Output']['Unsteady Time Series']['2D Flow Areas']['Perimeter 1']['Water Surface'][()].shape)\n",
    "    print(f['Results']['Unsteady']['Output']['Output Blocks']['Base Output']['Unsteady Time Series']['2D Flow Areas']['Perimeter 1']['Time Step'][()].shape)\n"
   ]
  },
  {
   "cell_type": "code",
   "execution_count": 20,
   "id": "8911ce39",
   "metadata": {},
   "outputs": [
    {
     "name": "stdout",
     "output_type": "stream",
     "text": [
      "<KeysViewHDF5 ['Effective Depth', 'Effective Width', 'Flow', 'Froude Number Channel', 'Invert Change', 'Invert Elevation', 'Long. Cum Vol Change', \"Manning's n Channel\", 'Mass Retention', 'Shear Stress', 'Velocity', 'Vol Bed Change Cum', 'Vol In Cum', 'Vol Out Cum', 'Water Surface', 'd10 Active', 'd10 Inactive', 'd50 Active', 'd50 Inactive', 'd90 Active', 'd90 Inactive']>\n",
      "[[0. 0.]]\n",
      "(35,)\n"
     ]
    }
   ],
   "source": [
    "with h5py.File(ras_file_path, 'r') as f:\n",
    "    print(f['Results']['Unsteady']['Output']['Output Blocks']['Sediment']['Sediment Time Series']['Cross Sections'].keys())\n",
    "    print(f['Results']['Unsteady']['Output']['Output Blocks']['Sediment']['Sediment Time Series']['Cross Sections']['Shear Stress'][()])\n",
    "\n",
    "    print(f['Results']['Unsteady']['Output']['Output Blocks']['Sediment']['Sediment Time Series']['Time'].shape)"
   ]
  },
  {
   "cell_type": "code",
   "execution_count": 21,
   "id": "0a203219",
   "metadata": {},
   "outputs": [
    {
     "name": "stdout",
     "output_type": "stream",
     "text": [
      "(1633,)\n"
     ]
    }
   ],
   "source": [
    "with h5py.File(ras_file_path, 'r') as f:\n",
    "    print(f['Results']['Unsteady']['Output']['Output Blocks']['Base Output']['Unsteady Time Series']['2D Flow Areas']['Perimeter 1']['Time Step'][()].shape)"
   ]
  },
  {
   "cell_type": "code",
   "execution_count": 17,
   "id": "4d683614",
   "metadata": {},
   "outputs": [
    {
     "name": "stdout",
     "output_type": "stream",
     "text": [
      "[ 36. 120. 120. ... 120. 120. 120.]\n"
     ]
    }
   ],
   "source": [
    "with h5py.File(ras_file_path, 'r') as f:\n",
    "    print(f['Results']['Unsteady']['Output']['Output Blocks']['Base Output']['Unsteady Time Series']['2D Flow Areas']['Perimeter 1']['Time Step'][()])"
   ]
  },
  {
   "cell_type": "code",
   "execution_count": 22,
   "id": "29d08884-2b95-4606-9f3a-07e460422ef1",
   "metadata": {},
   "outputs": [
    {
     "name": "stdout",
     "output_type": "stream",
     "text": [
      "module_path = C:\\Users\\sjordan\\Documents\\GitHub\\ClearWater\\modules\\python\\src\n",
      "ClearWater repo path: C:\\Users\\sjordan\\Documents\\GitHub\\ClearWater\n",
      "TSM source path: C:\\Users\\sjordan\\Documents\\GitHub\\ClearWater\\modules\\python\\src\\TSM\n"
     ]
    }
   ],
   "source": [
    "''' Import RAS2D '''\n",
    "sys.path.insert(0, src_path)\n",
    "import RAS2D"
   ]
  },
  {
   "cell_type": "code",
   "execution_count": 23,
   "id": "8dee49f5-25e2-457e-97b4-ad32d17d7150",
   "metadata": {},
   "outputs": [
    {
     "ename": "KeyError",
     "evalue": "'Unable to open object (component not found)'",
     "output_type": "error",
     "traceback": [
      "\u001b[1;31m---------------------------------------------------------------------------\u001b[0m",
      "\u001b[1;31mKeyError\u001b[0m                                  Traceback (most recent call last)",
      "\u001b[1;32m~\\AppData\\Local\\Temp\\ipykernel_3180\\3827543587.py\u001b[0m in \u001b[0;36m<module>\u001b[1;34m\u001b[0m\n\u001b[0;32m      2\u001b[0m \u001b[0mras_file_path\u001b[0m \u001b[1;33m=\u001b[0m \u001b[0mos\u001b[0m\u001b[1;33m.\u001b[0m\u001b[0mpath\u001b[0m\u001b[1;33m.\u001b[0m\u001b[0mjoin\u001b[0m\u001b[1;33m(\u001b[0m\u001b[0mhdf_path\u001b[0m\u001b[1;33m,\u001b[0m  \u001b[1;34m\"Chippewa_2D.p02.hdf\"\u001b[0m\u001b[1;33m)\u001b[0m\u001b[1;33m\u001b[0m\u001b[1;33m\u001b[0m\u001b[0m\n\u001b[0;32m      3\u001b[0m \u001b[0mras2d_data\u001b[0m \u001b[1;33m=\u001b[0m \u001b[0mRAS2D\u001b[0m\u001b[1;33m.\u001b[0m\u001b[0mRAS_HDF5\u001b[0m\u001b[1;33m(\u001b[0m\u001b[0mras_file_path\u001b[0m\u001b[1;33m,\u001b[0m \u001b[0mvariables\u001b[0m\u001b[1;33m=\u001b[0m\u001b[1;33m[\u001b[0m\u001b[1;33m]\u001b[0m\u001b[1;33m)\u001b[0m\u001b[1;33m\u001b[0m\u001b[1;33m\u001b[0m\u001b[0m\n\u001b[1;32m----> 4\u001b[1;33m \u001b[0mras2d_data\u001b[0m\u001b[1;33m.\u001b[0m\u001b[0mread\u001b[0m\u001b[1;33m(\u001b[0m\u001b[1;33m)\u001b[0m\u001b[1;33m\u001b[0m\u001b[1;33m\u001b[0m\u001b[0m\n\u001b[0m",
      "\u001b[1;32m~\\Documents\\GitHub\\ClearWater\\riverine\\src\\riverine\\ras2d\\RAS2D.py\u001b[0m in \u001b[0;36mread\u001b[1;34m(self)\u001b[0m\n\u001b[0;32m     88\u001b[0m             '''\n\u001b[0;32m     89\u001b[0m             \u001b[1;31m# For the Muncie data set: max value: 5773, shape(5765, 7)\u001b[0m\u001b[1;33m\u001b[0m\u001b[1;33m\u001b[0m\u001b[0m\n\u001b[1;32m---> 90\u001b[1;33m             \u001b[0mself\u001b[0m\u001b[1;33m.\u001b[0m\u001b[0mgeometry\u001b[0m\u001b[1;33m[\u001b[0m\u001b[1;34m'elements_array'\u001b[0m\u001b[1;33m]\u001b[0m \u001b[1;33m=\u001b[0m \u001b[0minfile\u001b[0m\u001b[1;33m[\u001b[0m\u001b[1;34m'Geometry/2D Flow Areas/2D Interior Area/Cells FacePoint Indexes'\u001b[0m\u001b[1;33m]\u001b[0m\u001b[1;33m[\u001b[0m\u001b[1;33m(\u001b[0m\u001b[1;33m)\u001b[0m\u001b[1;33m]\u001b[0m\u001b[1;33m\u001b[0m\u001b[1;33m\u001b[0m\u001b[0m\n\u001b[0m\u001b[0;32m     91\u001b[0m             \u001b[1;31m# For the Muncie data set: shape(5774, 2)\u001b[0m\u001b[1;33m\u001b[0m\u001b[1;33m\u001b[0m\u001b[0m\n\u001b[0;32m     92\u001b[0m             \u001b[0mself\u001b[0m\u001b[1;33m.\u001b[0m\u001b[0mgeometry\u001b[0m\u001b[1;33m[\u001b[0m\u001b[1;34m'nodes_array'\u001b[0m\u001b[1;33m]\u001b[0m \u001b[1;33m=\u001b[0m \u001b[0minfile\u001b[0m\u001b[1;33m[\u001b[0m\u001b[1;34m'Geometry/2D Flow Areas/2D Interior Area/FacePoints Coordinate'\u001b[0m\u001b[1;33m]\u001b[0m\u001b[1;33m[\u001b[0m\u001b[1;33m(\u001b[0m\u001b[1;33m)\u001b[0m\u001b[1;33m]\u001b[0m\u001b[1;33m\u001b[0m\u001b[1;33m\u001b[0m\u001b[0m\n",
      "\u001b[1;32mh5py\\_objects.pyx\u001b[0m in \u001b[0;36mh5py._objects.with_phil.wrapper\u001b[1;34m()\u001b[0m\n",
      "\u001b[1;32mh5py\\_objects.pyx\u001b[0m in \u001b[0;36mh5py._objects.with_phil.wrapper\u001b[1;34m()\u001b[0m\n",
      "\u001b[1;32m~\\Anaconda3\\envs\\ras2d_new\\lib\\site-packages\\h5py\\_hl\\group.py\u001b[0m in \u001b[0;36m__getitem__\u001b[1;34m(self, name)\u001b[0m\n\u001b[0;32m    303\u001b[0m                 \u001b[1;32mraise\u001b[0m \u001b[0mValueError\u001b[0m\u001b[1;33m(\u001b[0m\u001b[1;34m\"Invalid HDF5 object reference\"\u001b[0m\u001b[1;33m)\u001b[0m\u001b[1;33m\u001b[0m\u001b[1;33m\u001b[0m\u001b[0m\n\u001b[0;32m    304\u001b[0m         \u001b[1;32melif\u001b[0m \u001b[0misinstance\u001b[0m\u001b[1;33m(\u001b[0m\u001b[0mname\u001b[0m\u001b[1;33m,\u001b[0m \u001b[1;33m(\u001b[0m\u001b[0mbytes\u001b[0m\u001b[1;33m,\u001b[0m \u001b[0mstr\u001b[0m\u001b[1;33m)\u001b[0m\u001b[1;33m)\u001b[0m\u001b[1;33m:\u001b[0m\u001b[1;33m\u001b[0m\u001b[1;33m\u001b[0m\u001b[0m\n\u001b[1;32m--> 305\u001b[1;33m             \u001b[0moid\u001b[0m \u001b[1;33m=\u001b[0m \u001b[0mh5o\u001b[0m\u001b[1;33m.\u001b[0m\u001b[0mopen\u001b[0m\u001b[1;33m(\u001b[0m\u001b[0mself\u001b[0m\u001b[1;33m.\u001b[0m\u001b[0mid\u001b[0m\u001b[1;33m,\u001b[0m \u001b[0mself\u001b[0m\u001b[1;33m.\u001b[0m\u001b[0m_e\u001b[0m\u001b[1;33m(\u001b[0m\u001b[0mname\u001b[0m\u001b[1;33m)\u001b[0m\u001b[1;33m,\u001b[0m \u001b[0mlapl\u001b[0m\u001b[1;33m=\u001b[0m\u001b[0mself\u001b[0m\u001b[1;33m.\u001b[0m\u001b[0m_lapl\u001b[0m\u001b[1;33m)\u001b[0m\u001b[1;33m\u001b[0m\u001b[1;33m\u001b[0m\u001b[0m\n\u001b[0m\u001b[0;32m    306\u001b[0m         \u001b[1;32melse\u001b[0m\u001b[1;33m:\u001b[0m\u001b[1;33m\u001b[0m\u001b[1;33m\u001b[0m\u001b[0m\n\u001b[0;32m    307\u001b[0m             raise TypeError(\"Accessing a group is done with bytes or str, \"\n",
      "\u001b[1;32mh5py\\_objects.pyx\u001b[0m in \u001b[0;36mh5py._objects.with_phil.wrapper\u001b[1;34m()\u001b[0m\n",
      "\u001b[1;32mh5py\\_objects.pyx\u001b[0m in \u001b[0;36mh5py._objects.with_phil.wrapper\u001b[1;34m()\u001b[0m\n",
      "\u001b[1;32mh5py\\h5o.pyx\u001b[0m in \u001b[0;36mh5py.h5o.open\u001b[1;34m()\u001b[0m\n",
      "\u001b[1;31mKeyError\u001b[0m: 'Unable to open object (component not found)'"
     ]
    }
   ],
   "source": [
    "#open HEC-RAS 2D ouptut file \n",
    "ras_file_path = os.path.join(hdf_path,  \"Chippewa_2D.p02.hdf\")\n",
    "ras2d_data = RAS2D.RAS_HDF5(ras_file_path, variables=[])\n",
    "ras2d_data.read()"
   ]
  },
  {
   "cell_type": "code",
   "execution_count": null,
   "id": "fbdf3600",
   "metadata": {},
   "outputs": [
    {
     "name": "stdout",
     "output_type": "stream",
     "text": [
      "Elements Array:\n",
      "Shape: (5765, 7)\n",
      "Range: -1,5773 \n"
     ]
    },
    {
     "data": {
      "image/png": "[encoded data removed]",
      "text/plain": [
       "<Figure size 72x720 with 1 Axes>"
      ]
     },
     "metadata": {},
     "output_type": "display_data"
    },
    {
     "name": "stdout",
     "output_type": "stream",
     "text": [
      "Nodes Array:\n",
      "Shape:(5774, 2)\n",
      "Range:404980.6574222861,1805021.8526864778\n",
      "\n",
      "Faces Cell Indexes:\n",
      "Shape:(11164, 2)\n",
      "Range:0,5764\n",
      "\n",
      "Cells Surface Area:\n",
      "Shape:(5765,)\n",
      "Range:-2.2737367544323206e-13,4726.1103515625\n",
      "\n",
      "Faces Normal Unit Vector and Length:\n",
      "Shape:(11164, 3)\n",
      "Range:-1.0,93.10488891601562\n",
      "\n",
      "Face Length:\n",
      "Shape:(11164,)\n",
      "Range:3.1000120639801025,93.10488891601562\n"
     ]
    }
   ],
   "source": [
    "print(f\"Elements Array:\\nShape: {ras2d_data.geometry['elements_array'].shape}\\nRange: {ras2d_data.geometry['elements_array'].min()},{ras2d_data.geometry['elements_array'].max()} \")\n",
    "\n",
    "plt.figure(figsize = (1,10))\n",
    "plt.imshow(ras2d_data.geometry['elements_array'], interpolation='nearest', aspect='auto')\n",
    "plt.show()\n",
    "\n",
    "print(f\"Nodes Array:\\nShape:{ras2d_data.geometry['nodes_array'].shape}\\nRange:{ras2d_data.geometry['nodes_array'].min()},{ras2d_data.geometry['nodes_array'].max()}\")\n",
    "print(f\"\\nFaces Cell Indexes:\\nShape:{ras2d_data.geometry['faces_cell_indexes'].shape}\\nRange:{ras2d_data.geometry['faces_cell_indexes'].min()},{ras2d_data.geometry['faces_cell_indexes'].max()}\")\n",
    "\n",
    "print(f\"\\nCells Surface Area:\\nShape:{ras2d_data.geometry['cells_surface_area'].shape}\\nRange:{ras2d_data.geometry['cells_surface_area'].min()},{ras2d_data.geometry['cells_surface_area'].max()}\")\n",
    "print(f\"\\nFaces Normal Unit Vector and Length:\\nShape:{ras2d_data.geometry['faces_normal_unit_vector_and_length'].shape}\\nRange:{ras2d_data.geometry['faces_normal_unit_vector_and_length'].min()},{ras2d_data.geometry['faces_normal_unit_vector_and_length'].max()}\")\n",
    "print(f\"\\nFace Length:\\nShape:{ras2d_data.geometry['face_length'].shape}\\nRange:{ras2d_data.geometry['face_length'].min()},{ras2d_data.geometry['face_length'].max()}\")"
   ]
  },
  {
   "cell_type": "code",
   "execution_count": null,
   "id": "533e4864",
   "metadata": {},
   "outputs": [],
   "source": [
    "ras2d_data.geometry['elements_array'][0:10]"
   ]
  },
  {
   "cell_type": "code",
   "execution_count": null,
   "id": "4e1801ed",
   "metadata": {},
   "outputs": [],
   "source": []
  },
  {
   "cell_type": "markdown",
   "id": "93595e87",
   "metadata": {},
   "source": [
    "ras2d_data.geometry['']"
   ]
  },
  {
   "cell_type": "code",
   "execution_count": null,
   "id": "788cf9f0",
   "metadata": {},
   "outputs": [],
   "source": []
  },
  {
   "cell_type": "code",
   "execution_count": 13,
   "id": "f4ab32ae",
   "metadata": {},
   "outputs": [
    {
     "name": "stdout",
     "output_type": "stream",
     "text": [
      "Keys: <KeysViewHDF5 ['Event Conditions', 'Geometry', 'Plan Data', 'Results']>\n"
     ]
    }
   ],
   "source": [
    "# set up information \n",
    "# from holoviews import opts\n",
    "# n_verts = len(ras2d_data.geometry['nodes_array'])\n",
    "\n",
    "# # define edges for Trimesh\n",
    "# pts = [(x,z) for x,z in zip(ds_zarr.node_x.values, ds_zarr.node_z.values)] # pairs of nodes \n",
    "# tris = Delaunay(pts)\n",
    "\n",
    "# x =ds_zarr.node_x.values\n",
    "# y = ds_zarr.node_z.values\n",
    "# r = ds_zarr['Liquid Saturation'][:,100] # pH at time = 200 \n",
    "\n",
    "# # Format nodes for trimesh, including third dimension to plot (r, which represents pH here)\n",
    "# nodes = np.column_stack([x, y, r])\n",
    "# nodes = hv.Points(nodes, vdims='r')\n",
    "\n",
    "\n",
    "# r = ds_zarr['Liquid Saturation'][:,100] # time = 300 \n",
    "\n",
    "# # Format nodes for trimesh, including third dimension to plot (r, which represents pH here)\n",
    "# nodes = np.column_stack([x, y, r])\n",
    "# nodes = hv.Points(nodes, vdims='r')\n",
    "\n",
    "# trimesh = hv.TriMesh((tris.simplices, nodes)).options( edge_color='r',\n",
    "#                                                       colorbar=True,\n",
    "#                                                       filled=True,\n",
    "#                                                       inspection_policy='nodes',\n",
    "#                                                       node_size=0, edge_line_width=0.1,\n",
    "#                                                       height=400,\n",
    "#                                                       width=1000,\n",
    "#                                                       cmap=\"RdBu_r\",\n",
    "# #                                                       clim = (0,1),\n",
    "#                                                       # ,colorbar=True\n",
    "#                                                      )         \n",
    "\n",
    "\n",
    "# trimesh_interp = rasterize(trimesh, aggregator=dsh.mean('r')).opts(colorbar=True,\n",
    "#                                                                    cmap='RdBu_r',\n",
    "#                                                                    width=1000,\n",
    "#                                                                    height=400,\n",
    "#                                                                    clim=(0,1),\n",
    "#                                                                    clabel=ds_zarr['Liquid Saturation'].long_name)\n",
    "# trimesh_interp"
   ]
  },
  {
   "cell_type": "code",
   "execution_count": 8,
   "id": "5625356e",
   "metadata": {},
   "outputs": [
    {
     "data": {
      "text/plain": [
       "{'elements_array': array([[   0,    1,    2, ...,   -1,   -1,   -1],\n",
       "        [   4,    5,    1, ...,   -1,   -1,   -1],\n",
       "        [   5,    4,    6, ...,   -1,   -1,   -1],\n",
       "        ...,\n",
       "        [5771, 5575,   -1, ...,   -1,   -1,   -1],\n",
       "        [5772, 5651,   -1, ...,   -1,   -1,   -1],\n",
       "        [5773, 5688,   -1, ...,   -1,   -1,   -1]]),\n",
       " 'nodes_array': array([[ 406025.        , 1804975.        ],\n",
       "        [ 406025.        , 1805015.23726173],\n",
       "        [ 405943.16231932, 1805006.83768068],\n",
       "        ...,\n",
       "        [ 411262.9642    , 1801320.046     ],\n",
       "        [ 412236.6254192 , 1801203.5563888 ],\n",
       "        [ 411636.0086    , 1801093.727     ]]),\n",
       " 'faces_cell_indexes': array([[   1,    2],\n",
       "        [   1, 5391],\n",
       "        [   1,    0],\n",
       "        ...,\n",
       "        [5147, 5762],\n",
       "        [5235, 5763],\n",
       "        [5251, 5764]]),\n",
       " 'cells_surface_area': array([2478.019 , 2094.556 , 2259.9414, ...,    0.    ,    0.    ,\n",
       "           0.    ], dtype=float32),\n",
       " 'faces_normal_unit_vector_and_length': array([[ 1.0000000e+00, -0.0000000e+00,  4.3544975e+01],\n",
       "        [-6.6009961e-02,  9.9781895e-01,  5.0109291e+01],\n",
       "        [-1.0000000e+00, -0.0000000e+00,  4.0237263e+01],\n",
       "        ...,\n",
       "        [-6.1637338e-02, -9.9809861e-01,  6.2153980e+01],\n",
       "        [ 6.9570875e-01,  7.1832401e-01,  5.8746185e+01],\n",
       "        [-7.6699495e-01, -6.4165318e-01,  6.0767097e+01]], dtype=float32),\n",
       " 'cells_center_coordinate': array([[ 406000.        , 1805000.        ],\n",
       "        [ 406050.        , 1805000.        ],\n",
       "        [ 406100.        , 1805000.        ],\n",
       "        ...,\n",
       "        [ 411293.9821    , 1801318.13049715],\n",
       "        [ 412215.52602192, 1801223.99150672],\n",
       "        [ 411654.80468762, 1801069.42656511]]),\n",
       " 'face_length': array([43.544975, 50.10929 , 40.237263, ..., 62.15398 , 58.746185,\n",
       "        60.767097], dtype=float32)}"
      ]
     },
     "execution_count": 8,
     "metadata": {},
     "output_type": "execute_result"
    }
   ],
   "source": [
    "ras2d_data.geometry"
   ]
  },
  {
   "cell_type": "code",
   "execution_count": 35,
   "id": "a299a7bc",
   "metadata": {},
   "outputs": [
    {
     "ename": "TypeError",
     "evalue": "plot_ras2d() missing 3 required positional arguments: 'variable', 'dates', and 'outfile_interp_path'",
     "output_type": "error",
     "traceback": [
      "\u001b[1;31m---------------------------------------------------------------------------\u001b[0m",
      "\u001b[1;31mTypeError\u001b[0m                                 Traceback (most recent call last)",
      "\u001b[1;32mg:\\RAS2D\\Untitled.ipynb Cell 10'\u001b[0m in \u001b[0;36m<module>\u001b[1;34m\u001b[0m\n\u001b[1;32m----> <a href='vscode-notebook-cell:/g%3A/RAS2D/Untitled.ipynb#ch0000006?line=0'>1</a>\u001b[0m RAS2D\u001b[39m.\u001b[39;49mplot_ras2d(ras2d_data\u001b[39m.\u001b[39;49mgeometry[\u001b[39m'\u001b[39;49m\u001b[39melements_array\u001b[39;49m\u001b[39m'\u001b[39;49m], ras2d_data\u001b[39m.\u001b[39;49mgeometry[\u001b[39m'\u001b[39;49m\u001b[39mnodes_array\u001b[39;49m\u001b[39m'\u001b[39;49m])\n",
      "\u001b[1;31mTypeError\u001b[0m: plot_ras2d() missing 3 required positional arguments: 'variable', 'dates', and 'outfile_interp_path'"
     ]
    }
   ],
   "source": [
    "RAS2D.plot_ras2d(ras2d_data.geometry['elements_array'], ras2d_data.geometry['nodes_array'])"
   ]
  },
  {
   "cell_type": "code",
   "execution_count": null,
   "id": "b64da826",
   "metadata": {},
   "outputs": [],
   "source": []
  }
 ],
 "metadata": {
  "kernelspec": {
   "display_name": "Python 3.8.8 ('base')",
   "language": "python",
   "name": "python3"
  },
  "language_info": {
   "codemirror_mode": {
    "name": "ipython",
    "version": 3
   },
   "file_extension": ".py",
   "mimetype": "text/x-python",
   "name": "python",
   "nbconvert_exporter": "python",
   "pygments_lexer": "ipython3",
   "version": "3.8.8"
  },
  "vscode": {
   "interpreter": {
    "hash": "f5d4f81eacdbeeef9aeb424c196d62f127bb322881c716476cdd54b3f3a5a338"
   }
  }
 },
 "nbformat": 4,
 "nbformat_minor": 5
}
