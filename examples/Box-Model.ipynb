{
 "cells": [
  {
   "cell_type": "markdown",
   "metadata": {},
   "source": [
    "# Box Model \n",
    "\n",
    "<img src=\"../tests/input_files/Box-Model/figure.png\" width=\"600\">"
   ]
  },
  {
   "cell_type": "code",
   "execution_count": 55,
   "metadata": {},
   "outputs": [],
   "source": [
    "import pandas as pd\n",
    "import numpy as np\n",
    "import h5py\n",
    "import xarray as xr\n",
    "import os\n",
    "import sys\n",
    "import datetime\n",
    "\n",
    "import clearwater_riverine_functions as cw"
   ]
  },
  {
   "cell_type": "code",
   "execution_count": 2,
   "metadata": {},
   "outputs": [
    {
     "name": "stdout",
     "output_type": "stream",
     "text": [
      "['.virtual_documents', 'advection_diffusion.ipynb', 'Box-Model.ipynb', 'clearwater_riverine_functions.py', 'compute_cell_volume_and_face_area.ipynb', 'compute_distances_between_centroids.ipynb', 'File_Conversion.ipynb', 'HDF_Exploration.ipynb', 'HDF_Plotting.ipynb', 'model', 'RAS_HDF_to_xarray_examples.ipynb', 'Sparse_Matrix_Framework.ipynb', 'ugrid-example.nc', 'ugrid-example.zarr']\n"
     ]
    }
   ],
   "source": [
    "print(os.listdir())\n",
    "fpath = '../tests/input_files/Box-Model/BoxModel.p01.hdf'\n",
    "\n",
    "h5py_file = h5py.File(fpath,\n",
    "                      mode='r',  # Readonly, file must exist (default)\n",
    "                     )"
   ]
  },
  {
   "cell_type": "code",
   "execution_count": 3,
   "metadata": {},
   "outputs": [],
   "source": [
    "def get_project_name(inp_file):\n",
    "    return inp_file['Geometry/2D Flow Areas/Attributes'][()][0][0].decode('UTF-8')"
   ]
  },
  {
   "cell_type": "code",
   "execution_count": 4,
   "metadata": {},
   "outputs": [
    {
     "name": "stdout",
     "output_type": "stream",
     "text": [
      "Box\n"
     ]
    }
   ],
   "source": [
    "project_name = get_project_name(h5py_file)\n",
    "print(project_name)\n",
    "h5py_file.close()"
   ]
  },
  {
   "cell_type": "markdown",
   "metadata": {},
   "source": [
    "### Volume"
   ]
  },
  {
   "cell_type": "code",
   "execution_count": 57,
   "metadata": {},
   "outputs": [],
   "source": [
    "# get volume\n",
    "# HEC-RAS input file\n",
    "infile = fpath\n",
    "\n",
    "# Results time series: Water Surface Elevation\n",
    "water_surface_elev_xr = cw.read_dataset_xarray(infile, f'Results/Unsteady/Output/Output Blocks/Base Output/Unsteady Time Series/2D Flow Areas/{project_name}/Water Surface', dims = ['Time', 'Cells'])\n",
    "\n",
    "# Geometry: Cell Volumes\n",
    "cells_volume_elevation_info_df = cw.read_dataset_pandas(infile, f'Geometry/2D Flow Areas/{project_name}/Cells Volume Elevation Info')\n",
    "cells_volume_elevation_values_df = cw.read_dataset_pandas(infile, f'Geometry/2D Flow Areas/{project_name}/Cells Volume Elevation Values')\n",
    "\n",
    "# Geometry: Cell Surface Area\n",
    "cells_surface_area_xr = cw.read_dataset_xarray(infile, f'Geometry/2D Flow Areas/{project_name}/Cells Surface Area', dims = ['Rows'])\n"
   ]
  },
  {
   "cell_type": "code",
   "execution_count": 58,
   "metadata": {},
   "outputs": [
    {
     "data": {
      "text/html": [
       "<div>\n",
       "<style scoped>\n",
       "    .dataframe tbody tr th:only-of-type {\n",
       "        vertical-align: middle;\n",
       "    }\n",
       "\n",
       "    .dataframe tbody tr th {\n",
       "        vertical-align: top;\n",
       "    }\n",
       "\n",
       "    .dataframe thead th {\n",
       "        text-align: right;\n",
       "    }\n",
       "</style>\n",
       "<table border=\"1\" class=\"dataframe\">\n",
       "  <thead>\n",
       "    <tr style=\"text-align: right;\">\n",
       "      <th></th>\n",
       "      <th>0</th>\n",
       "      <th>1</th>\n",
       "      <th>2</th>\n",
       "      <th>3</th>\n",
       "      <th>4</th>\n",
       "      <th>5</th>\n",
       "      <th>6</th>\n",
       "      <th>7</th>\n",
       "      <th>8</th>\n",
       "      <th>9</th>\n",
       "      <th>...</th>\n",
       "      <th>11</th>\n",
       "      <th>12</th>\n",
       "      <th>13</th>\n",
       "      <th>14</th>\n",
       "      <th>15</th>\n",
       "      <th>16</th>\n",
       "      <th>17</th>\n",
       "      <th>18</th>\n",
       "      <th>19</th>\n",
       "      <th>20</th>\n",
       "    </tr>\n",
       "  </thead>\n",
       "  <tbody>\n",
       "    <tr>\n",
       "      <th>0</th>\n",
       "      <td>100.000000</td>\n",
       "      <td>100.000000</td>\n",
       "      <td>120.707443</td>\n",
       "      <td>100.000000</td>\n",
       "      <td>100.000000</td>\n",
       "      <td>120.707443</td>\n",
       "      <td>116.934418</td>\n",
       "      <td>116.934418</td>\n",
       "      <td>141.148544</td>\n",
       "      <td>0.0</td>\n",
       "      <td>...</td>\n",
       "      <td>0.0</td>\n",
       "      <td>0.0</td>\n",
       "      <td>0.0</td>\n",
       "      <td>0.0</td>\n",
       "      <td>0.0</td>\n",
       "      <td>0.0</td>\n",
       "      <td>0.0</td>\n",
       "      <td>0.0</td>\n",
       "      <td>0.0</td>\n",
       "      <td>0.0</td>\n",
       "    </tr>\n",
       "    <tr>\n",
       "      <th>1</th>\n",
       "      <td>139.648438</td>\n",
       "      <td>136.907959</td>\n",
       "      <td>163.187851</td>\n",
       "      <td>131.677246</td>\n",
       "      <td>128.009033</td>\n",
       "      <td>152.099930</td>\n",
       "      <td>136.904053</td>\n",
       "      <td>132.307755</td>\n",
       "      <td>157.353409</td>\n",
       "      <td>0.0</td>\n",
       "      <td>...</td>\n",
       "      <td>0.0</td>\n",
       "      <td>0.0</td>\n",
       "      <td>0.0</td>\n",
       "      <td>0.0</td>\n",
       "      <td>0.0</td>\n",
       "      <td>0.0</td>\n",
       "      <td>0.0</td>\n",
       "      <td>0.0</td>\n",
       "      <td>0.0</td>\n",
       "      <td>0.0</td>\n",
       "    </tr>\n",
       "    <tr>\n",
       "      <th>2</th>\n",
       "      <td>141.296387</td>\n",
       "      <td>138.818359</td>\n",
       "      <td>165.670670</td>\n",
       "      <td>134.027100</td>\n",
       "      <td>130.584717</td>\n",
       "      <td>155.326843</td>\n",
       "      <td>139.951599</td>\n",
       "      <td>135.191147</td>\n",
       "      <td>160.747726</td>\n",
       "      <td>0.0</td>\n",
       "      <td>...</td>\n",
       "      <td>0.0</td>\n",
       "      <td>0.0</td>\n",
       "      <td>0.0</td>\n",
       "      <td>0.0</td>\n",
       "      <td>0.0</td>\n",
       "      <td>0.0</td>\n",
       "      <td>0.0</td>\n",
       "      <td>0.0</td>\n",
       "      <td>0.0</td>\n",
       "      <td>0.0</td>\n",
       "    </tr>\n",
       "    <tr>\n",
       "      <th>3</th>\n",
       "      <td>141.284180</td>\n",
       "      <td>138.806152</td>\n",
       "      <td>165.655930</td>\n",
       "      <td>134.014893</td>\n",
       "      <td>130.572510</td>\n",
       "      <td>155.319473</td>\n",
       "      <td>139.951599</td>\n",
       "      <td>135.191147</td>\n",
       "      <td>160.747726</td>\n",
       "      <td>0.0</td>\n",
       "      <td>...</td>\n",
       "      <td>0.0</td>\n",
       "      <td>0.0</td>\n",
       "      <td>0.0</td>\n",
       "      <td>0.0</td>\n",
       "      <td>0.0</td>\n",
       "      <td>0.0</td>\n",
       "      <td>0.0</td>\n",
       "      <td>0.0</td>\n",
       "      <td>0.0</td>\n",
       "      <td>0.0</td>\n",
       "    </tr>\n",
       "    <tr>\n",
       "      <th>4</th>\n",
       "      <td>141.284180</td>\n",
       "      <td>138.806152</td>\n",
       "      <td>165.655930</td>\n",
       "      <td>134.014893</td>\n",
       "      <td>130.572510</td>\n",
       "      <td>155.319473</td>\n",
       "      <td>139.951599</td>\n",
       "      <td>135.191147</td>\n",
       "      <td>160.747726</td>\n",
       "      <td>0.0</td>\n",
       "      <td>...</td>\n",
       "      <td>0.0</td>\n",
       "      <td>0.0</td>\n",
       "      <td>0.0</td>\n",
       "      <td>0.0</td>\n",
       "      <td>0.0</td>\n",
       "      <td>0.0</td>\n",
       "      <td>0.0</td>\n",
       "      <td>0.0</td>\n",
       "      <td>0.0</td>\n",
       "      <td>0.0</td>\n",
       "    </tr>\n",
       "    <tr>\n",
       "      <th>5</th>\n",
       "      <td>141.284180</td>\n",
       "      <td>138.806152</td>\n",
       "      <td>165.655930</td>\n",
       "      <td>134.014893</td>\n",
       "      <td>130.572510</td>\n",
       "      <td>155.319473</td>\n",
       "      <td>139.951599</td>\n",
       "      <td>135.191147</td>\n",
       "      <td>160.747726</td>\n",
       "      <td>0.0</td>\n",
       "      <td>...</td>\n",
       "      <td>0.0</td>\n",
       "      <td>0.0</td>\n",
       "      <td>0.0</td>\n",
       "      <td>0.0</td>\n",
       "      <td>0.0</td>\n",
       "      <td>0.0</td>\n",
       "      <td>0.0</td>\n",
       "      <td>0.0</td>\n",
       "      <td>0.0</td>\n",
       "      <td>0.0</td>\n",
       "    </tr>\n",
       "    <tr>\n",
       "      <th>6</th>\n",
       "      <td>141.284180</td>\n",
       "      <td>138.806152</td>\n",
       "      <td>165.655930</td>\n",
       "      <td>134.014893</td>\n",
       "      <td>130.572510</td>\n",
       "      <td>155.319473</td>\n",
       "      <td>139.951599</td>\n",
       "      <td>135.191147</td>\n",
       "      <td>160.747726</td>\n",
       "      <td>0.0</td>\n",
       "      <td>...</td>\n",
       "      <td>0.0</td>\n",
       "      <td>0.0</td>\n",
       "      <td>0.0</td>\n",
       "      <td>0.0</td>\n",
       "      <td>0.0</td>\n",
       "      <td>0.0</td>\n",
       "      <td>0.0</td>\n",
       "      <td>0.0</td>\n",
       "      <td>0.0</td>\n",
       "      <td>0.0</td>\n",
       "    </tr>\n",
       "    <tr>\n",
       "      <th>7</th>\n",
       "      <td>141.284180</td>\n",
       "      <td>138.806152</td>\n",
       "      <td>165.655930</td>\n",
       "      <td>134.014893</td>\n",
       "      <td>130.572510</td>\n",
       "      <td>155.319473</td>\n",
       "      <td>139.951599</td>\n",
       "      <td>135.191147</td>\n",
       "      <td>160.747726</td>\n",
       "      <td>0.0</td>\n",
       "      <td>...</td>\n",
       "      <td>0.0</td>\n",
       "      <td>0.0</td>\n",
       "      <td>0.0</td>\n",
       "      <td>0.0</td>\n",
       "      <td>0.0</td>\n",
       "      <td>0.0</td>\n",
       "      <td>0.0</td>\n",
       "      <td>0.0</td>\n",
       "      <td>0.0</td>\n",
       "      <td>0.0</td>\n",
       "    </tr>\n",
       "    <tr>\n",
       "      <th>8</th>\n",
       "      <td>141.284180</td>\n",
       "      <td>138.806152</td>\n",
       "      <td>165.655930</td>\n",
       "      <td>134.014893</td>\n",
       "      <td>130.572510</td>\n",
       "      <td>155.319473</td>\n",
       "      <td>139.951599</td>\n",
       "      <td>135.191147</td>\n",
       "      <td>160.747726</td>\n",
       "      <td>0.0</td>\n",
       "      <td>...</td>\n",
       "      <td>0.0</td>\n",
       "      <td>0.0</td>\n",
       "      <td>0.0</td>\n",
       "      <td>0.0</td>\n",
       "      <td>0.0</td>\n",
       "      <td>0.0</td>\n",
       "      <td>0.0</td>\n",
       "      <td>0.0</td>\n",
       "      <td>0.0</td>\n",
       "      <td>0.0</td>\n",
       "    </tr>\n",
       "    <tr>\n",
       "      <th>9</th>\n",
       "      <td>141.284180</td>\n",
       "      <td>138.806152</td>\n",
       "      <td>165.655930</td>\n",
       "      <td>134.014893</td>\n",
       "      <td>130.572510</td>\n",
       "      <td>155.319473</td>\n",
       "      <td>139.951599</td>\n",
       "      <td>135.191147</td>\n",
       "      <td>160.747726</td>\n",
       "      <td>0.0</td>\n",
       "      <td>...</td>\n",
       "      <td>0.0</td>\n",
       "      <td>0.0</td>\n",
       "      <td>0.0</td>\n",
       "      <td>0.0</td>\n",
       "      <td>0.0</td>\n",
       "      <td>0.0</td>\n",
       "      <td>0.0</td>\n",
       "      <td>0.0</td>\n",
       "      <td>0.0</td>\n",
       "      <td>0.0</td>\n",
       "    </tr>\n",
       "    <tr>\n",
       "      <th>10</th>\n",
       "      <td>141.284180</td>\n",
       "      <td>138.806152</td>\n",
       "      <td>165.655930</td>\n",
       "      <td>134.014893</td>\n",
       "      <td>130.572510</td>\n",
       "      <td>155.319473</td>\n",
       "      <td>139.951599</td>\n",
       "      <td>135.191147</td>\n",
       "      <td>160.747726</td>\n",
       "      <td>0.0</td>\n",
       "      <td>...</td>\n",
       "      <td>0.0</td>\n",
       "      <td>0.0</td>\n",
       "      <td>0.0</td>\n",
       "      <td>0.0</td>\n",
       "      <td>0.0</td>\n",
       "      <td>0.0</td>\n",
       "      <td>0.0</td>\n",
       "      <td>0.0</td>\n",
       "      <td>0.0</td>\n",
       "      <td>0.0</td>\n",
       "    </tr>\n",
       "  </tbody>\n",
       "</table>\n",
       "<p>11 rows × 21 columns</p>\n",
       "</div>"
      ],
      "text/plain": [
       "            0           1           2           3           4           5   \\\n",
       "0   100.000000  100.000000  120.707443  100.000000  100.000000  120.707443   \n",
       "1   139.648438  136.907959  163.187851  131.677246  128.009033  152.099930   \n",
       "2   141.296387  138.818359  165.670670  134.027100  130.584717  155.326843   \n",
       "3   141.284180  138.806152  165.655930  134.014893  130.572510  155.319473   \n",
       "4   141.284180  138.806152  165.655930  134.014893  130.572510  155.319473   \n",
       "5   141.284180  138.806152  165.655930  134.014893  130.572510  155.319473   \n",
       "6   141.284180  138.806152  165.655930  134.014893  130.572510  155.319473   \n",
       "7   141.284180  138.806152  165.655930  134.014893  130.572510  155.319473   \n",
       "8   141.284180  138.806152  165.655930  134.014893  130.572510  155.319473   \n",
       "9   141.284180  138.806152  165.655930  134.014893  130.572510  155.319473   \n",
       "10  141.284180  138.806152  165.655930  134.014893  130.572510  155.319473   \n",
       "\n",
       "            6           7           8    9   ...   11   12   13   14   15  \\\n",
       "0   116.934418  116.934418  141.148544  0.0  ...  0.0  0.0  0.0  0.0  0.0   \n",
       "1   136.904053  132.307755  157.353409  0.0  ...  0.0  0.0  0.0  0.0  0.0   \n",
       "2   139.951599  135.191147  160.747726  0.0  ...  0.0  0.0  0.0  0.0  0.0   \n",
       "3   139.951599  135.191147  160.747726  0.0  ...  0.0  0.0  0.0  0.0  0.0   \n",
       "4   139.951599  135.191147  160.747726  0.0  ...  0.0  0.0  0.0  0.0  0.0   \n",
       "5   139.951599  135.191147  160.747726  0.0  ...  0.0  0.0  0.0  0.0  0.0   \n",
       "6   139.951599  135.191147  160.747726  0.0  ...  0.0  0.0  0.0  0.0  0.0   \n",
       "7   139.951599  135.191147  160.747726  0.0  ...  0.0  0.0  0.0  0.0  0.0   \n",
       "8   139.951599  135.191147  160.747726  0.0  ...  0.0  0.0  0.0  0.0  0.0   \n",
       "9   139.951599  135.191147  160.747726  0.0  ...  0.0  0.0  0.0  0.0  0.0   \n",
       "10  139.951599  135.191147  160.747726  0.0  ...  0.0  0.0  0.0  0.0  0.0   \n",
       "\n",
       "     16   17   18   19   20  \n",
       "0   0.0  0.0  0.0  0.0  0.0  \n",
       "1   0.0  0.0  0.0  0.0  0.0  \n",
       "2   0.0  0.0  0.0  0.0  0.0  \n",
       "3   0.0  0.0  0.0  0.0  0.0  \n",
       "4   0.0  0.0  0.0  0.0  0.0  \n",
       "5   0.0  0.0  0.0  0.0  0.0  \n",
       "6   0.0  0.0  0.0  0.0  0.0  \n",
       "7   0.0  0.0  0.0  0.0  0.0  \n",
       "8   0.0  0.0  0.0  0.0  0.0  \n",
       "9   0.0  0.0  0.0  0.0  0.0  \n",
       "10  0.0  0.0  0.0  0.0  0.0  \n",
       "\n",
       "[11 rows x 21 columns]"
      ]
     },
     "execution_count": 58,
     "metadata": {},
     "output_type": "execute_result"
    }
   ],
   "source": [
    "ntimes, ncells = water_surface_elev_xr.shape\n",
    "\n",
    "# eventually we should include all of the following in xarray just pass the xarray to the function! \n",
    "# for now just working with todd's code \n",
    "\n",
    "cell_volumes = cw.compute_cell_volumes(\n",
    "    water_surface_elev_xr.values,\n",
    "    cells_surface_area_xr.values,\n",
    "    cells_volume_elevation_info_df['Starting Index'].values,\n",
    "    cells_volume_elevation_info_df['Count'].values,\n",
    "    cells_volume_elevation_values_df['Elevation'].values,\n",
    "    cells_volume_elevation_values_df['Volume'].values,\n",
    "    ntimes,\n",
    "    ncells)\n",
    "cell_volumes_df = pd.DataFrame(cell_volumes, columns = range(ncells))\n",
    "cell_volumes_df"
   ]
  },
  {
   "cell_type": "code",
   "execution_count": 61,
   "metadata": {},
   "outputs": [],
   "source": [
    "cell_volumes = cell_volumes_df.to_numpy()"
   ]
  },
  {
   "cell_type": "markdown",
   "metadata": {},
   "source": [
    "### Face Areas"
   ]
  },
  {
   "cell_type": "code",
   "execution_count": 85,
   "metadata": {},
   "outputs": [
    {
     "data": {
      "image/png": "[encoded data removed]",
      "text/plain": [
       "<Figure size 432x288 with 1 Axes>"
      ]
     },
     "metadata": {
      "needs_background": "light"
     },
     "output_type": "display_data"
    }
   ],
   "source": [
    "# Geometry: Cell Face Areas\n",
    "faces_area_elevation_info_df = cw.read_dataset_pandas(infile, f'Geometry/2D Flow Areas/{project_name}/Faces Area Elevation Info')\n",
    "faces_area_elevation_values_df = cw.read_dataset_pandas(infile, f'Geometry/2D Flow Areas/{project_name}/Faces Area Elevation Values')\n",
    "faces_area_elevation_values_df.plot()\n",
    "faces_normalunitvector_and_length_df = cw.read_dataset_pandas(infile, f'Geometry/2D Flow Areas/{project_name}/Faces NormalUnitVector and Length')\n",
    "faces_cell_indexes_df = cw.read_dataset_pandas(infile, f'Geometry/2D Flow Areas/{project_name}/Faces Cell Indexes')\n",
    "\n",
    "ntimes, ncells = water_surface_elev_xr.shape\n",
    "nfaces = faces_cell_indexes_df.shape[0]\n",
    "\n",
    "face_areas_0 = cw.compute_face_areas(\n",
    "    water_surface_elev_xr.values,\n",
    "    faces_normalunitvector_and_length_df['Face Length'].values,\n",
    "    faces_cell_indexes_df['Cell 0'].values,\n",
    "    faces_area_elevation_info_df['Starting Index'].values,\n",
    "    faces_area_elevation_info_df['Count'].values,\n",
    "    faces_area_elevation_values_df['Z'].values,\n",
    "    faces_area_elevation_values_df['Area'].values,\n",
    "    ntimes,\n",
    "    ncells,\n",
    "    nfaces)\n",
    "face_areas_0_df = pd.DataFrame(face_areas_0, columns = range(nfaces))"
   ]
  },
  {
   "cell_type": "code",
   "execution_count": 86,
   "metadata": {},
   "outputs": [],
   "source": [
    "face_areas = face_areas_0_df.to_numpy()"
   ]
  },
  {
   "cell_type": "markdown",
   "metadata": {},
   "source": [
    "### Cells Surface Area\n",
    "* Shape: (`NCELL`,)\n",
    "* Values: surface area of the cell/face. \n"
   ]
  },
  {
   "cell_type": "code",
   "execution_count": 62,
   "metadata": {},
   "outputs": [],
   "source": [
    "# src_path = os.path.join('..', 'src', 'riverine', 'ras2d')\n",
    "# sys.path.insert(0, src_path)\n",
    "# import RAS2D\n",
    "\n",
    "class RAS_HDF5:\n",
    "    '''\n",
    "    Read HEC-RAS 2D geometry and variables and return as a dictionary\n",
    "    '''\n",
    "\n",
    "    def __init__(self, hdf5_file_path: str, variables: list = []):\n",
    "\n",
    "        self.variables = {}\n",
    "        self.hdf5_file_path = hdf5_file_path\n",
    "        self.results = {}\n",
    "        self.geometry = {}\n",
    "\n",
    "\n",
    "\n",
    "    def read(self):\n",
    "        with h5py.File(self.hdf5_file_path, 'r') as infile:\n",
    "            '''\n",
    "            Read the Geometry data\n",
    "            '''\n",
    "\n",
    "            project_name = infile['Geometry/2D Flow Areas/Attributes'][()][0][0].decode('UTF-8')\n",
    "\n",
    "            # For the Muncie data set: max value: 5773, shape(5765, 7)\n",
    "            self.geometry['elements_array'] = infile[f'Geometry/2D Flow Areas/{project_name}/Cells FacePoint Indexes'][()]\n",
    "            # For the Muncie data set: shape(5774, 2)\n",
    "            self.geometry['nodes_array'] = infile[f'Geometry/2D Flow Areas/{project_name}/FacePoints Coordinate'][()]\n",
    "            self.geometry['faces_cell_indexes'] = infile[f'Geometry/2D Flow Areas/{project_name}/Faces Cell Indexes'][()]\n",
    "            self.geometry['cells_surface_area'] = infile[f'Geometry/2D Flow Areas/{project_name}/Cells Surface Area'][()]\n",
    "            self.geometry['faces_normal_unit_vector_and_length'] = infile[f'Geometry/2D Flow Areas/{project_name}/Faces NormalUnitVector and Length'][()]\n",
    "            self.geometry['cells_center_coordinate'] = infile[f'Geometry/2D Flow Areas/{project_name}/Cells Center Coordinate'][()]\n",
    "            # faces_area_elevation_values = infile['Geometry/2D Flow Areas/2D Interior Area/Faces Area Elevation Values'][()]\n",
    "\n",
    "            self.geometry['face_length'] = self.geometry['faces_normal_unit_vector_and_length'][:,2]\n",
    "            \n",
    "            self.geometry['face_facepoint_connectivity'] = infile[f'Geometry/2D Flow Areas/{project_name}/Faces FacePoint Indexes'][()]\n",
    "\n",
    "\n",
    "            '''\n",
    "            Read the Results data\n",
    "            '''\n",
    "            # self.results['depth'] = infile[f'Results/Unsteady/Output/Output Blocks/Base Output/Unsteady Time Series/2D Flow Areas/{project_name}/Depth'][()]\n",
    "\n",
    "            '''\n",
    "            NOTE:\n",
    "            The node velocities (Node X Vel and Node Y vel) are not automatically written to the HDF output file. \n",
    "            Have to opt into printing them to HDF: https://www.hec.usace.army.mil/software/hec-ras/documentation/HEC-RAS%205.0%202D%20Modeling%20Users%20Manual.pdf\n",
    "            How to handle? Try/except? Do we need them?\n",
    "            '''\n",
    "\n",
    "            # self.results['node_x_velocity'] = infile[f'Results/Unsteady/Output/Output Blocks/Base Output/Unsteady Time Series/2D Flow Areas/{project_name}/Node X Vel'][()]\n",
    "            # self.results['node_y_velocity'] = infile[f'Results/Unsteady/Output/Output Blocks/Base Output/Unsteady Time Series/2D Flow Areas/{project_name}/Node Y Vel'][()]\n",
    "            self.results['face_velocity'] = infile[f'Results/Unsteady/Output/Output Blocks/Base Output/Unsteady Time Series/2D Flow Areas/{project_name}/Face Velocity'][()]\n",
    "            # self.results['face_q'] = infile[f'Results/Unsteady/Output/Output Blocks/Base Output/Unsteady Time Series/2D Flow Areas/{project_name}/Face Q'][()]\n",
    "            # self.results['node_speed'] = np.sqrt(self.results['node_x_velocity']**2 + self.results['node_y_velocity']**2)\n",
    "            self.results['timestep'] = infile[f'Results/Unsteady/Output/Output Blocks/Base Output/Unsteady Time Series/2D Flow Areas/{project_name}/Time Step'][()]\n",
    "            \n",
    "            time_stamps_binary = infile['Results/Unsteady/Output/Output Blocks/Base Output/Unsteady Time Series/Time Date Stamp'][()]\n",
    "\n",
    "            # Read the specified variables, if any\n",
    "            for variable in self.variables:\n",
    "                data_path = f'Results/Unsteady/Output/Output Blocks/Base Output/Unsteady Time Series/2D Flow Areas/{project_name}/{variable}'\n",
    "                self.results['variable'] = infile[data_path]\n",
    "\n",
    "        # Convert from binary strings to utf8 strings\n",
    "        time_stamps = [x.decode(\"utf8\") for x in time_stamps_binary]\n",
    "        self.results['dates'] = [datetime.datetime.strptime(x, '%d%b%Y %H:%M:%S') for x in time_stamps] # '02JAN1900 22:55:00'\n",
    "\n",
    "        # Convert all lists to numpy arrays\n",
    "        for key, value in self.geometry.items():\n",
    "            self.geometry[key] = np.array(value)\n",
    "        for key, value in self.results.items():\n",
    "            self.results[key] = np.array(value)"
   ]
  },
  {
   "cell_type": "code",
   "execution_count": 63,
   "metadata": {},
   "outputs": [
    {
     "name": "stdout",
     "output_type": "stream",
     "text": [
      "CPU times: total: 15.6 ms\n",
      "Wall time: 12.5 ms\n"
     ]
    }
   ],
   "source": [
    "%%time\n",
    "ras2d_data = RAS_HDF5(fpath, variables=[])\n",
    "ras2d_data.read()"
   ]
  },
  {
   "cell_type": "markdown",
   "metadata": {},
   "source": [
    "## Explore Geometry\n",
    "\n",
    "* `NCELL`: number of cells (`NPSEUDO + NREAL`) **(here, 21)**\n",
    "* `NPSEUDO` : number of pseudo cells **(here, 12)**\n",
    "* `NREAL`: number of actual cells **(here, 9)**\n",
    "* `NEDGE`: number of edges **(here, 24)**\n",
    "* `NFACEPOINT`: number of facepoints **(here, 16)**\n",
    "* `MAX_SIZE`: max number of facepoints that make up a cell/face **(here, 4)**\n",
    "\n",
    "\n",
    "### Facepoint Locations\n",
    "* Shape: (`NFACEPOINT`, 2)\n",
    "* Values: Northings and Eastings of facepoints (nodes)"
   ]
  },
  {
   "cell_type": "code",
   "execution_count": 40,
   "metadata": {},
   "outputs": [
    {
     "data": {
      "text/plain": [
       "(16, 2)"
      ]
     },
     "execution_count": 40,
     "metadata": {},
     "output_type": "execute_result"
    }
   ],
   "source": [
    "print(ras2d_data.geometry['nodes_array'].shape)"
   ]
  },
  {
   "cell_type": "code",
   "execution_count": 44,
   "metadata": {},
   "outputs": [
    {
     "data": {
      "text/plain": [
       "Text(0.5, 1.0, 'Facepoints')"
      ]
     },
     "execution_count": 44,
     "metadata": {},
     "output_type": "execute_result"
    },
    {
     "data": {
      "image/png": "[encoded data removed]",
      "text/plain": [
       "<Figure size 432x288 with 1 Axes>"
      ]
     },
     "metadata": {
      "needs_background": "light"
     },
     "output_type": "display_data"
    }
   ],
   "source": [
    "import matplotlib.pyplot as plt \n",
    "\n",
    "fig, ax = plt.subplots()\n",
    "\n",
    "x = ras2d_data.geometry['nodes_array'].T[0]\n",
    "y = ras2d_data.geometry['nodes_array'].T[1]\n",
    "\n",
    "ax.scatter(x,y)\n",
    "\n",
    "for i, txt in enumerate(x):\n",
    "    ax.annotate(i, (x[i], y[i]))\n",
    "ax.set_title(\"Facepoints\")"
   ]
  },
  {
   "cell_type": "markdown",
   "metadata": {},
   "source": [
    "### Elements Array\n",
    "This provides the facepoint indices that make up each \"cell\" or \"face.\"\n",
    "\n",
    "* Shape: (`NCELL`, `MAX_SIZE`). \n",
    "* Values: -1 if none (indicates a cell smaller than `MAX_SIZE`) OR the indices of the facepoints making up a given cell/face.\n",
    "    * Zero-indexed.\n",
    "\n",
    "\n",
    "In general the shape will be (TOTAL CELLS (pseudo + real), MAX NUMBER OF FACES)"
   ]
  },
  {
   "cell_type": "code",
   "execution_count": 42,
   "metadata": {},
   "outputs": [
    {
     "name": "stdout",
     "output_type": "stream",
     "text": [
      "(21, 4)\n",
      "-1\n",
      "15\n"
     ]
    }
   ],
   "source": [
    "print(ras2d_data.geometry['elements_array'].shape)\n",
    "print(ras2d_data.geometry['elements_array'].min())\n",
    "print(ras2d_data.geometry['elements_array'].max())\n"
   ]
  },
  {
   "cell_type": "markdown",
   "metadata": {},
   "source": [
    "### Faces Cell Indexes\n",
    "\n",
    "* Shape: (`NEDGE`, 2)\n",
    "* Values: Cell/face index values on either side of a given edge \n",
    "    * Zero indexed. "
   ]
  },
  {
   "cell_type": "code",
   "execution_count": 39,
   "metadata": {},
   "outputs": [
    {
     "name": "stdout",
     "output_type": "stream",
     "text": [
      "(24, 2)\n",
      "0\n",
      "20\n"
     ]
    }
   ],
   "source": [
    "print(ras2d_data.geometry['faces_cell_indexes'].shape)\n",
    "\n",
    "print(ras2d_data.geometry['faces_cell_indexes'].min())\n",
    "print(ras2d_data.geometry['faces_cell_indexes'].max())\n"
   ]
  },
  {
   "cell_type": "markdown",
   "metadata": {},
   "source": [
    "### Cells Surface Area\n",
    "* Shape: (`NCELL`,)\n",
    "* Values: surface area of the cell/face. \n"
   ]
  },
  {
   "cell_type": "code",
   "execution_count": 43,
   "metadata": {},
   "outputs": [
    {
     "name": "stdout",
     "output_type": "stream",
     "text": [
      "(21,)\n",
      "[100.      100.      120.70744 100.      100.      120.70744 116.93442\n",
      " 116.93442 141.14854   0.        0.        0.        0.        0.\n",
      "   0.        0.        0.        0.        0.        0.        0.     ]\n"
     ]
    }
   ],
   "source": [
    "print(ras2d_data.geometry['cells_surface_area'].shape)\n",
    "print(ras2d_data.geometry['cells_surface_area'])\n"
   ]
  },
  {
   "cell_type": "markdown",
   "metadata": {},
   "source": [
    "### Cells Center Coordinate"
   ]
  },
  {
   "cell_type": "code",
   "execution_count": 46,
   "metadata": {},
   "outputs": [
    {
     "data": {
      "text/plain": [
       "Text(0.5, 1.0, 'Facepoints and Face Centers')"
      ]
     },
     "execution_count": 46,
     "metadata": {},
     "output_type": "execute_result"
    },
    {
     "data": {
      "image/png": "[encoded data removed]",
      "text/plain": [
       "<Figure size 432x288 with 1 Axes>"
      ]
     },
     "metadata": {
      "needs_background": "light"
     },
     "output_type": "display_data"
    }
   ],
   "source": [
    "import matplotlib.pyplot as plt \n",
    "\n",
    "fig, ax = plt.subplots()\n",
    "\n",
    "x = ras2d_data.geometry['nodes_array'].T[0]\n",
    "y = ras2d_data.geometry['nodes_array'].T[1]\n",
    "\n",
    "ax.scatter(x,y, color='grey')\n",
    "\n",
    "for i, txt in enumerate(x):\n",
    "    ax.annotate(i, (x[i], y[i]))\n",
    "ax.set_title(\"Face Centers (Cell Centers)\")\n",
    "\n",
    "x1 = ras2d_data.geometry['cells_center_coordinate'].T[0]\n",
    "y1 = ras2d_data.geometry['cells_center_coordinate'].T[1]\n",
    "\n",
    "ax.scatter(x1,y1, color='black')\n",
    "\n",
    "for i, txt in enumerate(x1):\n",
    "    ax.annotate(i, (x1[i], y1[i]))\n",
    "ax.set_title(\"Facepoints and Face Centers\")\n"
   ]
  },
  {
   "cell_type": "markdown",
   "metadata": {},
   "source": [
    "# Save to Xarray"
   ]
  },
  {
   "cell_type": "code",
   "execution_count": 68,
   "metadata": {},
   "outputs": [],
   "source": [
    "out = xr.Dataset()\n",
    "\n",
    "out[\"mesh2d\"] = xr.DataArray(\n",
    "    data=0,\n",
    "    attrs={\n",
    "        # required topology attributes\n",
    "        'cf_role': 'mesh_topology',\n",
    "        'long_name': 'Topology data of 2D mesh',\n",
    "        'topology_dimension': 2,\n",
    "        'node_coordinates': 'node_x node_y',\n",
    "        'face_node_connectivity': 'face_nodes',\n",
    "        # optionally required attributes\n",
    "        'face_dimension': 'face',\n",
    "        'edge_node_connectivity': 'edge_nodes',\n",
    "        'edge_dimension': 'edge',\n",
    "        # optional attributes \n",
    "        'face_edge_connectivity': 'face_edges',\n",
    "        'face_face_connectivity': 'face_face_connectivity',\n",
    "        'edge_face_connectivity': 'edge_face_connectivity',\n",
    "        'boundary_node_connectivity': 'boundary_node_connectivity',\n",
    "        'face_coordinates': 'face x face_y',\n",
    "        'edge_coordinates': 'edge_x edge_y',\n",
    "    }\n",
    ")"
   ]
  },
  {
   "cell_type": "code",
   "execution_count": 69,
   "metadata": {},
   "outputs": [],
   "source": [
    "out = out.assign_coords(\n",
    "    node_x=xr.DataArray(\n",
    "        data=[f[0] for f in ras2d_data.geometry['nodes_array']],\n",
    "        dims=(\"node\",),\n",
    "    )\n",
    ")\n",
    "\n",
    "\n",
    "out = out.assign_coords(\n",
    "    node_y=xr.DataArray(\n",
    "        data=[f[1] for f in ras2d_data.geometry['nodes_array']],\n",
    "        dims=(\"node\",),\n",
    "    )\n",
    ")\n",
    "\n",
    "out = out.assign_coords(\n",
    "    time=xr.DataArray(\n",
    "        data=ras2d_data.results['dates'],\n",
    "        dims=(\"time\",),\n",
    "            )\n",
    "        )\n"
   ]
  },
  {
   "cell_type": "code",
   "execution_count": 70,
   "metadata": {},
   "outputs": [],
   "source": [
    "out[\"face_nodes\"] = xr.DataArray(\n",
    "    data=ras2d_data.geometry['elements_array'],\n",
    "    coords={\n",
    "        \"face_x\": (\"nface\", [f[0] for f in ras2d_data.geometry['cells_center_coordinate']]),\n",
    "        \"face_y\": (\"nface\", [f[1] for f in ras2d_data.geometry['cells_center_coordinate']]),\n",
    "    },\n",
    "    dims=(\"nface\", \"nmax_face\"),\n",
    "    attrs={\n",
    "        'cf_role': 'face_node_connectivity',\n",
    "        'long_name': 'Vertex nodes of mesh faces (counterclockwise)',\n",
    "        'start_index': 0, \n",
    "        '_FillValue': -1\n",
    "    })"
   ]
  },
  {
   "cell_type": "code",
   "execution_count": 71,
   "metadata": {},
   "outputs": [],
   "source": [
    "out[\"edge_nodes\"] = xr.DataArray(\n",
    "    data=ras2d_data.geometry['face_facepoint_connectivity'],\n",
    "    dims=(\"nedge\", '2'),\n",
    "    attrs={\n",
    "        'cf_role': 'edge_node_connectivity',\n",
    "        'long_name': 'Vertex nodes of mesh edges',\n",
    "        'start_index': 0\n",
    "    })"
   ]
  },
  {
   "cell_type": "code",
   "execution_count": 72,
   "metadata": {},
   "outputs": [],
   "source": [
    "out[\"edge_face_connectivity\"] = xr.DataArray(\n",
    "    data=ras2d_data.geometry['faces_cell_indexes'],\n",
    "    dims=(\"nedge\", '2'),\n",
    "    attrs={\n",
    "        'cf_role': 'edge_face_connectivity',\n",
    "        'long_name': 'neighbor faces for edges',\n",
    "        'start_index': 0\n",
    "    })"
   ]
  },
  {
   "cell_type": "code",
   "execution_count": 97,
   "metadata": {},
   "outputs": [],
   "source": [
    "out[\"dt\"] = xr.DataArray(\n",
    "    data=ras2d_data.results['timestep'],\n",
    "    dims=(\"time\"),\n",
    "    attrs={\n",
    "        'units':'seconds' # will need to update units based on prj file\n",
    "    })\n",
    "\n",
    "out[\"volume\"] = xr.DataArray(\n",
    "    data=cell_volumes,\n",
    "    dims=(\"time\", 'nface'),\n",
    "    attrs={\n",
    "        'units':'feet' # will need to update units based on prj file\n",
    "    })\n",
    "\n",
    "out[\"faces_surface_area\"] = xr.DataArray(\n",
    "    data = ras2d_data.geometry['cells_surface_area'],\n",
    "    dims = (\"nface\"), \n",
    "    attrs={\n",
    "        'units': 'square feet' # will need to update units based on prj file\n",
    "})\n",
    "\n",
    "out[\"edge_length\"] = xr.DataArray(\n",
    "    data = ras2d_data.geometry['face_length'],\n",
    "    dims = (\"nedge\"), \n",
    "    attrs={\n",
    "        'units': 'feet' # will need to update units based on prj file\n",
    "})\n",
    "\n",
    "\n",
    "out[\"edge_velocity\"] = xr.DataArray(\n",
    "    data=ras2d_data.results['face_velocity'],\n",
    "    dims=(\"time\", 'nedge'),\n",
    "    attrs={\n",
    "        'units':'feet per second' # will need to update units based on prj file\n",
    "    })\n",
    "\n",
    "out[\"edge_vertical_area\"] = xr.DataArray(\n",
    "    data=face_areas_0,\n",
    "    dims=(\"time\", 'nedge'),\n",
    "    attrs={\n",
    "        'units':'feet per second' # will need to update units based on prj file\n",
    "    })"
   ]
  },
  {
   "cell_type": "code",
   "execution_count": 98,
   "metadata": {},
   "outputs": [
    {
     "data": {
      "image/png": "[encoded data removed]",
      "text/plain": [
       "<Figure size 432x288 with 1 Axes>"
      ]
     },
     "metadata": {
      "needs_background": "light"
     },
     "output_type": "display_data"
    }
   ],
   "source": [
    "# plot volume over time for each cell\n",
    "for f in out['nface']:\n",
    "    # print(ds_zarr['volume'].compute().T.shape)\n",
    "    plt.plot(out['time'], out['volume'].T[:][f])\n",
    "\n",
    "plt.show()"
   ]
  },
  {
   "cell_type": "code",
   "execution_count": 99,
   "metadata": {},
   "outputs": [],
   "source": [
    "# ultimately transition this to xarray attributes?\n",
    "class Params:\n",
    "    def __init__(self):\n",
    "        self.diffusion_coefficient = 0.1\n",
    "        self.beta = 1\n",
    "\n",
    "params = Params() \n",
    "    "
   ]
  },
  {
   "cell_type": "code",
   "execution_count": 103,
   "metadata": {},
   "outputs": [],
   "source": [
    "f1 = out['edge_face_connectivity'].T[0]\n",
    "f2 = out['edge_face_connectivity'].T[1]\n",
    "\n",
    "x1_coords = out['face_x'][f1]\n",
    "y1_coords = out['face_y'][f1]\n",
    "x2_coords = out['face_x'][f2]\n",
    "y2_coords = out['face_y'][f2]\n",
    "\n",
    "dist_data = np.sqrt((x1_coords - x2_coords)**2 + (y1_coords - y2_coords)**2)\n",
    "out[\"face_to_face_dist\"] = xr.DataArray(\n",
    "    data = dist_data,\n",
    "    dims = (\"nedge\"), \n",
    "    attrs={\n",
    "        'units': 'feet' # will need to update units based on prj file\n",
    "})\n",
    "\n",
    "\n",
    "diffusion_array = np.zeros((len(out['time']), len(out['nedge'])))\n",
    "for t in range(len(out['time'])):\n",
    "    # average depth across adjacent cells \n",
    "    # avg_depth = 0.5 * (out['depth'][t][f1] + out['depth'][t][f2]) \n",
    "\n",
    "    edge_vertical_area = out['vertical_face_area'][t] \n",
    "\n",
    "    # diffusion\n",
    "    diffusion = edge_vertical_area * params.diffusion_coefficient / out['face_to_face_dist']\n",
    "    diffusion_array[t] = diffusion\n",
    "\n",
    "\n",
    "out[\"diffusion_coeff\"] = xr.DataArray(\n",
    "    data = diffusion_array,\n",
    "    dims = (\"time\", \"nedge\"), \n",
    "    attrs={\n",
    "        'units': 'feet' # will need to update units based on prj file\n",
    "})\n",
    "\n",
    "def sum_vals(face, time_index, sum_array):\n",
    "    '''\n",
    "    https://stackoverflow.com/questions/67108215/how-to-get-sum-of-values-in-a-numpy-array-based-on-another-array-with-repetitive\n",
    "    '''\n",
    "    _, idx, _ = np.unique(face, return_counts=True, return_inverse=True)\n",
    "    nodal_values = np.bincount(idx, out['diffusion_coeff'][time_index])\n",
    "    sum_array[0:len(np.unique(face))] = nodal_values\n",
    "    return sum_array\n",
    "\n",
    "\n",
    "# initialize array\n",
    "sum_diffusion_array = np.zeros((len(out['time']), len(out['nface'])))\n",
    "\n",
    "# FACE 1 \n",
    "for t in range(len(out['time'])):\n",
    "    f1_sums = np.zeros(len(out['nface'])) \n",
    "    f2_sums = np.zeros(len(out['nface']))\n",
    "\n",
    "    f1_sums = sum_vals(f1, t, f1_sums)\n",
    "    f2_sums = sum_vals(f2, t, f2_sums)\n",
    "\n",
    "    sum_diffusion_array[t] = f1_sums + f2_sums\n",
    "\n",
    "out[\"sum_diffusion_coeff\"] = xr.DataArray(\n",
    "    data = sum_diffusion_array,\n",
    "    dims = (\"time\", \"nface\"), \n",
    "    attrs={\n",
    "        'units': 'feet' # will need to update units based on prj file\n",
    "})\n",
    "\n",
    "# face normal water flow\n",
    "edge_normal_water_flow = np.zeros((len(out['time']), len(out['nedge'])))\n",
    "\n",
    "for t in range(len(out['time'])):\n",
    "    # edge area \n",
    "    # avg_depth =  0.5 * (out['volume'][t][f1]/ out['faces_surface_area'][f1] + out['volume'][t][f2]/ out['faces_surface_area'][f2]) # 0.5 * (out['depth'][t][f1] + out['depth'][t][f2]) \n",
    "    # edge_vertical_area = out['edge_length'] * avg_depth\n",
    "\n",
    "    # time - how do we handle this?\n",
    "    # dt = out['time'][t+1] - out['time'][t] \n",
    "    # seconds = dt / np.timedelta64(1, 's')\n",
    "    \n",
    "    edge_normal_water_flow[t] = out['edge_vertical_area'][t] * out['edge_velocity'][t] * out['dt'][t] # L2 * L/T * T = L3\n",
    "\n",
    "out[\"advection_coeff\"] = xr.DataArray(\n",
    "    data = edge_normal_water_flow,\n",
    "    dims = (\"time\", \"nedge\"), \n",
    "    attrs={\n",
    "        'units': 'cubic feet' # will need to update units based on prj file\n",
    "})"
   ]
  },
  {
   "cell_type": "markdown",
   "metadata": {},
   "source": [
    "### Cells Surface Area\n",
    "* Shape: (`NCELL`,)\n",
    "* Values: surface area of the cell/face. \n"
   ]
  },
  {
   "cell_type": "code",
   "execution_count": 104,
   "metadata": {},
   "outputs": [
    {
     "data": {
      "text/plain": [
       "<xarray.backends.zarr.ZarrStore at 0x1f5152c0900>"
      ]
     },
     "execution_count": 104,
     "metadata": {},
     "output_type": "execute_result"
    }
   ],
   "source": [
    "\n",
    "# Save to Zarr\n",
    "out.to_zarr('box-example.zarr',\n",
    "           mode='w',\n",
    "           consolidated=True,  # http://xarray.pydata.org/en/stable/user-guide/io.html#consolidated-metadata\n",
    "          )"
   ]
  },
  {
   "cell_type": "code",
   "execution_count": null,
   "metadata": {},
   "outputs": [],
   "source": []
  }
 ],
 "metadata": {
  "kernelspec": {
   "display_name": "Python 3.9.13 ('ras2d_wq')",
   "language": "python",
   "name": "python3"
  },
  "language_info": {
   "codemirror_mode": {
    "name": "ipython",
    "version": 3
   },
   "file_extension": ".py",
   "mimetype": "text/x-python",
   "name": "python",
   "nbconvert_exporter": "python",
   "pygments_lexer": "ipython3",
   "version": "3.9.13"
  },
  "orig_nbformat": 4,
  "vscode": {
   "interpreter": {
    "hash": "d3bc885d7ab0c0c38d99a4317f3c6d4e3a047e25556b25c1c90fb7abbfef4bee"
   }
  }
 },
 "nbformat": 4,
 "nbformat_minor": 2
}
