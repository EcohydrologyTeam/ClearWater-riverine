{
 "cells": [
  {
   "cell_type": "markdown",
   "metadata": {},
   "source": [
    "# Box Model \n",
    "\n",
    "<img src=\"../tests/input_files/Box-Model/figure.png\" width=\"600\">"
   ]
  },
  {
   "cell_type": "code",
   "execution_count": 1,
   "metadata": {},
   "outputs": [],
   "source": [
    "import pandas as pd\n",
    "import numpy as np\n",
    "import h5py\n",
    "import xarray as xr\n",
    "import os\n",
    "import sys\n",
    "import datetime\n",
    "\n",
    "import clearwater_riverine_functions as cw"
   ]
  },
  {
   "cell_type": "code",
   "execution_count": 2,
   "metadata": {},
   "outputs": [
    {
     "name": "stdout",
     "output_type": "stream",
     "text": [
      "['.virtual_documents', 'advection_diffusion.ipynb', 'box-example.zarr', 'Box-Model.ipynb', 'clearwater_riverine_functions.py', 'compute_cell_volume_and_face_area.ipynb', 'compute_distances_between_cell_centers.ipynb', 'error_exploration.ipynb', 'File_Conversion.ipynb', 'HDF_Exploration.ipynb', 'HDF_Plotting.ipynb', 'model', 'RAS_HDF_to_xarray_examples.ipynb', 'Sparse_Matrix_Framework.ipynb', 'ugrid-example.nc', 'ugrid-example.zarr', '__pycache__']\n"
     ]
    }
   ],
   "source": [
    "print(os.listdir())\n",
    "fpath = '../tests/input_files/Box-Model/BoxModel.p01.hdf'\n",
    "\n",
    "h5py_file = h5py.File(fpath,\n",
    "                      mode='r',  # Readonly, file must exist (default)\n",
    "                     )"
   ]
  },
  {
   "cell_type": "code",
   "execution_count": 3,
   "metadata": {},
   "outputs": [],
   "source": [
    "def get_project_name(inp_file):\n",
    "    return inp_file['Geometry/2D Flow Areas/Attributes'][()][0][0].decode('UTF-8')"
   ]
  },
  {
   "cell_type": "code",
   "execution_count": 4,
   "metadata": {},
   "outputs": [
    {
     "name": "stdout",
     "output_type": "stream",
     "text": [
      "Box\n"
     ]
    }
   ],
   "source": [
    "project_name = get_project_name(h5py_file)\n",
    "print(project_name)\n",
    "h5py_file.close()"
   ]
  },
  {
   "cell_type": "markdown",
   "metadata": {},
   "source": [
    "### Volume"
   ]
  },
  {
   "cell_type": "code",
   "execution_count": 5,
   "metadata": {},
   "outputs": [],
   "source": [
    "# get volume\n",
    "# HEC-RAS input file\n",
    "infile = fpath\n",
    "\n",
    "# Results time series: Water Surface Elevation\n",
    "water_surface_elev_xr = cw.read_dataset_xarray(infile, f'Results/Unsteady/Output/Output Blocks/Base Output/Unsteady Time Series/2D Flow Areas/{project_name}/Water Surface', dims = ['Time', 'Cells'])\n",
    "\n",
    "# Geometry: Cell Volumes\n",
    "cells_volume_elevation_info_df = cw.read_dataset_pandas(infile, f'Geometry/2D Flow Areas/{project_name}/Cells Volume Elevation Info')\n",
    "cells_volume_elevation_values_df = cw.read_dataset_pandas(infile, f'Geometry/2D Flow Areas/{project_name}/Cells Volume Elevation Values')\n",
    "\n",
    "# Geometry: Cell Surface Area\n",
    "cells_surface_area_xr = cw.read_dataset_xarray(infile, f'Geometry/2D Flow Areas/{project_name}/Cells Surface Area', dims = ['Rows'])\n"
   ]
  },
  {
   "cell_type": "code",
   "execution_count": 6,
   "metadata": {},
   "outputs": [
    {
     "data": {
      "text/html": [
       "<div>\n",
       "<style scoped>\n",
       "    .dataframe tbody tr th:only-of-type {\n",
       "        vertical-align: middle;\n",
       "    }\n",
       "\n",
       "    .dataframe tbody tr th {\n",
       "        vertical-align: top;\n",
       "    }\n",
       "\n",
       "    .dataframe thead th {\n",
       "        text-align: right;\n",
       "    }\n",
       "</style>\n",
       "<table border=\"1\" class=\"dataframe\">\n",
       "  <thead>\n",
       "    <tr style=\"text-align: right;\">\n",
       "      <th></th>\n",
       "      <th>0</th>\n",
       "      <th>1</th>\n",
       "      <th>2</th>\n",
       "      <th>3</th>\n",
       "      <th>4</th>\n",
       "      <th>5</th>\n",
       "      <th>6</th>\n",
       "      <th>7</th>\n",
       "      <th>8</th>\n",
       "      <th>9</th>\n",
       "      <th>...</th>\n",
       "      <th>11</th>\n",
       "      <th>12</th>\n",
       "      <th>13</th>\n",
       "      <th>14</th>\n",
       "      <th>15</th>\n",
       "      <th>16</th>\n",
       "      <th>17</th>\n",
       "      <th>18</th>\n",
       "      <th>19</th>\n",
       "      <th>20</th>\n",
       "    </tr>\n",
       "  </thead>\n",
       "  <tbody>\n",
       "    <tr>\n",
       "      <th>0</th>\n",
       "      <td>100.000000</td>\n",
       "      <td>100.000000</td>\n",
       "      <td>120.707443</td>\n",
       "      <td>100.000000</td>\n",
       "      <td>100.000000</td>\n",
       "      <td>120.707443</td>\n",
       "      <td>116.934418</td>\n",
       "      <td>116.934418</td>\n",
       "      <td>141.148544</td>\n",
       "      <td>0.0</td>\n",
       "      <td>...</td>\n",
       "      <td>0.0</td>\n",
       "      <td>0.0</td>\n",
       "      <td>0.0</td>\n",
       "      <td>0.0</td>\n",
       "      <td>0.0</td>\n",
       "      <td>0.0</td>\n",
       "      <td>0.0</td>\n",
       "      <td>0.0</td>\n",
       "      <td>0.0</td>\n",
       "      <td>0.0</td>\n",
       "    </tr>\n",
       "    <tr>\n",
       "      <th>1</th>\n",
       "      <td>139.648438</td>\n",
       "      <td>136.907959</td>\n",
       "      <td>163.187851</td>\n",
       "      <td>131.677246</td>\n",
       "      <td>128.009033</td>\n",
       "      <td>152.099930</td>\n",
       "      <td>136.904053</td>\n",
       "      <td>132.307755</td>\n",
       "      <td>157.353409</td>\n",
       "      <td>0.0</td>\n",
       "      <td>...</td>\n",
       "      <td>0.0</td>\n",
       "      <td>0.0</td>\n",
       "      <td>0.0</td>\n",
       "      <td>0.0</td>\n",
       "      <td>0.0</td>\n",
       "      <td>0.0</td>\n",
       "      <td>0.0</td>\n",
       "      <td>0.0</td>\n",
       "      <td>0.0</td>\n",
       "      <td>0.0</td>\n",
       "    </tr>\n",
       "    <tr>\n",
       "      <th>2</th>\n",
       "      <td>141.296387</td>\n",
       "      <td>138.818359</td>\n",
       "      <td>165.670670</td>\n",
       "      <td>134.027100</td>\n",
       "      <td>130.584717</td>\n",
       "      <td>155.326843</td>\n",
       "      <td>139.951599</td>\n",
       "      <td>135.191147</td>\n",
       "      <td>160.747726</td>\n",
       "      <td>0.0</td>\n",
       "      <td>...</td>\n",
       "      <td>0.0</td>\n",
       "      <td>0.0</td>\n",
       "      <td>0.0</td>\n",
       "      <td>0.0</td>\n",
       "      <td>0.0</td>\n",
       "      <td>0.0</td>\n",
       "      <td>0.0</td>\n",
       "      <td>0.0</td>\n",
       "      <td>0.0</td>\n",
       "      <td>0.0</td>\n",
       "    </tr>\n",
       "    <tr>\n",
       "      <th>3</th>\n",
       "      <td>141.284180</td>\n",
       "      <td>138.806152</td>\n",
       "      <td>165.655930</td>\n",
       "      <td>134.014893</td>\n",
       "      <td>130.572510</td>\n",
       "      <td>155.319473</td>\n",
       "      <td>139.951599</td>\n",
       "      <td>135.191147</td>\n",
       "      <td>160.747726</td>\n",
       "      <td>0.0</td>\n",
       "      <td>...</td>\n",
       "      <td>0.0</td>\n",
       "      <td>0.0</td>\n",
       "      <td>0.0</td>\n",
       "      <td>0.0</td>\n",
       "      <td>0.0</td>\n",
       "      <td>0.0</td>\n",
       "      <td>0.0</td>\n",
       "      <td>0.0</td>\n",
       "      <td>0.0</td>\n",
       "      <td>0.0</td>\n",
       "    </tr>\n",
       "    <tr>\n",
       "      <th>4</th>\n",
       "      <td>141.284180</td>\n",
       "      <td>138.806152</td>\n",
       "      <td>165.655930</td>\n",
       "      <td>134.014893</td>\n",
       "      <td>130.572510</td>\n",
       "      <td>155.319473</td>\n",
       "      <td>139.951599</td>\n",
       "      <td>135.191147</td>\n",
       "      <td>160.747726</td>\n",
       "      <td>0.0</td>\n",
       "      <td>...</td>\n",
       "      <td>0.0</td>\n",
       "      <td>0.0</td>\n",
       "      <td>0.0</td>\n",
       "      <td>0.0</td>\n",
       "      <td>0.0</td>\n",
       "      <td>0.0</td>\n",
       "      <td>0.0</td>\n",
       "      <td>0.0</td>\n",
       "      <td>0.0</td>\n",
       "      <td>0.0</td>\n",
       "    </tr>\n",
       "    <tr>\n",
       "      <th>5</th>\n",
       "      <td>141.284180</td>\n",
       "      <td>138.806152</td>\n",
       "      <td>165.655930</td>\n",
       "      <td>134.014893</td>\n",
       "      <td>130.572510</td>\n",
       "      <td>155.319473</td>\n",
       "      <td>139.951599</td>\n",
       "      <td>135.191147</td>\n",
       "      <td>160.747726</td>\n",
       "      <td>0.0</td>\n",
       "      <td>...</td>\n",
       "      <td>0.0</td>\n",
       "      <td>0.0</td>\n",
       "      <td>0.0</td>\n",
       "      <td>0.0</td>\n",
       "      <td>0.0</td>\n",
       "      <td>0.0</td>\n",
       "      <td>0.0</td>\n",
       "      <td>0.0</td>\n",
       "      <td>0.0</td>\n",
       "      <td>0.0</td>\n",
       "    </tr>\n",
       "    <tr>\n",
       "      <th>6</th>\n",
       "      <td>141.284180</td>\n",
       "      <td>138.806152</td>\n",
       "      <td>165.655930</td>\n",
       "      <td>134.014893</td>\n",
       "      <td>130.572510</td>\n",
       "      <td>155.319473</td>\n",
       "      <td>139.951599</td>\n",
       "      <td>135.191147</td>\n",
       "      <td>160.747726</td>\n",
       "      <td>0.0</td>\n",
       "      <td>...</td>\n",
       "      <td>0.0</td>\n",
       "      <td>0.0</td>\n",
       "      <td>0.0</td>\n",
       "      <td>0.0</td>\n",
       "      <td>0.0</td>\n",
       "      <td>0.0</td>\n",
       "      <td>0.0</td>\n",
       "      <td>0.0</td>\n",
       "      <td>0.0</td>\n",
       "      <td>0.0</td>\n",
       "    </tr>\n",
       "    <tr>\n",
       "      <th>7</th>\n",
       "      <td>141.284180</td>\n",
       "      <td>138.806152</td>\n",
       "      <td>165.655930</td>\n",
       "      <td>134.014893</td>\n",
       "      <td>130.572510</td>\n",
       "      <td>155.319473</td>\n",
       "      <td>139.951599</td>\n",
       "      <td>135.191147</td>\n",
       "      <td>160.747726</td>\n",
       "      <td>0.0</td>\n",
       "      <td>...</td>\n",
       "      <td>0.0</td>\n",
       "      <td>0.0</td>\n",
       "      <td>0.0</td>\n",
       "      <td>0.0</td>\n",
       "      <td>0.0</td>\n",
       "      <td>0.0</td>\n",
       "      <td>0.0</td>\n",
       "      <td>0.0</td>\n",
       "      <td>0.0</td>\n",
       "      <td>0.0</td>\n",
       "    </tr>\n",
       "    <tr>\n",
       "      <th>8</th>\n",
       "      <td>141.284180</td>\n",
       "      <td>138.806152</td>\n",
       "      <td>165.655930</td>\n",
       "      <td>134.014893</td>\n",
       "      <td>130.572510</td>\n",
       "      <td>155.319473</td>\n",
       "      <td>139.951599</td>\n",
       "      <td>135.191147</td>\n",
       "      <td>160.747726</td>\n",
       "      <td>0.0</td>\n",
       "      <td>...</td>\n",
       "      <td>0.0</td>\n",
       "      <td>0.0</td>\n",
       "      <td>0.0</td>\n",
       "      <td>0.0</td>\n",
       "      <td>0.0</td>\n",
       "      <td>0.0</td>\n",
       "      <td>0.0</td>\n",
       "      <td>0.0</td>\n",
       "      <td>0.0</td>\n",
       "      <td>0.0</td>\n",
       "    </tr>\n",
       "    <tr>\n",
       "      <th>9</th>\n",
       "      <td>141.284180</td>\n",
       "      <td>138.806152</td>\n",
       "      <td>165.655930</td>\n",
       "      <td>134.014893</td>\n",
       "      <td>130.572510</td>\n",
       "      <td>155.319473</td>\n",
       "      <td>139.951599</td>\n",
       "      <td>135.191147</td>\n",
       "      <td>160.747726</td>\n",
       "      <td>0.0</td>\n",
       "      <td>...</td>\n",
       "      <td>0.0</td>\n",
       "      <td>0.0</td>\n",
       "      <td>0.0</td>\n",
       "      <td>0.0</td>\n",
       "      <td>0.0</td>\n",
       "      <td>0.0</td>\n",
       "      <td>0.0</td>\n",
       "      <td>0.0</td>\n",
       "      <td>0.0</td>\n",
       "      <td>0.0</td>\n",
       "    </tr>\n",
       "    <tr>\n",
       "      <th>10</th>\n",
       "      <td>141.284180</td>\n",
       "      <td>138.806152</td>\n",
       "      <td>165.655930</td>\n",
       "      <td>134.014893</td>\n",
       "      <td>130.572510</td>\n",
       "      <td>155.319473</td>\n",
       "      <td>139.951599</td>\n",
       "      <td>135.191147</td>\n",
       "      <td>160.747726</td>\n",
       "      <td>0.0</td>\n",
       "      <td>...</td>\n",
       "      <td>0.0</td>\n",
       "      <td>0.0</td>\n",
       "      <td>0.0</td>\n",
       "      <td>0.0</td>\n",
       "      <td>0.0</td>\n",
       "      <td>0.0</td>\n",
       "      <td>0.0</td>\n",
       "      <td>0.0</td>\n",
       "      <td>0.0</td>\n",
       "      <td>0.0</td>\n",
       "    </tr>\n",
       "  </tbody>\n",
       "</table>\n",
       "<p>11 rows × 21 columns</p>\n",
       "</div>"
      ],
      "text/plain": [
       "            0           1           2           3           4           5   \\\n",
       "0   100.000000  100.000000  120.707443  100.000000  100.000000  120.707443   \n",
       "1   139.648438  136.907959  163.187851  131.677246  128.009033  152.099930   \n",
       "2   141.296387  138.818359  165.670670  134.027100  130.584717  155.326843   \n",
       "3   141.284180  138.806152  165.655930  134.014893  130.572510  155.319473   \n",
       "4   141.284180  138.806152  165.655930  134.014893  130.572510  155.319473   \n",
       "5   141.284180  138.806152  165.655930  134.014893  130.572510  155.319473   \n",
       "6   141.284180  138.806152  165.655930  134.014893  130.572510  155.319473   \n",
       "7   141.284180  138.806152  165.655930  134.014893  130.572510  155.319473   \n",
       "8   141.284180  138.806152  165.655930  134.014893  130.572510  155.319473   \n",
       "9   141.284180  138.806152  165.655930  134.014893  130.572510  155.319473   \n",
       "10  141.284180  138.806152  165.655930  134.014893  130.572510  155.319473   \n",
       "\n",
       "            6           7           8    9   ...   11   12   13   14   15  \\\n",
       "0   116.934418  116.934418  141.148544  0.0  ...  0.0  0.0  0.0  0.0  0.0   \n",
       "1   136.904053  132.307755  157.353409  0.0  ...  0.0  0.0  0.0  0.0  0.0   \n",
       "2   139.951599  135.191147  160.747726  0.0  ...  0.0  0.0  0.0  0.0  0.0   \n",
       "3   139.951599  135.191147  160.747726  0.0  ...  0.0  0.0  0.0  0.0  0.0   \n",
       "4   139.951599  135.191147  160.747726  0.0  ...  0.0  0.0  0.0  0.0  0.0   \n",
       "5   139.951599  135.191147  160.747726  0.0  ...  0.0  0.0  0.0  0.0  0.0   \n",
       "6   139.951599  135.191147  160.747726  0.0  ...  0.0  0.0  0.0  0.0  0.0   \n",
       "7   139.951599  135.191147  160.747726  0.0  ...  0.0  0.0  0.0  0.0  0.0   \n",
       "8   139.951599  135.191147  160.747726  0.0  ...  0.0  0.0  0.0  0.0  0.0   \n",
       "9   139.951599  135.191147  160.747726  0.0  ...  0.0  0.0  0.0  0.0  0.0   \n",
       "10  139.951599  135.191147  160.747726  0.0  ...  0.0  0.0  0.0  0.0  0.0   \n",
       "\n",
       "     16   17   18   19   20  \n",
       "0   0.0  0.0  0.0  0.0  0.0  \n",
       "1   0.0  0.0  0.0  0.0  0.0  \n",
       "2   0.0  0.0  0.0  0.0  0.0  \n",
       "3   0.0  0.0  0.0  0.0  0.0  \n",
       "4   0.0  0.0  0.0  0.0  0.0  \n",
       "5   0.0  0.0  0.0  0.0  0.0  \n",
       "6   0.0  0.0  0.0  0.0  0.0  \n",
       "7   0.0  0.0  0.0  0.0  0.0  \n",
       "8   0.0  0.0  0.0  0.0  0.0  \n",
       "9   0.0  0.0  0.0  0.0  0.0  \n",
       "10  0.0  0.0  0.0  0.0  0.0  \n",
       "\n",
       "[11 rows x 21 columns]"
      ]
     },
     "execution_count": 6,
     "metadata": {},
     "output_type": "execute_result"
    }
   ],
   "source": [
    "ntimes, ncells = water_surface_elev_xr.shape\n",
    "\n",
    "# eventually we should include all of the following in xarray just pass the xarray to the function! \n",
    "# for now just working with todd's code \n",
    "\n",
    "cell_volumes = cw.compute_cell_volumes(\n",
    "    water_surface_elev_xr.values,\n",
    "    cells_surface_area_xr.values,\n",
    "    cells_volume_elevation_info_df['Starting Index'].values,\n",
    "    cells_volume_elevation_info_df['Count'].values,\n",
    "    cells_volume_elevation_values_df['Elevation'].values,\n",
    "    cells_volume_elevation_values_df['Volume'].values,\n",
    "    ntimes,\n",
    "    ncells)\n",
    "cell_volumes_df = pd.DataFrame(cell_volumes, columns = range(ncells))\n",
    "cell_volumes_df"
   ]
  },
  {
   "cell_type": "code",
   "execution_count": 7,
   "metadata": {},
   "outputs": [
    {
     "data": {
      "text/plain": [
       "Text(0, 0.5, 'Cell Volume')"
      ]
     },
     "execution_count": 7,
     "metadata": {},
     "output_type": "execute_result"
    },
    {
     "data": {
      "image/png": "[encoded data removed]",
      "text/plain": [
       "<Figure size 432x288 with 1 Axes>"
      ]
     },
     "metadata": {
      "needs_background": "light"
     },
     "output_type": "display_data"
    }
   ],
   "source": [
    "ax = cell_volumes_df.plot(legend=None)\n",
    "ax.set_xlabel('Time Step')\n",
    "ax.set_ylabel('Cell Volume')"
   ]
  },
  {
   "cell_type": "code",
   "execution_count": 9,
   "metadata": {},
   "outputs": [],
   "source": [
    "cell_volumes = cell_volumes_df.to_numpy()"
   ]
  },
  {
   "cell_type": "markdown",
   "metadata": {},
   "source": [
    "### Face Areas"
   ]
  },
  {
   "cell_type": "code",
   "execution_count": 11,
   "metadata": {},
   "outputs": [
    {
     "data": {
      "image/png": "[encoded data removed]",
      "text/plain": [
       "<Figure size 432x288 with 1 Axes>"
      ]
     },
     "metadata": {
      "needs_background": "light"
     },
     "output_type": "display_data"
    }
   ],
   "source": [
    "# Geometry: Cell Face Areas\n",
    "faces_area_elevation_info_df = cw.read_dataset_pandas(infile, f'Geometry/2D Flow Areas/{project_name}/Faces Area Elevation Info')\n",
    "faces_area_elevation_values_df = cw.read_dataset_pandas(infile, f'Geometry/2D Flow Areas/{project_name}/Faces Area Elevation Values')\n",
    "faces_area_elevation_values_df.plot()\n",
    "faces_normalunitvector_and_length_df = cw.read_dataset_pandas(infile, f'Geometry/2D Flow Areas/{project_name}/Faces NormalUnitVector and Length')\n",
    "faces_cell_indexes_df = cw.read_dataset_pandas(infile, f'Geometry/2D Flow Areas/{project_name}/Faces Cell Indexes')\n",
    "\n",
    "ntimes, ncells = water_surface_elev_xr.shape\n",
    "nfaces = faces_cell_indexes_df.shape[0]\n",
    "\n",
    "face_areas_0 = cw.compute_face_areas(\n",
    "    water_surface_elev_xr.values,\n",
    "    faces_normalunitvector_and_length_df['Face Length'].values,\n",
    "    faces_cell_indexes_df['Cell 0'].values,\n",
    "    faces_area_elevation_info_df['Starting Index'].values,\n",
    "    faces_area_elevation_info_df['Count'].values,\n",
    "    faces_area_elevation_values_df['Z'].values,\n",
    "    faces_area_elevation_values_df['Area'].values,\n",
    "    ntimes,\n",
    "    ncells,\n",
    "    nfaces)\n",
    "face_areas_0_df = pd.DataFrame(face_areas_0, columns = range(nfaces))"
   ]
  },
  {
   "cell_type": "code",
   "execution_count": 12,
   "metadata": {},
   "outputs": [
    {
     "data": {
      "text/plain": [
       "Text(0, 0.5, 'Vertical Area')"
      ]
     },
     "execution_count": 12,
     "metadata": {},
     "output_type": "execute_result"
    },
    {
     "data": {
      "image/png": "[encoded data removed]",
      "text/plain": [
       "<Figure size 432x288 with 1 Axes>"
      ]
     },
     "metadata": {
      "needs_background": "light"
     },
     "output_type": "display_data"
    }
   ],
   "source": [
    "ax = face_areas_0_df.plot(legend=None)\n",
    "ax.set_xlabel('Time Step')\n",
    "ax.set_ylabel('Vertical Area')"
   ]
  },
  {
   "cell_type": "code",
   "execution_count": 13,
   "metadata": {},
   "outputs": [],
   "source": [
    "face_areas = face_areas_0_df.to_numpy()"
   ]
  },
  {
   "cell_type": "markdown",
   "metadata": {},
   "source": [
    "### Cells Surface Area\n",
    "* Shape: (`NCELL`,)\n",
    "* Values: surface area of the cell/face. \n"
   ]
  },
  {
   "cell_type": "code",
   "execution_count": 14,
   "metadata": {},
   "outputs": [
    {
     "data": {
      "text/html": [
       "<div><svg style=\"position: absolute; width: 0; height: 0; overflow: hidden\">\n",
       "<defs>\n",
       "<symbol id=\"icon-database\" viewBox=\"0 0 32 32\">\n",
       "<path d=\"M16 0c-8.837 0-16 2.239-16 5v4c0 2.761 7.163 5 16 5s16-2.239 16-5v-4c0-2.761-7.163-5-16-5z\"></path>\n",
       "<path d=\"M16 17c-8.837 0-16-2.239-16-5v6c0 2.761 7.163 5 16 5s16-2.239 16-5v-6c0 2.761-7.163 5-16 5z\"></path>\n",
       "<path d=\"M16 26c-8.837 0-16-2.239-16-5v6c0 2.761 7.163 5 16 5s16-2.239 16-5v-6c0 2.761-7.163 5-16 5z\"></path>\n",
       "</symbol>\n",
       "<symbol id=\"icon-file-text2\" viewBox=\"0 0 32 32\">\n",
       "<path d=\"M28.681 7.159c-0.694-0.947-1.662-2.053-2.724-3.116s-2.169-2.030-3.116-2.724c-1.612-1.182-2.393-1.319-2.841-1.319h-15.5c-1.378 0-2.5 1.121-2.5 2.5v27c0 1.378 1.122 2.5 2.5 2.5h23c1.378 0 2.5-1.122 2.5-2.5v-19.5c0-0.448-0.137-1.23-1.319-2.841zM24.543 5.457c0.959 0.959 1.712 1.825 2.268 2.543h-4.811v-4.811c0.718 0.556 1.584 1.309 2.543 2.268zM28 29.5c0 0.271-0.229 0.5-0.5 0.5h-23c-0.271 0-0.5-0.229-0.5-0.5v-27c0-0.271 0.229-0.5 0.5-0.5 0 0 15.499-0 15.5 0v7c0 0.552 0.448 1 1 1h7v19.5z\"></path>\n",
       "<path d=\"M23 26h-14c-0.552 0-1-0.448-1-1s0.448-1 1-1h14c0.552 0 1 0.448 1 1s-0.448 1-1 1z\"></path>\n",
       "<path d=\"M23 22h-14c-0.552 0-1-0.448-1-1s0.448-1 1-1h14c0.552 0 1 0.448 1 1s-0.448 1-1 1z\"></path>\n",
       "<path d=\"M23 18h-14c-0.552 0-1-0.448-1-1s0.448-1 1-1h14c0.552 0 1 0.448 1 1s-0.448 1-1 1z\"></path>\n",
       "</symbol>\n",
       "</defs>\n",
       "</svg>\n",
       "<style>/* CSS stylesheet for displaying xarray objects in jupyterlab.\n",
       " *\n",
       " */\n",
       "\n",
       ":root {\n",
       "  --xr-font-color0: var(--jp-content-font-color0, rgba(0, 0, 0, 1));\n",
       "  --xr-font-color2: var(--jp-content-font-color2, rgba(0, 0, 0, 0.54));\n",
       "  --xr-font-color3: var(--jp-content-font-color3, rgba(0, 0, 0, 0.38));\n",
       "  --xr-border-color: var(--jp-border-color2, #e0e0e0);\n",
       "  --xr-disabled-color: var(--jp-layout-color3, #bdbdbd);\n",
       "  --xr-background-color: var(--jp-layout-color0, white);\n",
       "  --xr-background-color-row-even: var(--jp-layout-color1, white);\n",
       "  --xr-background-color-row-odd: var(--jp-layout-color2, #eeeeee);\n",
       "}\n",
       "\n",
       "html[theme=dark],\n",
       "body.vscode-dark {\n",
       "  --xr-font-color0: rgba(255, 255, 255, 1);\n",
       "  --xr-font-color2: rgba(255, 255, 255, 0.54);\n",
       "  --xr-font-color3: rgba(255, 255, 255, 0.38);\n",
       "  --xr-border-color: #1F1F1F;\n",
       "  --xr-disabled-color: #515151;\n",
       "  --xr-background-color: #111111;\n",
       "  --xr-background-color-row-even: #111111;\n",
       "  --xr-background-color-row-odd: #313131;\n",
       "}\n",
       "\n",
       ".xr-wrap {\n",
       "  display: block !important;\n",
       "  min-width: 300px;\n",
       "  max-width: 700px;\n",
       "}\n",
       "\n",
       ".xr-text-repr-fallback {\n",
       "  /* fallback to plain text repr when CSS is not injected (untrusted notebook) */\n",
       "  display: none;\n",
       "}\n",
       "\n",
       ".xr-header {\n",
       "  padding-top: 6px;\n",
       "  padding-bottom: 6px;\n",
       "  margin-bottom: 4px;\n",
       "  border-bottom: solid 1px var(--xr-border-color);\n",
       "}\n",
       "\n",
       ".xr-header > div,\n",
       ".xr-header > ul {\n",
       "  display: inline;\n",
       "  margin-top: 0;\n",
       "  margin-bottom: 0;\n",
       "}\n",
       "\n",
       ".xr-obj-type,\n",
       ".xr-array-name {\n",
       "  margin-left: 2px;\n",
       "  margin-right: 10px;\n",
       "}\n",
       "\n",
       ".xr-obj-type {\n",
       "  color: var(--xr-font-color2);\n",
       "}\n",
       "\n",
       ".xr-sections {\n",
       "  padding-left: 0 !important;\n",
       "  display: grid;\n",
       "  grid-template-columns: 150px auto auto 1fr 20px 20px;\n",
       "}\n",
       "\n",
       ".xr-section-item {\n",
       "  display: contents;\n",
       "}\n",
       "\n",
       ".xr-section-item input {\n",
       "  display: none;\n",
       "}\n",
       "\n",
       ".xr-section-item input + label {\n",
       "  color: var(--xr-disabled-color);\n",
       "}\n",
       "\n",
       ".xr-section-item input:enabled + label {\n",
       "  cursor: pointer;\n",
       "  color: var(--xr-font-color2);\n",
       "}\n",
       "\n",
       ".xr-section-item input:enabled + label:hover {\n",
       "  color: var(--xr-font-color0);\n",
       "}\n",
       "\n",
       ".xr-section-summary {\n",
       "  grid-column: 1;\n",
       "  color: var(--xr-font-color2);\n",
       "  font-weight: 500;\n",
       "}\n",
       "\n",
       ".xr-section-summary > span {\n",
       "  display: inline-block;\n",
       "  padding-left: 0.5em;\n",
       "}\n",
       "\n",
       ".xr-section-summary-in:disabled + label {\n",
       "  color: var(--xr-font-color2);\n",
       "}\n",
       "\n",
       ".xr-section-summary-in + label:before {\n",
       "  display: inline-block;\n",
       "  content: '►';\n",
       "  font-size: 11px;\n",
       "  width: 15px;\n",
       "  text-align: center;\n",
       "}\n",
       "\n",
       ".xr-section-summary-in:disabled + label:before {\n",
       "  color: var(--xr-disabled-color);\n",
       "}\n",
       "\n",
       ".xr-section-summary-in:checked + label:before {\n",
       "  content: '▼';\n",
       "}\n",
       "\n",
       ".xr-section-summary-in:checked + label > span {\n",
       "  display: none;\n",
       "}\n",
       "\n",
       ".xr-section-summary,\n",
       ".xr-section-inline-details {\n",
       "  padding-top: 4px;\n",
       "  padding-bottom: 4px;\n",
       "}\n",
       "\n",
       ".xr-section-inline-details {\n",
       "  grid-column: 2 / -1;\n",
       "}\n",
       "\n",
       ".xr-section-details {\n",
       "  display: none;\n",
       "  grid-column: 1 / -1;\n",
       "  margin-bottom: 5px;\n",
       "}\n",
       "\n",
       ".xr-section-summary-in:checked ~ .xr-section-details {\n",
       "  display: contents;\n",
       "}\n",
       "\n",
       ".xr-array-wrap {\n",
       "  grid-column: 1 / -1;\n",
       "  display: grid;\n",
       "  grid-template-columns: 20px auto;\n",
       "}\n",
       "\n",
       ".xr-array-wrap > label {\n",
       "  grid-column: 1;\n",
       "  vertical-align: top;\n",
       "}\n",
       "\n",
       ".xr-preview {\n",
       "  color: var(--xr-font-color3);\n",
       "}\n",
       "\n",
       ".xr-array-preview,\n",
       ".xr-array-data {\n",
       "  padding: 0 5px !important;\n",
       "  grid-column: 2;\n",
       "}\n",
       "\n",
       ".xr-array-data,\n",
       ".xr-array-in:checked ~ .xr-array-preview {\n",
       "  display: none;\n",
       "}\n",
       "\n",
       ".xr-array-in:checked ~ .xr-array-data,\n",
       ".xr-array-preview {\n",
       "  display: inline-block;\n",
       "}\n",
       "\n",
       ".xr-dim-list {\n",
       "  display: inline-block !important;\n",
       "  list-style: none;\n",
       "  padding: 0 !important;\n",
       "  margin: 0;\n",
       "}\n",
       "\n",
       ".xr-dim-list li {\n",
       "  display: inline-block;\n",
       "  padding: 0;\n",
       "  margin: 0;\n",
       "}\n",
       "\n",
       ".xr-dim-list:before {\n",
       "  content: '(';\n",
       "}\n",
       "\n",
       ".xr-dim-list:after {\n",
       "  content: ')';\n",
       "}\n",
       "\n",
       ".xr-dim-list li:not(:last-child):after {\n",
       "  content: ',';\n",
       "  padding-right: 5px;\n",
       "}\n",
       "\n",
       ".xr-has-index {\n",
       "  font-weight: bold;\n",
       "}\n",
       "\n",
       ".xr-var-list,\n",
       ".xr-var-item {\n",
       "  display: contents;\n",
       "}\n",
       "\n",
       ".xr-var-item > div,\n",
       ".xr-var-item label,\n",
       ".xr-var-item > .xr-var-name span {\n",
       "  background-color: var(--xr-background-color-row-even);\n",
       "  margin-bottom: 0;\n",
       "}\n",
       "\n",
       ".xr-var-item > .xr-var-name:hover span {\n",
       "  padding-right: 5px;\n",
       "}\n",
       "\n",
       ".xr-var-list > li:nth-child(odd) > div,\n",
       ".xr-var-list > li:nth-child(odd) > label,\n",
       ".xr-var-list > li:nth-child(odd) > .xr-var-name span {\n",
       "  background-color: var(--xr-background-color-row-odd);\n",
       "}\n",
       "\n",
       ".xr-var-name {\n",
       "  grid-column: 1;\n",
       "}\n",
       "\n",
       ".xr-var-dims {\n",
       "  grid-column: 2;\n",
       "}\n",
       "\n",
       ".xr-var-dtype {\n",
       "  grid-column: 3;\n",
       "  text-align: right;\n",
       "  color: var(--xr-font-color2);\n",
       "}\n",
       "\n",
       ".xr-var-preview {\n",
       "  grid-column: 4;\n",
       "}\n",
       "\n",
       ".xr-var-name,\n",
       ".xr-var-dims,\n",
       ".xr-var-dtype,\n",
       ".xr-preview,\n",
       ".xr-attrs dt {\n",
       "  white-space: nowrap;\n",
       "  overflow: hidden;\n",
       "  text-overflow: ellipsis;\n",
       "  padding-right: 10px;\n",
       "}\n",
       "\n",
       ".xr-var-name:hover,\n",
       ".xr-var-dims:hover,\n",
       ".xr-var-dtype:hover,\n",
       ".xr-attrs dt:hover {\n",
       "  overflow: visible;\n",
       "  width: auto;\n",
       "  z-index: 1;\n",
       "}\n",
       "\n",
       ".xr-var-attrs,\n",
       ".xr-var-data {\n",
       "  display: none;\n",
       "  background-color: var(--xr-background-color) !important;\n",
       "  padding-bottom: 5px !important;\n",
       "}\n",
       "\n",
       ".xr-var-attrs-in:checked ~ .xr-var-attrs,\n",
       ".xr-var-data-in:checked ~ .xr-var-data {\n",
       "  display: block;\n",
       "}\n",
       "\n",
       ".xr-var-data > table {\n",
       "  float: right;\n",
       "}\n",
       "\n",
       ".xr-var-name span,\n",
       ".xr-var-data,\n",
       ".xr-attrs {\n",
       "  padding-left: 25px !important;\n",
       "}\n",
       "\n",
       ".xr-attrs,\n",
       ".xr-var-attrs,\n",
       ".xr-var-data {\n",
       "  grid-column: 1 / -1;\n",
       "}\n",
       "\n",
       "dl.xr-attrs {\n",
       "  padding: 0;\n",
       "  margin: 0;\n",
       "  display: grid;\n",
       "  grid-template-columns: 125px auto;\n",
       "}\n",
       "\n",
       ".xr-attrs dt,\n",
       ".xr-attrs dd {\n",
       "  padding: 0;\n",
       "  margin: 0;\n",
       "  float: left;\n",
       "  padding-right: 10px;\n",
       "  width: auto;\n",
       "}\n",
       "\n",
       ".xr-attrs dt {\n",
       "  font-weight: normal;\n",
       "  grid-column: 1;\n",
       "}\n",
       "\n",
       ".xr-attrs dt:hover span {\n",
       "  display: inline-block;\n",
       "  background: var(--xr-background-color);\n",
       "  padding-right: 10px;\n",
       "}\n",
       "\n",
       ".xr-attrs dd {\n",
       "  grid-column: 2;\n",
       "  white-space: pre-wrap;\n",
       "  word-break: break-all;\n",
       "}\n",
       "\n",
       ".xr-icon-database,\n",
       ".xr-icon-file-text2 {\n",
       "  display: inline-block;\n",
       "  vertical-align: middle;\n",
       "  width: 1em;\n",
       "  height: 1.5em !important;\n",
       "  stroke-width: 0;\n",
       "  stroke: currentColor;\n",
       "  fill: currentColor;\n",
       "}\n",
       "</style><pre class='xr-text-repr-fallback'>&lt;xarray.DataArray (Rows: 21)&gt;\n",
       "array([100.     , 100.     , 120.70744, 100.     , 100.     , 120.70744,\n",
       "       116.93442, 116.93442, 141.14854,   0.     ,   0.     ,   0.     ,\n",
       "         0.     ,   0.     ,   0.     ,   0.     ,   0.     ,   0.     ,\n",
       "         0.     ,   0.     ,   0.     ], dtype=float32)\n",
       "Coordinates:\n",
       "  * Rows     (Rows) int32 0 1 2 3 4 5 6 7 8 9 10 11 12 13 14 15 16 17 18 19 20\n",
       "Attributes:\n",
       "    Can Plot:  False\n",
       "    Column:    [&#x27;Surface Area&#x27;]\n",
       "    Row:       Cell</pre><div class='xr-wrap' style='display:none'><div class='xr-header'><div class='xr-obj-type'>xarray.DataArray</div><div class='xr-array-name'></div><ul class='xr-dim-list'><li><span class='xr-has-index'>Rows</span>: 21</li></ul></div><ul class='xr-sections'><li class='xr-section-item'><div class='xr-array-wrap'><input id='section-c917dcfe-e4b7-44ed-bae8-b5d874de3f5b' class='xr-array-in' type='checkbox' checked><label for='section-c917dcfe-e4b7-44ed-bae8-b5d874de3f5b' title='Show/hide data repr'><svg class='icon xr-icon-database'><use xlink:href='#icon-database'></use></svg></label><div class='xr-array-preview xr-preview'><span>100.0 100.0 120.7 100.0 100.0 120.7 116.9 ... 0.0 0.0 0.0 0.0 0.0 0.0</span></div><div class='xr-array-data'><pre>array([100.     , 100.     , 120.70744, 100.     , 100.     , 120.70744,\n",
       "       116.93442, 116.93442, 141.14854,   0.     ,   0.     ,   0.     ,\n",
       "         0.     ,   0.     ,   0.     ,   0.     ,   0.     ,   0.     ,\n",
       "         0.     ,   0.     ,   0.     ], dtype=float32)</pre></div></div></li><li class='xr-section-item'><input id='section-b15e80c5-c7ac-46b4-a6dd-7be2fb681169' class='xr-section-summary-in' type='checkbox'  checked><label for='section-b15e80c5-c7ac-46b4-a6dd-7be2fb681169' class='xr-section-summary' >Coordinates: <span>(1)</span></label><div class='xr-section-inline-details'></div><div class='xr-section-details'><ul class='xr-var-list'><li class='xr-var-item'><div class='xr-var-name'><span class='xr-has-index'>Rows</span></div><div class='xr-var-dims'>(Rows)</div><div class='xr-var-dtype'>int32</div><div class='xr-var-preview xr-preview'>0 1 2 3 4 5 6 ... 15 16 17 18 19 20</div><input id='attrs-9c8d3d4f-b161-406d-a3da-f4346b05a56e' class='xr-var-attrs-in' type='checkbox' disabled><label for='attrs-9c8d3d4f-b161-406d-a3da-f4346b05a56e' title='Show/Hide attributes'><svg class='icon xr-icon-file-text2'><use xlink:href='#icon-file-text2'></use></svg></label><input id='data-97168210-7c1a-4a13-ae35-fd72f582cd64' class='xr-var-data-in' type='checkbox'><label for='data-97168210-7c1a-4a13-ae35-fd72f582cd64' title='Show/Hide data repr'><svg class='icon xr-icon-database'><use xlink:href='#icon-database'></use></svg></label><div class='xr-var-attrs'><dl class='xr-attrs'></dl></div><div class='xr-var-data'><pre>array([ 0,  1,  2,  3,  4,  5,  6,  7,  8,  9, 10, 11, 12, 13, 14, 15, 16, 17,\n",
       "       18, 19, 20])</pre></div></li></ul></div></li><li class='xr-section-item'><input id='section-cddadac2-d479-48f1-bb97-303a92ab6e1b' class='xr-section-summary-in' type='checkbox'  checked><label for='section-cddadac2-d479-48f1-bb97-303a92ab6e1b' class='xr-section-summary' >Attributes: <span>(3)</span></label><div class='xr-section-inline-details'></div><div class='xr-section-details'><dl class='xr-attrs'><dt><span>Can Plot :</span></dt><dd>False</dd><dt><span>Column :</span></dt><dd>[&#x27;Surface Area&#x27;]</dd><dt><span>Row :</span></dt><dd>Cell</dd></dl></div></li></ul></div></div>"
      ],
      "text/plain": [
       "<xarray.DataArray (Rows: 21)>\n",
       "array([100.     , 100.     , 120.70744, 100.     , 100.     , 120.70744,\n",
       "       116.93442, 116.93442, 141.14854,   0.     ,   0.     ,   0.     ,\n",
       "         0.     ,   0.     ,   0.     ,   0.     ,   0.     ,   0.     ,\n",
       "         0.     ,   0.     ,   0.     ], dtype=float32)\n",
       "Coordinates:\n",
       "  * Rows     (Rows) int32 0 1 2 3 4 5 6 7 8 9 10 11 12 13 14 15 16 17 18 19 20\n",
       "Attributes:\n",
       "    Can Plot:  False\n",
       "    Column:    ['Surface Area']\n",
       "    Row:       Cell"
      ]
     },
     "execution_count": 14,
     "metadata": {},
     "output_type": "execute_result"
    }
   ],
   "source": [
    "cells_surface_area_xr"
   ]
  },
  {
   "cell_type": "code",
   "execution_count": 15,
   "metadata": {},
   "outputs": [],
   "source": [
    "# src_path = os.path.join('..', 'src', 'riverine', 'ras2d')\n",
    "# sys.path.insert(0, src_path)\n",
    "# import RAS2D\n",
    "\n",
    "class RAS_HDF5:\n",
    "    '''\n",
    "    Read HEC-RAS 2D geometry and variables and return as a dictionary\n",
    "    '''\n",
    "\n",
    "    def __init__(self, hdf5_file_path: str, variables: list = []):\n",
    "\n",
    "        self.variables = {}\n",
    "        self.hdf5_file_path = hdf5_file_path\n",
    "        self.results = {}\n",
    "        self.geometry = {}\n",
    "\n",
    "\n",
    "\n",
    "    def read(self):\n",
    "        with h5py.File(self.hdf5_file_path, 'r') as infile:\n",
    "            '''\n",
    "            Read the Geometry data\n",
    "            '''\n",
    "\n",
    "            project_name = infile['Geometry/2D Flow Areas/Attributes'][()][0][0].decode('UTF-8')\n",
    "\n",
    "            # For the Muncie data set: max value: 5773, shape(5765, 7)\n",
    "            self.geometry['elements_array'] = infile[f'Geometry/2D Flow Areas/{project_name}/Cells FacePoint Indexes'][()]\n",
    "            # For the Muncie data set: shape(5774, 2)\n",
    "            self.geometry['nodes_array'] = infile[f'Geometry/2D Flow Areas/{project_name}/FacePoints Coordinate'][()]\n",
    "            self.geometry['faces_cell_indexes'] = infile[f'Geometry/2D Flow Areas/{project_name}/Faces Cell Indexes'][()]\n",
    "            self.geometry['cells_surface_area'] = infile[f'Geometry/2D Flow Areas/{project_name}/Cells Surface Area'][()]\n",
    "            self.geometry['faces_normal_unit_vector_and_length'] = infile[f'Geometry/2D Flow Areas/{project_name}/Faces NormalUnitVector and Length'][()]\n",
    "            self.geometry['cells_center_coordinate'] = infile[f'Geometry/2D Flow Areas/{project_name}/Cells Center Coordinate'][()]\n",
    "            # faces_area_elevation_values = infile['Geometry/2D Flow Areas/2D Interior Area/Faces Area Elevation Values'][()]\n",
    "\n",
    "            self.geometry['face_length'] = self.geometry['faces_normal_unit_vector_and_length'][:,2]\n",
    "            \n",
    "            self.geometry['face_facepoint_connectivity'] = infile[f'Geometry/2D Flow Areas/{project_name}/Faces FacePoint Indexes'][()]\n",
    "\n",
    "\n",
    "            '''\n",
    "            Read the Results data\n",
    "            '''\n",
    "            # self.results['depth'] = infile[f'Results/Unsteady/Output/Output Blocks/Base Output/Unsteady Time Series/2D Flow Areas/{project_name}/Depth'][()]\n",
    "\n",
    "            '''\n",
    "            NOTE:\n",
    "            The node velocities (Node X Vel and Node Y vel) are not automatically written to the HDF output file. \n",
    "            Have to opt into printing them to HDF: https://www.hec.usace.army.mil/software/hec-ras/documentation/HEC-RAS%205.0%202D%20Modeling%20Users%20Manual.pdf\n",
    "            How to handle? Try/except? Do we need them?\n",
    "            '''\n",
    "\n",
    "            # self.results['node_x_velocity'] = infile[f'Results/Unsteady/Output/Output Blocks/Base Output/Unsteady Time Series/2D Flow Areas/{project_name}/Node X Vel'][()]\n",
    "            # self.results['node_y_velocity'] = infile[f'Results/Unsteady/Output/Output Blocks/Base Output/Unsteady Time Series/2D Flow Areas/{project_name}/Node Y Vel'][()]\n",
    "            self.results['face_velocity'] = infile[f'Results/Unsteady/Output/Output Blocks/Base Output/Unsteady Time Series/2D Flow Areas/{project_name}/Face Velocity'][()]\n",
    "            # self.results['face_q'] = infile[f'Results/Unsteady/Output/Output Blocks/Base Output/Unsteady Time Series/2D Flow Areas/{project_name}/Face Q'][()]\n",
    "            # self.results['node_speed'] = np.sqrt(self.results['node_x_velocity']**2 + self.results['node_y_velocity']**2)\n",
    "            self.results['timestep'] = infile[f'Results/Unsteady/Output/Output Blocks/Base Output/Unsteady Time Series/2D Flow Areas/{project_name}/Time Step'][()]\n",
    "            \n",
    "            time_stamps_binary = infile['Results/Unsteady/Output/Output Blocks/Base Output/Unsteady Time Series/Time Date Stamp'][()]\n",
    "\n",
    "            # Read the specified variables, if any\n",
    "            for variable in self.variables:\n",
    "                data_path = f'Results/Unsteady/Output/Output Blocks/Base Output/Unsteady Time Series/2D Flow Areas/{project_name}/{variable}'\n",
    "                self.results['variable'] = infile[data_path]\n",
    "\n",
    "        # Convert from binary strings to utf8 strings\n",
    "        time_stamps = [x.decode(\"utf8\") for x in time_stamps_binary]\n",
    "        self.results['dates'] = [datetime.datetime.strptime(x, '%d%b%Y %H:%M:%S') for x in time_stamps] # '02JAN1900 22:55:00'\n",
    "\n",
    "        # Convert all lists to numpy arrays\n",
    "        for key, value in self.geometry.items():\n",
    "            self.geometry[key] = np.array(value)\n",
    "        for key, value in self.results.items():\n",
    "            self.results[key] = np.array(value)"
   ]
  },
  {
   "cell_type": "code",
   "execution_count": 179,
   "metadata": {},
   "outputs": [
    {
     "name": "stdout",
     "output_type": "stream",
     "text": [
      "<KeysViewHDF5 ['Cells Center Coordinate', \"Cells Center Manning's n\", 'Cells Face and Orientation Info', 'Cells Face and Orientation Values', 'Cells FacePoint Indexes', 'Cells Minimum Elevation', 'Cells Surface Area', 'Cells Volume Elevation Info', 'Cells Volume Elevation Values', 'FacePoints Cell Index Values', 'FacePoints Cell Info', 'FacePoints Coordinate', 'FacePoints Face and Orientation Info', 'FacePoints Face and Orientation Values', 'FacePoints Is Perimeter', 'Faces Area Elevation Info', 'Faces Area Elevation Values', 'Faces Cell Indexes', 'Faces FacePoint Indexes', 'Faces Low Elevation Centroid', 'Faces Minimum Elevation', 'Faces NormalUnitVector and Length', 'Faces Perimeter Info', 'Faces Perimeter Values', 'Perimeter']>\n",
      "----\n",
      "<KeysViewHDF5 ['North', 'North - Flow per Cell', 'North - Stage per Cell', 'South', 'South - Flow per Cell', 'South - Stage per Cell', 'West', 'West - Flow per Cell', 'West - Stage per Cell']>\n"
     ]
    }
   ],
   "source": [
    "with h5py.File(fpath, 'r') as f:\n",
    "\n",
    "    project_name = f['Geometry/2D Flow Areas/Attributes'][()][0][0].decode('UTF-8')\n",
    "    print( f[f'Geometry/2D Flow Areas/{project_name}/'].keys())\n",
    "    print('----')\n",
    "    # For the Muncie data set: shape(5774, 2)\n",
    "    print(f[f'Results/Unsteady/Output/Output Blocks/Base Output/Unsteady Time Series/2D Flow Areas/{project_name}/Boundary Conditions/'].keys())\n",
    "            "
   ]
  },
  {
   "cell_type": "code",
   "execution_count": 20,
   "metadata": {},
   "outputs": [
    {
     "name": "stdout",
     "output_type": "stream",
     "text": [
      "CPU times: total: 15.6 ms\n",
      "Wall time: 15.7 ms\n"
     ]
    }
   ],
   "source": [
    "%%time\n",
    "ras2d_data = RAS_HDF5(fpath, variables=[])\n",
    "ras2d_data.read()"
   ]
  },
  {
   "cell_type": "markdown",
   "metadata": {},
   "source": [
    "## Explore Geometry\n",
    "\n",
    "* `NCELL`: number of cells (`NPSEUDO + NREAL`) **(here, 21)**\n",
    "* `NPSEUDO` : number of pseudo cells **(here, 12)**\n",
    "* `NREAL`: number of actual cells **(here, 9)**\n",
    "* `NEDGE`: number of edges **(here, 24)**\n",
    "* `NFACEPOINT`: number of facepoints **(here, 16)**\n",
    "* `MAX_SIZE`: max number of facepoints that make up a cell/face **(here, 4)**\n",
    "\n",
    "\n",
    "### Facepoint Locations\n",
    "* Shape: (`NFACEPOINT`, 2)\n",
    "* Values: Northings and Eastings of facepoints (nodes)"
   ]
  },
  {
   "cell_type": "code",
   "execution_count": 21,
   "metadata": {},
   "outputs": [
    {
     "name": "stdout",
     "output_type": "stream",
     "text": [
      "(16, 2)\n"
     ]
    }
   ],
   "source": [
    "print(ras2d_data.geometry['nodes_array'].shape)"
   ]
  },
  {
   "cell_type": "code",
   "execution_count": 22,
   "metadata": {},
   "outputs": [
    {
     "data": {
      "text/plain": [
       "Text(0.5, 1.0, 'Facepoints')"
      ]
     },
     "execution_count": 22,
     "metadata": {},
     "output_type": "execute_result"
    },
    {
     "data": {
      "image/png": "[encoded data removed]",
      "text/plain": [
       "<Figure size 432x288 with 1 Axes>"
      ]
     },
     "metadata": {
      "needs_background": "light"
     },
     "output_type": "display_data"
    }
   ],
   "source": [
    "import matplotlib.pyplot as plt \n",
    "\n",
    "fig, ax = plt.subplots()\n",
    "\n",
    "x = ras2d_data.geometry['nodes_array'].T[0]\n",
    "y = ras2d_data.geometry['nodes_array'].T[1]\n",
    "\n",
    "ax.scatter(x,y)\n",
    "\n",
    "for i, txt in enumerate(x):\n",
    "    ax.annotate(i, (x[i], y[i]))\n",
    "ax.set_title(\"Facepoints\")"
   ]
  },
  {
   "cell_type": "markdown",
   "metadata": {},
   "source": [
    "### Elements Array\n",
    "This provides the facepoint indices that make up each \"cell\" or \"face.\"\n",
    "\n",
    "* Shape: (`NCELL`, `MAX_SIZE`). \n",
    "* Values: -1 if none (indicates a cell smaller than `MAX_SIZE`) OR the indices of the facepoints making up a given cell/face.\n",
    "    * Zero-indexed.\n",
    "\n",
    "\n",
    "In general the shape will be (TOTAL CELLS (pseudo + real), MAX NUMBER OF FACES)"
   ]
  },
  {
   "cell_type": "code",
   "execution_count": 23,
   "metadata": {},
   "outputs": [
    {
     "name": "stdout",
     "output_type": "stream",
     "text": [
      "(21, 4)\n",
      "-1\n",
      "15\n"
     ]
    }
   ],
   "source": [
    "print(ras2d_data.geometry['elements_array'].shape)\n",
    "print(ras2d_data.geometry['elements_array'].min())\n",
    "print(ras2d_data.geometry['elements_array'].max())\n"
   ]
  },
  {
   "cell_type": "markdown",
   "metadata": {},
   "source": [
    "### Faces Cell Indexes\n",
    "\n",
    "* Shape: (`NEDGE`, 2)\n",
    "* Values: Cell/face index values on either side of a given edge \n",
    "    * Zero indexed. "
   ]
  },
  {
   "cell_type": "code",
   "execution_count": 25,
   "metadata": {},
   "outputs": [
    {
     "name": "stdout",
     "output_type": "stream",
     "text": [
      "(24, 2)\n",
      "0\n",
      "20\n"
     ]
    }
   ],
   "source": [
    "print(ras2d_data.geometry['faces_cell_indexes'].shape)\n",
    "print(ras2d_data.geometry['faces_cell_indexes'].min())\n",
    "print(ras2d_data.geometry['faces_cell_indexes'].max())\n"
   ]
  },
  {
   "cell_type": "markdown",
   "metadata": {},
   "source": [
    "### Cells Surface Area\n",
    "* Shape: (`NCELL`,)\n",
    "* Values: surface area of the cell/face. \n"
   ]
  },
  {
   "cell_type": "code",
   "execution_count": 26,
   "metadata": {},
   "outputs": [
    {
     "name": "stdout",
     "output_type": "stream",
     "text": [
      "(21,)\n",
      "[100.      100.      120.70744 100.      100.      120.70744 116.93442\n",
      " 116.93442 141.14854   0.        0.        0.        0.        0.\n",
      "   0.        0.        0.        0.        0.        0.        0.     ]\n"
     ]
    }
   ],
   "source": [
    "print(ras2d_data.geometry['cells_surface_area'].shape)\n",
    "print(ras2d_data.geometry['cells_surface_area'])\n"
   ]
  },
  {
   "cell_type": "markdown",
   "metadata": {},
   "source": [
    "### Cells Center Coordinate"
   ]
  },
  {
   "cell_type": "code",
   "execution_count": 27,
   "metadata": {},
   "outputs": [
    {
     "data": {
      "text/plain": [
       "Text(0.5, 1.0, 'Facepoints and Face Centers')"
      ]
     },
     "execution_count": 27,
     "metadata": {},
     "output_type": "execute_result"
    },
    {
     "data": {
      "image/png": "[encoded data removed]",
      "text/plain": [
       "<Figure size 432x288 with 1 Axes>"
      ]
     },
     "metadata": {
      "needs_background": "light"
     },
     "output_type": "display_data"
    }
   ],
   "source": [
    "import matplotlib.pyplot as plt \n",
    "\n",
    "fig, ax = plt.subplots()\n",
    "\n",
    "x = ras2d_data.geometry['nodes_array'].T[0]\n",
    "y = ras2d_data.geometry['nodes_array'].T[1]\n",
    "\n",
    "ax.scatter(x,y, color='grey')\n",
    "\n",
    "for i, txt in enumerate(x):\n",
    "    ax.annotate(i, (x[i], y[i]))\n",
    "ax.set_title(\"Face Centers (Cell Centers)\")\n",
    "\n",
    "x1 = ras2d_data.geometry['cells_center_coordinate'].T[0]\n",
    "y1 = ras2d_data.geometry['cells_center_coordinate'].T[1]\n",
    "\n",
    "ax.scatter(x1,y1, color='black')\n",
    "\n",
    "for i, txt in enumerate(x1):\n",
    "    ax.annotate(i, (x1[i], y1[i]))\n",
    "ax.set_title(\"Facepoints and Face Centers\")\n"
   ]
  },
  {
   "cell_type": "markdown",
   "metadata": {},
   "source": [
    "# Save to Xarray"
   ]
  },
  {
   "cell_type": "code",
   "execution_count": 28,
   "metadata": {},
   "outputs": [],
   "source": [
    "out = xr.Dataset()\n",
    "\n",
    "out[\"mesh2d\"] = xr.DataArray(\n",
    "    data=0,\n",
    "    attrs={\n",
    "        # required topology attributes\n",
    "        'cf_role': 'mesh_topology',\n",
    "        'long_name': 'Topology data of 2D mesh',\n",
    "        'topology_dimension': 2,\n",
    "        'node_coordinates': 'node_x node_y',\n",
    "        'face_node_connectivity': 'face_nodes',\n",
    "        # optionally required attributes\n",
    "        'face_dimension': 'face',\n",
    "        'edge_node_connectivity': 'edge_nodes',\n",
    "        'edge_dimension': 'edge',\n",
    "        # optional attributes \n",
    "        'face_edge_connectivity': 'face_edges',\n",
    "        'face_face_connectivity': 'face_face_connectivity',\n",
    "        'edge_face_connectivity': 'edge_face_connectivity',\n",
    "        'boundary_node_connectivity': 'boundary_node_connectivity',\n",
    "        'face_coordinates': 'face x face_y',\n",
    "        'edge_coordinates': 'edge_x edge_y',\n",
    "    }\n",
    ")"
   ]
  },
  {
   "cell_type": "code",
   "execution_count": 29,
   "metadata": {},
   "outputs": [],
   "source": [
    "out = out.assign_coords(\n",
    "    node_x=xr.DataArray(\n",
    "        data=[f[0] for f in ras2d_data.geometry['nodes_array']],\n",
    "        dims=(\"node\",),\n",
    "    )\n",
    ")\n",
    "\n",
    "\n",
    "out = out.assign_coords(\n",
    "    node_y=xr.DataArray(\n",
    "        data=[f[1] for f in ras2d_data.geometry['nodes_array']],\n",
    "        dims=(\"node\",),\n",
    "    )\n",
    ")\n",
    "\n",
    "out = out.assign_coords(\n",
    "    time=xr.DataArray(\n",
    "        data=ras2d_data.results['dates'],\n",
    "        dims=(\"time\",),\n",
    "            )\n",
    "        )\n"
   ]
  },
  {
   "cell_type": "code",
   "execution_count": 30,
   "metadata": {},
   "outputs": [],
   "source": [
    "out[\"face_nodes\"] = xr.DataArray(\n",
    "    data=ras2d_data.geometry['elements_array'],\n",
    "    coords={\n",
    "        \"face_x\": (\"nface\", [f[0] for f in ras2d_data.geometry['cells_center_coordinate']]),\n",
    "        \"face_y\": (\"nface\", [f[1] for f in ras2d_data.geometry['cells_center_coordinate']]),\n",
    "    },\n",
    "    dims=(\"nface\", \"nmax_face\"),\n",
    "    attrs={\n",
    "        'cf_role': 'face_node_connectivity',\n",
    "        'long_name': 'Vertex nodes of mesh faces (counterclockwise)',\n",
    "        'start_index': 0, \n",
    "        '_FillValue': -1\n",
    "    })"
   ]
  },
  {
   "cell_type": "code",
   "execution_count": 31,
   "metadata": {},
   "outputs": [],
   "source": [
    "out[\"edge_nodes\"] = xr.DataArray(\n",
    "    data=ras2d_data.geometry['face_facepoint_connectivity'],\n",
    "    dims=(\"nedge\", '2'),\n",
    "    attrs={\n",
    "        'cf_role': 'edge_node_connectivity',\n",
    "        'long_name': 'Vertex nodes of mesh edges',\n",
    "        'start_index': 0\n",
    "    })"
   ]
  },
  {
   "cell_type": "code",
   "execution_count": 32,
   "metadata": {},
   "outputs": [],
   "source": [
    "out[\"edge_face_connectivity\"] = xr.DataArray(\n",
    "    data=ras2d_data.geometry['faces_cell_indexes'],\n",
    "    dims=(\"nedge\", '2'),\n",
    "    attrs={\n",
    "        'cf_role': 'edge_face_connectivity',\n",
    "        'long_name': 'neighbor faces for edges',\n",
    "        'start_index': 0\n",
    "    })"
   ]
  },
  {
   "cell_type": "code",
   "execution_count": 33,
   "metadata": {},
   "outputs": [],
   "source": [
    "out[\"dt\"] = xr.DataArray(\n",
    "    data=ras2d_data.results['timestep'],\n",
    "    dims=(\"time\"),\n",
    "    attrs={\n",
    "        'units':'seconds' # will need to update units based on prj file\n",
    "    })\n",
    "\n",
    "out[\"volume\"] = xr.DataArray(\n",
    "    data=cell_volumes,\n",
    "    dims=(\"time\", 'nface'),\n",
    "    attrs={\n",
    "        'units':'feet' # will need to update units based on prj file\n",
    "    })\n",
    "\n",
    "out[\"faces_surface_area\"] = xr.DataArray(\n",
    "    data = ras2d_data.geometry['cells_surface_area'],\n",
    "    dims = (\"nface\"), \n",
    "    attrs={\n",
    "        'units': 'square feet' # will need to update units based on prj file\n",
    "})\n",
    "\n",
    "out[\"edge_length\"] = xr.DataArray(\n",
    "    data = ras2d_data.geometry['face_length'],\n",
    "    dims = (\"nedge\"), \n",
    "    attrs={\n",
    "        'units': 'feet' # will need to update units based on prj file\n",
    "})\n",
    "\n",
    "\n",
    "out[\"edge_velocity\"] = xr.DataArray(\n",
    "    data=ras2d_data.results['face_velocity'],\n",
    "    dims=(\"time\", 'nedge'),\n",
    "    attrs={\n",
    "        'units':'feet per second' # will need to update units based on prj file\n",
    "    })\n",
    "\n",
    "out[\"edge_vertical_area\"] = xr.DataArray(\n",
    "    data=face_areas_0,\n",
    "    dims=(\"time\", 'nedge'),\n",
    "    attrs={\n",
    "        'units':'feet per second' # will need to update units based on prj file\n",
    "    })"
   ]
  },
  {
   "cell_type": "markdown",
   "metadata": {},
   "source": [
    "### Examine Variables\n",
    "\n",
    "#### Volume"
   ]
  },
  {
   "cell_type": "code",
   "execution_count": 34,
   "metadata": {},
   "outputs": [
    {
     "data": {
      "image/png": "[encoded data removed]",
      "text/plain": [
       "<Figure size 432x288 with 1 Axes>"
      ]
     },
     "metadata": {
      "needs_background": "light"
     },
     "output_type": "display_data"
    }
   ],
   "source": [
    "# plot volume over time for each cell\n",
    "for f in out['nface']:\n",
    "    # print(ds_zarr['volume'].compute().T.shape)\n",
    "    plt.plot(out['time'], out['volume'].T[:][f])\n",
    "\n",
    "plt.show()"
   ]
  },
  {
   "cell_type": "markdown",
   "metadata": {},
   "source": [
    "#### Vertical Face Area"
   ]
  },
  {
   "cell_type": "code",
   "execution_count": 35,
   "metadata": {},
   "outputs": [
    {
     "data": {
      "image/png": "[encoded data removed]",
      "text/plain": [
       "<Figure size 432x288 with 1 Axes>"
      ]
     },
     "metadata": {
      "needs_background": "light"
     },
     "output_type": "display_data"
    }
   ],
   "source": [
    "# plot volume over time for each cell\n",
    "for f in out['nface']:\n",
    "    # print(ds_zarr['volume'].compute().T.shape)\n",
    "    plt.plot(out['time'], out['edge_vertical_area'].T[:][f])\n",
    "\n",
    "plt.show()"
   ]
  },
  {
   "cell_type": "markdown",
   "metadata": {},
   "source": [
    "### Edge Velocity\n",
    "* **Positive** if it is flowing out of the first value of the `edge_face_connectivity` term. \n",
    "* **Negative** if it is flowing IN of the first cell index of the `edge_face_connectivity` term. \n",
    "* 0 for flow in/out of pseudo-cells - how are boundary conditons output from RAS?"
   ]
  },
  {
   "cell_type": "code",
   "execution_count": 36,
   "metadata": {},
   "outputs": [
    {
     "data": {
      "image/png": "[encoded data removed]",
      "text/plain": [
       "<Figure size 432x288 with 1 Axes>"
      ]
     },
     "metadata": {
      "needs_background": "light"
     },
     "output_type": "display_data"
    }
   ],
   "source": [
    "# plot face velocity over time for each cell \n",
    "for f in out['nedge']:\n",
    "    # print(ds_zarr['volume'].compute().T.shape)\n",
    "    plt.plot(out['time'], out['edge_velocity'].T[:][f], label=f.values)\n",
    "plt.legend(ncol=5, loc='lower center', bbox_to_anchor=(-0.5, 0))\n",
    "plt.show()"
   ]
  },
  {
   "cell_type": "code",
   "execution_count": 37,
   "metadata": {},
   "outputs": [
    {
     "name": "stdout",
     "output_type": "stream",
     "text": [
      "0\n",
      "[0 3]\n",
      "2.7486396\n",
      "----------------------------\n",
      "1\n",
      "[0 1]\n",
      "1.2014995\n",
      "----------------------------\n",
      "2\n",
      "[0 9]\n",
      "-0.0\n",
      "----------------------------\n",
      "3\n",
      "[1 2]\n",
      "0.6964829\n",
      "----------------------------\n",
      "4\n",
      "[ 1 10]\n",
      "-0.0\n",
      "----------------------------\n",
      "5\n",
      "[1 4]\n",
      "2.867822\n",
      "----------------------------\n",
      "6\n",
      "[2 5]\n",
      "2.9528513\n",
      "----------------------------\n",
      "7\n",
      "[ 2 11]\n",
      "-0.0\n",
      "----------------------------\n",
      "8\n",
      "[4 5]\n",
      "0.51615405\n",
      "----------------------------\n",
      "9\n",
      "[4 3]\n",
      "-1.0443795\n",
      "----------------------------\n",
      "10\n",
      "[4 7]\n",
      "3.5695846\n",
      "----------------------------\n",
      "11\n",
      "[5 8]\n",
      "3.5462117\n",
      "----------------------------\n",
      "12\n",
      "[ 5 12]\n",
      "-0.0\n",
      "----------------------------\n",
      "13\n",
      "[3 6]\n",
      "3.5753481\n",
      "----------------------------\n",
      "14\n",
      "[ 3 13]\n",
      "-0.0\n",
      "----------------------------\n",
      "15\n",
      "[6 7]\n",
      "0.8362176\n",
      "----------------------------\n",
      "16\n",
      "[ 6 14]\n",
      "-0.0\n",
      "----------------------------\n",
      "17\n",
      "[ 7 15]\n",
      "4.552834\n",
      "----------------------------\n",
      "18\n",
      "[7 8]\n",
      "0.34034374\n",
      "----------------------------\n",
      "19\n",
      "[ 8 16]\n",
      "4.246044\n",
      "----------------------------\n",
      "20\n",
      "[ 0 17]\n",
      "-0.0\n",
      "----------------------------\n",
      "21\n",
      "[ 2 18]\n",
      "-0.0\n",
      "----------------------------\n",
      "22\n",
      "[ 6 19]\n",
      "5.2402563\n",
      "----------------------------\n",
      "23\n",
      "[ 8 20]\n",
      "-0.0\n",
      "----------------------------\n"
     ]
    }
   ],
   "source": [
    "for i in range(len(out['nedge'])):\n",
    "    print(i)\n",
    "    print(out['edge_face_connectivity'][i].values)\n",
    "    print(out['edge_velocity'][1][i].values)\n",
    "    print(\"----------------------------\")"
   ]
  },
  {
   "cell_type": "code",
   "execution_count": 38,
   "metadata": {},
   "outputs": [
    {
     "data": {
      "text/html": [
       "<div><svg style=\"position: absolute; width: 0; height: 0; overflow: hidden\">\n",
       "<defs>\n",
       "<symbol id=\"icon-database\" viewBox=\"0 0 32 32\">\n",
       "<path d=\"M16 0c-8.837 0-16 2.239-16 5v4c0 2.761 7.163 5 16 5s16-2.239 16-5v-4c0-2.761-7.163-5-16-5z\"></path>\n",
       "<path d=\"M16 17c-8.837 0-16-2.239-16-5v6c0 2.761 7.163 5 16 5s16-2.239 16-5v-6c0 2.761-7.163 5-16 5z\"></path>\n",
       "<path d=\"M16 26c-8.837 0-16-2.239-16-5v6c0 2.761 7.163 5 16 5s16-2.239 16-5v-6c0 2.761-7.163 5-16 5z\"></path>\n",
       "</symbol>\n",
       "<symbol id=\"icon-file-text2\" viewBox=\"0 0 32 32\">\n",
       "<path d=\"M28.681 7.159c-0.694-0.947-1.662-2.053-2.724-3.116s-2.169-2.030-3.116-2.724c-1.612-1.182-2.393-1.319-2.841-1.319h-15.5c-1.378 0-2.5 1.121-2.5 2.5v27c0 1.378 1.122 2.5 2.5 2.5h23c1.378 0 2.5-1.122 2.5-2.5v-19.5c0-0.448-0.137-1.23-1.319-2.841zM24.543 5.457c0.959 0.959 1.712 1.825 2.268 2.543h-4.811v-4.811c0.718 0.556 1.584 1.309 2.543 2.268zM28 29.5c0 0.271-0.229 0.5-0.5 0.5h-23c-0.271 0-0.5-0.229-0.5-0.5v-27c0-0.271 0.229-0.5 0.5-0.5 0 0 15.499-0 15.5 0v7c0 0.552 0.448 1 1 1h7v19.5z\"></path>\n",
       "<path d=\"M23 26h-14c-0.552 0-1-0.448-1-1s0.448-1 1-1h14c0.552 0 1 0.448 1 1s-0.448 1-1 1z\"></path>\n",
       "<path d=\"M23 22h-14c-0.552 0-1-0.448-1-1s0.448-1 1-1h14c0.552 0 1 0.448 1 1s-0.448 1-1 1z\"></path>\n",
       "<path d=\"M23 18h-14c-0.552 0-1-0.448-1-1s0.448-1 1-1h14c0.552 0 1 0.448 1 1s-0.448 1-1 1z\"></path>\n",
       "</symbol>\n",
       "</defs>\n",
       "</svg>\n",
       "<style>/* CSS stylesheet for displaying xarray objects in jupyterlab.\n",
       " *\n",
       " */\n",
       "\n",
       ":root {\n",
       "  --xr-font-color0: var(--jp-content-font-color0, rgba(0, 0, 0, 1));\n",
       "  --xr-font-color2: var(--jp-content-font-color2, rgba(0, 0, 0, 0.54));\n",
       "  --xr-font-color3: var(--jp-content-font-color3, rgba(0, 0, 0, 0.38));\n",
       "  --xr-border-color: var(--jp-border-color2, #e0e0e0);\n",
       "  --xr-disabled-color: var(--jp-layout-color3, #bdbdbd);\n",
       "  --xr-background-color: var(--jp-layout-color0, white);\n",
       "  --xr-background-color-row-even: var(--jp-layout-color1, white);\n",
       "  --xr-background-color-row-odd: var(--jp-layout-color2, #eeeeee);\n",
       "}\n",
       "\n",
       "html[theme=dark],\n",
       "body.vscode-dark {\n",
       "  --xr-font-color0: rgba(255, 255, 255, 1);\n",
       "  --xr-font-color2: rgba(255, 255, 255, 0.54);\n",
       "  --xr-font-color3: rgba(255, 255, 255, 0.38);\n",
       "  --xr-border-color: #1F1F1F;\n",
       "  --xr-disabled-color: #515151;\n",
       "  --xr-background-color: #111111;\n",
       "  --xr-background-color-row-even: #111111;\n",
       "  --xr-background-color-row-odd: #313131;\n",
       "}\n",
       "\n",
       ".xr-wrap {\n",
       "  display: block !important;\n",
       "  min-width: 300px;\n",
       "  max-width: 700px;\n",
       "}\n",
       "\n",
       ".xr-text-repr-fallback {\n",
       "  /* fallback to plain text repr when CSS is not injected (untrusted notebook) */\n",
       "  display: none;\n",
       "}\n",
       "\n",
       ".xr-header {\n",
       "  padding-top: 6px;\n",
       "  padding-bottom: 6px;\n",
       "  margin-bottom: 4px;\n",
       "  border-bottom: solid 1px var(--xr-border-color);\n",
       "}\n",
       "\n",
       ".xr-header > div,\n",
       ".xr-header > ul {\n",
       "  display: inline;\n",
       "  margin-top: 0;\n",
       "  margin-bottom: 0;\n",
       "}\n",
       "\n",
       ".xr-obj-type,\n",
       ".xr-array-name {\n",
       "  margin-left: 2px;\n",
       "  margin-right: 10px;\n",
       "}\n",
       "\n",
       ".xr-obj-type {\n",
       "  color: var(--xr-font-color2);\n",
       "}\n",
       "\n",
       ".xr-sections {\n",
       "  padding-left: 0 !important;\n",
       "  display: grid;\n",
       "  grid-template-columns: 150px auto auto 1fr 20px 20px;\n",
       "}\n",
       "\n",
       ".xr-section-item {\n",
       "  display: contents;\n",
       "}\n",
       "\n",
       ".xr-section-item input {\n",
       "  display: none;\n",
       "}\n",
       "\n",
       ".xr-section-item input + label {\n",
       "  color: var(--xr-disabled-color);\n",
       "}\n",
       "\n",
       ".xr-section-item input:enabled + label {\n",
       "  cursor: pointer;\n",
       "  color: var(--xr-font-color2);\n",
       "}\n",
       "\n",
       ".xr-section-item input:enabled + label:hover {\n",
       "  color: var(--xr-font-color0);\n",
       "}\n",
       "\n",
       ".xr-section-summary {\n",
       "  grid-column: 1;\n",
       "  color: var(--xr-font-color2);\n",
       "  font-weight: 500;\n",
       "}\n",
       "\n",
       ".xr-section-summary > span {\n",
       "  display: inline-block;\n",
       "  padding-left: 0.5em;\n",
       "}\n",
       "\n",
       ".xr-section-summary-in:disabled + label {\n",
       "  color: var(--xr-font-color2);\n",
       "}\n",
       "\n",
       ".xr-section-summary-in + label:before {\n",
       "  display: inline-block;\n",
       "  content: '►';\n",
       "  font-size: 11px;\n",
       "  width: 15px;\n",
       "  text-align: center;\n",
       "}\n",
       "\n",
       ".xr-section-summary-in:disabled + label:before {\n",
       "  color: var(--xr-disabled-color);\n",
       "}\n",
       "\n",
       ".xr-section-summary-in:checked + label:before {\n",
       "  content: '▼';\n",
       "}\n",
       "\n",
       ".xr-section-summary-in:checked + label > span {\n",
       "  display: none;\n",
       "}\n",
       "\n",
       ".xr-section-summary,\n",
       ".xr-section-inline-details {\n",
       "  padding-top: 4px;\n",
       "  padding-bottom: 4px;\n",
       "}\n",
       "\n",
       ".xr-section-inline-details {\n",
       "  grid-column: 2 / -1;\n",
       "}\n",
       "\n",
       ".xr-section-details {\n",
       "  display: none;\n",
       "  grid-column: 1 / -1;\n",
       "  margin-bottom: 5px;\n",
       "}\n",
       "\n",
       ".xr-section-summary-in:checked ~ .xr-section-details {\n",
       "  display: contents;\n",
       "}\n",
       "\n",
       ".xr-array-wrap {\n",
       "  grid-column: 1 / -1;\n",
       "  display: grid;\n",
       "  grid-template-columns: 20px auto;\n",
       "}\n",
       "\n",
       ".xr-array-wrap > label {\n",
       "  grid-column: 1;\n",
       "  vertical-align: top;\n",
       "}\n",
       "\n",
       ".xr-preview {\n",
       "  color: var(--xr-font-color3);\n",
       "}\n",
       "\n",
       ".xr-array-preview,\n",
       ".xr-array-data {\n",
       "  padding: 0 5px !important;\n",
       "  grid-column: 2;\n",
       "}\n",
       "\n",
       ".xr-array-data,\n",
       ".xr-array-in:checked ~ .xr-array-preview {\n",
       "  display: none;\n",
       "}\n",
       "\n",
       ".xr-array-in:checked ~ .xr-array-data,\n",
       ".xr-array-preview {\n",
       "  display: inline-block;\n",
       "}\n",
       "\n",
       ".xr-dim-list {\n",
       "  display: inline-block !important;\n",
       "  list-style: none;\n",
       "  padding: 0 !important;\n",
       "  margin: 0;\n",
       "}\n",
       "\n",
       ".xr-dim-list li {\n",
       "  display: inline-block;\n",
       "  padding: 0;\n",
       "  margin: 0;\n",
       "}\n",
       "\n",
       ".xr-dim-list:before {\n",
       "  content: '(';\n",
       "}\n",
       "\n",
       ".xr-dim-list:after {\n",
       "  content: ')';\n",
       "}\n",
       "\n",
       ".xr-dim-list li:not(:last-child):after {\n",
       "  content: ',';\n",
       "  padding-right: 5px;\n",
       "}\n",
       "\n",
       ".xr-has-index {\n",
       "  font-weight: bold;\n",
       "}\n",
       "\n",
       ".xr-var-list,\n",
       ".xr-var-item {\n",
       "  display: contents;\n",
       "}\n",
       "\n",
       ".xr-var-item > div,\n",
       ".xr-var-item label,\n",
       ".xr-var-item > .xr-var-name span {\n",
       "  background-color: var(--xr-background-color-row-even);\n",
       "  margin-bottom: 0;\n",
       "}\n",
       "\n",
       ".xr-var-item > .xr-var-name:hover span {\n",
       "  padding-right: 5px;\n",
       "}\n",
       "\n",
       ".xr-var-list > li:nth-child(odd) > div,\n",
       ".xr-var-list > li:nth-child(odd) > label,\n",
       ".xr-var-list > li:nth-child(odd) > .xr-var-name span {\n",
       "  background-color: var(--xr-background-color-row-odd);\n",
       "}\n",
       "\n",
       ".xr-var-name {\n",
       "  grid-column: 1;\n",
       "}\n",
       "\n",
       ".xr-var-dims {\n",
       "  grid-column: 2;\n",
       "}\n",
       "\n",
       ".xr-var-dtype {\n",
       "  grid-column: 3;\n",
       "  text-align: right;\n",
       "  color: var(--xr-font-color2);\n",
       "}\n",
       "\n",
       ".xr-var-preview {\n",
       "  grid-column: 4;\n",
       "}\n",
       "\n",
       ".xr-var-name,\n",
       ".xr-var-dims,\n",
       ".xr-var-dtype,\n",
       ".xr-preview,\n",
       ".xr-attrs dt {\n",
       "  white-space: nowrap;\n",
       "  overflow: hidden;\n",
       "  text-overflow: ellipsis;\n",
       "  padding-right: 10px;\n",
       "}\n",
       "\n",
       ".xr-var-name:hover,\n",
       ".xr-var-dims:hover,\n",
       ".xr-var-dtype:hover,\n",
       ".xr-attrs dt:hover {\n",
       "  overflow: visible;\n",
       "  width: auto;\n",
       "  z-index: 1;\n",
       "}\n",
       "\n",
       ".xr-var-attrs,\n",
       ".xr-var-data {\n",
       "  display: none;\n",
       "  background-color: var(--xr-background-color) !important;\n",
       "  padding-bottom: 5px !important;\n",
       "}\n",
       "\n",
       ".xr-var-attrs-in:checked ~ .xr-var-attrs,\n",
       ".xr-var-data-in:checked ~ .xr-var-data {\n",
       "  display: block;\n",
       "}\n",
       "\n",
       ".xr-var-data > table {\n",
       "  float: right;\n",
       "}\n",
       "\n",
       ".xr-var-name span,\n",
       ".xr-var-data,\n",
       ".xr-attrs {\n",
       "  padding-left: 25px !important;\n",
       "}\n",
       "\n",
       ".xr-attrs,\n",
       ".xr-var-attrs,\n",
       ".xr-var-data {\n",
       "  grid-column: 1 / -1;\n",
       "}\n",
       "\n",
       "dl.xr-attrs {\n",
       "  padding: 0;\n",
       "  margin: 0;\n",
       "  display: grid;\n",
       "  grid-template-columns: 125px auto;\n",
       "}\n",
       "\n",
       ".xr-attrs dt,\n",
       ".xr-attrs dd {\n",
       "  padding: 0;\n",
       "  margin: 0;\n",
       "  float: left;\n",
       "  padding-right: 10px;\n",
       "  width: auto;\n",
       "}\n",
       "\n",
       ".xr-attrs dt {\n",
       "  font-weight: normal;\n",
       "  grid-column: 1;\n",
       "}\n",
       "\n",
       ".xr-attrs dt:hover span {\n",
       "  display: inline-block;\n",
       "  background: var(--xr-background-color);\n",
       "  padding-right: 10px;\n",
       "}\n",
       "\n",
       ".xr-attrs dd {\n",
       "  grid-column: 2;\n",
       "  white-space: pre-wrap;\n",
       "  word-break: break-all;\n",
       "}\n",
       "\n",
       ".xr-icon-database,\n",
       ".xr-icon-file-text2 {\n",
       "  display: inline-block;\n",
       "  vertical-align: middle;\n",
       "  width: 1em;\n",
       "  height: 1.5em !important;\n",
       "  stroke-width: 0;\n",
       "  stroke: currentColor;\n",
       "  fill: currentColor;\n",
       "}\n",
       "</style><pre class='xr-text-repr-fallback'>&lt;xarray.DataArray &#x27;edge_face_connectivity&#x27; (nedge: 24, 2: 2)&gt;\n",
       "array([[ 0,  3],\n",
       "       [ 0,  1],\n",
       "       [ 0,  9],\n",
       "       [ 1,  2],\n",
       "       [ 1, 10],\n",
       "       [ 1,  4],\n",
       "       [ 2,  5],\n",
       "       [ 2, 11],\n",
       "       [ 4,  5],\n",
       "       [ 4,  3],\n",
       "       [ 4,  7],\n",
       "       [ 5,  8],\n",
       "       [ 5, 12],\n",
       "       [ 3,  6],\n",
       "       [ 3, 13],\n",
       "       [ 6,  7],\n",
       "       [ 6, 14],\n",
       "       [ 7, 15],\n",
       "       [ 7,  8],\n",
       "       [ 8, 16],\n",
       "       [ 0, 17],\n",
       "       [ 2, 18],\n",
       "       [ 6, 19],\n",
       "       [ 8, 20]])\n",
       "Dimensions without coordinates: nedge, 2\n",
       "Attributes:\n",
       "    cf_role:      edge_face_connectivity\n",
       "    long_name:    neighbor faces for edges\n",
       "    start_index:  0</pre><div class='xr-wrap' style='display:none'><div class='xr-header'><div class='xr-obj-type'>xarray.DataArray</div><div class='xr-array-name'>'edge_face_connectivity'</div><ul class='xr-dim-list'><li><span>nedge</span>: 24</li><li><span>2</span>: 2</li></ul></div><ul class='xr-sections'><li class='xr-section-item'><div class='xr-array-wrap'><input id='section-85909bd1-1949-400c-bb61-3447370a1c66' class='xr-array-in' type='checkbox' checked><label for='section-85909bd1-1949-400c-bb61-3447370a1c66' title='Show/hide data repr'><svg class='icon xr-icon-database'><use xlink:href='#icon-database'></use></svg></label><div class='xr-array-preview xr-preview'><span>0 3 0 1 0 9 1 2 1 10 1 4 2 5 2 ... 7 15 7 8 8 16 0 17 2 18 6 19 8 20</span></div><div class='xr-array-data'><pre>array([[ 0,  3],\n",
       "       [ 0,  1],\n",
       "       [ 0,  9],\n",
       "       [ 1,  2],\n",
       "       [ 1, 10],\n",
       "       [ 1,  4],\n",
       "       [ 2,  5],\n",
       "       [ 2, 11],\n",
       "       [ 4,  5],\n",
       "       [ 4,  3],\n",
       "       [ 4,  7],\n",
       "       [ 5,  8],\n",
       "       [ 5, 12],\n",
       "       [ 3,  6],\n",
       "       [ 3, 13],\n",
       "       [ 6,  7],\n",
       "       [ 6, 14],\n",
       "       [ 7, 15],\n",
       "       [ 7,  8],\n",
       "       [ 8, 16],\n",
       "       [ 0, 17],\n",
       "       [ 2, 18],\n",
       "       [ 6, 19],\n",
       "       [ 8, 20]])</pre></div></div></li><li class='xr-section-item'><input id='section-55008367-73a4-4a96-9af1-1f72deed13d1' class='xr-section-summary-in' type='checkbox' disabled ><label for='section-55008367-73a4-4a96-9af1-1f72deed13d1' class='xr-section-summary'  title='Expand/collapse section'>Coordinates: <span>(0)</span></label><div class='xr-section-inline-details'></div><div class='xr-section-details'><ul class='xr-var-list'></ul></div></li><li class='xr-section-item'><input id='section-1f818db3-2226-4884-bd18-8b9ea569e672' class='xr-section-summary-in' type='checkbox'  checked><label for='section-1f818db3-2226-4884-bd18-8b9ea569e672' class='xr-section-summary' >Attributes: <span>(3)</span></label><div class='xr-section-inline-details'></div><div class='xr-section-details'><dl class='xr-attrs'><dt><span>cf_role :</span></dt><dd>edge_face_connectivity</dd><dt><span>long_name :</span></dt><dd>neighbor faces for edges</dd><dt><span>start_index :</span></dt><dd>0</dd></dl></div></li></ul></div></div>"
      ],
      "text/plain": [
       "<xarray.DataArray 'edge_face_connectivity' (nedge: 24, 2: 2)>\n",
       "array([[ 0,  3],\n",
       "       [ 0,  1],\n",
       "       [ 0,  9],\n",
       "       [ 1,  2],\n",
       "       [ 1, 10],\n",
       "       [ 1,  4],\n",
       "       [ 2,  5],\n",
       "       [ 2, 11],\n",
       "       [ 4,  5],\n",
       "       [ 4,  3],\n",
       "       [ 4,  7],\n",
       "       [ 5,  8],\n",
       "       [ 5, 12],\n",
       "       [ 3,  6],\n",
       "       [ 3, 13],\n",
       "       [ 6,  7],\n",
       "       [ 6, 14],\n",
       "       [ 7, 15],\n",
       "       [ 7,  8],\n",
       "       [ 8, 16],\n",
       "       [ 0, 17],\n",
       "       [ 2, 18],\n",
       "       [ 6, 19],\n",
       "       [ 8, 20]])\n",
       "Dimensions without coordinates: nedge, 2\n",
       "Attributes:\n",
       "    cf_role:      edge_face_connectivity\n",
       "    long_name:    neighbor faces for edges\n",
       "    start_index:  0"
      ]
     },
     "execution_count": 38,
     "metadata": {},
     "output_type": "execute_result"
    }
   ],
   "source": [
    "out['edge_face_connectivity']"
   ]
  },
  {
   "cell_type": "code",
   "execution_count": 39,
   "metadata": {},
   "outputs": [
    {
     "data": {
      "text/plain": [
       "0.0"
      ]
     },
     "execution_count": 39,
     "metadata": {},
     "output_type": "execute_result"
    }
   ],
   "source": [
    "np.sign(-0.)"
   ]
  },
  {
   "cell_type": "code",
   "execution_count": 40,
   "metadata": {},
   "outputs": [],
   "source": [
    "# ultimately transition this to xarray attributes?\n",
    "class Params:\n",
    "    def __init__(self):\n",
    "        self.diffusion_coefficient = 0.1\n",
    "        self.beta = 1\n",
    "\n",
    "params = Params() \n",
    "    "
   ]
  },
  {
   "cell_type": "markdown",
   "metadata": {},
   "source": [
    "### Distance between Centroids"
   ]
  },
  {
   "cell_type": "code",
   "execution_count": 41,
   "metadata": {},
   "outputs": [
    {
     "data": {
      "text/plain": [
       "[<matplotlib.lines.Line2D at 0x1c8d19f1520>]"
      ]
     },
     "execution_count": 41,
     "metadata": {},
     "output_type": "execute_result"
    },
    {
     "data": {
      "image/png": "[encoded data removed]",
      "text/plain": [
       "<Figure size 432x288 with 1 Axes>"
      ]
     },
     "metadata": {
      "needs_background": "light"
     },
     "output_type": "display_data"
    }
   ],
   "source": [
    "f1 = out['edge_face_connectivity'].T[0]\n",
    "f2 = out['edge_face_connectivity'].T[1]\n",
    "\n",
    "x1_coords = out['face_x'][f1]\n",
    "y1_coords = out['face_y'][f1]\n",
    "x2_coords = out['face_x'][f2]\n",
    "y2_coords = out['face_y'][f2]\n",
    "\n",
    "dist_data = np.sqrt((x1_coords - x2_coords)**2 + (y1_coords - y2_coords)**2)\n",
    "out[\"face_to_face_dist\"] = xr.DataArray(\n",
    "    data = dist_data,\n",
    "    dims = (\"nedge\"), \n",
    "    attrs={\n",
    "        'units': 'feet' # will need to update units based on prj file\n",
    "})\n",
    "\n",
    "plt.plot(out['nedge'], out['face_to_face_dist'])"
   ]
  },
  {
   "cell_type": "markdown",
   "metadata": {},
   "source": [
    "### Coefficient of the Diffusion Term\n",
    "\n",
    "**08/10/2022 internal call**: decide to ignore diffusion between cells and ghost cells at least for now. Turn diffusion coefficient for all faces adjacent to a ghost cell to 0. \n",
    "* TO DO: Is this actually a problem? Why can't we include it? Is it because there is some volume?"
   ]
  },
  {
   "cell_type": "code",
   "execution_count": 50,
   "metadata": {},
   "outputs": [
    {
     "name": "stdout",
     "output_type": "stream",
     "text": [
      "[0.1 0.1 0.1 0.1 0.1 0.1 0.1 0.1 0.1 0.1 0.1 0.1]\n"
     ]
    }
   ],
   "source": [
    "# diffusion coefficient: ignore diffusion between cells in the mesh and ghost cells\n",
    "diffusion_coefficient = np.zeros(len(out['nedge']))\n",
    "\n",
    "# identify ghost cells: \n",
    "# ghost cells are only in the second element of a pair or cell indices that denote an edge together\n",
    "f1 = out['edge_face_connectivity'].T[0]\n",
    "f2 = out['edge_face_connectivity'].T[1]\n",
    "\n",
    "f1_ghost = np.where(f1 <= 8) # to do: adapt code for flexibility\n",
    "f2_ghost = np.where(f2 <= 8)\n",
    "# print(f2_ghost)\n",
    "\n",
    "# set diffusion coefficients where NOT pseusdo cell \n",
    "diffusion_coefficient[np.array(f2_ghost)] = params.diffusion_coefficient"
   ]
  },
  {
   "cell_type": "code",
   "execution_count": 197,
   "metadata": {},
   "outputs": [],
   "source": [
    "# diffusion_array = np.zeros((len(out['time']), len(out['nedge'])))\n",
    "\n",
    "diffusion_array =  out['edge_vertical_area'] * params.diffusion_coefficient / out['face_to_face_dist']\n",
    "\n",
    "out[\"diffusion_coeff\"] = xr.DataArray(\n",
    "    data = diffusion_array,\n",
    "    dims = (\"time\", \"nedge\"), \n",
    "    attrs={\n",
    "        'units': 'feet' # will need to update units based on prj file\n",
    "})"
   ]
  },
  {
   "cell_type": "code",
   "execution_count": 139,
   "metadata": {},
   "outputs": [
    {
     "data": {
      "image/png": "[encoded data removed]",
      "text/plain": [
       "<Figure size 432x288 with 1 Axes>"
      ]
     },
     "metadata": {
      "needs_background": "light"
     },
     "output_type": "display_data"
    }
   ],
   "source": [
    "# plot face velocity over time for each cell \n",
    "for f in out['nedge']:\n",
    "    # print(ds_zarr['volume'].compute().T.shape)\n",
    "    if f.values in f2_ghost[0]:\n",
    "        color = 'blue'\n",
    "    else:\n",
    "        color = 'red'\n",
    "    plt.plot(out['time'], out['diffusion_coeff'].T[:][f], color = color)\n",
    "# plt.legend(ncol=5, loc='lower center', bbox_to_anchor=(-0.5, 0))\n",
    "plt.show()"
   ]
  },
  {
   "cell_type": "markdown",
   "metadata": {},
   "source": [
    "#### Sum of Diffusion Coefficients - for Diagonal Term"
   ]
  },
  {
   "cell_type": "code",
   "execution_count": 154,
   "metadata": {},
   "outputs": [],
   "source": [
    "def sum_vals(face, time_index, sum_array):\n",
    "    '''\n",
    "    https://stackoverflow.com/questions/67108215/how-to-get-sum-of-values-in-a-numpy-array-based-on-another-array-with-repetitive\n",
    "    '''\n",
    "    # _, idx, _ = np.unique(face, return_counts=True, return_inverse=True)\n",
    "    nodal_values = np.bincount(face.values, out['diffusion_coeff'][time_index])\n",
    "    sum_array[0:len(nodal_values)] = nodal_values\n",
    "    return sum_array\n",
    "\n",
    "\n",
    "# initialize array\n",
    "sum_diffusion_array = np.zeros((len(out['time']), len(out['nface'])))\n",
    "\n",
    "# FACE 1 \n",
    "for t in range(len(out['time'])):\n",
    "    f1_sums = np.zeros(len(out['nface'])) \n",
    "    f2_sums = np.zeros(len(out['nface']))\n",
    "\n",
    "    f1_sums = sum_vals(f1, t, f1_sums)\n",
    "    f2_sums = sum_vals(f2, t, f2_sums)\n",
    "\n",
    "    sum_diffusion_array[t] = f1_sums + f2_sums\n",
    "\n",
    "out[\"sum_diffusion_coeff\"] = xr.DataArray(\n",
    "    data = sum_diffusion_array,\n",
    "    dims = (\"time\", \"nface\"), \n",
    "    attrs={\n",
    "        'units': 'feet' # will need to update units based on prj file\n",
    "})"
   ]
  },
  {
   "cell_type": "code",
   "execution_count": 155,
   "metadata": {},
   "outputs": [
    {
     "data": {
      "image/png": "[encoded data removed]",
      "text/plain": [
       "<Figure size 432x288 with 1 Axes>"
      ]
     },
     "metadata": {
      "needs_background": "light"
     },
     "output_type": "display_data"
    }
   ],
   "source": [
    "for f in out['nface']:\n",
    "    # print(ds_zarr['volume'].compute().T.shape)\n",
    "    plt.plot(out['time'], out['sum_diffusion_coeff'].T[:][f],  label=f.values)\n",
    "plt.legend(ncol=5, loc='lower center', bbox_to_anchor=(-0.5, 0))\n",
    "plt.show()"
   ]
  },
  {
   "cell_type": "code",
   "execution_count": 156,
   "metadata": {},
   "outputs": [
    {
     "data": {
      "text/plain": [
       "array(0.83789211)"
      ]
     },
     "execution_count": 156,
     "metadata": {},
     "output_type": "execute_result"
    }
   ],
   "source": [
    "out['sum_diffusion_coeff'][1][0].values"
   ]
  },
  {
   "cell_type": "markdown",
   "metadata": {},
   "source": [
    "#### Advection Coefficient"
   ]
  },
  {
   "cell_type": "code",
   "execution_count": 198,
   "metadata": {},
   "outputs": [],
   "source": [
    "# face normal water flow\n",
    "# edge_normal_water_flow = np.zeros((len(out['time']), len(out['nedge'])))\n",
    "\n",
    "# for t in range(len(out['time'])):\n",
    "edge_normal_water_flow = out['edge_vertical_area'] * out['edge_velocity'] ##updated: units shoudl be in L3/T, not L3. \n",
    "     # * out['dt'][t] # L2 * L/T * T = L3\n",
    "\n",
    "out[\"advection_coeff\"] = xr.DataArray(\n",
    "    data = edge_normal_water_flow,\n",
    "    dims = (\"time\", \"nedge\"), \n",
    "    attrs={\n",
    "        'units': 'cubic feet' # will need to update units based on prj file\n",
    "})"
   ]
  },
  {
   "cell_type": "code",
   "execution_count": 199,
   "metadata": {},
   "outputs": [
    {
     "data": {
      "image/png": "[encoded data removed]",
      "text/plain": [
       "<Figure size 432x288 with 1 Axes>"
      ]
     },
     "metadata": {
      "needs_background": "light"
     },
     "output_type": "display_data"
    }
   ],
   "source": [
    "for f in out['nedge']:\n",
    "    # print(ds_zarr['volume'].compute().T.shape)\n",
    "    plt.plot(out['time'], out['advection_coeff'].T[:][f], label=f.values)\n",
    "plt.legend(ncol=5, loc='lower center', bbox_to_anchor=(-0.5, 0))\n",
    "plt.show()"
   ]
  },
  {
   "cell_type": "markdown",
   "metadata": {},
   "source": [
    "#### Ghost Cells Volume Out\n",
    "\n",
    "For ghost cells receiving outflow, the volume will be the flow across the face * time. This will allow us to use the total load advection-diffusion equation. "
   ]
  },
  {
   "cell_type": "code",
   "execution_count": 185,
   "metadata": {},
   "outputs": [],
   "source": [
    "# find ghost cells receiving flow \n",
    "nreal = f1.max()\n",
    "f2_ghost = np.where(f2 > nreal)[0]  \n",
    "\n",
    "# criteria: positive velocity = flowing in \n",
    "# f2_adv = \n",
    "\n",
    "# print(f2_ghost)\n",
    "\n",
    "ghost_vels = np.zeros((len(out['time']), len(out['nedge'])))\n",
    "\n",
    "for t in range(len(out['time'])):\n",
    "    # positive velocities\n",
    "    positive_velocity_indices = np.where(out['edge_velocity'][t] > 0 )[0]\n",
    "\n",
    "    # get intersection - this is where water is flowing OUT to a ghost cell\n",
    "    index_list = np.intersect1d(positive_velocity_indices, f2_ghost)\n",
    "\n",
    "    if len(index_list) == 0:\n",
    "        pass\n",
    "    else:\n",
    "        ghost_vels[t][index_list] = out['edge_velocity'][t][index_list]\n"
   ]
  },
  {
   "cell_type": "code",
   "execution_count": 186,
   "metadata": {},
   "outputs": [],
   "source": [
    "ghost_flux_vols = ghost_vels * out['edge_vertical_area'] * out['dt']"
   ]
  },
  {
   "cell_type": "code",
   "execution_count": 187,
   "metadata": {},
   "outputs": [],
   "source": [
    "# transfer values to corresponding CELLs\n",
    "\n",
    "ghost_vols = np.zeros((len(out['time']), len(out['nface'])))\n",
    "for t in range(len(out['time'])):\n",
    "    indices = np.where(ghost_flux_vols[t] > 0)[0]\n",
    "    cell_ind = f2[indices]\n",
    "    vals = ghost_flux_vols[t][indices]\n",
    "    if len(cell_ind) > 0:\n",
    "        ghost_vols[t][np.array(cell_ind)] = vals \n",
    "    else:\n",
    "        pass"
   ]
  },
  {
   "cell_type": "code",
   "execution_count": 164,
   "metadata": {},
   "outputs": [],
   "source": [
    "out[\"ghost_volumes\"] = xr.DataArray(\n",
    "    data = ghost_vols,\n",
    "    dims = (\"time\", \"nface\"), \n",
    "    attrs={\n",
    "        'units': 'cubic feet' # will need to update units based on prj file\n",
    "})"
   ]
  },
  {
   "cell_type": "markdown",
   "metadata": {},
   "source": [
    "# Save to Zarr"
   ]
  },
  {
   "cell_type": "code",
   "execution_count": 166,
   "metadata": {},
   "outputs": [
    {
     "data": {
      "text/plain": [
       "<xarray.backends.zarr.ZarrStore at 0x1c8d3780430>"
      ]
     },
     "execution_count": 166,
     "metadata": {},
     "output_type": "execute_result"
    }
   ],
   "source": [
    "\n",
    "# Save to Zarr\n",
    "out.to_zarr('box-example.zarr',\n",
    "           mode='w',\n",
    "           consolidated=True,  # http://xarray.pydata.org/en/stable/user-guide/io.html#consolidated-metadata\n",
    "          )"
   ]
  },
  {
   "cell_type": "code",
   "execution_count": null,
   "metadata": {},
   "outputs": [],
   "source": []
  }
 ],
 "metadata": {
  "kernelspec": {
   "display_name": "Python 3.9.13 ('ras2d_wq')",
   "language": "python",
   "name": "python3"
  },
  "language_info": {
   "codemirror_mode": {
    "name": "ipython",
    "version": 3
   },
   "file_extension": ".py",
   "mimetype": "text/x-python",
   "name": "python",
   "nbconvert_exporter": "python",
   "pygments_lexer": "ipython3",
   "version": "3.9.13"
  },
  "orig_nbformat": 4,
  "vscode": {
   "interpreter": {
    "hash": "d3bc885d7ab0c0c38d99a4317f3c6d4e3a047e25556b25c1c90fb7abbfef4bee"
   }
  }
 },
 "nbformat": 4,
 "nbformat_minor": 2
}
