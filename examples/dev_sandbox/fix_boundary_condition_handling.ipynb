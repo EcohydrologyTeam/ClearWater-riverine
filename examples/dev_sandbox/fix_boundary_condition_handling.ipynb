{
 "cells": [
  {
   "cell_type": "markdown",
   "id": "b677111f-52b0-4b46-a331-5eb714ba901a",
   "metadata": {},
   "source": [
    "# Fix Boundary Condition Bug"
   ]
  },
  {
   "cell_type": "code",
   "execution_count": 8,
   "id": "3961fae8-a53a-49ae-89a9-80a5c946295a",
   "metadata": {},
   "outputs": [],
   "source": [
    "import h5py\n",
    "import pandas as pd\n",
    "from pathlib import Path"
   ]
  },
  {
   "cell_type": "code",
   "execution_count": 16,
   "id": "912eddbe-ac41-4e4a-a343-457166160887",
   "metadata": {},
   "outputs": [
    {
     "name": "stdout",
     "output_type": "stream",
     "text": [
      "\\\\limno.com\\files\\AAO\\AAOWorking\\2ERDC12 - Clearwater\\ClearwaterHECRAS_testCases\\sumwereCreek_TSM_testing_timestep\\clearWaterTestCases.p49.hdf\n"
     ]
    }
   ],
   "source": [
    "hdf_path = Path(r'\\\\limno.com\\files\\AAO\\AAOWorking\\2ERDC12 - Clearwater\\ClearwaterHECRAS_testCases\\sumwereCreek_TSM_testing_timestep')\n",
    "hdf_file_path = hdf_path / 'clearWaterTestCases.p49.hdf'\n",
    "print(hdf_file_path)"
   ]
  },
  {
   "cell_type": "markdown",
   "id": "b1cff2c6-b06b-47b9-b054-5da28c4264cd",
   "metadata": {},
   "source": [
    "## Open File"
   ]
  },
  {
   "cell_type": "code",
   "execution_count": 17,
   "id": "bd7b6304-dcbf-469f-a8fa-4508060f11c2",
   "metadata": {},
   "outputs": [],
   "source": [
    "infile = h5py.File(hdf_file_path, 'r')"
   ]
  },
  {
   "cell_type": "code",
   "execution_count": 18,
   "id": "83cafaee-86a6-48d7-8aad-7f0736871203",
   "metadata": {},
   "outputs": [
    {
     "data": {
      "text/plain": [
       "<HDF5 file \"clearWaterTestCases.p49.hdf\" (mode r)>"
      ]
     },
     "execution_count": 18,
     "metadata": {},
     "output_type": "execute_result"
    }
   ],
   "source": [
    "infile"
   ]
  },
  {
   "cell_type": "markdown",
   "id": "165848ef-c687-44d6-9492-665d49d8f3c9",
   "metadata": {},
   "source": [
    "## Find Boundaries\n",
    "\n",
    "### Existing Code"
   ]
  },
  {
   "cell_type": "code",
   "execution_count": 19,
   "id": "d6f69680-82e5-47ac-b0b6-c335585b5606",
   "metadata": {},
   "outputs": [],
   "source": [
    "hdf_paths = {\n",
    "    'boundary_condition_external_faces': 'Geometry/Boundary Condition Lines/External Faces',\n",
    "    'boundary_condition_attributes': 'Geometry/Boundary Condition Lines/Attributes/',\n",
    "    'boundary_condition_fixes': 'Results/Unsteady/Output/Output Blocks/Base Output/Unsteady Time Series/Boundary Conditions'\n",
    "}"
   ]
  },
  {
   "cell_type": "code",
   "execution_count": 24,
   "id": "1eb8b897-f17c-4483-9e15-899fd5ca74ed",
   "metadata": {},
   "outputs": [],
   "source": [
    "external_faces = pd.DataFrame(infile[hdf_paths['boundary_condition_external_faces']][()])\n",
    "attributes = pd.DataFrame(infile[hdf_paths['boundary_condition_attributes']][()])"
   ]
  },
  {
   "cell_type": "code",
   "execution_count": 21,
   "id": "43332552-043d-497d-b29f-dc82d0d9c5a3",
   "metadata": {},
   "outputs": [
    {
     "name": "stdout",
     "output_type": "stream",
     "text": [
      "     BC Line ID  Face Index  FP Start Index  FP End Index  Station Start  \\\n",
      "0             0         954            6792          4461      -7.063520   \n",
      "1             0       11811            4461          4462      24.761791   \n",
      "2             0        9564            4462          5493      44.808739   \n",
      "3             0       13046            5493          1080      64.855682   \n",
      "4             0         109            1080          1076      83.864265   \n",
      "..          ...         ...             ...           ...            ...   \n",
      "265           3        3876            1172          1171       0.000000   \n",
      "266           3        3881            1171          1199       0.000000   \n",
      "267           3        3901            1199          1220       0.000000   \n",
      "268           3        4093            1220          1267       0.000000   \n",
      "269           3        3802            1267          1323      17.004597   \n",
      "\n",
      "     Station End  \n",
      "0      24.761791  \n",
      "1      44.808739  \n",
      "2      64.855682  \n",
      "3      83.864265  \n",
      "4     103.902901  \n",
      "..           ...  \n",
      "265     0.000000  \n",
      "266     0.000000  \n",
      "267     0.000000  \n",
      "268    17.004597  \n",
      "269    44.406685  \n",
      "\n",
      "[270 rows x 6 columns]\n"
     ]
    }
   ],
   "source": [
    "print(external_faces)"
   ]
  },
  {
   "cell_type": "code",
   "execution_count": 22,
   "id": "c6fad445-412b-4808-a1c5-addbb3165503",
   "metadata": {},
   "outputs": [
    {
     "name": "stdout",
     "output_type": "stream",
     "text": [
      "                         Name           SA-2D         Type      Length\n",
      "0                  b'US_Flow'  b'Perimeter 1'  b'External'  364.667389\n",
      "1                 b'DS_Stage'  b'Perimeter 1'  b'External'  590.738464\n",
      "2             b'PwrPlnt_Flow'  b'Perimeter 1'  b'External'   83.459290\n",
      "3  b'CoriolisColdSpringCreek'  b'Perimeter 1'  b'External'   28.750957\n"
     ]
    }
   ],
   "source": [
    "print(attributes)"
   ]
  },
  {
   "cell_type": "code",
   "execution_count": 25,
   "id": "dafd301a-6ac9-4592-947d-bcc42cdf548b",
   "metadata": {},
   "outputs": [
    {
     "ename": "TypeError",
     "evalue": "string indices must be integers, not 'tuple'",
     "output_type": "error",
     "traceback": [
      "\u001b[1;31m---------------------------------------------------------------------------\u001b[0m",
      "\u001b[1;31mTypeError\u001b[0m                                 Traceback (most recent call last)",
      "Cell \u001b[1;32mIn[25], line 1\u001b[0m\n\u001b[1;32m----> 1\u001b[0m list_of_boundaries \u001b[38;5;241m=\u001b[39m infile[\u001b[43mhdf_paths\u001b[49m\u001b[43m[\u001b[49m\u001b[38;5;124;43m'\u001b[39;49m\u001b[38;5;124;43mboundary_condition_fixes\u001b[39;49m\u001b[38;5;124;43m'\u001b[39;49m\u001b[43m]\u001b[49m\u001b[43m[\u001b[49m\u001b[43m(\u001b[49m\u001b[43m)\u001b[49m\u001b[43m]\u001b[49m]\n",
      "\u001b[1;31mTypeError\u001b[0m: string indices must be integers, not 'tuple'"
     ]
    }
   ],
   "source": [
    "list_of_boundaries = infile[hdf_paths['boundary_condition_fixes'][()]]"
   ]
  },
  {
   "cell_type": "code",
   "execution_count": 35,
   "id": "f800caa8-c635-4d2e-95c1-2cb6d0740e3d",
   "metadata": {},
   "outputs": [],
   "source": [
    "str_df = attributes.select_dtypes([object])\n",
    "str_df = str_df.stack().str.decode('utf-8').unstack()\n",
    "for col in str_df:\n",
    "    attributes[col] = str_df[col]\n",
    "boundary_attributes = attributes"
   ]
  },
  {
   "cell_type": "code",
   "execution_count": 37,
   "id": "803b2951-69c1-422c-9206-881fb7cc2954",
   "metadata": {},
   "outputs": [
    {
     "data": {
      "text/html": [
       "<div>\n",
       "<style scoped>\n",
       "    .dataframe tbody tr th:only-of-type {\n",
       "        vertical-align: middle;\n",
       "    }\n",
       "\n",
       "    .dataframe tbody tr th {\n",
       "        vertical-align: top;\n",
       "    }\n",
       "\n",
       "    .dataframe thead th {\n",
       "        text-align: right;\n",
       "    }\n",
       "</style>\n",
       "<table border=\"1\" class=\"dataframe\">\n",
       "  <thead>\n",
       "    <tr style=\"text-align: right;\">\n",
       "      <th></th>\n",
       "      <th>Name</th>\n",
       "      <th>SA-2D</th>\n",
       "      <th>Type</th>\n",
       "    </tr>\n",
       "  </thead>\n",
       "  <tbody>\n",
       "    <tr>\n",
       "      <th>0</th>\n",
       "      <td>US_Flow</td>\n",
       "      <td>Perimeter 1</td>\n",
       "      <td>External</td>\n",
       "    </tr>\n",
       "    <tr>\n",
       "      <th>1</th>\n",
       "      <td>DS_Stage</td>\n",
       "      <td>Perimeter 1</td>\n",
       "      <td>External</td>\n",
       "    </tr>\n",
       "    <tr>\n",
       "      <th>2</th>\n",
       "      <td>PwrPlnt_Flow</td>\n",
       "      <td>Perimeter 1</td>\n",
       "      <td>External</td>\n",
       "    </tr>\n",
       "    <tr>\n",
       "      <th>3</th>\n",
       "      <td>CoriolisColdSpringCreek</td>\n",
       "      <td>Perimeter 1</td>\n",
       "      <td>External</td>\n",
       "    </tr>\n",
       "  </tbody>\n",
       "</table>\n",
       "</div>"
      ],
      "text/plain": [
       "                      Name        SA-2D      Type\n",
       "0                  US_Flow  Perimeter 1  External\n",
       "1                 DS_Stage  Perimeter 1  External\n",
       "2             PwrPlnt_Flow  Perimeter 1  External\n",
       "3  CoriolisColdSpringCreek  Perimeter 1  External"
      ]
     },
     "execution_count": 37,
     "metadata": {},
     "output_type": "execute_result"
    }
   ],
   "source": [
    "str_df"
   ]
  },
  {
   "cell_type": "code",
   "execution_count": 36,
   "id": "e0ab7ee3-c282-4e08-b43e-b096b48c8f96",
   "metadata": {},
   "outputs": [
    {
     "data": {
      "text/html": [
       "<div>\n",
       "<style scoped>\n",
       "    .dataframe tbody tr th:only-of-type {\n",
       "        vertical-align: middle;\n",
       "    }\n",
       "\n",
       "    .dataframe tbody tr th {\n",
       "        vertical-align: top;\n",
       "    }\n",
       "\n",
       "    .dataframe thead th {\n",
       "        text-align: right;\n",
       "    }\n",
       "</style>\n",
       "<table border=\"1\" class=\"dataframe\">\n",
       "  <thead>\n",
       "    <tr style=\"text-align: right;\">\n",
       "      <th></th>\n",
       "      <th>Name</th>\n",
       "      <th>SA-2D</th>\n",
       "      <th>Type</th>\n",
       "      <th>Length</th>\n",
       "    </tr>\n",
       "  </thead>\n",
       "  <tbody>\n",
       "    <tr>\n",
       "      <th>0</th>\n",
       "      <td>US_Flow</td>\n",
       "      <td>Perimeter 1</td>\n",
       "      <td>External</td>\n",
       "      <td>364.667389</td>\n",
       "    </tr>\n",
       "    <tr>\n",
       "      <th>1</th>\n",
       "      <td>DS_Stage</td>\n",
       "      <td>Perimeter 1</td>\n",
       "      <td>External</td>\n",
       "      <td>590.738464</td>\n",
       "    </tr>\n",
       "    <tr>\n",
       "      <th>2</th>\n",
       "      <td>PwrPlnt_Flow</td>\n",
       "      <td>Perimeter 1</td>\n",
       "      <td>External</td>\n",
       "      <td>83.459290</td>\n",
       "    </tr>\n",
       "    <tr>\n",
       "      <th>3</th>\n",
       "      <td>CoriolisColdSpringCreek</td>\n",
       "      <td>Perimeter 1</td>\n",
       "      <td>External</td>\n",
       "      <td>28.750957</td>\n",
       "    </tr>\n",
       "  </tbody>\n",
       "</table>\n",
       "</div>"
      ],
      "text/plain": [
       "                      Name        SA-2D      Type      Length\n",
       "0                  US_Flow  Perimeter 1  External  364.667389\n",
       "1                 DS_Stage  Perimeter 1  External  590.738464\n",
       "2             PwrPlnt_Flow  Perimeter 1  External   83.459290\n",
       "3  CoriolisColdSpringCreek  Perimeter 1  External   28.750957"
      ]
     },
     "execution_count": 36,
     "metadata": {},
     "output_type": "execute_result"
    }
   ],
   "source": [
    "boundary_attributes"
   ]
  },
  {
   "cell_type": "code",
   "execution_count": 83,
   "id": "adae1890-9a1c-4f1c-bb29-4aebe59350a7",
   "metadata": {},
   "outputs": [
    {
     "data": {
      "text/html": [
       "<div>\n",
       "<style scoped>\n",
       "    .dataframe tbody tr th:only-of-type {\n",
       "        vertical-align: middle;\n",
       "    }\n",
       "\n",
       "    .dataframe tbody tr th {\n",
       "        vertical-align: top;\n",
       "    }\n",
       "\n",
       "    .dataframe thead th {\n",
       "        text-align: right;\n",
       "    }\n",
       "</style>\n",
       "<table border=\"1\" class=\"dataframe\">\n",
       "  <thead>\n",
       "    <tr style=\"text-align: right;\">\n",
       "      <th></th>\n",
       "      <th>BC Line ID</th>\n",
       "      <th>Face Index</th>\n",
       "      <th>FP Start Index</th>\n",
       "      <th>FP End Index</th>\n",
       "      <th>Station Start</th>\n",
       "      <th>Station End</th>\n",
       "      <th>Name</th>\n",
       "      <th>SA-2D</th>\n",
       "      <th>Type</th>\n",
       "      <th>Length</th>\n",
       "    </tr>\n",
       "  </thead>\n",
       "  <tbody>\n",
       "    <tr>\n",
       "      <th>0</th>\n",
       "      <td>0</td>\n",
       "      <td>954</td>\n",
       "      <td>6792</td>\n",
       "      <td>4461</td>\n",
       "      <td>-7.063520</td>\n",
       "      <td>24.761791</td>\n",
       "      <td>US_Flow</td>\n",
       "      <td>Perimeter 1</td>\n",
       "      <td>External</td>\n",
       "      <td>364.667389</td>\n",
       "    </tr>\n",
       "    <tr>\n",
       "      <th>1</th>\n",
       "      <td>0</td>\n",
       "      <td>11811</td>\n",
       "      <td>4461</td>\n",
       "      <td>4462</td>\n",
       "      <td>24.761791</td>\n",
       "      <td>44.808739</td>\n",
       "      <td>US_Flow</td>\n",
       "      <td>Perimeter 1</td>\n",
       "      <td>External</td>\n",
       "      <td>364.667389</td>\n",
       "    </tr>\n",
       "    <tr>\n",
       "      <th>2</th>\n",
       "      <td>0</td>\n",
       "      <td>9564</td>\n",
       "      <td>4462</td>\n",
       "      <td>5493</td>\n",
       "      <td>44.808739</td>\n",
       "      <td>64.855682</td>\n",
       "      <td>US_Flow</td>\n",
       "      <td>Perimeter 1</td>\n",
       "      <td>External</td>\n",
       "      <td>364.667389</td>\n",
       "    </tr>\n",
       "    <tr>\n",
       "      <th>3</th>\n",
       "      <td>0</td>\n",
       "      <td>13046</td>\n",
       "      <td>5493</td>\n",
       "      <td>1080</td>\n",
       "      <td>64.855682</td>\n",
       "      <td>83.864265</td>\n",
       "      <td>US_Flow</td>\n",
       "      <td>Perimeter 1</td>\n",
       "      <td>External</td>\n",
       "      <td>364.667389</td>\n",
       "    </tr>\n",
       "    <tr>\n",
       "      <th>4</th>\n",
       "      <td>0</td>\n",
       "      <td>109</td>\n",
       "      <td>1080</td>\n",
       "      <td>1076</td>\n",
       "      <td>83.864265</td>\n",
       "      <td>103.902901</td>\n",
       "      <td>US_Flow</td>\n",
       "      <td>Perimeter 1</td>\n",
       "      <td>External</td>\n",
       "      <td>364.667389</td>\n",
       "    </tr>\n",
       "    <tr>\n",
       "      <th>...</th>\n",
       "      <td>...</td>\n",
       "      <td>...</td>\n",
       "      <td>...</td>\n",
       "      <td>...</td>\n",
       "      <td>...</td>\n",
       "      <td>...</td>\n",
       "      <td>...</td>\n",
       "      <td>...</td>\n",
       "      <td>...</td>\n",
       "      <td>...</td>\n",
       "    </tr>\n",
       "    <tr>\n",
       "      <th>265</th>\n",
       "      <td>3</td>\n",
       "      <td>3876</td>\n",
       "      <td>1172</td>\n",
       "      <td>1171</td>\n",
       "      <td>0.000000</td>\n",
       "      <td>0.000000</td>\n",
       "      <td>CoriolisColdSpringCreek</td>\n",
       "      <td>Perimeter 1</td>\n",
       "      <td>External</td>\n",
       "      <td>28.750957</td>\n",
       "    </tr>\n",
       "    <tr>\n",
       "      <th>266</th>\n",
       "      <td>3</td>\n",
       "      <td>3881</td>\n",
       "      <td>1171</td>\n",
       "      <td>1199</td>\n",
       "      <td>0.000000</td>\n",
       "      <td>0.000000</td>\n",
       "      <td>CoriolisColdSpringCreek</td>\n",
       "      <td>Perimeter 1</td>\n",
       "      <td>External</td>\n",
       "      <td>28.750957</td>\n",
       "    </tr>\n",
       "    <tr>\n",
       "      <th>267</th>\n",
       "      <td>3</td>\n",
       "      <td>3901</td>\n",
       "      <td>1199</td>\n",
       "      <td>1220</td>\n",
       "      <td>0.000000</td>\n",
       "      <td>0.000000</td>\n",
       "      <td>CoriolisColdSpringCreek</td>\n",
       "      <td>Perimeter 1</td>\n",
       "      <td>External</td>\n",
       "      <td>28.750957</td>\n",
       "    </tr>\n",
       "    <tr>\n",
       "      <th>268</th>\n",
       "      <td>3</td>\n",
       "      <td>4093</td>\n",
       "      <td>1220</td>\n",
       "      <td>1267</td>\n",
       "      <td>0.000000</td>\n",
       "      <td>17.004597</td>\n",
       "      <td>CoriolisColdSpringCreek</td>\n",
       "      <td>Perimeter 1</td>\n",
       "      <td>External</td>\n",
       "      <td>28.750957</td>\n",
       "    </tr>\n",
       "    <tr>\n",
       "      <th>269</th>\n",
       "      <td>3</td>\n",
       "      <td>3802</td>\n",
       "      <td>1267</td>\n",
       "      <td>1323</td>\n",
       "      <td>17.004597</td>\n",
       "      <td>44.406685</td>\n",
       "      <td>CoriolisColdSpringCreek</td>\n",
       "      <td>Perimeter 1</td>\n",
       "      <td>External</td>\n",
       "      <td>28.750957</td>\n",
       "    </tr>\n",
       "  </tbody>\n",
       "</table>\n",
       "<p>270 rows × 10 columns</p>\n",
       "</div>"
      ],
      "text/plain": [
       "     BC Line ID  Face Index  FP Start Index  FP End Index  Station Start  \\\n",
       "0             0         954            6792          4461      -7.063520   \n",
       "1             0       11811            4461          4462      24.761791   \n",
       "2             0        9564            4462          5493      44.808739   \n",
       "3             0       13046            5493          1080      64.855682   \n",
       "4             0         109            1080          1076      83.864265   \n",
       "..          ...         ...             ...           ...            ...   \n",
       "265           3        3876            1172          1171       0.000000   \n",
       "266           3        3881            1171          1199       0.000000   \n",
       "267           3        3901            1199          1220       0.000000   \n",
       "268           3        4093            1220          1267       0.000000   \n",
       "269           3        3802            1267          1323      17.004597   \n",
       "\n",
       "     Station End                     Name        SA-2D      Type      Length  \n",
       "0      24.761791                  US_Flow  Perimeter 1  External  364.667389  \n",
       "1      44.808739                  US_Flow  Perimeter 1  External  364.667389  \n",
       "2      64.855682                  US_Flow  Perimeter 1  External  364.667389  \n",
       "3      83.864265                  US_Flow  Perimeter 1  External  364.667389  \n",
       "4     103.902901                  US_Flow  Perimeter 1  External  364.667389  \n",
       "..           ...                      ...          ...       ...         ...  \n",
       "265     0.000000  CoriolisColdSpringCreek  Perimeter 1  External   28.750957  \n",
       "266     0.000000  CoriolisColdSpringCreek  Perimeter 1  External   28.750957  \n",
       "267     0.000000  CoriolisColdSpringCreek  Perimeter 1  External   28.750957  \n",
       "268    17.004597  CoriolisColdSpringCreek  Perimeter 1  External   28.750957  \n",
       "269    44.406685  CoriolisColdSpringCreek  Perimeter 1  External   28.750957  \n",
       "\n",
       "[270 rows x 10 columns]"
      ]
     },
     "execution_count": 83,
     "metadata": {},
     "output_type": "execute_result"
    }
   ],
   "source": [
    "boundary_attributes['BC Line ID'] = boundary_attributes.index\n",
    "boundary_data = pd.merge(external_faces, boundary_attributes, on = 'BC Line ID', how = 'left')\n",
    "boundary_data"
   ]
  },
  {
   "cell_type": "markdown",
   "id": "7622a9ee-f4ee-4b69-be1b-e3616392a900",
   "metadata": {},
   "source": [
    "### Updated Code"
   ]
  },
  {
   "cell_type": "code",
   "execution_count": 41,
   "id": "848eaf3d-d291-45a8-95b6-d36e4e60a51d",
   "metadata": {},
   "outputs": [
    {
     "data": {
      "text/plain": [
       "['CoriolisColdSpringCreek',\n",
       " 'CoriolisColdSpringCreek - Flow per Face',\n",
       " 'CoriolisColdSpringCreek - Stage per Face',\n",
       " 'DS_Stage',\n",
       " 'DS_Stage - Flow per Face',\n",
       " 'DS_Stage - Stage per Face',\n",
       " 'PwrPlnt_Flow',\n",
       " 'PwrPlnt_Flow - Flow per Face',\n",
       " 'PwrPlnt_Flow - Stage per Face',\n",
       " 'US_Flow',\n",
       " 'US_Flow - Flow per Face',\n",
       " 'US_Flow - Stage per Face']"
      ]
     },
     "execution_count": 41,
     "metadata": {},
     "output_type": "execute_result"
    }
   ],
   "source": [
    "list_of_boundaries = list(infile[hdf_paths['boundary_condition_fixes']].keys())\n",
    "list_of_boundaries"
   ]
  },
  {
   "cell_type": "code",
   "execution_count": 45,
   "id": "e2ba03df-1e30-4d64-afa0-1f0afe80454c",
   "metadata": {},
   "outputs": [
    {
     "data": {
      "text/plain": [
       "['US_Flow', 'DS_Stage', 'PwrPlnt_Flow', 'CoriolisColdSpringCreek']"
      ]
     },
     "execution_count": 45,
     "metadata": {},
     "output_type": "execute_result"
    }
   ],
   "source": [
    "list(boundary_attributes.Name)"
   ]
  },
  {
   "cell_type": "code",
   "execution_count": 89,
   "id": "bb9e3efe-ad83-4ea5-9d18-52065a2d42d7",
   "metadata": {},
   "outputs": [],
   "source": [
    "# boundary_data = boundary_data_copy"
   ]
  },
  {
   "cell_type": "code",
   "execution_count": 118,
   "id": "b2710707-0847-41f1-96e6-422d29455974",
   "metadata": {},
   "outputs": [
    {
     "name": "stdout",
     "output_type": "stream",
     "text": [
      "starting US_Flow\n",
      "starting DS_Stage\n",
      "starting PwrPlnt_Flow\n",
      "starting CoriolisColdSpringCreek\n",
      "Extra boundary faces identified in HDF output for CoriolisColdSpringCreek.\n",
      "Removing {7685, 3081, 2570, 7692, 1048, 540, 32, 11810, 11811, 39, 41, 48, 2097, 49, 567, 10814, 64, 10818, 69, 10823, 72, 10825, 591, 10832, 2131, 2132, 10837, 2136, 89, 11864, 10844, 10845, 3165, 608, 11879, 2666, 1130, 109, 621, 113, 635, 11900, 11902, 13956, 15493, 15494, 15495, 2184, 15497, 15496, 648, 142, 4249, 3225, 4253, 673, 677, 2215, 169, 1706, 3901, 2732, 2221, 2222, 15021, 180, 184, 198, 2766, 2767, 3279, 212, 1752, 1755, 220, 3806, 3295, 5855, 2789, 2790, 13046, 247, 250, 13051, 1276, 2301, 253, 1793, 1285, 1286, 264, 1804, 272, 2834, 277, 791, 280, 11033, 283, 9503, 9504, 11041, 288, 800, 3876, 2341, 11046, 11049, 809, 11051, 5931, 11053, 3374, 813, 303, 817, 3881, 819, 1844, 307, 3386, 315, 7484, 3388, 12606, 3390, 3392, 3393, 5951, 9539, 5953, 1854, 320, 319, 327, 12105, 3402, 9547, 3401, 3404, 9551, 336, 340, 2901, 3414, 9559, 343, 3417, 1370, 346, 1372, 9564, 351, 7522, 1378, 2412, 3445, 3447, 3449, 3450, 7546, 3452, 3454, 3456, 7552, 3458, 1923, 3460, 3462, 2950, 3464, 3466, 3470, 3471, 3474, 3476, 3478, 6038, 3480, 1945, 2459, 3497, 3498, 3499, 13737, 3501, 428, 3503, 1459, 1465, 954, 3003, 956, 3524, 3525, 12098, 12099, 1484, 14798, 14799, 12750, 14801, 3537, 2515, 14804, 14806, 14810, 14811, 14812, 486, 14823, 14826, 14829, 11247, 14832, 11249, 14834, 11251, 14836, 11253, 11254, 13304, 14846, 8191}\n"
     ]
    }
   ],
   "source": [
    "df_ls = []\n",
    "from clearwater_riverine.io.hdf import _parse_attributes\n",
    "\n",
    "for boundary in list(boundary_attributes.Name):\n",
    "    print(f'starting {boundary}')\n",
    "    fpath = f\"{hdf_paths['boundary_condition_fixes']}/{boundary} - Flow per Face\"\n",
    "    attrs = _parse_attributes(infile[fpath])\n",
    "    boundary_faces_fix = attrs['Faces']\n",
    "    boundary_faces_orig = boundary_data[(boundary_data.Name == boundary)]\n",
    "    if set(boundary_faces_fix) != set(boundary_faces_orig['Face Index']):\n",
    "        print(f'Extra boundary faces identified in HDF output for {boundary}.')\n",
    "        diff = set(boundary_faces_orig['Face Index']) - set(boundary_faces_fix)\n",
    "        print(f'Removing {diff}')\n",
    "    df = boundary_data[(boundary_data.Name == boundary) & (boundary_data['Face Index'].isin(boundary_faces_fix))]\n",
    "    df_ls.append(df)"
   ]
  },
  {
   "cell_type": "code",
   "execution_count": 106,
   "id": "a83fe28d-8bca-459e-bd96-dc19cc3e7abf",
   "metadata": {},
   "outputs": [],
   "source": [
    "df_full = pd.concat(df_ls)"
   ]
  },
  {
   "cell_type": "code",
   "execution_count": 107,
   "id": "edc512b5-90c1-4f95-916b-ae6857de5da9",
   "metadata": {},
   "outputs": [],
   "source": [
    "df_full = df_full.drop(['Station Start', 'Station End'], axis=1)"
   ]
  },
  {
   "cell_type": "code",
   "execution_count": 108,
   "id": "cc014e39-78a1-4535-b9ad-18df7251236f",
   "metadata": {},
   "outputs": [],
   "source": [
    "df_full = df_full.drop_duplicates()"
   ]
  },
  {
   "cell_type": "code",
   "execution_count": 112,
   "id": "ea717e5a-e71f-424f-a8fc-6abd912523ec",
   "metadata": {},
   "outputs": [
    {
     "data": {
      "text/plain": [
       "True"
      ]
     },
     "execution_count": 112,
     "metadata": {},
     "output_type": "execute_result"
    }
   ],
   "source": [
    "set([1, 2]) == set([2, 1])"
   ]
  },
  {
   "cell_type": "code",
   "execution_count": 119,
   "id": "9eeca23e-9809-414a-a13a-a638d130f1e8",
   "metadata": {},
   "outputs": [],
   "source": [
    "infile.close()"
   ]
  },
  {
   "cell_type": "code",
   "execution_count": null,
   "id": "304a412e-e5b6-454b-9b74-bc73aff9f139",
   "metadata": {},
   "outputs": [],
   "source": []
  }
 ],
 "metadata": {
  "kernelspec": {
   "display_name": "Python 3 (ipykernel)",
   "language": "python",
   "name": "python3"
  },
  "language_info": {
   "codemirror_mode": {
    "name": "ipython",
    "version": 3
   },
   "file_extension": ".py",
   "mimetype": "text/x-python",
   "name": "python",
   "nbconvert_exporter": "python",
   "pygments_lexer": "ipython3",
   "version": "3.11.6"
  }
 },
 "nbformat": 4,
 "nbformat_minor": 5
}
