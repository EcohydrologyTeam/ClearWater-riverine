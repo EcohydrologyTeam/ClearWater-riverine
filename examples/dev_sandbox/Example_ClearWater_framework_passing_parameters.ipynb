{
 "cells": [
  {
   "cell_type": "code",
   "execution_count": 1,
   "metadata": {},
   "outputs": [],
   "source": [
    "from collections import OrderedDict\n",
    "\n",
    "class nsm():\n",
    "    def __init__(self, user_variables: dict = {}):\n",
    "        # Define the default values\n",
    "        # params = {}\n",
    "        self.params = OrderedDict()\n",
    "        self.params['lambda0'] = 5.2\n",
    "        self.params['lambda1'] = 5.3\n",
    "        self.params['lambda2'] = 5.4\n",
    "        self.params['lambda3'] = 5.5\n",
    "\n",
    "        # Override the default values with user-specified values\n",
    "        for key in self.params.keys():\n",
    "            if key in user_variables:\n",
    "                self.params[key] = user_variables[key]\n",
    "\n",
    "        # Print the values\n",
    "        for key in self.params.keys():\n",
    "            print(key, '=', self.params[key])\n",
    "\n",
    "    def algae(self):\n",
    "        print('I am here')\n",
    "\n",
    "def compute():\n",
    "    # Call NSM using the default values\n",
    "    print('\\nCalling NSM...')\n",
    "    nsm1 = nsm()\n",
    "    nsm1.algae()\n",
    "\n",
    "    # Override some of the default values in NSM\n",
    "    user_variables = {}\n",
    "    user_variables['lambda3'] = 9.1\n",
    "    user_variables['lambda1'] = 9.9\n",
    "    user_variables['garbage'] = -99\n",
    "\n",
    "    print('\\nCalling NSM...')\n",
    "    nsm2 = nsm(user_variables=user_variables)\n",
    "    nsm2.algae()\n",
    "    print(nsm2.params['lambda0'])\n"
   ]
  },
  {
   "cell_type": "code",
   "execution_count": 2,
   "metadata": {},
   "outputs": [
    {
     "name": "stdout",
     "output_type": "stream",
     "text": [
      "\n",
      "Calling NSM...\n",
      "lambda0 = 5.2\n",
      "lambda1 = 5.3\n",
      "lambda2 = 5.4\n",
      "lambda3 = 5.5\n",
      "I am here\n",
      "\n",
      "Calling NSM...\n",
      "lambda0 = 5.2\n",
      "lambda1 = 9.9\n",
      "lambda2 = 5.4\n",
      "lambda3 = 9.1\n",
      "I am here\n",
      "5.2\n"
     ]
    }
   ],
   "source": [
    "compute()"
   ]
  },
  {
   "cell_type": "code",
   "execution_count": 3,
   "metadata": {},
   "outputs": [],
   "source": [
    "class TSM:\n",
    "    name = 'TSM'\n",
    "    const1 = 1.5\n",
    "    const2 = 2.6\n",
    "\n",
    "    pathways = {}\n",
    "    pathways['sensible_heat'] = 0.0\n",
    "    pathways['latent_heat'] = 0.0\n",
    "\n",
    "    def compute_energy_budget(depth, volume):\n",
    "        pass\n",
    "\n",
    "\n",
    "class NSM:\n",
    "    name = 'NSM'\n",
    "    const1 = 9.5\n",
    "    const2 = 9.6\n",
    "\n",
    "    pathways = {}\n",
    "    pathways['algal_biomass'] = 0.0\n",
    "    pathways['NH4'] = 0.0\n",
    "    pathways['NO3'] = 0.0\n",
    "    pathways['PO4'] = 0.0\n",
    "    pathways['TP'] = 0.0\n",
    "    pathways['TN'] = 0.0\n",
    "\n",
    "    def compute_algae(depth, volume):\n",
    "        pass\n",
    "\n",
    "    def compute_nitrogen(depth, volume):\n",
    "        pass\n",
    "\n",
    "    def compute_phosphorus(depth, volume):\n",
    "        pass\n"
   ]
  },
  {
   "cell_type": "code",
   "execution_count": 4,
   "metadata": {},
   "outputs": [],
   "source": [
    "import numpy as np\n",
    "\n",
    "variables_dict = {}\n",
    "modules_list = []\n",
    "\n",
    "def compute_modules(modules: list, ncells: int):\n",
    "    for module in modules:\n",
    "        modules_list.append(module())\n",
    "        for p in module.pathways.keys():\n",
    "            variables_dict[p] = np.zeros(ncells)\n"
   ]
  },
  {
   "cell_type": "code",
   "execution_count": 5,
   "metadata": {},
   "outputs": [],
   "source": [
    "compute_modules([TSM, NSM], 1000000)"
   ]
  },
  {
   "cell_type": "code",
   "execution_count": 6,
   "metadata": {},
   "outputs": [
    {
     "name": "stdout",
     "output_type": "stream",
     "text": [
      "Module name:  TSM\n",
      "sensible_heat = 0.0\n",
      "latent_heat = 0.0\n",
      "Module name:  NSM\n",
      "algal_biomass = 0.0\n",
      "NH4 = 0.0\n",
      "NO3 = 0.0\n",
      "PO4 = 0.0\n",
      "TP = 0.0\n",
      "TN = 0.0\n"
     ]
    }
   ],
   "source": [
    "for module in modules_list:\n",
    "    print('Module name: ', module.name)\n",
    "    for key in module.pathways.keys():\n",
    "        print(key, '=', module.pathways[key])"
   ]
  },
  {
   "cell_type": "code",
   "execution_count": 7,
   "metadata": {},
   "outputs": [
    {
     "data": {
      "text/plain": [
       "{'sensible_heat': array([0., 0., 0., ..., 0., 0., 0.]),\n",
       " 'latent_heat': array([0., 0., 0., ..., 0., 0., 0.]),\n",
       " 'algal_biomass': array([0., 0., 0., ..., 0., 0., 0.]),\n",
       " 'NH4': array([0., 0., 0., ..., 0., 0., 0.]),\n",
       " 'NO3': array([0., 0., 0., ..., 0., 0., 0.]),\n",
       " 'PO4': array([0., 0., 0., ..., 0., 0., 0.]),\n",
       " 'TP': array([0., 0., 0., ..., 0., 0., 0.]),\n",
       " 'TN': array([0., 0., 0., ..., 0., 0., 0.])}"
      ]
     },
     "execution_count": 7,
     "metadata": {},
     "output_type": "execute_result"
    }
   ],
   "source": [
    "variables_dict"
   ]
  },
  {
   "cell_type": "code",
   "execution_count": 7,
   "metadata": {},
   "outputs": [
    {
     "data": {
      "text/html": [
       "\n",
       "        <iframe\n",
       "            width=\"100%\"\n",
       "            height=\"475\"\n",
       "            src=\"http://Todds-MacBook-Air.local:40000/dtale/iframe/2\"\n",
       "            frameborder=\"0\"\n",
       "            allowfullscreen\n",
       "            \n",
       "        ></iframe>\n",
       "        "
      ],
      "text/plain": [
       "<IPython.lib.display.IFrame at 0x129fe1070>"
      ]
     },
     "metadata": {},
     "output_type": "display_data"
    },
    {
     "data": {
      "text/plain": []
     },
     "execution_count": 7,
     "metadata": {},
     "output_type": "execute_result"
    }
   ],
   "source": [
    "import pandas as pd\n",
    "import numpy as np\n",
    "# import holoviews as hv\n",
    "# from holoviews import opts\n",
    "# from pandasgui import show\n",
    "# hv.extension('bokeh')\n",
    "import dtale\n",
    "df=pd.DataFrame(np.random.random((10,5)), columns=['$a m/s^2$','b','c','d','e'])\n",
    "# table2 = hv.Table(df, ['x', 'y']) #.opts(opts.Table(editable=True)\n",
    "# table2.opts(editable=True)\n",
    "dtale.show(df)"
   ]
  },
  {
   "cell_type": "code",
   "execution_count": 11,
   "metadata": {},
   "outputs": [
    {
     "data": {
      "text/html": [
       "<div>\n",
       "<style scoped>\n",
       "    .dataframe tbody tr th:only-of-type {\n",
       "        vertical-align: middle;\n",
       "    }\n",
       "\n",
       "    .dataframe tbody tr th {\n",
       "        vertical-align: top;\n",
       "    }\n",
       "\n",
       "    .dataframe thead th {\n",
       "        text-align: right;\n",
       "    }\n",
       "</style>\n",
       "<table border=\"1\" class=\"dataframe\">\n",
       "  <thead>\n",
       "    <tr style=\"text-align: right;\">\n",
       "      <th></th>\n",
       "      <th>$a m/s^2$</th>\n",
       "      <th>b</th>\n",
       "      <th>c</th>\n",
       "      <th>d</th>\n",
       "      <th>e</th>\n",
       "    </tr>\n",
       "  </thead>\n",
       "  <tbody>\n",
       "    <tr>\n",
       "      <th>0</th>\n",
       "      <td>0.949760</td>\n",
       "      <td>0.368999</td>\n",
       "      <td>0.443929</td>\n",
       "      <td>0.576983</td>\n",
       "      <td>0.319676</td>\n",
       "    </tr>\n",
       "    <tr>\n",
       "      <th>1</th>\n",
       "      <td>0.661214</td>\n",
       "      <td>0.653465</td>\n",
       "      <td>0.364924</td>\n",
       "      <td>0.530383</td>\n",
       "      <td>0.396882</td>\n",
       "    </tr>\n",
       "    <tr>\n",
       "      <th>2</th>\n",
       "      <td>0.262599</td>\n",
       "      <td>0.302224</td>\n",
       "      <td>0.543796</td>\n",
       "      <td>0.418554</td>\n",
       "      <td>0.373864</td>\n",
       "    </tr>\n",
       "    <tr>\n",
       "      <th>3</th>\n",
       "      <td>0.772560</td>\n",
       "      <td>0.100174</td>\n",
       "      <td>0.981396</td>\n",
       "      <td>0.208453</td>\n",
       "      <td>0.819684</td>\n",
       "    </tr>\n",
       "    <tr>\n",
       "      <th>4</th>\n",
       "      <td>0.602209</td>\n",
       "      <td>0.649168</td>\n",
       "      <td>0.822275</td>\n",
       "      <td>0.558716</td>\n",
       "      <td>0.095197</td>\n",
       "    </tr>\n",
       "    <tr>\n",
       "      <th>5</th>\n",
       "      <td>0.036675</td>\n",
       "      <td>0.313891</td>\n",
       "      <td>0.541366</td>\n",
       "      <td>0.298076</td>\n",
       "      <td>0.300551</td>\n",
       "    </tr>\n",
       "    <tr>\n",
       "      <th>6</th>\n",
       "      <td>0.983918</td>\n",
       "      <td>0.544323</td>\n",
       "      <td>0.211847</td>\n",
       "      <td>0.964651</td>\n",
       "      <td>0.540063</td>\n",
       "    </tr>\n",
       "    <tr>\n",
       "      <th>7</th>\n",
       "      <td>0.985588</td>\n",
       "      <td>0.028702</td>\n",
       "      <td>0.760067</td>\n",
       "      <td>0.560631</td>\n",
       "      <td>0.461521</td>\n",
       "    </tr>\n",
       "    <tr>\n",
       "      <th>8</th>\n",
       "      <td>0.635278</td>\n",
       "      <td>0.801491</td>\n",
       "      <td>0.032137</td>\n",
       "      <td>0.243218</td>\n",
       "      <td>0.971230</td>\n",
       "    </tr>\n",
       "    <tr>\n",
       "      <th>9</th>\n",
       "      <td>0.949455</td>\n",
       "      <td>0.059975</td>\n",
       "      <td>0.941981</td>\n",
       "      <td>0.501607</td>\n",
       "      <td>0.152216</td>\n",
       "    </tr>\n",
       "  </tbody>\n",
       "</table>\n",
       "</div>"
      ],
      "text/plain": [
       "   $a m/s^2$         b         c         d         e\n",
       "0   0.949760  0.368999  0.443929  0.576983  0.319676\n",
       "1   0.661214  0.653465  0.364924  0.530383  0.396882\n",
       "2   0.262599  0.302224  0.543796  0.418554  0.373864\n",
       "3   0.772560  0.100174  0.981396  0.208453  0.819684\n",
       "4   0.602209  0.649168  0.822275  0.558716  0.095197\n",
       "5   0.036675  0.313891  0.541366  0.298076  0.300551\n",
       "6   0.983918  0.544323  0.211847  0.964651  0.540063\n",
       "7   0.985588  0.028702  0.760067  0.560631  0.461521\n",
       "8   0.635278  0.801491  0.032137  0.243218  0.971230\n",
       "9   0.949455  0.059975  0.941981  0.501607  0.152216"
      ]
     },
     "metadata": {},
     "output_type": "display_data"
    }
   ],
   "source": [
    "display(df)"
   ]
  },
  {
   "cell_type": "code",
   "execution_count": 12,
   "metadata": {},
   "outputs": [],
   "source": [
    "import pint\n",
    "ureg = pint.UnitRegistry()\n",
    "ureg.default_format = \"~P\""
   ]
  },
  {
   "cell_type": "code",
   "execution_count": 13,
   "metadata": {},
   "outputs": [],
   "source": [
    "u = ureg.Unit(\"m ** 2 / s ** 2\")"
   ]
  },
  {
   "cell_type": "code",
   "execution_count": 14,
   "metadata": {},
   "outputs": [
    {
     "data": {
      "text/plain": [
       "'m²/s²'"
      ]
     },
     "execution_count": 14,
     "metadata": {},
     "output_type": "execute_result"
    }
   ],
   "source": [
    "f'{u}'"
   ]
  },
  {
   "cell_type": "code",
   "execution_count": 21,
   "metadata": {},
   "outputs": [],
   "source": [
    "degC = ureg.Unit('degC')"
   ]
  },
  {
   "cell_type": "code",
   "execution_count": 22,
   "metadata": {},
   "outputs": [
    {
     "data": {
      "text/plain": [
       "'°C'"
      ]
     },
     "execution_count": 22,
     "metadata": {},
     "output_type": "execute_result"
    }
   ],
   "source": [
    "f'{degC}'"
   ]
  },
  {
   "cell_type": "code",
   "execution_count": 23,
   "metadata": {},
   "outputs": [],
   "source": [
    "wms = ureg.Unit('W/m**2')"
   ]
  },
  {
   "cell_type": "code",
   "execution_count": 24,
   "metadata": {},
   "outputs": [
    {
     "data": {
      "text/plain": [
       "'W/m²'"
      ]
     },
     "execution_count": 24,
     "metadata": {},
     "output_type": "execute_result"
    }
   ],
   "source": [
    "f'{wms}'"
   ]
  },
  {
   "cell_type": "code",
   "execution_count": 39,
   "metadata": {},
   "outputs": [],
   "source": [
    "ml = ureg.Unit('microgram/L')"
   ]
  },
  {
   "cell_type": "code",
   "execution_count": 40,
   "metadata": {},
   "outputs": [
    {
     "data": {
      "text/plain": [
       "'µg/l'"
      ]
     },
     "execution_count": 40,
     "metadata": {},
     "output_type": "execute_result"
    },
    {
     "name": "stdout",
     "output_type": "stream",
     "text": [
      "Executing shutdown due to inactivity...\n"
     ]
    },
    {
     "name": "stderr",
     "output_type": "stream",
     "text": [
      "2022-09-30 08:32:26,996 - INFO     - Executing shutdown due to inactivity...\n"
     ]
    },
    {
     "name": "stdout",
     "output_type": "stream",
     "text": [
      "Executing shutdown...\n"
     ]
    },
    {
     "name": "stderr",
     "output_type": "stream",
     "text": [
      "2022-09-30 08:32:27,178 - INFO     - Executing shutdown...\n"
     ]
    },
    {
     "name": "stdout",
     "output_type": "stream",
     "text": [
      "Exception on /shutdown [GET]\n",
      "Traceback (most recent call last):\n",
      "  File \"/Users/todd/opt/miniconda3/envs/clearwater/lib/python3.9/site-packages/flask/app.py\", line 2525, in wsgi_app\n",
      "    response = self.full_dispatch_request()\n",
      "  File \"/Users/todd/opt/miniconda3/envs/clearwater/lib/python3.9/site-packages/flask/app.py\", line 1822, in full_dispatch_request\n",
      "    rv = self.handle_user_exception(e)\n",
      "  File \"/Users/todd/opt/miniconda3/envs/clearwater/lib/python3.9/site-packages/flask/app.py\", line 1820, in full_dispatch_request\n",
      "    rv = self.dispatch_request()\n",
      "  File \"/Users/todd/opt/miniconda3/envs/clearwater/lib/python3.9/site-packages/flask/app.py\", line 1796, in dispatch_request\n",
      "    return self.ensure_sync(self.view_functions[rule.endpoint])(**view_args)\n",
      "  File \"/Users/todd/opt/miniconda3/envs/clearwater/lib/python3.9/site-packages/dtale/app.py\", line 435, in shutdown\n",
      "    shutdown_server()\n",
      "  File \"/Users/todd/opt/miniconda3/envs/clearwater/lib/python3.9/site-packages/dtale/app.py\", line 421, in shutdown_server\n",
      "    raise RuntimeError(\"Not running with the Werkzeug Server\")\n",
      "RuntimeError: Not running with the Werkzeug Server\n"
     ]
    },
    {
     "name": "stderr",
     "output_type": "stream",
     "text": [
      "2022-09-30 08:32:27,181 - ERROR    - Exception on /shutdown [GET]\n",
      "Traceback (most recent call last):\n",
      "  File \"/Users/todd/opt/miniconda3/envs/clearwater/lib/python3.9/site-packages/flask/app.py\", line 2525, in wsgi_app\n",
      "    response = self.full_dispatch_request()\n",
      "  File \"/Users/todd/opt/miniconda3/envs/clearwater/lib/python3.9/site-packages/flask/app.py\", line 1822, in full_dispatch_request\n",
      "    rv = self.handle_user_exception(e)\n",
      "  File \"/Users/todd/opt/miniconda3/envs/clearwater/lib/python3.9/site-packages/flask/app.py\", line 1820, in full_dispatch_request\n",
      "    rv = self.dispatch_request()\n",
      "  File \"/Users/todd/opt/miniconda3/envs/clearwater/lib/python3.9/site-packages/flask/app.py\", line 1796, in dispatch_request\n",
      "    return self.ensure_sync(self.view_functions[rule.endpoint])(**view_args)\n",
      "  File \"/Users/todd/opt/miniconda3/envs/clearwater/lib/python3.9/site-packages/dtale/app.py\", line 435, in shutdown\n",
      "    shutdown_server()\n",
      "  File \"/Users/todd/opt/miniconda3/envs/clearwater/lib/python3.9/site-packages/dtale/app.py\", line 421, in shutdown_server\n",
      "    raise RuntimeError(\"Not running with the Werkzeug Server\")\n",
      "RuntimeError: Not running with the Werkzeug Server\n"
     ]
    }
   ],
   "source": [
    "f'{ml}'"
   ]
  },
  {
   "cell_type": "code",
   "execution_count": null,
   "metadata": {},
   "outputs": [],
   "source": []
  }
 ],
 "metadata": {
  "kernelspec": {
   "display_name": "Python 3.9.9 ('clearwater')",
   "language": "python",
   "name": "python3"
  },
  "language_info": {
   "codemirror_mode": {
    "name": "ipython",
    "version": 3
   },
   "file_extension": ".py",
   "mimetype": "text/x-python",
   "name": "python",
   "nbconvert_exporter": "python",
   "pygments_lexer": "ipython3",
   "version": "3.9.9"
  },
  "orig_nbformat": 4,
  "vscode": {
   "interpreter": {
    "hash": "e6c70388f1b84876e6f3105ac98ef15d4b7d1e2b6314ab62781b7fdf46969e65"
   }
  }
 },
 "nbformat": 4,
 "nbformat_minor": 2
}
