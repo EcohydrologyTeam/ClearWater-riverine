{
 "cells": [
  {
   "cell_type": "markdown",
   "id": "889372ad-b64f-4917-9dd2-2787effa6a26",
   "metadata": {},
   "source": [
    "# Demo Plots"
   ]
  },
  {
   "cell_type": "markdown",
   "id": "75796a87-4684-4c92-895a-a243f6368eb1",
   "metadata": {},
   "source": [
    "## Setup"
   ]
  },
  {
   "cell_type": "code",
   "execution_count": null,
   "id": "4afa5714-f2b8-4cf1-97ef-f878d0a420b9",
   "metadata": {},
   "outputs": [],
   "source": [
    "import xarray as xr\n",
    "import holoviews as hv\n",
    "import geopandas as gpd\n",
    "\n",
    "from clearwater_riverine.variables import (\n",
    "    NUMBER_OF_REAL_CELLS,\n",
    "    CONCENTRATION,\n",
    ")\n",
    "import numpy as np\n",
    "import geopandas as gpd\n",
    "import pandas as pd\n",
    "from shapely.geometry import Polygon \n",
    "import geoviews as gv\n",
    "import matplotlib.pyplot as plt\n",
    "from IPython.display import display\n",
    "\n",
    "hv.extension('bokeh')"
   ]
  },
  {
   "cell_type": "code",
   "execution_count": null,
   "id": "448e44af-505e-44f1-b64a-6976161cabc3",
   "metadata": {},
   "outputs": [],
   "source": [
    "ds = xr.open_zarr('W:/2ERDC12 - Clearwater/Clearwater_testing_TSM/plan28_testTSM_pwrPlnt_May2022/full_test_output/mesh_output_full_2023_12_20.zarr')"
   ]
  },
  {
   "cell_type": "code",
   "execution_count": null,
   "id": "42511e3d-ee88-414e-af2f-1a3f175ba0b0",
   "metadata": {},
   "outputs": [],
   "source": [
    "ds = ds.compute()"
   ]
  },
  {
   "cell_type": "code",
   "execution_count": null,
   "id": "db343053-94ae-4f7d-a7f9-fcf2234dfe20",
   "metadata": {},
   "outputs": [],
   "source": [
    "gdf = gpd.read_parquet('W:/2ERDC12 - Clearwater/Clearwater_testing_TSM/plan28_testTSM_pwrPlnt_May2022/full_test_output/mesh_output_full_gdf.parquet')"
   ]
  },
  {
   "cell_type": "markdown",
   "id": "87983bef-4ab0-4a73-ba87-a9d3a62ef31b",
   "metadata": {
    "jp-MarkdownHeadingCollapsed": true
   },
   "source": [
    "## Create GDF"
   ]
  },
  {
   "cell_type": "code",
   "execution_count": null,
   "id": "327c5975-1229-4270-94f1-cf0918041217",
   "metadata": {},
   "outputs": [],
   "source": [
    "from clearwater_riverine.variables import (\n",
    "    NUMBER_OF_REAL_CELLS,\n",
    "    CONCENTRATION,\n",
    ")\n",
    "import numpy as np\n",
    "import geopandas as gpd\n",
    "import pandas as pd\n",
    "from shapely.geometry import Polygon \n",
    "import geoviews as gv\n",
    "import matplotlib.pyplot as plt\n",
    "from IPython.display import display\n"
   ]
  },
  {
   "cell_type": "code",
   "execution_count": null,
   "id": "6a237c5f-cb39-4f71-a043-dce2b07b1a91",
   "metadata": {},
   "outputs": [],
   "source": [
    "crs = 'EPSG:26916'\n",
    "\n",
    "nreal_index = ds.attrs[NUMBER_OF_REAL_CELLS] + 1\n",
    "real_face_node_connectivity = ds.face_nodes[0:nreal_index]\n",
    "\n",
    "# Turn real mesh cells into polygons\n",
    "polygon_list = []\n",
    "for cell in real_face_node_connectivity:\n",
    "    indices = cell[np.where(np.isnan(cell) == False)].astype(int)\n",
    "    xs = ds.node_x[indices]\n",
    "    ys = ds.node_y[indices]\n",
    "    p1 = Polygon(list(zip(xs.values, ys.values)))\n",
    "    polygon_list.append(p1)\n",
    "\n",
    "poly_gdf = gpd.GeoDataFrame({\n",
    "    'nface': ds.nface[0:nreal_index],\n",
    "    'geometry': polygon_list},\n",
    "    crs = crs)\n",
    "poly_gdf = poly_gdf.to_crs('EPSG:4326')"
   ]
  },
  {
   "cell_type": "code",
   "execution_count": null,
   "id": "6fb38ad9-471c-4597-924d-3973be831e68",
   "metadata": {},
   "outputs": [],
   "source": [
    "df_from_array = ds[['concentration', 'volume']].isel(\n",
    "    nface=slice(0, nreal_index)\n",
    ").to_dataframe()\n",
    "\n",
    "df_from_array.reset_index(inplace=True)\n",
    "\n",
    "df_merged = gpd.GeoDataFrame(\n",
    "    pd.merge(\n",
    "        df_from_array,\n",
    "        poly_gdf,\n",
    "        on='nface',\n",
    "        how='left'\n",
    ")\n",
    "        )\n",
    "\n",
    "df_merged.rename(\n",
    "    columns={\n",
    "        'nface':'cell',\n",
    "        'time': 'datetime'\n",
    "    },\n",
    "    inplace=True\n",
    ")\n",
    "gdf = df_merged"
   ]
  },
  {
   "cell_type": "code",
   "execution_count": null,
   "id": "8b86ae3a-cb75-4eb6-945c-7b96fb60bb91",
   "metadata": {},
   "outputs": [],
   "source": [
    "gdf.to_parquet('../plan28_testTSM_pwrPlnt_May2022/full_test_output/mesh_output_full_gdf.parquet')"
   ]
  },
  {
   "cell_type": "markdown",
   "id": "5542e131-057d-44a0-96b2-03d23c4d570a",
   "metadata": {},
   "source": [
    "## Basic Plot"
   ]
  },
  {
   "cell_type": "code",
   "execution_count": null,
   "id": "69763da3-9ef1-4a90-81bd-5a67cd5a67d6",
   "metadata": {},
   "outputs": [],
   "source": [
    "def plot(\n",
    "    ds: xr.Dataset,\n",
    "    gdf: gpd.geodataframe.GeoDataFrame,\n",
    "    clim: tuple = (None, None),\n",
    "    time_index_range: tuple = (0, -1)):\n",
    "\n",
    "    mval = clim[1]\n",
    "    mn_val = clim[0]\n",
    "\n",
    "    def map_generator(datetime, mval=mval):\n",
    "        \"\"\"This function generates plots for the DynamicMap\"\"\"\n",
    "        ras_sub_df = gdf[gdf.datetime == datetime]\n",
    "        units = ds[CONCENTRATION].Units\n",
    "        ras_map = gv.Polygons(\n",
    "            ras_sub_df,\n",
    "            vdims=['concentration', 'cell']).opts(\n",
    "                height = 500,\n",
    "                width = 500,\n",
    "                color='concentration',\n",
    "                colorbar = True,\n",
    "                cmap = 'OrRd',\n",
    "                clim = (mn_val, mval),\n",
    "                line_width = 0.1,\n",
    "                tools = ['hover'],\n",
    "                clabel = f\"Concentration ({units})\"\n",
    "        )\n",
    "        return (ras_map * gv.tile_sources.CartoLight())\n",
    "\n",
    "    dmap = hv.DynamicMap(map_generator, kdims=['datetime'])\n",
    "    return dmap.redim.values(datetime=gdf.datetime.unique()[time_index_range[0]: time_index_range[1]])"
   ]
  },
  {
   "cell_type": "code",
   "execution_count": null,
   "id": "85dcb7fd-2e14-438b-9bdb-70b8a8df103d",
   "metadata": {},
   "outputs": [],
   "source": [
    "curve = plot(ds, gdf, clim=(13,25))"
   ]
  },
  {
   "cell_type": "code",
   "execution_count": null,
   "id": "a4672a51-fabc-4bed-b27a-ba8a0963f167",
   "metadata": {},
   "outputs": [],
   "source": [
    "curve"
   ]
  },
  {
   "cell_type": "code",
   "execution_count": null,
   "id": "b12fe1a1-bc38-47ce-a0da-e3869fe29dd2",
   "metadata": {},
   "outputs": [],
   "source": [
    "minx = gdf.geometry.bounds['minx'].min()\n",
    "maxx = gdf.geometry.bounds['maxx'].max()\n",
    "miny = gdf.geometry.bounds['miny'].min()\n",
    "maxy = gdf.geometry.bounds['maxy'].max()"
   ]
  },
  {
   "cell_type": "code",
   "execution_count": null,
   "id": "54d2fd19-7c54-422a-aa1f-024e212b7d33",
   "metadata": {},
   "outputs": [],
   "source": [
    "print(minx, maxx, miny, maxy)"
   ]
  },
  {
   "cell_type": "code",
   "execution_count": null,
   "id": "faffae4e-f765-4fc6-aafe-f4fd5f4bac7c",
   "metadata": {},
   "outputs": [],
   "source": [
    "gdf.head()"
   ]
  },
  {
   "cell_type": "markdown",
   "id": "b41ea091-ab77-4578-9ef8-3d58105fe421",
   "metadata": {},
   "source": [
    "## Basic Map"
   ]
  },
  {
   "cell_type": "code",
   "execution_count": null,
   "id": "2dfc6bc3-9bfa-43b9-bd48-b45fa5b06fa2",
   "metadata": {},
   "outputs": [],
   "source": [
    "date_value = ds.time.isel(time=18000).values\n",
    "gdf[(gdf.datetime == date_value) & (gdf.volume > 0)].plot(\n",
    "    facecolor = 'lightskyblue',\n",
    "    edgecolor = 'white',\n",
    "    linewidth = 0.3,\n",
    "    ax=plt.gca()\n",
    ")\n",
    "plt.xticks([])\n",
    "plt.yticks([])\n",
    "plt.gca().spines['top'].set_visible(False)\n",
    "plt.gca().spines['right'].set_visible(False)\n",
    "plt.gca().spines['bottom'].set_visible(False)\n",
    "plt.gca().spines['left'].set_visible(False)\n",
    "\n",
    "plt.show()\n"
   ]
  },
  {
   "cell_type": "markdown",
   "id": "a319b805-d00e-4c91-bf44-a66771a0a534",
   "metadata": {},
   "source": [
    "## Timeseries Plot"
   ]
  },
  {
   "cell_type": "code",
   "execution_count": null,
   "id": "5a3df294-a8cc-4c85-8cb5-e15cdea1348b",
   "metadata": {},
   "outputs": [],
   "source": [
    "def make_timeseries_plot(ls_of_cells):\n",
    "    # matplotlib plot\n",
    "    date_value = ds.time.isel(time=18000).values\n",
    "    gdf[(gdf.datetime == date_value) & (gdf.volume > 0)].plot(\n",
    "        facecolor = 'lightskyblue',\n",
    "        edgecolor = 'white',\n",
    "        linewidth = 0.3,\n",
    "        ax=plt.gca()\n",
    "    )\n",
    "    for cell in ls_of_cells.keys():\n",
    "        gdf[(gdf.datetime == date_value) & (gdf.cell == cell)].plot(\n",
    "            facecolor = 'none',\n",
    "            edgecolor = ls_of_cells[cell],\n",
    "            linewidth = 1,\n",
    "            ax=plt.gca()\n",
    "        )\n",
    "\n",
    "    plt.xticks([])\n",
    "    plt.yticks([])\n",
    "    plt.gca().spines['top'].set_visible(False)\n",
    "    plt.gca().spines['right'].set_visible(False)\n",
    "    plt.gca().spines['bottom'].set_visible(False)\n",
    "    plt.gca().spines['left'].set_visible(False)\n",
    "\n",
    "    plt.show()\n",
    "\n",
    "    curve_ls = []\n",
    "    for cell in ls_of_cells.keys():\n",
    "        temp_curve = hv.Curve(\n",
    "            ds.concentration.isel(\n",
    "                nface=cell,\n",
    "                time = slice(18000,-60)\n",
    "                ),\n",
    "        ).opts(\n",
    "            height=400,\n",
    "            width=800,\n",
    "            ylabel='Temperature (C)',\n",
    "            color = ls_of_cells[cell],\n",
    "        )\n",
    "        curve_ls.append(temp_curve)\n",
    "\n",
    "    overlayed_curves = hv.Overlay(curve_ls)\n",
    "    return overlayed_curves"
   ]
  },
  {
   "cell_type": "code",
   "execution_count": null,
   "id": "1dcd7e6b-5ab4-4d34-a000-c4862aaabc6f",
   "metadata": {},
   "outputs": [],
   "source": [
    "cell_list = {\n",
    "    273: '#FF5733',\n",
    "    299: '#33FF57',\n",
    "    311: '#3366FF',\n",
    "    148: '#FFFF33',\n",
    "    169: '#33FFFF',\n",
    "    325: '#FF33A1',\n",
    "    263: '#A133FF',\n",
    "    # 137: '#FF3333',\n",
    "}"
   ]
  },
  {
   "cell_type": "code",
   "execution_count": null,
   "id": "a17dac5e-3c12-440b-a900-52bf92180f21",
   "metadata": {},
   "outputs": [],
   "source": [
    "make_timeseries_plot(cell_list)"
   ]
  },
  {
   "cell_type": "markdown",
   "id": "4fec61a1-57d8-4c13-8662-b2f07cfc6f77",
   "metadata": {},
   "source": [
    "### Series to step through"
   ]
  },
  {
   "cell_type": "code",
   "execution_count": null,
   "id": "5cc6f37a-79d1-46a7-bb7a-a50c61ba8eea",
   "metadata": {},
   "outputs": [],
   "source": [
    "temp_dict = {}\n",
    "for cell in cell_list.keys():\n",
    "    print(cell)\n",
    "    temp_dict[cell] = cell_list[cell]\n",
    "    c = make_timeseries_plot(temp_dict)\n",
    "    display(c)"
   ]
  },
  {
   "cell_type": "markdown",
   "id": "cf7a1543-a341-4ec8-a290-b994cc74bd18",
   "metadata": {},
   "source": [
    "## Map"
   ]
  },
  {
   "cell_type": "code",
   "execution_count": null,
   "id": "9249a1b0-b3d5-4414-ad82-69ab31ca3ad7",
   "metadata": {},
   "outputs": [],
   "source": [
    "from datetime import datetime"
   ]
  },
  {
   "cell_type": "code",
   "execution_count": null,
   "id": "e16a92fe-4bbe-4d18-8cd1-27eed4fe51da",
   "metadata": {},
   "outputs": [],
   "source": [
    "def map_plot(time_index):\n",
    "    date_value = ds.time.isel(time=time_index).values\n",
    "    c = gdf[(gdf.datetime == date_value) & (gdf.volume > 0)].plot(\n",
    "        column='concentration',\n",
    "        cmap='OrRd',\n",
    "        vmin = 13,\n",
    "        vmax = 25)\n",
    "    plt.xticks([])\n",
    "    plt.yticks([])\n",
    "    formatted_datetime = np.datetime_as_string(date_value, unit='s').split('T')\n",
    "    \n",
    "    plt.title(f'{formatted_datetime[0]} {formatted_datetime[1]}')\n",
    "    plt.show()"
   ]
  },
  {
   "cell_type": "code",
   "execution_count": null,
   "id": "3f780e43-acfc-4c16-9da2-ae1d2a221ae2",
   "metadata": {},
   "outputs": [],
   "source": [
    "map_plot(32400)"
   ]
  },
  {
   "cell_type": "code",
   "execution_count": null,
   "id": "a7e5d394-27cf-4121-9f74-493423f9ae38",
   "metadata": {},
   "outputs": [],
   "source": [
    "def make_conc_plot(time_index, ls_of_cells):\n",
    "    # matplotlib plot\n",
    "    date_value = ds.time.isel(time=time_index).values\n",
    "    formatted_datetime = np.datetime_as_string(date_value, unit='s').split('T')\n",
    "    c = gdf[(gdf.datetime == date_value) & (gdf.volume > 0)].plot(\n",
    "        column='concentration',\n",
    "        cmap='OrRd',\n",
    "        vmin = 13,\n",
    "        vmax = 25)\n",
    "    \n",
    "    for cell in ls_of_cells.keys():\n",
    "        gdf[(gdf.datetime == date_value) & (gdf.cell == cell)].plot(\n",
    "            facecolor = 'none',\n",
    "            edgecolor = ls_of_cells[cell],\n",
    "            linewidth = 1,\n",
    "            ax=plt.gca()\n",
    "        )\n",
    "\n",
    "    plt.xticks([])\n",
    "    plt.yticks([])\n",
    "    plt.gca().spines['top'].set_visible(False)\n",
    "    plt.gca().spines['right'].set_visible(False)\n",
    "    plt.gca().spines['bottom'].set_visible(False)\n",
    "    plt.gca().spines['left'].set_visible(False)\n",
    "    plt.title(f'{formatted_datetime[0]} {formatted_datetime[1]}')\n",
    "    plt.show()\n",
    "\n",
    "    curve_ls = []\n",
    "    for cell in ls_of_cells.keys():\n",
    "        temp_curve = hv.Curve(\n",
    "            ds.concentration.isel(\n",
    "                nface=cell,\n",
    "                time = slice(18000,-60)\n",
    "                ),\n",
    "        ).opts(\n",
    "            height=400,\n",
    "            width=800,\n",
    "            ylabel='Temperature (C)',\n",
    "            color = ls_of_cells[cell],\n",
    "        )\n",
    "        curve_ls.append(temp_curve)\n",
    "\n",
    "    # xs = np.linspace(mn, mx, 100)\n",
    "    # ys = xs * 0 + date_value\n",
    "    vline = hv.VLine(date_value).opts(\n",
    "        line_width=6,\n",
    "        line_dash = 'dashed',\n",
    "        \n",
    "    )\n",
    "\n",
    "    \n",
    "    \n",
    "\n",
    "    overlayed_curves = hv.Overlay(curve_ls) * vline\n",
    "    return overlayed_curves"
   ]
  },
  {
   "cell_type": "code",
   "execution_count": null,
   "id": "9da8e6a8-cd14-4b63-8fd3-46ca44dfb034",
   "metadata": {},
   "outputs": [],
   "source": [
    "make_conc_plot(32400, {273:'red'})"
   ]
  },
  {
   "cell_type": "code",
   "execution_count": null,
   "id": "a06012d2-0b75-4856-acd0-f03aa86f1d98",
   "metadata": {},
   "outputs": [],
   "source": [
    "def make_conc_plot_alternative(time_index, ls_of_cells):\n",
    "    # matplotlib plot\n",
    "    date_value = ds.time.isel(time=time_index).values\n",
    "    formatted_datetime = np.datetime_as_string(date_value, unit='s').split('T')\n",
    "    c = gdf[(gdf.datetime == date_value) & (gdf.volume > 0)].plot(\n",
    "        column='concentration',\n",
    "        cmap='OrRd',\n",
    "        vmin = 13,\n",
    "        vmax = 25)\n",
    "    \n",
    "    for cell in ls_of_cells.keys():\n",
    "        gdf[(gdf.datetime == date_value) & (gdf.cell == cell)].plot(\n",
    "            facecolor = 'none',\n",
    "            edgecolor = ls_of_cells[cell],\n",
    "            linewidth = 1,\n",
    "            ax=plt.gca()\n",
    "        )\n",
    "\n",
    "    plt.xticks([])\n",
    "    plt.yticks([])\n",
    "    plt.gca().spines['top'].set_visible(False)\n",
    "    plt.gca().spines['right'].set_visible(False)\n",
    "    plt.gca().spines['bottom'].set_visible(False)\n",
    "    plt.gca().spines['left'].set_visible(False)\n",
    "    plt.title(f'{formatted_datetime[0]} {formatted_datetime[1]}')\n",
    "    plt.show()\n",
    "\n",
    "    curve_ls = []\n",
    "    for cell in ls_of_cells.keys():\n",
    "        temp_curve = hv.Curve(\n",
    "            ds.concentration.isel(\n",
    "                nface=cell,\n",
    "                time = slice(18000, time_index)\n",
    "                ),\n",
    "        ).opts(\n",
    "            height=400,\n",
    "            width=800,\n",
    "            ylabel='Temperature (C)',\n",
    "            color = ls_of_cells[cell],\n",
    "            xlim = (\n",
    "                pd.to_datetime(ds.time[18000].values), \n",
    "                pd.to_datetime(ds.time[-100].values))\n",
    "        )\n",
    "        curve_ls.append(temp_curve)    \n",
    "\n",
    "    overlayed_curves = hv.Overlay(curve_ls) \n",
    "    return overlayed_curves"
   ]
  },
  {
   "cell_type": "code",
   "execution_count": null,
   "id": "460ac814-8f0d-4ab5-ae39-61691979d47f",
   "metadata": {},
   "outputs": [],
   "source": [
    "make_conc_plot_alternative(32400, {273:'red'})"
   ]
  },
  {
   "cell_type": "markdown",
   "id": "0cf9d730-7c0f-40b6-8ae0-674c6919d29b",
   "metadata": {},
   "source": [
    "## Matplotlib"
   ]
  },
  {
   "cell_type": "code",
   "execution_count": null,
   "id": "27b6cf58-70bc-45b8-aa5e-4ebc84440e92",
   "metadata": {},
   "outputs": [],
   "source": [
    "import matplotlib.dates as mdates"
   ]
  },
  {
   "cell_type": "code",
   "execution_count": null,
   "id": "0fd5f457-75eb-4f82-bb92-18207b9021ea",
   "metadata": {},
   "outputs": [],
   "source": [
    "def conc_plot_plt(time_index, ls_of_cells):\n",
    "    fig, axs = plt.subplots(1, 2, width_ratios=[1,2],)\n",
    "\n",
    "\n",
    "\n",
    "    date_value = ds.time.isel(time=time_index).values\n",
    "    formatted_datetime = np.datetime_as_string(date_value, unit='s').split('T')\n",
    "    \n",
    "    c = gdf[(gdf.datetime == date_value) & (gdf.volume > 0)].plot(\n",
    "        column='concentration',\n",
    "        cmap='OrRd',\n",
    "        vmin = 13,\n",
    "        vmax = 25,\n",
    "        ax = axs[0]\n",
    "    )\n",
    "\n",
    "    for cell in ls_of_cells.keys():\n",
    "        gdf[(gdf.datetime == date_value) & (gdf.cell == cell)].plot(\n",
    "            facecolor = 'none',\n",
    "            edgecolor = ls_of_cells[cell],\n",
    "            linewidth = 1,\n",
    "            ax=axs[0]\n",
    "        )\n",
    "        \n",
    "    axs[0].set_xticks([])\n",
    "    axs[0].set_yticks([])\n",
    "    axs[0].spines['top'].set_visible(False)\n",
    "    axs[0].spines['right'].set_visible(False)\n",
    "    axs[0].spines['bottom'].set_visible(False)\n",
    "    axs[0].spines['left'].set_visible(False)\n",
    "\n",
    "    for cell in ls_of_cells.keys():\n",
    "        axs[1].plot(\n",
    "            ds.time.isel(time=slice(18000, -100)),\n",
    "            ds.concentration.isel(\n",
    "                nface = 273,\n",
    "                time=slice(18000,-100)\n",
    "            ),\n",
    "            color = ls_of_cells[cell]\n",
    "            \n",
    "        )\n",
    "        axs[1].axvline(\n",
    "            date_value,\n",
    "            linewidth=3, \n",
    "            linestyle='dotted'\n",
    "        )\n",
    "\n",
    "\n",
    "    fig.set_size_inches(20,6)\n",
    "    \n",
    "    # plt.suptitle(f'{formatted_datetime[0]} {formatted_datetime[1]}')\n",
    "    plt.show()\n",
    "    plt.show()"
   ]
  },
  {
   "cell_type": "code",
   "execution_count": null,
   "id": "e7abfedf-862f-485c-b327-316ebb5136f2",
   "metadata": {},
   "outputs": [],
   "source": [
    "conc_plot_plt(32400, {273:'red'})"
   ]
  },
  {
   "cell_type": "markdown",
   "id": "813e2ac7-f629-4af4-a68e-a11c3a5d945d",
   "metadata": {},
   "source": [
    "## Reactivity\n",
    "\n",
    "https://holoviews.org/reference/streams/bokeh/Tap.html\n",
    "\n",
    "Start with basic demo:"
   ]
  },
  {
   "cell_type": "code",
   "execution_count": null,
   "id": "f3676d2b-e8f7-406d-9d4a-3df14ba33ef3",
   "metadata": {},
   "outputs": [],
   "source": [
    "import panel as pn\n",
    "import holoviews as hv\n",
    "\n",
    "pn.extension()\n",
    "\n",
    "points = hv.Points([])\n",
    "stream = hv.streams.Tap(source=points, x=np.nan, y=np.nan)\n",
    "\n",
    "@pn.depends(stream.param.x, stream.param.y)\n",
    "def location(x, y):\n",
    "    return pn.pane.Str(f'Click at {x:.2f}, {y:.2f}', width=200)\n",
    "\n",
    "pn.Row(points, location)"
   ]
  },
  {
   "cell_type": "markdown",
   "id": "11dd2ce5-2f66-46d2-be00-7ea5cff4d6b5",
   "metadata": {},
   "source": [
    "Adapt for these purposes"
   ]
  },
  {
   "cell_type": "code",
   "execution_count": null,
   "id": "67825386-8d58-4a74-a249-617a3f836926",
   "metadata": {},
   "outputs": [],
   "source": [
    "time_index = 32400\n",
    "mn_val = 13\n",
    "mval = 25\n",
    "date_value = ds.time.isel(time=time_index).values\n",
    "\n",
    "ras_sub_df = gdf[gdf.datetime == date_value]\n",
    "units = ds[CONCENTRATION].Units\n",
    "ras_map = gv.Polygons(\n",
    "    ras_sub_df,\n",
    "    vdims=['concentration', 'cell']).opts(\n",
    "        height = 800,\n",
    "        width = 800,\n",
    "        color='concentration',\n",
    "        colorbar = True,\n",
    "        cmap = 'OrRd',\n",
    "        clim = (mn_val, mval),\n",
    "        line_width = 0.1,\n",
    "        tools = ['hover', 'tap'],\n",
    "        clabel = f\"Concentration ({units})\"\n",
    ")\n",
    "\n",
    "tap_stream = hv.streams.Tap(source=ras_map, x=-86.99906, y=0.00191)\n",
    "\n",
    "def tap_plot(x, y):\n",
    "    clicked_data = ras_sub_df.cx[x:x, y:y]\n",
    "    cell = clicked_data['cell'].values[0]\n",
    "    print(cell)\n",
    "    cs = ds.concentration.isel(\n",
    "        nface=cell,\n",
    "        time = slice(18000, -100)\n",
    "        )\n",
    "    mn = float(cs.min().values)\n",
    "    mx = float(cs.max().values)\n",
    "\n",
    "    curve =  hv.Curve(cs\n",
    "    ).opts(\n",
    "        ylim=(mn,mx),\n",
    "        title=f'Time series for cell {cell}',\n",
    "        height=800,\n",
    "        width=800,\n",
    "    )\n",
    "    return curve\n",
    "\n",
    "        \n",
    "tap_dmap = hv.DynamicMap(tap_plot, streams=[tap_stream])\n",
    "\n",
    "(ras_map + tap_dmap).opts(\n",
    "    opts.Curve(framewise=True, yaxis='right', line_width=3 )\n",
    ")\n",
    "\n",
    "# layout = pn.Row(ras_map, tap_dmap)\n",
    "# layout.servable()"
   ]
  },
  {
   "cell_type": "code",
   "execution_count": null,
   "id": "25a6ef96-d3c2-44aa-961d-a9cfd3ceeb2a",
   "metadata": {},
   "outputs": [],
   "source": []
  },
  {
   "cell_type": "code",
   "execution_count": null,
   "id": "256ec6fa-771c-460e-83fa-614c7313b799",
   "metadata": {},
   "outputs": [],
   "source": []
  }
 ],
 "metadata": {
  "kernelspec": {
   "display_name": "Python 3 (ipykernel)",
   "language": "python",
   "name": "python3"
  },
  "language_info": {
   "codemirror_mode": {
    "name": "ipython",
    "version": 3
   },
   "file_extension": ".py",
   "mimetype": "text/x-python",
   "name": "python",
   "nbconvert_exporter": "python",
   "pygments_lexer": "ipython3",
   "version": "3.11.6"
  }
 },
 "nbformat": 4,
 "nbformat_minor": 5
}
