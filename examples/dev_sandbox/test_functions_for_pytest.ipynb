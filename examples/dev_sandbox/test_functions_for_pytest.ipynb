{
 "cells": [
  {
   "cell_type": "markdown",
   "id": "da057df4-b6e5-46e8-8733-ef7bf22500a0",
   "metadata": {},
   "source": [
    "This notebook tests the functions for the initial pytest case"
   ]
  },
  {
   "cell_type": "code",
   "execution_count": 3,
   "id": "4c0a26f6-b7dc-49b1-a356-b7699e7efcfe",
   "metadata": {
    "tags": []
   },
   "outputs": [
    {
     "name": "stdout",
     "output_type": "stream",
     "text": [
      "Starting WQ Simulation...\n",
      " Assuming concentration input has units of mg/L...\n",
      "     If this is not true, please re-run the wq simulation with input_mass_units, input_volume_units, and liter_conversion parameters filled in appropriately.\n",
      " 25%\n",
      " 50%\n",
      " 75%\n",
      " 100%\n",
      "    Mass_start    Mass_end\n",
      "0  5000.553131  1496.15591\n",
      "    Mass_start     Mass_end\n",
      "0  5000.553131  5001.221848\n",
      "1496.1559098702273\n"
     ]
    }
   ],
   "source": [
    "from clearwater_riverine.postproc_util import _run_simulation\n",
    "from clearwater_riverine.postproc_util import _mass_bal_global\n",
    "from clearwater_riverine.postproc_util import _mass_bal_global_100_Ans\n",
    "from clearwater_riverine.postproc_util import _mass_bal_val\n",
    "\n",
    "fpath = '../data/simple_test_cases/plan02_2x1/clearWaterTestCases.p02.hdf'\n",
    "diff_coef = 0.1\n",
    "intl_cond = '../data/simple_test_cases/plan02_2x1/cwr_initial_conditions_p02.csv'\n",
    "bndry_cond = '../data/simple_test_cases/plan02_2x1/cwr_boundary_conditions_p02.csv'\n",
    "\n",
    "plan02 = _run_simulation(fpath, diff_coef, intl_cond, bndry_cond)\n",
    "\n",
    "massBal_df = _mass_bal_global(plan02)\n",
    "massBal_df_100 = _mass_bal_global_100_Ans(plan02)\n",
    "\n",
    "mass = _mass_bal_val(massBal_df, 'Mass_end')\n",
    "\n",
    "print(massBal_df)\n",
    "print(massBal_df_100)\n",
    "print(mass)\n"
   ]
  },
  {
   "cell_type": "code",
   "execution_count": null,
   "id": "68bb0126-041d-4881-b838-61a793e62838",
   "metadata": {},
   "outputs": [],
   "source": []
  }
 ],
 "metadata": {
  "kernelspec": {
   "display_name": "Python 3 (ipykernel)",
   "language": "python",
   "name": "python3"
  },
  "language_info": {
   "codemirror_mode": {
    "name": "ipython",
    "version": 3
   },
   "file_extension": ".py",
   "mimetype": "text/x-python",
   "name": "python",
   "nbconvert_exporter": "python",
   "pygments_lexer": "ipython3",
   "version": "3.10.9"
  }
 },
 "nbformat": 4,
 "nbformat_minor": 5
}
