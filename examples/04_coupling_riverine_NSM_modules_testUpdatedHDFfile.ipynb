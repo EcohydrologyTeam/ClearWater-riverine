{
 "cells": [
  {
   "cell_type": "markdown",
   "id": "9466a47a-b847-4d63-b323-ca996a0650b3",
   "metadata": {},
   "source": [
    "# ClearWater-Riverine Demo 2: Coupling Transport to Water Quality Reactions with ClearWater-Modules\n",
    "\n",
    "**Objective**: Demonstrate a more complex scenario of coupled transport and reaction models in Sumwere Creek, using the [ClearWater-modules](https://github.com/EcohydrologyTeam/ClearWater-modules) to simulate heat exchange with the atmosphere.\n",
    "\n",
    "This second notebook builds on the introduction to using [ClearWater-riverine](https://github.com/EcohydrologyTeam/ClearWater-riverine) provided in demo notebook 1.\n",
    "\n",
    "## Background \n",
    "This notebook couples Clearwater-riverine (transport) with Clearwater-modules (reactions) - specifically, the Temperature Simulation Model (TSM). The Temperature Simulation Module (TSM) is an essential component of ClearWater (Corps Library for Environmental Analysis and Restoration of Watersheds). TSM plays a crucial role in simulating and predicting water temperature within aquatic ecosystems. TSM utilizes a comprehensive energy balance approach to account for various factors contributing to heat inputs and outputs in the water environment. It considers both external forcing functions and heat exchanges occurring at the water surface and the sediment-water interface. The primary contributors to heat exchange at the water surface include shortwave solar radiation, longwave atmospheric radiation, heat conduction from the atmosphere to the water, and direct heat inputs. Conversely, the primary factors that remove heat from the system are longwave radiation emitted by the water, evaporation, and heat conduction from the water to the atmosphere. \n",
    "The core principle behind TSM is the application of the laws of conservation of energy to compute water temperature. This means that the change in heat content of the water is directly related to changes in temperature, which, in turn, are influenced by various heat flux components. The specific heat of water is employed to establish this relationship. Each term of the heat flux equation can be calculated based on the input provided by the user, allowing for flexibility in modeling different environmental conditions\n",
    "\n",
    "## Example Case Study\n",
    "\n",
    "This example shows how to run Clearwater Riverine coupled with Clearwater Modules in a fictional location, \"Sumwere Creek\" (shown below). The flow field for Sumwere Creek comes from a HEC-RAS 2D model, which has a domain of 200x200 meters and a base mesh of 10x10 meters. \n",
    "\n",
    "![image.png](../docs/imgs/SumwereCreek_coarse.png)\n",
    "\n",
    "The upstream boundary for Sumwere Creek is at the top left of the model domain, flowing into the domain at a constant 3 cms. At the first bend in the creek, there is an additional boundary representing a spring-fed tributary to the creek (1 cms). Further downstream, there is a meander in the stream forming a slow-flowing oxbow lake. There is another boundary flowing into that oxbow lake, representing a powerplant discharge (0.5 cms). \n",
    "\n",
    "The downstream boundary is a constant stage set at 20.75  The upstream inflows have a water temperature of 15 degrees C; the spring-fed creek has constant inflows of 5 C, and the powerplant is steady at 20 C with periodic higher temperature (25 C) discharges in a downstream meander.  \n",
    "\n",
    "We simulate this scenario over the course of two full days, using meteorological parameters from Arizona (extreme temperature swings between night and day) to help show off the impacts of TSM.\n",
    "\n",
    "### Data Availability\n",
    "All data required run this notebook is available at this [Google Drive](https://drive.google.com/drive/folders/1I_di8WrK95QwBga-W8iuJaJJMZsnIYSS?usp=drive_link). Please download the entire folder and place it in the `data_temp` folder of this repository to run the rest of the notebook."
   ]
  },
  {
   "cell_type": "markdown",
   "id": "f34af218-4b58-447d-907c-3fc89f057499",
   "metadata": {},
   "source": [
    "## Model Set-Up\n",
    "### General Imports"
   ]
  },
  {
   "cell_type": "code",
   "execution_count": 1,
   "id": "c280997b-7e02-4079-b8fe-707a0729ed86",
   "metadata": {},
   "outputs": [],
   "source": [
    "from pathlib import Path\n",
    "import logging\n",
    "import numpy as np\n",
    "import pandas as pd\n",
    "import xarray as xr\n",
    "#import holoviews as hv\n",
    "#import geoviews as gv\n",
    "# from holoviews import opts\n",
    "#import panel as pn\n",
    "#hv.extension(\"bokeh\")"
   ]
  },
  {
   "cell_type": "markdown",
   "id": "baed1b6e-f756-4ca1-b959-4628ab2df47a",
   "metadata": {},
   "source": [
    "### Import ClearWater-riverine\n",
    "These steps require first completing **[Installation](https://github.com/EcohydrologyTeam/ClearWater-riverine?tab=readme-ov-file#installation)** of a [conda](https://conda.io/docs/) virtual environment customized for the ClearWater-riverine library."
   ]
  },
  {
   "cell_type": "code",
   "execution_count": 2,
   "id": "41338e34-2b59-4cd4-b6b3-a52f6edf7768",
   "metadata": {},
   "outputs": [
    {
     "data": {
      "text/plain": [
       "WindowsPath('d:/Clearwater/ClearWater-riverine')"
      ]
     },
     "execution_count": 2,
     "metadata": {},
     "output_type": "execute_result"
    }
   ],
   "source": [
    "# Find project directory (i.e. the parent to `/examples` directory for this notebook)\n",
    "project_path = Path.cwd().parent\n",
    "project_path"
   ]
  },
  {
   "cell_type": "code",
   "execution_count": 3,
   "id": "e2bcf299-c36b-432a-8e28-d1366d0b9c87",
   "metadata": {},
   "outputs": [
    {
     "data": {
      "text/plain": [
       "WindowsPath('d:/Clearwater/ClearWater-riverine/src')"
      ]
     },
     "execution_count": 3,
     "metadata": {},
     "output_type": "execute_result"
    }
   ],
   "source": [
    "# Your source directory should be: \n",
    "src_path = project_path / 'src'\n",
    "src_path"
   ]
  },
  {
   "cell_type": "markdown",
   "id": "5cd020f2-ace9-4f32-a818-9a8716d21e53",
   "metadata": {},
   "source": [
    "Next, we'll need to import Clearwater Riverine. While the package is still under development, the easiest way to do this is to use the [`conda develop`](https://docs.conda.io/projects/conda-build/en/latest/resources/commands/conda-develop.html) command in the console or terminal like this, replacing the `'/path/to/module/src'` with your specific path to the source directory. In other words:\n",
    "- Copy from the output of `src_path` from the cell above, and \n",
    "- Paste it after `!conda develop` in the cell below (replacing the previous user's path). \n",
    "\n",
    "NOTE: If your path has any blank spaces, you must enclose the path with quotes."
   ]
  },
  {
   "cell_type": "code",
   "execution_count": 4,
   "id": "9874c4fb-a442-46d9-a442-0df0f3cd01b3",
   "metadata": {},
   "outputs": [
    {
     "name": "stdout",
     "output_type": "stream",
     "text": [
      "path exists, skipping d:\\Clearwater\\ClearWater-riverine\\examples\\'\\Users\\aaufdenkampe\\Documents\\Python\\ClearWater-riverine\\src'\n",
      "completed operation for: d:\\Clearwater\\ClearWater-riverine\\examples\\'\\Users\\aaufdenkampe\\Documents\\Python\\ClearWater-riverine\\src'\n"
     ]
    }
   ],
   "source": [
    "!conda develop '/Users/aaufdenkampe/Documents/Python/ClearWater-riverine/src'"
   ]
  },
  {
   "cell_type": "code",
   "execution_count": 5,
   "id": "d0676e2a-bdc9-4774-ab6c-c81927353da4",
   "metadata": {},
   "outputs": [
    {
     "data": {
      "application/javascript": "(function(root) {\n  function now() {\n    return new Date();\n  }\n\n  var force = true;\n  var py_version = '3.4.1'.replace('rc', '-rc.').replace('.dev', '-dev.');\n  var reloading = false;\n  var Bokeh = root.Bokeh;\n\n  if (typeof (root._bokeh_timeout) === \"undefined\" || force) {\n    root._bokeh_timeout = Date.now() + 5000;\n    root._bokeh_failed_load = false;\n  }\n\n  function run_callbacks() {\n    try {\n      root._bokeh_onload_callbacks.forEach(function(callback) {\n        if (callback != null)\n          callback();\n      });\n    } finally {\n      delete root._bokeh_onload_callbacks;\n    }\n    console.debug(\"Bokeh: all callbacks have finished\");\n  }\n\n  function load_libs(css_urls, js_urls, js_modules, js_exports, callback) {\n    if (css_urls == null) css_urls = [];\n    if (js_urls == null) js_urls = [];\n    if (js_modules == null) js_modules = [];\n    if (js_exports == null) js_exports = {};\n\n    root._bokeh_onload_callbacks.push(callback);\n\n    if (root._bokeh_is_loading > 0) {\n      console.debug(\"Bokeh: BokehJS is being loaded, scheduling callback at\", now());\n      return null;\n    }\n    if (js_urls.length === 0 && js_modules.length === 0 && Object.keys(js_exports).length === 0) {\n      run_callbacks();\n      return null;\n    }\n    if (!reloading) {\n      console.debug(\"Bokeh: BokehJS not loaded, scheduling load and callback at\", now());\n    }\n\n    function on_load() {\n      root._bokeh_is_loading--;\n      if (root._bokeh_is_loading === 0) {\n        console.debug(\"Bokeh: all BokehJS libraries/stylesheets loaded\");\n        run_callbacks()\n      }\n    }\n    window._bokeh_on_load = on_load\n\n    function on_error() {\n      console.error(\"failed to load \" + url);\n    }\n\n    var skip = [];\n    if (window.requirejs) {\n      window.requirejs.config({'packages': {}, 'paths': {}, 'shim': {}});\n      root._bokeh_is_loading = css_urls.length + 0;\n    } else {\n      root._bokeh_is_loading = css_urls.length + js_urls.length + js_modules.length + Object.keys(js_exports).length;\n    }\n\n    var existing_stylesheets = []\n    var links = document.getElementsByTagName('link')\n    for (var i = 0; i < links.length; i++) {\n      var link = links[i]\n      if (link.href != null) {\n\texisting_stylesheets.push(link.href)\n      }\n    }\n    for (var i = 0; i < css_urls.length; i++) {\n      var url = css_urls[i];\n      if (existing_stylesheets.indexOf(url) !== -1) {\n\ton_load()\n\tcontinue;\n      }\n      const element = document.createElement(\"link\");\n      element.onload = on_load;\n      element.onerror = on_error;\n      element.rel = \"stylesheet\";\n      element.type = \"text/css\";\n      element.href = url;\n      console.debug(\"Bokeh: injecting link tag for BokehJS stylesheet: \", url);\n      document.body.appendChild(element);\n    }    var existing_scripts = []\n    var scripts = document.getElementsByTagName('script')\n    for (var i = 0; i < scripts.length; i++) {\n      var script = scripts[i]\n      if (script.src != null) {\n\texisting_scripts.push(script.src)\n      }\n    }\n    for (var i = 0; i < js_urls.length; i++) {\n      var url = js_urls[i];\n      if (skip.indexOf(url) !== -1 || existing_scripts.indexOf(url) !== -1) {\n\tif (!window.requirejs) {\n\t  on_load();\n\t}\n\tcontinue;\n      }\n      var element = document.createElement('script');\n      element.onload = on_load;\n      element.onerror = on_error;\n      element.async = false;\n      element.src = url;\n      console.debug(\"Bokeh: injecting script tag for BokehJS library: \", url);\n      document.head.appendChild(element);\n    }\n    for (var i = 0; i < js_modules.length; i++) {\n      var url = js_modules[i];\n      if (skip.indexOf(url) !== -1 || existing_scripts.indexOf(url) !== -1) {\n\tif (!window.requirejs) {\n\t  on_load();\n\t}\n\tcontinue;\n      }\n      var element = document.createElement('script');\n      element.onload = on_load;\n      element.onerror = on_error;\n      element.async = false;\n      element.src = url;\n      element.type = \"module\";\n      console.debug(\"Bokeh: injecting script tag for BokehJS library: \", url);\n      document.head.appendChild(element);\n    }\n    for (const name in js_exports) {\n      var url = js_exports[name];\n      if (skip.indexOf(url) >= 0 || root[name] != null) {\n\tif (!window.requirejs) {\n\t  on_load();\n\t}\n\tcontinue;\n      }\n      var element = document.createElement('script');\n      element.onerror = on_error;\n      element.async = false;\n      element.type = \"module\";\n      console.debug(\"Bokeh: injecting script tag for BokehJS library: \", url);\n      element.textContent = `\n      import ${name} from \"${url}\"\n      window.${name} = ${name}\n      window._bokeh_on_load()\n      `\n      document.head.appendChild(element);\n    }\n    if (!js_urls.length && !js_modules.length) {\n      on_load()\n    }\n  };\n\n  function inject_raw_css(css) {\n    const element = document.createElement(\"style\");\n    element.appendChild(document.createTextNode(css));\n    document.body.appendChild(element);\n  }\n\n  var js_urls = [\"https://cdn.bokeh.org/bokeh/release/bokeh-3.4.1.min.js\", \"https://cdn.bokeh.org/bokeh/release/bokeh-gl-3.4.1.min.js\", \"https://cdn.bokeh.org/bokeh/release/bokeh-widgets-3.4.1.min.js\", \"https://cdn.bokeh.org/bokeh/release/bokeh-tables-3.4.1.min.js\", \"https://cdn.holoviz.org/panel/1.4.2/dist/panel.min.js\", \"https://cdn.jsdelivr.net/npm/@holoviz/geoviews@1.12.0/dist/geoviews.min.js\"];\n  var js_modules = [];\n  var js_exports = {};\n  var css_urls = [];\n  var inline_js = [    function(Bokeh) {\n      Bokeh.set_log_level(\"info\");\n    },\nfunction(Bokeh) {} // ensure no trailing comma for IE\n  ];\n\n  function run_inline_js() {\n    if ((root.Bokeh !== undefined) || (force === true)) {\n      for (var i = 0; i < inline_js.length; i++) {\n\ttry {\n          inline_js[i].call(root, root.Bokeh);\n\t} catch(e) {\n\t  if (!reloading) {\n\t    throw e;\n\t  }\n\t}\n      }\n      // Cache old bokeh versions\n      if (Bokeh != undefined && !reloading) {\n\tvar NewBokeh = root.Bokeh;\n\tif (Bokeh.versions === undefined) {\n\t  Bokeh.versions = new Map();\n\t}\n\tif (NewBokeh.version !== Bokeh.version) {\n\t  Bokeh.versions.set(NewBokeh.version, NewBokeh)\n\t}\n\troot.Bokeh = Bokeh;\n      }} else if (Date.now() < root._bokeh_timeout) {\n      setTimeout(run_inline_js, 100);\n    } else if (!root._bokeh_failed_load) {\n      console.log(\"Bokeh: BokehJS failed to load within specified timeout.\");\n      root._bokeh_failed_load = true;\n    }\n    root._bokeh_is_initializing = false\n  }\n\n  function load_or_wait() {\n    // Implement a backoff loop that tries to ensure we do not load multiple\n    // versions of Bokeh and its dependencies at the same time.\n    // In recent versions we use the root._bokeh_is_initializing flag\n    // to determine whether there is an ongoing attempt to initialize\n    // bokeh, however for backward compatibility we also try to ensure\n    // that we do not start loading a newer (Panel>=1.0 and Bokeh>3) version\n    // before older versions are fully initialized.\n    if (root._bokeh_is_initializing && Date.now() > root._bokeh_timeout) {\n      root._bokeh_is_initializing = false;\n      root._bokeh_onload_callbacks = undefined;\n      console.log(\"Bokeh: BokehJS was loaded multiple times but one version failed to initialize.\");\n      load_or_wait();\n    } else if (root._bokeh_is_initializing || (typeof root._bokeh_is_initializing === \"undefined\" && root._bokeh_onload_callbacks !== undefined)) {\n      setTimeout(load_or_wait, 100);\n    } else {\n      root._bokeh_is_initializing = true\n      root._bokeh_onload_callbacks = []\n      var bokeh_loaded = Bokeh != null && (Bokeh.version === py_version || (Bokeh.versions !== undefined && Bokeh.versions.has(py_version)));\n      if (!reloading && !bokeh_loaded) {\n\troot.Bokeh = undefined;\n      }\n      load_libs(css_urls, js_urls, js_modules, js_exports, function() {\n\tconsole.debug(\"Bokeh: BokehJS plotting callback run at\", now());\n\trun_inline_js();\n      });\n    }\n  }\n  // Give older versions of the autoload script a head-start to ensure\n  // they initialize before we start loading newer version.\n  setTimeout(load_or_wait, 100)\n}(window));",
      "application/vnd.holoviews_load.v0+json": ""
     },
     "metadata": {},
     "output_type": "display_data"
    },
    {
     "data": {
      "application/javascript": "\nif ((window.PyViz === undefined) || (window.PyViz instanceof HTMLElement)) {\n  window.PyViz = {comms: {}, comm_status:{}, kernels:{}, receivers: {}, plot_index: []}\n}\n\n\n    function JupyterCommManager() {\n    }\n\n    JupyterCommManager.prototype.register_target = function(plot_id, comm_id, msg_handler) {\n      if (window.comm_manager || ((window.Jupyter !== undefined) && (Jupyter.notebook.kernel != null))) {\n        var comm_manager = window.comm_manager || Jupyter.notebook.kernel.comm_manager;\n        comm_manager.register_target(comm_id, function(comm) {\n          comm.on_msg(msg_handler);\n        });\n      } else if ((plot_id in window.PyViz.kernels) && (window.PyViz.kernels[plot_id])) {\n        window.PyViz.kernels[plot_id].registerCommTarget(comm_id, function(comm) {\n          comm.onMsg = msg_handler;\n        });\n      } else if (typeof google != 'undefined' && google.colab.kernel != null) {\n        google.colab.kernel.comms.registerTarget(comm_id, (comm) => {\n          var messages = comm.messages[Symbol.asyncIterator]();\n          function processIteratorResult(result) {\n            var message = result.value;\n            console.log(message)\n            var content = {data: message.data, comm_id};\n            var buffers = []\n            for (var buffer of message.buffers || []) {\n              buffers.push(new DataView(buffer))\n            }\n            var metadata = message.metadata || {};\n            var msg = {content, buffers, metadata}\n            msg_handler(msg);\n            return messages.next().then(processIteratorResult);\n          }\n          return messages.next().then(processIteratorResult);\n        })\n      }\n    }\n\n    JupyterCommManager.prototype.get_client_comm = function(plot_id, comm_id, msg_handler) {\n      if (comm_id in window.PyViz.comms) {\n        return window.PyViz.comms[comm_id];\n      } else if (window.comm_manager || ((window.Jupyter !== undefined) && (Jupyter.notebook.kernel != null))) {\n        var comm_manager = window.comm_manager || Jupyter.notebook.kernel.comm_manager;\n        var comm = comm_manager.new_comm(comm_id, {}, {}, {}, comm_id);\n        if (msg_handler) {\n          comm.on_msg(msg_handler);\n        }\n      } else if ((plot_id in window.PyViz.kernels) && (window.PyViz.kernels[plot_id])) {\n        var comm = window.PyViz.kernels[plot_id].connectToComm(comm_id);\n        comm.open();\n        if (msg_handler) {\n          comm.onMsg = msg_handler;\n        }\n      } else if (typeof google != 'undefined' && google.colab.kernel != null) {\n        var comm_promise = google.colab.kernel.comms.open(comm_id)\n        comm_promise.then((comm) => {\n          window.PyViz.comms[comm_id] = comm;\n          if (msg_handler) {\n            var messages = comm.messages[Symbol.asyncIterator]();\n            function processIteratorResult(result) {\n              var message = result.value;\n              var content = {data: message.data};\n              var metadata = message.metadata || {comm_id};\n              var msg = {content, metadata}\n              msg_handler(msg);\n              return messages.next().then(processIteratorResult);\n            }\n            return messages.next().then(processIteratorResult);\n          }\n        }) \n        var sendClosure = (data, metadata, buffers, disposeOnDone) => {\n          return comm_promise.then((comm) => {\n            comm.send(data, metadata, buffers, disposeOnDone);\n          });\n        };\n        var comm = {\n          send: sendClosure\n        };\n      }\n      window.PyViz.comms[comm_id] = comm;\n      return comm;\n    }\n    window.PyViz.comm_manager = new JupyterCommManager();\n    \n\n\nvar JS_MIME_TYPE = 'application/javascript';\nvar HTML_MIME_TYPE = 'text/html';\nvar EXEC_MIME_TYPE = 'application/vnd.holoviews_exec.v0+json';\nvar CLASS_NAME = 'output';\n\n/**\n * Render data to the DOM node\n */\nfunction render(props, node) {\n  var div = document.createElement(\"div\");\n  var script = document.createElement(\"script\");\n  node.appendChild(div);\n  node.appendChild(script);\n}\n\n/**\n * Handle when a new output is added\n */\nfunction handle_add_output(event, handle) {\n  var output_area = handle.output_area;\n  var output = handle.output;\n  if ((output.data == undefined) || (!output.data.hasOwnProperty(EXEC_MIME_TYPE))) {\n    return\n  }\n  var id = output.metadata[EXEC_MIME_TYPE][\"id\"];\n  var toinsert = output_area.element.find(\".\" + CLASS_NAME.split(' ')[0]);\n  if (id !== undefined) {\n    var nchildren = toinsert.length;\n    var html_node = toinsert[nchildren-1].children[0];\n    html_node.innerHTML = output.data[HTML_MIME_TYPE];\n    var scripts = [];\n    var nodelist = html_node.querySelectorAll(\"script\");\n    for (var i in nodelist) {\n      if (nodelist.hasOwnProperty(i)) {\n        scripts.push(nodelist[i])\n      }\n    }\n\n    scripts.forEach( function (oldScript) {\n      var newScript = document.createElement(\"script\");\n      var attrs = [];\n      var nodemap = oldScript.attributes;\n      for (var j in nodemap) {\n        if (nodemap.hasOwnProperty(j)) {\n          attrs.push(nodemap[j])\n        }\n      }\n      attrs.forEach(function(attr) { newScript.setAttribute(attr.name, attr.value) });\n      newScript.appendChild(document.createTextNode(oldScript.innerHTML));\n      oldScript.parentNode.replaceChild(newScript, oldScript);\n    });\n    if (JS_MIME_TYPE in output.data) {\n      toinsert[nchildren-1].children[1].textContent = output.data[JS_MIME_TYPE];\n    }\n    output_area._hv_plot_id = id;\n    if ((window.Bokeh !== undefined) && (id in Bokeh.index)) {\n      window.PyViz.plot_index[id] = Bokeh.index[id];\n    } else {\n      window.PyViz.plot_index[id] = null;\n    }\n  } else if (output.metadata[EXEC_MIME_TYPE][\"server_id\"] !== undefined) {\n    var bk_div = document.createElement(\"div\");\n    bk_div.innerHTML = output.data[HTML_MIME_TYPE];\n    var script_attrs = bk_div.children[0].attributes;\n    for (var i = 0; i < script_attrs.length; i++) {\n      toinsert[toinsert.length - 1].childNodes[1].setAttribute(script_attrs[i].name, script_attrs[i].value);\n    }\n    // store reference to server id on output_area\n    output_area._bokeh_server_id = output.metadata[EXEC_MIME_TYPE][\"server_id\"];\n  }\n}\n\n/**\n * Handle when an output is cleared or removed\n */\nfunction handle_clear_output(event, handle) {\n  var id = handle.cell.output_area._hv_plot_id;\n  var server_id = handle.cell.output_area._bokeh_server_id;\n  if (((id === undefined) || !(id in PyViz.plot_index)) && (server_id !== undefined)) { return; }\n  var comm = window.PyViz.comm_manager.get_client_comm(\"hv-extension-comm\", \"hv-extension-comm\", function () {});\n  if (server_id !== null) {\n    comm.send({event_type: 'server_delete', 'id': server_id});\n    return;\n  } else if (comm !== null) {\n    comm.send({event_type: 'delete', 'id': id});\n  }\n  delete PyViz.plot_index[id];\n  if ((window.Bokeh !== undefined) & (id in window.Bokeh.index)) {\n    var doc = window.Bokeh.index[id].model.document\n    doc.clear();\n    const i = window.Bokeh.documents.indexOf(doc);\n    if (i > -1) {\n      window.Bokeh.documents.splice(i, 1);\n    }\n  }\n}\n\n/**\n * Handle kernel restart event\n */\nfunction handle_kernel_cleanup(event, handle) {\n  delete PyViz.comms[\"hv-extension-comm\"];\n  window.PyViz.plot_index = {}\n}\n\n/**\n * Handle update_display_data messages\n */\nfunction handle_update_output(event, handle) {\n  handle_clear_output(event, {cell: {output_area: handle.output_area}})\n  handle_add_output(event, handle)\n}\n\nfunction register_renderer(events, OutputArea) {\n  function append_mime(data, metadata, element) {\n    // create a DOM node to render to\n    var toinsert = this.create_output_subarea(\n    metadata,\n    CLASS_NAME,\n    EXEC_MIME_TYPE\n    );\n    this.keyboard_manager.register_events(toinsert);\n    // Render to node\n    var props = {data: data, metadata: metadata[EXEC_MIME_TYPE]};\n    render(props, toinsert[0]);\n    element.append(toinsert);\n    return toinsert\n  }\n\n  events.on('output_added.OutputArea', handle_add_output);\n  events.on('output_updated.OutputArea', handle_update_output);\n  events.on('clear_output.CodeCell', handle_clear_output);\n  events.on('delete.Cell', handle_clear_output);\n  events.on('kernel_ready.Kernel', handle_kernel_cleanup);\n\n  OutputArea.prototype.register_mime_type(EXEC_MIME_TYPE, append_mime, {\n    safe: true,\n    index: 0\n  });\n}\n\nif (window.Jupyter !== undefined) {\n  try {\n    var events = require('base/js/events');\n    var OutputArea = require('notebook/js/outputarea').OutputArea;\n    if (OutputArea.prototype.mime_types().indexOf(EXEC_MIME_TYPE) == -1) {\n      register_renderer(events, OutputArea);\n    }\n  } catch(err) {\n  }\n}\n",
      "application/vnd.holoviews_load.v0+json": ""
     },
     "metadata": {},
     "output_type": "display_data"
    },
    {
     "data": {
      "text/html": [
       "<style>*[data-root-id],\n",
       "*[data-root-id] > * {\n",
       "  box-sizing: border-box;\n",
       "  font-family: var(--jp-ui-font-family);\n",
       "  font-size: var(--jp-ui-font-size1);\n",
       "  color: var(--vscode-editor-foreground, var(--jp-ui-font-color1));\n",
       "}\n",
       "\n",
       "/* Override VSCode background color */\n",
       ".cell-output-ipywidget-background:has(\n",
       "    > .cell-output-ipywidget-background > .lm-Widget > *[data-root-id]\n",
       "  ),\n",
       ".cell-output-ipywidget-background:has(> .lm-Widget > *[data-root-id]) {\n",
       "  background-color: transparent !important;\n",
       "}\n",
       "</style>"
      ]
     },
     "metadata": {},
     "output_type": "display_data"
    },
    {
     "data": {
      "application/vnd.holoviews_exec.v0+json": "",
      "text/html": [
       "<div id='p1009'>\n",
       "  <div id=\"d67e852e-e28d-4878-8115-bd419a4beeed\" data-root-id=\"p1009\" style=\"display: contents;\"></div>\n",
       "</div>\n",
       "<script type=\"application/javascript\">(function(root) {\n",
       "  var docs_json = {\"4f2b357e-9572-411a-8046-8829ed981928\":{\"version\":\"3.4.1\",\"title\":\"Bokeh Application\",\"roots\":[{\"type\":\"object\",\"name\":\"panel.models.browser.BrowserInfo\",\"id\":\"p1009\"},{\"type\":\"object\",\"name\":\"panel.models.comm_manager.CommManager\",\"id\":\"p1010\",\"attributes\":{\"plot_id\":\"p1009\",\"comm_id\":\"042eeee4c7924effaf8a9818694c3bd7\",\"client_comm_id\":\"d1567d6b107648b1b073ded659433bbd\"}}],\"defs\":[{\"type\":\"model\",\"name\":\"ReactiveHTML1\"},{\"type\":\"model\",\"name\":\"FlexBox1\",\"properties\":[{\"name\":\"align_content\",\"kind\":\"Any\",\"default\":\"flex-start\"},{\"name\":\"align_items\",\"kind\":\"Any\",\"default\":\"flex-start\"},{\"name\":\"flex_direction\",\"kind\":\"Any\",\"default\":\"row\"},{\"name\":\"flex_wrap\",\"kind\":\"Any\",\"default\":\"wrap\"},{\"name\":\"gap\",\"kind\":\"Any\",\"default\":\"\"},{\"name\":\"justify_content\",\"kind\":\"Any\",\"default\":\"flex-start\"}]},{\"type\":\"model\",\"name\":\"FloatPanel1\",\"properties\":[{\"name\":\"config\",\"kind\":\"Any\",\"default\":{\"type\":\"map\"}},{\"name\":\"contained\",\"kind\":\"Any\",\"default\":true},{\"name\":\"position\",\"kind\":\"Any\",\"default\":\"right-top\"},{\"name\":\"offsetx\",\"kind\":\"Any\",\"default\":null},{\"name\":\"offsety\",\"kind\":\"Any\",\"default\":null},{\"name\":\"theme\",\"kind\":\"Any\",\"default\":\"primary\"},{\"name\":\"status\",\"kind\":\"Any\",\"default\":\"normalized\"}]},{\"type\":\"model\",\"name\":\"GridStack1\",\"properties\":[{\"name\":\"mode\",\"kind\":\"Any\",\"default\":\"warn\"},{\"name\":\"ncols\",\"kind\":\"Any\",\"default\":null},{\"name\":\"nrows\",\"kind\":\"Any\",\"default\":null},{\"name\":\"allow_resize\",\"kind\":\"Any\",\"default\":true},{\"name\":\"allow_drag\",\"kind\":\"Any\",\"default\":true},{\"name\":\"state\",\"kind\":\"Any\",\"default\":[]}]},{\"type\":\"model\",\"name\":\"drag1\",\"properties\":[{\"name\":\"slider_width\",\"kind\":\"Any\",\"default\":5},{\"name\":\"slider_color\",\"kind\":\"Any\",\"default\":\"black\"},{\"name\":\"value\",\"kind\":\"Any\",\"default\":50}]},{\"type\":\"model\",\"name\":\"click1\",\"properties\":[{\"name\":\"terminal_output\",\"kind\":\"Any\",\"default\":\"\"},{\"name\":\"debug_name\",\"kind\":\"Any\",\"default\":\"\"},{\"name\":\"clears\",\"kind\":\"Any\",\"default\":0}]},{\"type\":\"model\",\"name\":\"FastWrapper1\",\"properties\":[{\"name\":\"object\",\"kind\":\"Any\",\"default\":null},{\"name\":\"style\",\"kind\":\"Any\",\"default\":null}]},{\"type\":\"model\",\"name\":\"NotificationAreaBase1\",\"properties\":[{\"name\":\"js_events\",\"kind\":\"Any\",\"default\":{\"type\":\"map\"}},{\"name\":\"position\",\"kind\":\"Any\",\"default\":\"bottom-right\"},{\"name\":\"_clear\",\"kind\":\"Any\",\"default\":0}]},{\"type\":\"model\",\"name\":\"NotificationArea1\",\"properties\":[{\"name\":\"js_events\",\"kind\":\"Any\",\"default\":{\"type\":\"map\"}},{\"name\":\"notifications\",\"kind\":\"Any\",\"default\":[]},{\"name\":\"position\",\"kind\":\"Any\",\"default\":\"bottom-right\"},{\"name\":\"_clear\",\"kind\":\"Any\",\"default\":0},{\"name\":\"types\",\"kind\":\"Any\",\"default\":[{\"type\":\"map\",\"entries\":[[\"type\",\"warning\"],[\"background\",\"#ffc107\"],[\"icon\",{\"type\":\"map\",\"entries\":[[\"className\",\"fas fa-exclamation-triangle\"],[\"tagName\",\"i\"],[\"color\",\"white\"]]}]]},{\"type\":\"map\",\"entries\":[[\"type\",\"info\"],[\"background\",\"#007bff\"],[\"icon\",{\"type\":\"map\",\"entries\":[[\"className\",\"fas fa-info-circle\"],[\"tagName\",\"i\"],[\"color\",\"white\"]]}]]}]}]},{\"type\":\"model\",\"name\":\"Notification\",\"properties\":[{\"name\":\"background\",\"kind\":\"Any\",\"default\":null},{\"name\":\"duration\",\"kind\":\"Any\",\"default\":3000},{\"name\":\"icon\",\"kind\":\"Any\",\"default\":null},{\"name\":\"message\",\"kind\":\"Any\",\"default\":\"\"},{\"name\":\"notification_type\",\"kind\":\"Any\",\"default\":null},{\"name\":\"_destroyed\",\"kind\":\"Any\",\"default\":false}]},{\"type\":\"model\",\"name\":\"TemplateActions1\",\"properties\":[{\"name\":\"open_modal\",\"kind\":\"Any\",\"default\":0},{\"name\":\"close_modal\",\"kind\":\"Any\",\"default\":0}]},{\"type\":\"model\",\"name\":\"BootstrapTemplateActions1\",\"properties\":[{\"name\":\"open_modal\",\"kind\":\"Any\",\"default\":0},{\"name\":\"close_modal\",\"kind\":\"Any\",\"default\":0}]},{\"type\":\"model\",\"name\":\"TemplateEditor1\",\"properties\":[{\"name\":\"layout\",\"kind\":\"Any\",\"default\":[]}]},{\"type\":\"model\",\"name\":\"MaterialTemplateActions1\",\"properties\":[{\"name\":\"open_modal\",\"kind\":\"Any\",\"default\":0},{\"name\":\"close_modal\",\"kind\":\"Any\",\"default\":0}]},{\"type\":\"model\",\"name\":\"copy_to_clipboard1\",\"properties\":[{\"name\":\"fill\",\"kind\":\"Any\",\"default\":\"none\"},{\"name\":\"value\",\"kind\":\"Any\",\"default\":null}]}]}};\n",
       "  var render_items = [{\"docid\":\"4f2b357e-9572-411a-8046-8829ed981928\",\"roots\":{\"p1009\":\"d67e852e-e28d-4878-8115-bd419a4beeed\"},\"root_ids\":[\"p1009\"]}];\n",
       "  var docs = Object.values(docs_json)\n",
       "  if (!docs) {\n",
       "    return\n",
       "  }\n",
       "  const py_version = docs[0].version.replace('rc', '-rc.').replace('.dev', '-dev.')\n",
       "  function embed_document(root) {\n",
       "    var Bokeh = get_bokeh(root)\n",
       "    Bokeh.embed.embed_items_notebook(docs_json, render_items);\n",
       "    for (const render_item of render_items) {\n",
       "      for (const root_id of render_item.root_ids) {\n",
       "\tconst id_el = document.getElementById(root_id)\n",
       "\tif (id_el.children.length && (id_el.children[0].className === 'bk-root')) {\n",
       "\t  const root_el = id_el.children[0]\n",
       "\t  root_el.id = root_el.id + '-rendered'\n",
       "\t}\n",
       "      }\n",
       "    }\n",
       "  }\n",
       "  function get_bokeh(root) {\n",
       "    if (root.Bokeh === undefined) {\n",
       "      return null\n",
       "    } else if (root.Bokeh.version !== py_version) {\n",
       "      if (root.Bokeh.versions === undefined || !root.Bokeh.versions.has(py_version)) {\n",
       "\treturn null\n",
       "      }\n",
       "      return root.Bokeh.versions.get(py_version);\n",
       "    } else if (root.Bokeh.version === py_version) {\n",
       "      return root.Bokeh\n",
       "    }\n",
       "    return null\n",
       "  }\n",
       "  function is_loaded(root) {\n",
       "    var Bokeh = get_bokeh(root)\n",
       "    return (Bokeh != null && Bokeh.Panel !== undefined)\n",
       "  }\n",
       "  if (is_loaded(root)) {\n",
       "    embed_document(root);\n",
       "  } else {\n",
       "    var attempts = 0;\n",
       "    var timer = setInterval(function(root) {\n",
       "      if (is_loaded(root)) {\n",
       "        clearInterval(timer);\n",
       "        embed_document(root);\n",
       "      } else if (document.readyState == \"complete\") {\n",
       "        attempts++;\n",
       "        if (attempts > 200) {\n",
       "          clearInterval(timer);\n",
       "\t  var Bokeh = get_bokeh(root)\n",
       "\t  if (Bokeh == null || Bokeh.Panel == null) {\n",
       "            console.warn(\"Panel: ERROR: Unable to run Panel code because Bokeh or Panel library is missing\");\n",
       "\t  } else {\n",
       "\t    console.warn(\"Panel: WARNING: Attempting to render but not all required libraries could be resolved.\")\n",
       "\t    embed_document(root)\n",
       "\t  }\n",
       "        }\n",
       "      }\n",
       "    }, 25, root)\n",
       "  }\n",
       "})(window);</script>"
      ]
     },
     "metadata": {
      "application/vnd.holoviews_exec.v0+json": {
       "id": "p1009"
      }
     },
     "output_type": "display_data"
    },
    {
     "data": {
      "text/html": [
       "\n",
       "<div class=\"logo-block\">\n",
       "<img src='data:image/png;base64,iVBORw0KGgoAAAANSUhEUgAAAEAAAABACAYAAACqaXHeAAAABHNCSVQICAgIfAhkiAAAAAlwSFlz\n",
       "AAAB+wAAAfsBxc2miwAAABl0RVh0U29mdHdhcmUAd3d3Lmlua3NjYXBlLm9yZ5vuPBoAAA6zSURB\n",
       "VHic7ZtpeFRVmsf/5966taWqUlUJ2UioBBJiIBAwCZtog9IOgjqACsogKtqirT2ttt069nQ/zDzt\n",
       "tI4+CrJIREFaFgWhBXpUNhHZQoKBkIUASchWla1S+3ar7r1nPkDaCAnZKoQP/D7mnPOe9/xy76n3\n",
       "nFSAW9ziFoPFNED2LLK5wcyBDObkb8ZkxuaoSYlI6ZcOKq1eWFdedqNzGHQBk9RMEwFAASkk0Xw3\n",
       "ETacDNi2vtvc7L0ROdw0AjoSotQVkKSvHQz/wRO1lScGModBFbDMaNRN1A4tUBCS3lk7BWhQkgpD\n",
       "lG4852/+7DWr1R3uHAZVQDsbh6ZPN7CyxUrCzJMRouusj0ipRwD2uKm0Zn5d2dFwzX1TCGhnmdGo\n",
       "G62Nna+isiUqhkzuKrkQaJlPEv5mFl2fvGg2t/VnzkEV8F5ioioOEWkLG86fvbpthynjdhXYZziQ\n",
       "x1hC9J2NFyi8vCTt91Fh04KGip0AaG9zuCk2wQCVyoNU3Hjezee9bq92duzzTmxsRJoy+jEZZZYo\n",
       "GTKJ6SJngdJqAfRzpze0+jHreUtPc7gpBLQnIYK6BYp/uGhw9YK688eu7v95ysgshcg9qSLMo3JC\n",
       "4jqLKQFBgdKDPoQ+Pltb8dUyQLpeDjeVgI6EgLIQFT5tEl3rn2losHVsexbZ3EyT9wE1uGdkIPcy\n",
       "BGxn8QUq1QrA5nqW5i2tLqvrrM9NK6AdkVIvL9E9bZL/oyfMVd/jqvc8LylzRBKDJSzIExwhQzuL\n",
       "QYGQj4rHfFTc8mUdu3E7yoLtbTe9gI4EqVgVkug2i5+uXGo919ixbRog+3fTbQ8qJe4ZOYNfMoTI\n",
       "OoshUNosgO60AisX15aeI2PSIp5KiFLI9ubb1vV3Qb2ltwLakUCDAkWX7/nHKRmmGIl9VgYsUhJm\n",
       "2NXjKYADtM1ygne9QQDIXlk49FBstMKx66D1v4+XuQr7vqTe0VcBHQlRWiOCbmmSYe2SqtL6q5rJ\n",
       "zsTb7lKx3FKOYC4DoqyS/B5bvLPxvD9Qtf6saxYLQGJErmDOdOMr/zo96km1nElr8bmPOBwI9COv\n",
       "HnFPRIwmkSOv9kcAS4heRsidOkpeWBgZM+UBrTFAXNYL5Vf2ii9c1trNzpYdaoVil3WIc+wdk+gQ\n",
       "noie3ecCcxt9ITcLAPWt/laGEO/9U6PmzZkenTtsSMQ8uYywJVW+grCstAvCIaAdArAsIWkRDDs/\n",
       "KzLm2YcjY1Lv0UdW73HabE9n6V66cxSzfEmuJssTpKGVp+0vHq73FwL46eOjpMpbRAnNmJFrGJNu\n",
       "Ukf9Yrz+3rghiumCKNXXWPhLYcjxGsIpoCMsIRoFITkW8AuyM8jC1+/QLx4bozCEJIq38+1rtpR6\n",
       "V/yzb8eBlRb3fo5l783N0CWolAzJHaVNzkrTzlEp2bQ2q3TC5gn6wpnoQAmwSiGh2GitnTmVMc5O\n",
       "UyfKWUKCIsU7+fZDKwqdT6DDpvkzAX4/+AMFjk0tDp5GRXLpQ2MUmhgDp5gxQT8+Y7hyPsMi8uxF\n",
       "71H0oebujHALECjFKaW9Lm68n18wXp2kVzIcABytD5iXFzg+WVXkegpAsOOYziqo0OkK76GyquC3\n",
       "ltZAzMhhqlSNmmWTE5T6e3IN05ITFLM4GdN0vtZ3ob8Jh1NAKXFbm5PtLU/eqTSlGjkNAJjdgn/N\n",
       "aedXa0tdi7+t9G0FIF49rtMSEgAs1kDLkTPO7ebm4IUWeyh1bKomXqlgMG6kJmHcSM0clYLJ8XtR\n",
       "1GTnbV3F6I5wCGikAb402npp1h1s7LQUZZSMIfALFOuL3UUrfnS8+rez7v9qcold5tilgHbO1fjK\n",
       "9ubb17u9oshxzMiUBKXWqJNxd+fqb0tLVs4lILFnK71H0Ind7uiPgACVcFJlrb0tV6DzxqqTIhUM\n",
       "CwDf1/rrVhTa33/3pGPxJYdQ2l2cbgVcQSosdx8uqnDtbGjh9SlDVSMNWhlnilfqZk42Th2ZpLpf\n",
       "xrHec5e815zrr0dfBZSwzkZfqsv+1FS1KUknUwPARVvItfKUY+cn57yP7qv07UE3p8B2uhUwLk09\n",
       "e0SCOrK+hbdYHYLjRIl71wWzv9jpEoeOHhGRrJAzyEyNiJuUqX0g2sBN5kGK6y2Blp5M3lsB9Qh4\n",
       "y2Ja6x6+i0ucmKgwMATwhSjdUu49tKrQ/pvN5d53ml2CGwCmJipmKjgmyuaXzNeL2a0AkQ01Th5j\n",
       "2DktO3Jyk8f9vcOBQHV94OK+fPumJmvQHxJoWkaKWq9Vs+yUsbq0zGT1I4RgeH2b5wef7+c7bl8F\n",
       "eKgoHVVZa8ZPEORzR6sT1BzDUAD/d9F78e2Tzv99v8D+fLVTqAKAsbGamKey1Mt9Ann4eH3gTXTz\n",
       "idWtAJ8PQWOk7NzSeQn/OTHDuEikVF1R4z8BQCy+6D1aWRfY0tTGG2OM8rRoPaeIj5ZHzJxszElN\n",
       "VM8K8JS5WOfv8mzRnQAKoEhmt8gyPM4lU9SmBK1MCQBnW4KONT86v1hZ1PbwSXPw4JWussVjtH9Y\n",
       "NCoiL9UoH/6PSu8jFrfY2t36erQHXLIEakMi1SydmzB31h3GGXFDFNPaK8Rme9B79Ixrd0WN+1ij\n",
       "NRQ/doRmuFLBkHSTOm5GruG+pFjFdAmorG4IXH1Qua6ASniclfFtDYt+oUjKipPrCQB7QBQ2lrgP\n",
       "fFzm+9XWUtcqJ3/5vDLDpJ79XHZk3u8nGZ42qlj1+ydtbxysCezrydp6ugmipNJ7WBPB5tydY0jP\n",
       "HaVNzs3QzeE4ZpTbI+ZbnSFPbVOw9vsfnVvqWnirPyCNGD08IlqtYkh2hjZ5dErEQzoNm+6ykyOt\n",
       "Lt5/PQEuSRRKo22VkydK+vvS1XEKlhCJAnsqvcVvH7f/ZU2R67eXbMEGAMiIV5oWZWiWvz5Fv2xG\n",
       "sjqNJQRvn3Rs2lji/lNP19VjAQDgD7FHhujZB9OGqYxRkZxixgRDVlqS6uEOFaJUVu0rPFzctrnF\n",
       "JqijImVp8dEKVWyUXDk92zAuMZ6bFwpBU1HrOw6AdhQgUooChb0+ItMbWJitSo5Ws3IAOGEOtL53\n",
       "0vHZih9sC4vtofZ7Qu6523V/fmGcds1TY3V36pUsBwAbSlxnVh2xLfAD/IAIMDf7XYIkNmXfpp2l\n",
       "18rkAJAy9HKFaIr/qULkeQQKy9zf1JgDB2uaeFNGijo5QsUyacNUUTOnGO42xSnv4oOwpDi1zYkc\n",
       "efUc3I5Gk6PhyTuVKaOGyLUAYPGIoY9Pu/atL/L92+4q9wbflRJ2Trpm/jPjdBtfnqB/dIThcl8A\n",
       "KG7hbRuKnb8qsQsVvVlTrwQAQMUlf3kwJI24Z4JhPMtcfng5GcH49GsrxJpGvvHIaeem2ma+KSjQ\n",
       "lIwUdYyCY8j4dE1KzijNnIP2llF2wcXNnsoapw9XxsgYAl6k+KzUXbi2yP3KR2ecf6z3BFsBICdW\n",
       "nvnIaG3eHybqX7vbpEqUMT+9OL4Qpe8VON7dXuFd39v19FoAABRVePbGGuXTszO0P7tu6lghUonE\n",
       "llRdrhArLvmKdh9u29jcFiRRkfLUxBiFNiqSU9icoZQHo5mYBI1MBgBH6wMNb+U7Pnw337H4gi1Y\n",
       "ciWs+uks3Z9fztUvfzxTm9Ne8XXkvQLHNytOOZeiD4e0PgkAIAYCYknKUNUDSXEKzdWNpnil7r4p\n",
       "xqkjTarZMtk/K8TQ6Qve78qqvXurGwIJqcOUKfUWHsm8KGvxSP68YudXq4pcj39X49uOK2X142O0\n",
       "Tz5/u/7TVybqH0rSya6ZBwD21/gubbrgWdDgEOx9WUhfBaC2ibcEBYm7a7x+ukrBMNcEZggyR0TE\n",
       "T8zUPjikQ4VosQZbTpS4vqizBKvqmvjsqnpfzaZyx9JPiz1/bfGKdgD45XB1zoIMzYbfTdS/NClB\n",
       "Gct0USiY3YL/g0LHy/uq/Ef6uo5+n0R/vyhp17Klpge763f8rMu6YU/zrn2nml+2WtH+Z+5IAAFc\n",
       "2bUTdTDOSNa9+cQY7YLsOIXhevEkCvzph7a8laecz/Un/z4/Ae04XeL3UQb57IwU9ZDr9UuKVajv\n",
       "nxp1+1UVIo/LjztZkKH59fO3G/JemqCfmaCRqbqbd90ZZ8FfjtkfAyD0J/9+C2h1hDwsSxvGjNDc\n",
       "b4zk5NfrSwiQblLHzZhg+Jf4aPlUwpDqkQqa9nimbt1/TDH8OitGMaQnj+RJS6B1fbF7SY1TqO5v\n",
       "/v0WAADl1f7zokgS7s7VT2DZ7pegUjBM7mjtiDZbcN4j0YrHH0rXpCtY0qPX0cVL0rv5jv/ZXend\n",
       "0u/EESYBAFBU4T4Qa5TflZOhTe7pmKpaP8kCVUVw1+yhXfJWvn1P3hnXi33JsTN6PnP3hHZ8Z3/h\n",
       "aLHzmkNPuPj7Bc/F/Q38CwjTpSwQXgE4Vmwry9tpfq/ZFgqFMy4AVDtCvi8rvMvOmv0N4YwbVgEA\n",
       "sPM72/KVnzfspmH7HQGCRLG2yL1+z8XwvPcdCbsAANh+xPzstgMtxeGKt+6MK3/tacfvwhWvIwMi\n",
       "oKEBtm0H7W+UVfkc/Y1V0BhoPlDr/w1w/eu1vjIgAgDg22OtX6/eYfnEz/focrZTHAFR+PSs56/7\n",
       "q32nwpjazxgwAQCwcU/T62t3WL7r6/jVRa6/byp1rei+Z98ZUAEAhEPHPc8fKnTU9nbgtnOe8h0l\n",
       "9hcGIqmODLQAHCy2Xti6v/XNRivf43f4fFvIteu854+VHnR7q9tfBlwAAGz+pnndB9vM26UebAe8\n",
       "SLHujPOTPVW+rwY+sxskAAC2HrA8t2Vvc7ffP1r9o+vwR2dcr92InIAbKKC1FZ5tB1tf+/G8p8sv\n",
       "N/9Q5zd/XR34LYCwV5JdccMEAMDBk45DH243r/X4xGvqxFa/GNpS7n6rwOwNWwHVE26oAADYurf1\n",
       "zx/utOzt+DMKYM0p17YtZZ5VNzqfsB2HewG1WXE8PoZ7gOclbTIvynZf9JV+fqZtfgs/8F/Nu5rB\n",
       "EIBmJ+8QRMmpU7EzGRsf2FzuePqYRbzh/zE26EwdrT10f6r6o8HOYzCJB9Dpff8tbnGLG8L/A/WE\n",
       "roTBs2RqAAAAAElFTkSuQmCC'\n",
       "     style='height:25px; border-radius:12px; display: inline-block; float: left; vertical-align: middle'></img>\n",
       "\n",
       "\n",
       "  <img src='data:image/png;base64,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'\n",
       "       style='height:15px; border-radius:12px; display: inline-block; float: left'></img>\n",
       "  \n",
       "\n",
       "\n",
       "\n",
       "\n",
       "</div>\n"
      ]
     },
     "metadata": {},
     "output_type": "display_data"
    }
   ],
   "source": [
    "import clearwater_riverine as cwr"
   ]
  },
  {
   "cell_type": "markdown",
   "id": "66bddd72-10d7-42f1-ad02-b8cc1e9a4cbf",
   "metadata": {},
   "source": [
    "### Import ClearWater-Modules"
   ]
  },
  {
   "cell_type": "markdown",
   "id": "e56f2ee1-c9f6-4517-8f77-57d34c387b74",
   "metadata": {},
   "source": [
    "We will also need to install Clearwater Modules' `Energy Budget` module. While this package is also still under development, the best way to install is with `conda develop`. You will need to clone the [ClearWater Modules](https://github.com/EcohydrologyTeam/ClearWater-modules) repository. Then, use conda develop pointing to the path of your `clearwater-modules` folder like below.\n",
    "\n",
    "NOTE: You will need to find this path yourself. Remember that if your path has any blank spaces, you must enclose the path with quotes."
   ]
  },
  {
   "cell_type": "code",
   "execution_count": 6,
   "id": "d081f53f-f7ef-4edb-81f2-e9cbcfcfabe6",
   "metadata": {},
   "outputs": [
    {
     "name": "stdout",
     "output_type": "stream",
     "text": [
      "path exists, skipping d:\\Clearwater\\ClearWater-riverine\\examples\\'\\Users\\aaufdenkampe\\Documents\\Python\\ClearWater-modules\\src'\n",
      "completed operation for: d:\\Clearwater\\ClearWater-riverine\\examples\\'\\Users\\aaufdenkampe\\Documents\\Python\\ClearWater-modules\\src'\n"
     ]
    }
   ],
   "source": [
    "!conda develop '/Users/aaufdenkampe/Documents/Python/ClearWater-modules/src'"
   ]
  },
  {
   "cell_type": "markdown",
   "id": "cd44e256",
   "metadata": {},
   "source": [
    "You now need to restart the Python kernel for this notebook, if the path didn't already exist."
   ]
  },
  {
   "cell_type": "code",
   "execution_count": 7,
   "id": "ec258d25-c3b2-4b7e-a511-40f65c6058bc",
   "metadata": {},
   "outputs": [],
   "source": [
    "from clearwater_modules.nsm1.model import NutrientBudget"
   ]
  },
  {
   "cell_type": "markdown",
   "id": "fb9b46da-dde2-42ca-a156-4320b9b55ba3",
   "metadata": {},
   "source": [
    "## Instantiate Models\n",
    "### Clearwater-Riverine\n",
    "\n",
    "Ensure that you have followed the instructions in the Data Availability Section, and that you have all files downloaded in `examples/data_temp/sumwere_creek_coarse_p38`. For a more detailed explanation of all the steps in this process, please see [01_getting_started_riverine.ipynb](./01_getting_started_riverine.ipynb)."
   ]
  },
  {
   "cell_type": "code",
   "execution_count": 8,
   "id": "ae2ef0cd-b448-405a-bfb7-ea69f4bd638f",
   "metadata": {},
   "outputs": [],
   "source": [
    "network_path = Path(r'W:\\2ERDC12 - Clearwater\\Clearwater_testing_NSM\\plan_48_simulation')\n",
    "wetted_surface_area_path = network_path / \"wetted_surface_area.zarr\"\n",
    "q_solar_path = network_path / 'cwr_boundary_conditions_q_solar_p28.csv'\n",
    "air_temp_path = network_path / 'cwr_boundary_conditions_TairC_p28.csv'\n",
    "config_file = network_path / 'demo_config.yml'"
   ]
  },
  {
   "cell_type": "code",
   "execution_count": 9,
   "id": "c1f71478",
   "metadata": {},
   "outputs": [
    {
     "data": {
      "text/plain": [
       "True"
      ]
     },
     "execution_count": 9,
     "metadata": {},
     "output_type": "execute_result"
    }
   ],
   "source": [
    "#flow_field_fpath.exists()\n",
    "config_file.exists()"
   ]
  },
  {
   "cell_type": "code",
   "execution_count": 10,
   "id": "8a8eb193",
   "metadata": {},
   "outputs": [
    {
     "name": "stdout",
     "output_type": "stream",
     "text": [
      "0 172800\n"
     ]
    }
   ],
   "source": [
    "start_index =  0 # int((8*60*60)/30)\n",
    "end_index = 48*60*60\n",
    "print(start_index, end_index)"
   ]
  },
  {
   "cell_type": "code",
   "execution_count": 11,
   "id": "de6f3781",
   "metadata": {},
   "outputs": [
    {
     "name": "stdout",
     "output_type": "stream",
     "text": [
      "Populating Model Mesh...\n",
      "Calculating Required Parameters...\n",
      "CPU times: total: 1.41 s\n",
      "Wall time: 1.82 s\n"
     ]
    }
   ],
   "source": [
    "%%time\n",
    "transport_model = cwr.ClearwaterRiverine(\n",
    "    config_filepath=config_file,\n",
    "    verbose=True,\n",
    "    datetime_range= (start_index, end_index)\n",
    ")"
   ]
  },
  {
   "cell_type": "code",
   "execution_count": 12,
   "id": "8fb5383b",
   "metadata": {},
   "outputs": [
    {
     "data": {
      "text/html": [
       "<div><svg style=\"position: absolute; width: 0; height: 0; overflow: hidden\">\n",
       "<defs>\n",
       "<symbol id=\"icon-database\" viewBox=\"0 0 32 32\">\n",
       "<path d=\"M16 0c-8.837 0-16 2.239-16 5v4c0 2.761 7.163 5 16 5s16-2.239 16-5v-4c0-2.761-7.163-5-16-5z\"></path>\n",
       "<path d=\"M16 17c-8.837 0-16-2.239-16-5v6c0 2.761 7.163 5 16 5s16-2.239 16-5v-6c0 2.761-7.163 5-16 5z\"></path>\n",
       "<path d=\"M16 26c-8.837 0-16-2.239-16-5v6c0 2.761 7.163 5 16 5s16-2.239 16-5v-6c0 2.761-7.163 5-16 5z\"></path>\n",
       "</symbol>\n",
       "<symbol id=\"icon-file-text2\" viewBox=\"0 0 32 32\">\n",
       "<path d=\"M28.681 7.159c-0.694-0.947-1.662-2.053-2.724-3.116s-2.169-2.030-3.116-2.724c-1.612-1.182-2.393-1.319-2.841-1.319h-15.5c-1.378 0-2.5 1.121-2.5 2.5v27c0 1.378 1.122 2.5 2.5 2.5h23c1.378 0 2.5-1.122 2.5-2.5v-19.5c0-0.448-0.137-1.23-1.319-2.841zM24.543 5.457c0.959 0.959 1.712 1.825 2.268 2.543h-4.811v-4.811c0.718 0.556 1.584 1.309 2.543 2.268zM28 29.5c0 0.271-0.229 0.5-0.5 0.5h-23c-0.271 0-0.5-0.229-0.5-0.5v-27c0-0.271 0.229-0.5 0.5-0.5 0 0 15.499-0 15.5 0v7c0 0.552 0.448 1 1 1h7v19.5z\"></path>\n",
       "<path d=\"M23 26h-14c-0.552 0-1-0.448-1-1s0.448-1 1-1h14c0.552 0 1 0.448 1 1s-0.448 1-1 1z\"></path>\n",
       "<path d=\"M23 22h-14c-0.552 0-1-0.448-1-1s0.448-1 1-1h14c0.552 0 1 0.448 1 1s-0.448 1-1 1z\"></path>\n",
       "<path d=\"M23 18h-14c-0.552 0-1-0.448-1-1s0.448-1 1-1h14c0.552 0 1 0.448 1 1s-0.448 1-1 1z\"></path>\n",
       "</symbol>\n",
       "</defs>\n",
       "</svg>\n",
       "<style>/* CSS stylesheet for displaying xarray objects in jupyterlab.\n",
       " *\n",
       " */\n",
       "\n",
       ":root {\n",
       "  --xr-font-color0: var(--jp-content-font-color0, rgba(0, 0, 0, 1));\n",
       "  --xr-font-color2: var(--jp-content-font-color2, rgba(0, 0, 0, 0.54));\n",
       "  --xr-font-color3: var(--jp-content-font-color3, rgba(0, 0, 0, 0.38));\n",
       "  --xr-border-color: var(--jp-border-color2, #e0e0e0);\n",
       "  --xr-disabled-color: var(--jp-layout-color3, #bdbdbd);\n",
       "  --xr-background-color: var(--jp-layout-color0, white);\n",
       "  --xr-background-color-row-even: var(--jp-layout-color1, white);\n",
       "  --xr-background-color-row-odd: var(--jp-layout-color2, #eeeeee);\n",
       "}\n",
       "\n",
       "html[theme=dark],\n",
       "body[data-theme=dark],\n",
       "body.vscode-dark {\n",
       "  --xr-font-color0: rgba(255, 255, 255, 1);\n",
       "  --xr-font-color2: rgba(255, 255, 255, 0.54);\n",
       "  --xr-font-color3: rgba(255, 255, 255, 0.38);\n",
       "  --xr-border-color: #1F1F1F;\n",
       "  --xr-disabled-color: #515151;\n",
       "  --xr-background-color: #111111;\n",
       "  --xr-background-color-row-even: #111111;\n",
       "  --xr-background-color-row-odd: #313131;\n",
       "}\n",
       "\n",
       ".xr-wrap {\n",
       "  display: block !important;\n",
       "  min-width: 300px;\n",
       "  max-width: 700px;\n",
       "}\n",
       "\n",
       ".xr-text-repr-fallback {\n",
       "  /* fallback to plain text repr when CSS is not injected (untrusted notebook) */\n",
       "  display: none;\n",
       "}\n",
       "\n",
       ".xr-header {\n",
       "  padding-top: 6px;\n",
       "  padding-bottom: 6px;\n",
       "  margin-bottom: 4px;\n",
       "  border-bottom: solid 1px var(--xr-border-color);\n",
       "}\n",
       "\n",
       ".xr-header > div,\n",
       ".xr-header > ul {\n",
       "  display: inline;\n",
       "  margin-top: 0;\n",
       "  margin-bottom: 0;\n",
       "}\n",
       "\n",
       ".xr-obj-type,\n",
       ".xr-array-name {\n",
       "  margin-left: 2px;\n",
       "  margin-right: 10px;\n",
       "}\n",
       "\n",
       ".xr-obj-type {\n",
       "  color: var(--xr-font-color2);\n",
       "}\n",
       "\n",
       ".xr-sections {\n",
       "  padding-left: 0 !important;\n",
       "  display: grid;\n",
       "  grid-template-columns: 150px auto auto 1fr 20px 20px;\n",
       "}\n",
       "\n",
       ".xr-section-item {\n",
       "  display: contents;\n",
       "}\n",
       "\n",
       ".xr-section-item input {\n",
       "  display: none;\n",
       "}\n",
       "\n",
       ".xr-section-item input + label {\n",
       "  color: var(--xr-disabled-color);\n",
       "}\n",
       "\n",
       ".xr-section-item input:enabled + label {\n",
       "  cursor: pointer;\n",
       "  color: var(--xr-font-color2);\n",
       "}\n",
       "\n",
       ".xr-section-item input:enabled + label:hover {\n",
       "  color: var(--xr-font-color0);\n",
       "}\n",
       "\n",
       ".xr-section-summary {\n",
       "  grid-column: 1;\n",
       "  color: var(--xr-font-color2);\n",
       "  font-weight: 500;\n",
       "}\n",
       "\n",
       ".xr-section-summary > span {\n",
       "  display: inline-block;\n",
       "  padding-left: 0.5em;\n",
       "}\n",
       "\n",
       ".xr-section-summary-in:disabled + label {\n",
       "  color: var(--xr-font-color2);\n",
       "}\n",
       "\n",
       ".xr-section-summary-in + label:before {\n",
       "  display: inline-block;\n",
       "  content: '►';\n",
       "  font-size: 11px;\n",
       "  width: 15px;\n",
       "  text-align: center;\n",
       "}\n",
       "\n",
       ".xr-section-summary-in:disabled + label:before {\n",
       "  color: var(--xr-disabled-color);\n",
       "}\n",
       "\n",
       ".xr-section-summary-in:checked + label:before {\n",
       "  content: '▼';\n",
       "}\n",
       "\n",
       ".xr-section-summary-in:checked + label > span {\n",
       "  display: none;\n",
       "}\n",
       "\n",
       ".xr-section-summary,\n",
       ".xr-section-inline-details {\n",
       "  padding-top: 4px;\n",
       "  padding-bottom: 4px;\n",
       "}\n",
       "\n",
       ".xr-section-inline-details {\n",
       "  grid-column: 2 / -1;\n",
       "}\n",
       "\n",
       ".xr-section-details {\n",
       "  display: none;\n",
       "  grid-column: 1 / -1;\n",
       "  margin-bottom: 5px;\n",
       "}\n",
       "\n",
       ".xr-section-summary-in:checked ~ .xr-section-details {\n",
       "  display: contents;\n",
       "}\n",
       "\n",
       ".xr-array-wrap {\n",
       "  grid-column: 1 / -1;\n",
       "  display: grid;\n",
       "  grid-template-columns: 20px auto;\n",
       "}\n",
       "\n",
       ".xr-array-wrap > label {\n",
       "  grid-column: 1;\n",
       "  vertical-align: top;\n",
       "}\n",
       "\n",
       ".xr-preview {\n",
       "  color: var(--xr-font-color3);\n",
       "}\n",
       "\n",
       ".xr-array-preview,\n",
       ".xr-array-data {\n",
       "  padding: 0 5px !important;\n",
       "  grid-column: 2;\n",
       "}\n",
       "\n",
       ".xr-array-data,\n",
       ".xr-array-in:checked ~ .xr-array-preview {\n",
       "  display: none;\n",
       "}\n",
       "\n",
       ".xr-array-in:checked ~ .xr-array-data,\n",
       ".xr-array-preview {\n",
       "  display: inline-block;\n",
       "}\n",
       "\n",
       ".xr-dim-list {\n",
       "  display: inline-block !important;\n",
       "  list-style: none;\n",
       "  padding: 0 !important;\n",
       "  margin: 0;\n",
       "}\n",
       "\n",
       ".xr-dim-list li {\n",
       "  display: inline-block;\n",
       "  padding: 0;\n",
       "  margin: 0;\n",
       "}\n",
       "\n",
       ".xr-dim-list:before {\n",
       "  content: '(';\n",
       "}\n",
       "\n",
       ".xr-dim-list:after {\n",
       "  content: ')';\n",
       "}\n",
       "\n",
       ".xr-dim-list li:not(:last-child):after {\n",
       "  content: ',';\n",
       "  padding-right: 5px;\n",
       "}\n",
       "\n",
       ".xr-has-index {\n",
       "  font-weight: bold;\n",
       "}\n",
       "\n",
       ".xr-var-list,\n",
       ".xr-var-item {\n",
       "  display: contents;\n",
       "}\n",
       "\n",
       ".xr-var-item > div,\n",
       ".xr-var-item label,\n",
       ".xr-var-item > .xr-var-name span {\n",
       "  background-color: var(--xr-background-color-row-even);\n",
       "  margin-bottom: 0;\n",
       "}\n",
       "\n",
       ".xr-var-item > .xr-var-name:hover span {\n",
       "  padding-right: 5px;\n",
       "}\n",
       "\n",
       ".xr-var-list > li:nth-child(odd) > div,\n",
       ".xr-var-list > li:nth-child(odd) > label,\n",
       ".xr-var-list > li:nth-child(odd) > .xr-var-name span {\n",
       "  background-color: var(--xr-background-color-row-odd);\n",
       "}\n",
       "\n",
       ".xr-var-name {\n",
       "  grid-column: 1;\n",
       "}\n",
       "\n",
       ".xr-var-dims {\n",
       "  grid-column: 2;\n",
       "}\n",
       "\n",
       ".xr-var-dtype {\n",
       "  grid-column: 3;\n",
       "  text-align: right;\n",
       "  color: var(--xr-font-color2);\n",
       "}\n",
       "\n",
       ".xr-var-preview {\n",
       "  grid-column: 4;\n",
       "}\n",
       "\n",
       ".xr-index-preview {\n",
       "  grid-column: 2 / 5;\n",
       "  color: var(--xr-font-color2);\n",
       "}\n",
       "\n",
       ".xr-var-name,\n",
       ".xr-var-dims,\n",
       ".xr-var-dtype,\n",
       ".xr-preview,\n",
       ".xr-attrs dt {\n",
       "  white-space: nowrap;\n",
       "  overflow: hidden;\n",
       "  text-overflow: ellipsis;\n",
       "  padding-right: 10px;\n",
       "}\n",
       "\n",
       ".xr-var-name:hover,\n",
       ".xr-var-dims:hover,\n",
       ".xr-var-dtype:hover,\n",
       ".xr-attrs dt:hover {\n",
       "  overflow: visible;\n",
       "  width: auto;\n",
       "  z-index: 1;\n",
       "}\n",
       "\n",
       ".xr-var-attrs,\n",
       ".xr-var-data,\n",
       ".xr-index-data {\n",
       "  display: none;\n",
       "  background-color: var(--xr-background-color) !important;\n",
       "  padding-bottom: 5px !important;\n",
       "}\n",
       "\n",
       ".xr-var-attrs-in:checked ~ .xr-var-attrs,\n",
       ".xr-var-data-in:checked ~ .xr-var-data,\n",
       ".xr-index-data-in:checked ~ .xr-index-data {\n",
       "  display: block;\n",
       "}\n",
       "\n",
       ".xr-var-data > table {\n",
       "  float: right;\n",
       "}\n",
       "\n",
       ".xr-var-name span,\n",
       ".xr-var-data,\n",
       ".xr-index-name div,\n",
       ".xr-index-data,\n",
       ".xr-attrs {\n",
       "  padding-left: 25px !important;\n",
       "}\n",
       "\n",
       ".xr-attrs,\n",
       ".xr-var-attrs,\n",
       ".xr-var-data,\n",
       ".xr-index-data {\n",
       "  grid-column: 1 / -1;\n",
       "}\n",
       "\n",
       "dl.xr-attrs {\n",
       "  padding: 0;\n",
       "  margin: 0;\n",
       "  display: grid;\n",
       "  grid-template-columns: 125px auto;\n",
       "}\n",
       "\n",
       ".xr-attrs dt,\n",
       ".xr-attrs dd {\n",
       "  padding: 0;\n",
       "  margin: 0;\n",
       "  float: left;\n",
       "  padding-right: 10px;\n",
       "  width: auto;\n",
       "}\n",
       "\n",
       ".xr-attrs dt {\n",
       "  font-weight: normal;\n",
       "  grid-column: 1;\n",
       "}\n",
       "\n",
       ".xr-attrs dt:hover span {\n",
       "  display: inline-block;\n",
       "  background: var(--xr-background-color);\n",
       "  padding-right: 10px;\n",
       "}\n",
       "\n",
       ".xr-attrs dd {\n",
       "  grid-column: 2;\n",
       "  white-space: pre-wrap;\n",
       "  word-break: break-all;\n",
       "}\n",
       "\n",
       ".xr-icon-database,\n",
       ".xr-icon-file-text2,\n",
       ".xr-no-icon {\n",
       "  display: inline-block;\n",
       "  vertical-align: middle;\n",
       "  width: 1em;\n",
       "  height: 1.5em !important;\n",
       "  stroke-width: 0;\n",
       "  stroke: currentColor;\n",
       "  fill: currentColor;\n",
       "}\n",
       "</style><pre class='xr-text-repr-fallback'>&lt;xarray.Dataset&gt; Size: 495MB\n",
       "Dimensions:                 (node: 549, time: 5761, nface: 444, nmax_face: 8,\n",
       "                             nedge: 915, 2: 2)\n",
       "Coordinates:\n",
       "    node_x                  (node) float64 4kB 5.004e+05 5.005e+05 ... 5.024e+05\n",
       "    node_y                  (node) float64 4kB 2.381e+03 2.376e+03 ... 500.0\n",
       "  * time                    (time) datetime64[ns] 46kB 2022-05-13 ... 2022-05-15\n",
       "    face_x                  (nface) float64 4kB 5.005e+05 ... 5.024e+05\n",
       "    face_y                  (nface) float64 4kB 2.45e+03 2.45e+03 ... 564.4\n",
       "Dimensions without coordinates: node, nface, nmax_face, nedge, 2\n",
       "Data variables: (12/34)\n",
       "    mesh2d                  int32 4B 0\n",
       "    face_nodes              (nface, nmax_face) int32 14kB 0 1 2 3 ... -1 -1 -1\n",
       "    edge_nodes              (nedge, 2) int32 7kB 0 1 1 2 2 ... 547 418 548 519\n",
       "    edge_face_connectivity  (nedge, 2) int32 7kB 0 207 0 208 ... 194 442 329 443\n",
       "    edges_face1             (nedge) int32 4kB 0 0 0 0 207 ... 366 0 19 194 329\n",
       "    edges_face2             (nedge) int32 4kB 207 208 1 367 ... 440 441 442 443\n",
       "    ...                      ...\n",
       "    DOC                     (time, nface) float64 20MB 1.0 1.0 1.0 ... nan nan\n",
       "    DIC                     (time, nface) float64 20MB 1.0 1.0 1.0 ... nan nan\n",
       "    POM                     (time, nface) float64 20MB 1.0 1.0 1.0 ... nan nan\n",
       "    CBOD                    (time, nface) float64 20MB 1.0 1.0 1.0 ... nan nan\n",
       "    PX                      (time, nface) float64 20MB 1.0 1.0 1.0 ... nan nan\n",
       "    Alk                     (time, nface) float64 20MB 1.0 1.0 1.0 ... nan nan\n",
       "Attributes: (12/13)\n",
       "    Conventions:                       CF-1.8 UGRID-1.0 Deltares-0.10\n",
       "    diffusion_coefficient:             0.1\n",
       "    volume_calculation_required:       False\n",
       "    face_area_calculation_required:    False\n",
       "    face_area_elevation_info:          Empty DataFrame\\nColumns: []\\nIndex: []\n",
       "    face_area_elevation_values:        Empty DataFrame\\nColumns: []\\nIndex: []\n",
       "    ...                                ...\n",
       "    face_cell_indexes_df:              Empty DataFrame\\nColumns: []\\nIndex: []\n",
       "    face_volume_elevation_info:        Empty DataFrame\\nColumns: []\\nIndex: []\n",
       "    face_volume_elevation_values:      Empty DataFrame\\nColumns: []\\nIndex: []\n",
       "    boundary_data:                     Empty DataFrame\\nColumns: []\\nIndex: []\n",
       "    units:                             Metric\n",
       "    nreal:                             366</pre><div class='xr-wrap' style='display:none'><div class='xr-header'><div class='xr-obj-type'>xarray.Dataset</div></div><ul class='xr-sections'><li class='xr-section-item'><input id='section-67055452-6e94-43cd-b703-1a99380021b9' class='xr-section-summary-in' type='checkbox' disabled ><label for='section-67055452-6e94-43cd-b703-1a99380021b9' class='xr-section-summary'  title='Expand/collapse section'>Dimensions:</label><div class='xr-section-inline-details'><ul class='xr-dim-list'><li><span>node</span>: 549</li><li><span class='xr-has-index'>time</span>: 5761</li><li><span>nface</span>: 444</li><li><span>nmax_face</span>: 8</li><li><span>nedge</span>: 915</li><li><span>2</span>: 2</li></ul></div><div class='xr-section-details'></div></li><li class='xr-section-item'><input id='section-85ab7f53-b664-4f84-ae8f-c77a5d973e29' class='xr-section-summary-in' type='checkbox'  checked><label for='section-85ab7f53-b664-4f84-ae8f-c77a5d973e29' class='xr-section-summary' >Coordinates: <span>(5)</span></label><div class='xr-section-inline-details'></div><div class='xr-section-details'><ul class='xr-var-list'><li class='xr-var-item'><div class='xr-var-name'><span>node_x</span></div><div class='xr-var-dims'>(node)</div><div class='xr-var-dtype'>float64</div><div class='xr-var-preview xr-preview'>5.004e+05 5.005e+05 ... 5.024e+05</div><input id='attrs-837de581-336c-4942-a3a8-282a65f2dab5' class='xr-var-attrs-in' type='checkbox' disabled><label for='attrs-837de581-336c-4942-a3a8-282a65f2dab5' title='Show/Hide attributes'><svg class='icon xr-icon-file-text2'><use xlink:href='#icon-file-text2'></use></svg></label><input id='data-1064c606-d508-4efd-9e05-2d1d94b09521' class='xr-var-data-in' type='checkbox'><label for='data-1064c606-d508-4efd-9e05-2d1d94b09521' title='Show/Hide data repr'><svg class='icon xr-icon-database'><use xlink:href='#icon-database'></use></svg></label><div class='xr-var-attrs'><dl class='xr-attrs'></dl></div><div class='xr-var-data'><pre>array([500400.00000001, 500485.77497549, 500500.00000001, 500500.00000001,\n",
       "       500588.70786068, 500600.00000001, 500600.00000001, 500691.21118046,\n",
       "       500700.00000001, 500700.00000001, 500800.00000001, 500800.00000001,\n",
       "       500793.47107692, 500900.00000001, 500900.00000001, 501000.00000001,\n",
       "       501000.00000001, 501100.00000001, 501100.00000001, 501200.00000001,\n",
       "       501200.00000001, 501300.00000001, 501300.00000001, 501400.00000001,\n",
       "       501400.00000001, 501500.00000001, 501500.00000001, 501569.52150026,\n",
       "       501600.00000001, 501600.00000001, 501700.00000001, 501700.00000001,\n",
       "       501800.00000001, 501800.00000001, 501900.00000001, 501900.00000001,\n",
       "       502000.00000001, 502000.00000001, 502100.00000001, 502100.00000001,\n",
       "       502200.00000001, 502200.00000001, 502300.00000001, 502300.00000001,\n",
       "       502400.        , 501700.00000001, 501602.19164361, 501706.52881355,\n",
       "       501800.00000001, 501810.06547903, 501900.00000001, 501910.9511348 ,\n",
       "       501967.38330336, 502000.00000001, 502100.00000001, 502200.00000001,\n",
       "       502300.00000001, 502400.        , 502001.40752427, 502100.00000001,\n",
       "       502166.30287737, 502200.00000001, 502116.51457194, 502300.00000001,\n",
       "       502400.        , 500700.00000001, 500700.00000001, 500604.03141216,\n",
       "       500565.8370389 , 500600.00000001, 500800.00000001, 500800.00000001,\n",
       "       500839.59417791, 500900.00000001, 500900.00000001, 500895.27352363,\n",
       "       501000.00000001, 501000.00000001, 500993.46557737, 500967.47405019,\n",
       "...\n",
       "       501433.01538715, 501370.76144742, 501324.47264009, 501420.97411405,\n",
       "       501286.17253587, 501215.1010291 , 501145.24499223, 501060.47697569,\n",
       "       500965.65553841, 500869.92689859, 500785.19488662, 500708.43792557,\n",
       "       500639.76098268, 500732.03806137, 500589.28674574, 500627.49956643,\n",
       "       500729.18077917, 500821.63647053, 500915.63945653, 501010.210723  ,\n",
       "       501104.78235716, 501199.01018726, 501292.48977967, 501310.81525422,\n",
       "       501384.7747243 , 501407.32523181, 501373.39975232, 501474.84730718,\n",
       "       501507.21324787, 501451.16145605, 501561.83423686, 501612.7973118 ,\n",
       "       501527.00650264, 501641.59887177, 501707.62190871, 501853.98648974,\n",
       "       501756.61238209, 501802.6867799 , 501899.14757467, 501906.20985598,\n",
       "       501858.88538519, 501955.77854696, 501932.49255572, 502016.22338546,\n",
       "       502107.15793419, 502202.77367074, 502300.86497163, 502400.        ,\n",
       "       501669.735584  , 501669.08400404, 501718.80521364, 502170.55268771,\n",
       "       502286.8767108 , 501391.83310031, 501472.31019726, 501552.78729421,\n",
       "       500914.35228762, 500953.79804404, 500982.5929238 , 501068.40430883,\n",
       "       501154.21569386, 501240.02707889, 501325.83846392, 501411.64984895,\n",
       "       501497.46123398, 501583.27261901, 501126.9083414 , 501987.79523573,\n",
       "       502069.38061548, 502150.96599523, 502232.55137497, 502314.13675472,\n",
       "       502400.        , 500400.00000001, 502400.        , 500400.00000001,\n",
       "       502400.        ])</pre></div></li><li class='xr-var-item'><div class='xr-var-name'><span>node_y</span></div><div class='xr-var-dims'>(node)</div><div class='xr-var-dtype'>float64</div><div class='xr-var-preview xr-preview'>2.381e+03 2.376e+03 ... 500.0 500.0</div><input id='attrs-f75f86b0-c9cd-46cc-b4f8-6df327ae617e' class='xr-var-attrs-in' type='checkbox' disabled><label for='attrs-f75f86b0-c9cd-46cc-b4f8-6df327ae617e' title='Show/Hide attributes'><svg class='icon xr-icon-file-text2'><use xlink:href='#icon-file-text2'></use></svg></label><input id='data-95c2d029-2510-4668-885c-a4f386d2ff7c' class='xr-var-data-in' type='checkbox'><label for='data-95c2d029-2510-4668-885c-a4f386d2ff7c' title='Show/Hide data repr'><svg class='icon xr-icon-database'><use xlink:href='#icon-database'></use></svg></label><div class='xr-var-attrs'><dl class='xr-attrs'></dl></div><div class='xr-var-data'><pre>array([2380.90844004, 2376.4242409 , 2386.5131813 , 2500.00000004,\n",
       "       2382.05515883, 2390.58648094, 2500.00000004, 2385.78843387,\n",
       "       2392.78377471, 2500.00000004, 2393.79033837, 2500.00000004,\n",
       "       2388.48706572, 2389.30550178, 2500.00000004, 2389.53976159,\n",
       "       2500.00000004, 2388.93368814, 2500.00000004, 2387.87016137,\n",
       "       2500.00000004, 2385.0111151 , 2500.00000004, 2380.82980762,\n",
       "       2500.00000004, 2375.58197869, 2500.00000004, 2369.52150028,\n",
       "       2400.00000004, 2500.00000004, 2400.00000004, 2500.00000004,\n",
       "       2400.00000004, 2500.00000004, 2400.00000004, 2500.00000004,\n",
       "       2400.00000004, 2500.00000004, 2400.00000004, 2500.00000004,\n",
       "       2400.00000004, 2500.00000004, 2400.00000004, 2500.00000004,\n",
       "       2400.00000004, 2308.32143068, 2313.00784877, 2299.67952535,\n",
       "       2296.40094488, 2286.32871568, 2280.68585708, 2271.69203231,\n",
       "       2267.38330338, 2300.00000004, 2300.00000004, 2300.00000004,\n",
       "       2300.00000004, 2300.00000004, 2205.36938753, 2191.56219523,\n",
       "       2166.30287739, 2200.00000004, 2172.88097567, 2200.00000004,\n",
       "       2200.00000004, 2100.00000004, 2188.06534731, 2188.4064972 ,\n",
       "       2134.16296114, 2100.00000004, 2100.00000004, 2192.16172881,\n",
       "       2060.40582214, 2082.7151293 , 2188.63954438, 2193.97381478,\n",
       "       2079.24689484, 2187.54699109, 2194.92339133, 2062.92553287,\n",
       "...\n",
       "       1574.46604825, 1692.87334217, 1602.11401753, 1569.28369981,\n",
       "       1744.62609645, 1813.65814182, 1883.95778688, 1935.07168374,\n",
       "       1962.5094257 , 1938.57242587, 1887.49633686, 1824.6640322 ,\n",
       "       1753.75463832, 1682.71480012, 1670.30219739, 1601.70789602,\n",
       "       1543.91149935, 1507.76082915, 1475.7046162 , 1445.3451056 ,\n",
       "       1414.98547697, 1383.58375943, 1350.04347939, 1398.53743517,\n",
       "       1313.38515965, 1365.8348983 , 1418.68019888, 1271.64040499,\n",
       "       1335.65219895, 1384.66220145, 1223.8612233 , 1303.49585367,\n",
       "       1344.57674956, 1164.93432734, 1091.03052452, 1057.94121482,\n",
       "       1004.77647748,  916.90101601,  975.08016656, 1029.36431669,\n",
       "        835.22140621,  920.16789682,  768.82181313,  715.64764977,\n",
       "        675.95857263,  649.38625771,  634.18044155,  628.82701829,\n",
       "        957.34218027,  913.14917144,  866.29825148,  500.        ,\n",
       "        500.        , 1477.0336195 , 1451.61159081, 1426.18956212,\n",
       "        500.        ,  500.        ,  577.88608574,  619.79397145,\n",
       "        661.70185716,  703.60974288,  745.51762859,  787.4255143 ,\n",
       "        829.33340001,  871.24128573,  500.        , 1069.2765888 ,\n",
       "       1109.18886091, 1149.10113301, 1189.01340512, 1228.92567723,\n",
       "       1204.01423819, 2500.00000004, 2500.00000004,  500.        ,\n",
       "        500.        ])</pre></div></li><li class='xr-var-item'><div class='xr-var-name'><span class='xr-has-index'>time</span></div><div class='xr-var-dims'>(time)</div><div class='xr-var-dtype'>datetime64[ns]</div><div class='xr-var-preview xr-preview'>2022-05-13 ... 2022-05-15</div><input id='attrs-5cb252a2-0621-44de-81ac-8222cdf20ff9' class='xr-var-attrs-in' type='checkbox' disabled><label for='attrs-5cb252a2-0621-44de-81ac-8222cdf20ff9' title='Show/Hide attributes'><svg class='icon xr-icon-file-text2'><use xlink:href='#icon-file-text2'></use></svg></label><input id='data-85400a91-54a1-4479-bb7e-c94580f16637' class='xr-var-data-in' type='checkbox'><label for='data-85400a91-54a1-4479-bb7e-c94580f16637' title='Show/Hide data repr'><svg class='icon xr-icon-database'><use xlink:href='#icon-database'></use></svg></label><div class='xr-var-attrs'><dl class='xr-attrs'></dl></div><div class='xr-var-data'><pre>array([&#x27;2022-05-13T00:00:00.000000000&#x27;, &#x27;2022-05-13T00:00:30.000000000&#x27;,\n",
       "       &#x27;2022-05-13T00:01:00.000000000&#x27;, ..., &#x27;2022-05-14T23:59:00.000000000&#x27;,\n",
       "       &#x27;2022-05-14T23:59:30.000000000&#x27;, &#x27;2022-05-15T00:00:00.000000000&#x27;],\n",
       "      dtype=&#x27;datetime64[ns]&#x27;)</pre></div></li><li class='xr-var-item'><div class='xr-var-name'><span>face_x</span></div><div class='xr-var-dims'>(nface)</div><div class='xr-var-dtype'>float64</div><div class='xr-var-preview xr-preview'>5.005e+05 5.006e+05 ... 5.024e+05</div><input id='attrs-2fbe8a14-cabb-4d8e-a1a3-bbc84a6962f5' class='xr-var-attrs-in' type='checkbox' disabled><label for='attrs-2fbe8a14-cabb-4d8e-a1a3-bbc84a6962f5' title='Show/Hide attributes'><svg class='icon xr-icon-file-text2'><use xlink:href='#icon-file-text2'></use></svg></label><input id='data-222752a6-7dc4-4394-bd2e-a14171a44fa0' class='xr-var-data-in' type='checkbox'><label for='data-222752a6-7dc4-4394-bd2e-a14171a44fa0' title='Show/Hide data repr'><svg class='icon xr-icon-database'><use xlink:href='#icon-database'></use></svg></label><div class='xr-var-attrs'><dl class='xr-attrs'></dl></div><div class='xr-var-data'><pre>array([500450.00000001, 500550.00000001, 500650.00000001, 500750.00000001,\n",
       "       500850.00000001, 500950.00000001, 501050.00000001, 501150.00000001,\n",
       "       501250.00000001, 501350.00000001, 501450.00000001, 501550.00000001,\n",
       "       501650.00000001, 501750.00000001, 501850.00000001, 501950.00000001,\n",
       "       502050.00000001, 502150.00000001, 502250.00000001, 502350.00000001,\n",
       "       501650.00000001, 501750.00000001, 501850.00000001, 501950.00000001,\n",
       "       502050.00000001, 502150.00000001, 502250.00000001, 502350.00000001,\n",
       "       502050.00000001, 502150.00000001, 502250.00000001, 502350.00000001,\n",
       "       500650.00000001, 500750.00000001, 500850.00000001, 500950.00000001,\n",
       "       501050.00000001, 501150.00000001, 502250.00000001, 502350.00000001,\n",
       "       500450.00000001, 500550.00000001, 500650.00000001, 500750.00000001,\n",
       "       501150.00000001, 501250.00000001, 501350.00000001, 501450.00000001,\n",
       "       501550.00000001, 501650.00000001, 501750.00000001, 502350.00000001,\n",
       "       500450.00000001, 500550.00000001, 500650.00000001, 501350.00000001,\n",
       "       501450.00000001, 501550.00000001, 501650.00000001, 501750.00000001,\n",
       "       501850.00000001, 501950.00000001, 502350.00000001, 500450.00000001,\n",
       "       500550.00000001, 501450.00000001, 501550.00000001, 501650.00000001,\n",
       "       501750.00000001, 501850.00000001, 501950.00000001, 502050.00000001,\n",
       "       502350.00000001, 500450.00000001, 500850.00000001, 500950.00000001,\n",
       "       501050.00000001, 501650.00000001, 501750.00000001, 501850.00000001,\n",
       "...\n",
       "       502132.14540178, 502213.73078153, 502295.31616128, 500450.00000001,\n",
       "       500400.00000001, 500850.00000001, 500950.00000001, 502400.        ,\n",
       "       500550.00000001, 500750.00000001, 500650.00000001, 501050.00000001,\n",
       "       501150.00000001, 501250.00000001, 501350.00000001, 501450.00000001,\n",
       "       501550.00000001, 501650.00000001, 501750.00000001, 501850.00000001,\n",
       "       501950.00000001, 502050.00000001, 502150.00000001, 502250.00000001,\n",
       "       502400.        , 502400.        , 502400.        , 502400.        ,\n",
       "       502400.        , 502400.        , 502400.        , 502400.        ,\n",
       "       500400.00000001, 500400.00000001, 500400.00000001, 502400.        ,\n",
       "       500400.00000001, 500400.00000001, 502400.        , 500400.00000001,\n",
       "       500400.00000001, 500400.00000001, 500400.00000001, 502400.        ,\n",
       "       502400.        , 500400.00000001, 502400.        , 500400.00000001,\n",
       "       500400.00000001, 500400.00000001, 502343.4383554 , 500400.00000001,\n",
       "       502400.        , 500400.00000001, 501850.00000001, 500400.00000001,\n",
       "       500550.00000001, 500748.8225405 , 500855.9986843 , 501231.5056931 ,\n",
       "       501350.00000001, 500934.07516583, 500650.00000001, 500400.00000001,\n",
       "       501450.00000001, 501950.00000001, 501550.00000001, 501650.00000001,\n",
       "       501750.00000001, 501040.35319272, 502162.13636585, 502228.71469925,\n",
       "       502076.860022  , 502400.        , 501144.9598638 , 502400.        ,\n",
       "       500400.00000001, 502350.00000001, 500450.00000001, 502400.        ])</pre></div></li><li class='xr-var-item'><div class='xr-var-name'><span>face_y</span></div><div class='xr-var-dims'>(nface)</div><div class='xr-var-dtype'>float64</div><div class='xr-var-preview xr-preview'>2.45e+03 2.45e+03 ... 500.0 564.4</div><input id='attrs-4e6687fc-f6e6-4be1-9419-1f2bd190dd46' class='xr-var-attrs-in' type='checkbox' disabled><label for='attrs-4e6687fc-f6e6-4be1-9419-1f2bd190dd46' title='Show/Hide attributes'><svg class='icon xr-icon-file-text2'><use xlink:href='#icon-file-text2'></use></svg></label><input id='data-22dab49b-77fc-4158-84a2-89a730217e1b' class='xr-var-data-in' type='checkbox'><label for='data-22dab49b-77fc-4158-84a2-89a730217e1b' title='Show/Hide data repr'><svg class='icon xr-icon-database'><use xlink:href='#icon-database'></use></svg></label><div class='xr-var-attrs'><dl class='xr-attrs'></dl></div><div class='xr-var-data'><pre>array([2450.00000004, 2450.00000004, 2450.00000004, 2450.00000004,\n",
       "       2450.00000004, 2450.00000004, 2450.00000004, 2450.00000004,\n",
       "       2450.00000004, 2450.00000004, 2450.00000004, 2450.00000004,\n",
       "       2450.00000004, 2450.00000004, 2450.00000004, 2450.00000004,\n",
       "       2450.00000004, 2450.00000004, 2450.00000004, 2450.00000004,\n",
       "       2350.00000004, 2350.00000004, 2350.00000004, 2350.00000004,\n",
       "       2350.00000004, 2350.00000004, 2350.00000004, 2350.00000004,\n",
       "       2250.00000004, 2250.00000004, 2250.00000004, 2250.00000004,\n",
       "       2150.00000004, 2150.00000004, 2150.00000004, 2150.00000004,\n",
       "       2150.00000004, 2150.00000004, 2150.00000004, 2150.00000004,\n",
       "       2050.00000004, 2050.00000004, 2050.00000004, 2050.00000004,\n",
       "       2050.00000004, 2050.00000004, 2050.00000004, 2050.00000004,\n",
       "       2050.00000004, 2050.00000004, 2050.00000004, 2050.00000004,\n",
       "       1950.00000004, 1950.00000004, 1950.00000004, 1950.00000004,\n",
       "       1950.00000004, 1950.00000004, 1950.00000004, 1950.00000004,\n",
       "       1950.00000004, 1950.00000004, 1950.00000004, 1850.00000004,\n",
       "       1850.00000004, 1850.00000004, 1850.00000004, 1850.00000004,\n",
       "       1850.00000004, 1850.00000004, 1850.00000004, 1850.00000004,\n",
       "       1850.00000004, 1750.00000004, 1750.00000004, 1750.00000004,\n",
       "       1750.00000004, 1750.00000004, 1750.00000004, 1750.00000004,\n",
       "...\n",
       "       1084.23144691, 1124.14371901, 1164.05599112, 2500.00000004,\n",
       "       2315.84861428, 2500.00000004, 2500.00000004, 2450.00000004,\n",
       "       2500.00000004, 2500.00000004, 2500.00000004, 2500.00000004,\n",
       "       2500.00000004, 2500.00000004, 2500.00000004, 2500.00000004,\n",
       "       2500.00000004, 2500.00000004, 2500.00000004, 2500.00000004,\n",
       "       2500.00000004, 2500.00000004, 2500.00000004, 2500.00000004,\n",
       "       2350.00000004, 2250.00000004, 2150.00000004, 1750.00000004,\n",
       "       1850.00000004, 2050.00000004, 1550.00000004, 1432.75636654,\n",
       "       2190.85252633, 2065.45813209, 1950.00000004, 1950.00000004,\n",
       "       1850.00000004, 1750.00000004, 1650.00000004, 1650.00000004,\n",
       "       1550.00000004, 1450.00000004, 1350.00000004, 1072.05468561,\n",
       "       1284.76348562, 1250.00000004,  950.00000004, 1150.00000004,\n",
       "       1050.00000004,  950.00000004,  500.        ,  850.00000004,\n",
       "        833.3069116 ,  750.00000004,  500.        ,  650.00000004,\n",
       "        500.        ,  500.        ,  500.        ,  500.        ,\n",
       "        500.        ,  500.        ,  500.        ,  550.00000002,\n",
       "        500.        ,  500.        ,  500.        ,  500.        ,\n",
       "        500.        ,  500.        ,  500.        ,  500.        ,\n",
       "        500.        ,  697.72042073,  500.        , 1174.06180468,\n",
       "       2440.45422004, 2500.00000004,  500.        ,  564.41350915])</pre></div></li></ul></div></li><li class='xr-section-item'><input id='section-9bf77c8a-5e5c-4d50-ac98-5e5850a52f9f' class='xr-section-summary-in' type='checkbox'  ><label for='section-9bf77c8a-5e5c-4d50-ac98-5e5850a52f9f' class='xr-section-summary' >Data variables: <span>(34)</span></label><div class='xr-section-inline-details'></div><div class='xr-section-details'><ul class='xr-var-list'><li class='xr-var-item'><div class='xr-var-name'><span>mesh2d</span></div><div class='xr-var-dims'>()</div><div class='xr-var-dtype'>int32</div><div class='xr-var-preview xr-preview'>0</div><input id='attrs-f22b616e-6be6-41fa-813d-fe284cf7f158' class='xr-var-attrs-in' type='checkbox' ><label for='attrs-f22b616e-6be6-41fa-813d-fe284cf7f158' title='Show/Hide attributes'><svg class='icon xr-icon-file-text2'><use xlink:href='#icon-file-text2'></use></svg></label><input id='data-71d75a34-f9fa-43e2-9067-2a20c48128e6' class='xr-var-data-in' type='checkbox'><label for='data-71d75a34-f9fa-43e2-9067-2a20c48128e6' title='Show/Hide data repr'><svg class='icon xr-icon-database'><use xlink:href='#icon-database'></use></svg></label><div class='xr-var-attrs'><dl class='xr-attrs'><dt><span>cf_role :</span></dt><dd>mesh_topology</dd><dt><span>long_name :</span></dt><dd>Topology data of 2D mesh</dd><dt><span>topology_dimension :</span></dt><dd>2</dd><dt><span>node_coordinates :</span></dt><dd>node_x node_y</dd><dt><span>face_node_connectivity :</span></dt><dd>face_nodes</dd><dt><span>face_dimension :</span></dt><dd>face</dd><dt><span>edge_node_connectivity :</span></dt><dd>edge_nodes</dd><dt><span>edge_dimension :</span></dt><dd>edge</dd><dt><span>face_edge_connectivity :</span></dt><dd>face_edges</dd><dt><span>face_face_connectivity :</span></dt><dd>face_face_connectivity</dd><dt><span>edge_face_connectivity :</span></dt><dd>edge_face_connectivity</dd><dt><span>boundary_node_connectivity :</span></dt><dd>boundary_node_connectivity</dd><dt><span>face_coordinates :</span></dt><dd>face x face_y</dd><dt><span>edge_coordinates :</span></dt><dd>edge_x edge_y</dd></dl></div><div class='xr-var-data'><pre>array(0)</pre></div></li><li class='xr-var-item'><div class='xr-var-name'><span>face_nodes</span></div><div class='xr-var-dims'>(nface, nmax_face)</div><div class='xr-var-dtype'>int32</div><div class='xr-var-preview xr-preview'>0 1 2 3 545 -1 ... -1 -1 -1 -1 -1</div><input id='attrs-4b4431de-c5d6-4744-871b-f45e0d7fd255' class='xr-var-attrs-in' type='checkbox' ><label for='attrs-4b4431de-c5d6-4744-871b-f45e0d7fd255' title='Show/Hide attributes'><svg class='icon xr-icon-file-text2'><use xlink:href='#icon-file-text2'></use></svg></label><input id='data-99109697-8f0e-4779-92ce-ad695d91c7fc' class='xr-var-data-in' type='checkbox'><label for='data-99109697-8f0e-4779-92ce-ad695d91c7fc' title='Show/Hide data repr'><svg class='icon xr-icon-database'><use xlink:href='#icon-database'></use></svg></label><div class='xr-var-attrs'><dl class='xr-attrs'><dt><span>cf_role :</span></dt><dd>face_node_connectivity</dd><dt><span>long_name :</span></dt><dd>Vertex nodes of mesh faces (counterclockwise)</dd><dt><span>start_index :</span></dt><dd>0</dd><dt><span>_FillValue :</span></dt><dd>-1</dd></dl></div><div class='xr-var-data'><pre>array([[  0,   1,   2, ...,  -1,  -1,  -1],\n",
       "       [  3,   2,   4, ...,  -1,  -1,  -1],\n",
       "       [  6,   5,   7, ...,  -1,  -1,  -1],\n",
       "       ...,\n",
       "       [546,  43,  -1, ...,  -1,  -1,  -1],\n",
       "       [547, 418,  -1, ...,  -1,  -1,  -1],\n",
       "       [548, 519,  -1, ...,  -1,  -1,  -1]])</pre></div></li><li class='xr-var-item'><div class='xr-var-name'><span>edge_nodes</span></div><div class='xr-var-dims'>(nedge, 2)</div><div class='xr-var-dtype'>int32</div><div class='xr-var-preview xr-preview'>0 1 1 2 2 3 ... 43 547 418 548 519</div><input id='attrs-c16d685c-cb4f-490f-8c0f-7adfd94b3fa0' class='xr-var-attrs-in' type='checkbox' ><label for='attrs-c16d685c-cb4f-490f-8c0f-7adfd94b3fa0' title='Show/Hide attributes'><svg class='icon xr-icon-file-text2'><use xlink:href='#icon-file-text2'></use></svg></label><input id='data-374826d1-190b-4c51-8438-daa49da766d7' class='xr-var-data-in' type='checkbox'><label for='data-374826d1-190b-4c51-8438-daa49da766d7' title='Show/Hide data repr'><svg class='icon xr-icon-database'><use xlink:href='#icon-database'></use></svg></label><div class='xr-var-attrs'><dl class='xr-attrs'><dt><span>cf_role :</span></dt><dd>edge_node_connectivity</dd><dt><span>long_name :</span></dt><dd>Vertex nodes of mesh edges</dd><dt><span>start_index :</span></dt><dd>0</dd></dl></div><div class='xr-var-data'><pre>array([[  0,   1],\n",
       "       [  1,   2],\n",
       "       [  2,   3],\n",
       "       ...,\n",
       "       [546,  43],\n",
       "       [547, 418],\n",
       "       [548, 519]])</pre></div></li><li class='xr-var-item'><div class='xr-var-name'><span>edge_face_connectivity</span></div><div class='xr-var-dims'>(nedge, 2)</div><div class='xr-var-dtype'>int32</div><div class='xr-var-preview xr-preview'>0 207 0 208 0 ... 194 442 329 443</div><input id='attrs-5a338519-9c15-4e86-b181-f6359c35111b' class='xr-var-attrs-in' type='checkbox' ><label for='attrs-5a338519-9c15-4e86-b181-f6359c35111b' title='Show/Hide attributes'><svg class='icon xr-icon-file-text2'><use xlink:href='#icon-file-text2'></use></svg></label><input id='data-1426275a-7d28-41ba-9417-eae1a3e3b2be' class='xr-var-data-in' type='checkbox'><label for='data-1426275a-7d28-41ba-9417-eae1a3e3b2be' title='Show/Hide data repr'><svg class='icon xr-icon-database'><use xlink:href='#icon-database'></use></svg></label><div class='xr-var-attrs'><dl class='xr-attrs'><dt><span>cf_role :</span></dt><dd>edge_face_connectivity</dd><dt><span>long_name :</span></dt><dd>neighbor faces for edges</dd><dt><span>start_index :</span></dt><dd>0</dd></dl></div><div class='xr-var-data'><pre>array([[  0, 207],\n",
       "       [  0, 208],\n",
       "       [  0,   1],\n",
       "       ...,\n",
       "       [ 19, 441],\n",
       "       [194, 442],\n",
       "       [329, 443]])</pre></div></li><li class='xr-var-item'><div class='xr-var-name'><span>edges_face1</span></div><div class='xr-var-dims'>(nedge)</div><div class='xr-var-dtype'>int32</div><div class='xr-var-preview xr-preview'>0 0 0 0 207 ... 366 0 19 194 329</div><input id='attrs-37c9b577-580f-4e20-8bde-1882f950910d' class='xr-var-attrs-in' type='checkbox' ><label for='attrs-37c9b577-580f-4e20-8bde-1882f950910d' title='Show/Hide attributes'><svg class='icon xr-icon-file-text2'><use xlink:href='#icon-file-text2'></use></svg></label><input id='data-265a8330-641c-427a-9fd0-dc4551549bfd' class='xr-var-data-in' type='checkbox'><label for='data-265a8330-641c-427a-9fd0-dc4551549bfd' title='Show/Hide data repr'><svg class='icon xr-icon-database'><use xlink:href='#icon-database'></use></svg></label><div class='xr-var-attrs'><dl class='xr-attrs'><dt><span>Units :</span></dt><dd></dd></dl></div><div class='xr-var-data'><pre>array([  0,   0,   0,   0, 207, 207, 207, 208, 208, 208,  30,  30,  30,\n",
       "        30,  29,  29,  29,  29,  29,  38,  38,  38,  38,   4,   4,   4,\n",
       "         4,   5,   5,   5, 254, 254, 254, 254, 254, 253, 253, 253, 253,\n",
       "       316, 316, 316, 316, 217, 217, 217, 217, 216, 216, 216, 278, 278,\n",
       "       278, 278,  19,  19,  19, 212, 212, 212, 213, 213, 213,   1,   1,\n",
       "         1,   3,   3,   3,   3,   2,   2,   2, 209, 209, 210, 210,   6,\n",
       "         6, 211,   7,   7,   7,   8,   8,   8,   9,   9,  10,  10,  11,\n",
       "        11,  11,  11, 275, 275, 275, 275, 275,  37,  37,  37,  37, 276,\n",
       "       276, 276,  12,  12,  12,  13,  13,  13,  14,  14,  14,  20,  20,\n",
       "        20,  21,  21,  21,  15,  15,  15,  22,  22,  22,  16,  16,  16,\n",
       "        17,  17,  17,  23,  23,  23,  23,  18,  18,  24,  24,  25, 214,\n",
       "        44,  44,  44,  44,  45,  45,  45,  45,  45,  26,  60,  60,  60,\n",
       "        60,  60,  61,  61,  61,  61,  61, 283, 283, 283,  27,  27,  31,\n",
       "        31,  28,  28, 223, 223, 223,  39,  39,  81,  81,  81,  81,  72,\n",
       "        72,  72,  72, 227, 227, 227,  33,  33,  33,  33,  32,  32,  32,\n",
       "        32,  43,  43,  43,  43,  43,  41,  41,  41,  41,  41,  42, 277,\n",
       "       220, 220, 220,  75,  75,  75,  75,  75,  75, 241, 241, 241, 241,\n",
       "       242, 242,  51,  51,  51,  92,  92,  92,  92,  91,  91,  91,  91,\n",
       "        91,  99,  99,  99,  99, 268, 268, 268,  40,  40,  53,  53,  53,\n",
       "        34,  34,  34,  34,  52,  52, 303, 303, 303, 304, 304,  54,  54,\n",
       "...\n",
       "       364, 364, 364, 155, 155, 155, 154, 154, 170, 170, 170, 170, 170,\n",
       "       149, 149, 149, 138, 148, 148, 156, 150, 150, 151, 151, 152, 152,\n",
       "       153, 259, 259, 259, 356, 356, 363, 363, 363, 146, 146, 146, 146,\n",
       "       160, 160, 160, 161, 329, 329, 329, 168, 168, 168, 167, 167, 181,\n",
       "       181, 181, 181, 164, 164, 164, 163, 163, 171, 171, 165, 165, 166,\n",
       "       169, 362, 362, 362, 362, 343, 343, 343, 344, 344, 183, 183, 183,\n",
       "       183, 183, 191, 191, 191, 192, 192, 192, 174, 174, 174, 174, 175,\n",
       "       175, 175, 261, 261, 261, 260, 322, 322, 322, 322, 173, 173, 173,\n",
       "       179, 179, 179, 178, 178, 188, 188, 188, 188, 177, 177, 176, 176,\n",
       "       182, 182, 182, 345, 345, 346, 346, 180, 172, 172, 172, 172, 159,\n",
       "       262, 262, 184, 184, 184, 184, 265, 265, 265, 193, 193, 193, 193,\n",
       "       204, 204, 204, 324, 324, 325, 325, 325, 186, 186, 186, 185, 185,\n",
       "       195, 195, 195, 197, 197, 197, 338, 338, 187, 198, 198, 198, 198,\n",
       "       198, 199, 199, 199, 199, 351, 351, 351, 339, 339, 339, 353, 353,\n",
       "       353, 353, 263, 196, 194, 189, 189, 189, 200, 200, 190, 190, 342,\n",
       "       342, 205, 205, 205, 201, 201, 202, 202, 264, 203, 341, 341, 348,\n",
       "       348, 348, 326, 326, 327, 327, 327, 266, 266, 328, 206, 270, 270,\n",
       "       271, 273, 273, 273,  35, 218, 279, 289, 290, 292, 298, 299, 315,\n",
       "       313, 257, 257, 319, 320, 321, 347, 355, 355, 267, 350, 349, 365,\n",
       "       366,   0,  19, 194, 329])</pre></div></li><li class='xr-var-item'><div class='xr-var-name'><span>edges_face2</span></div><div class='xr-var-dims'>(nedge)</div><div class='xr-var-dtype'>int32</div><div class='xr-var-preview xr-preview'>207 208 1 367 ... 440 441 442 443</div><input id='attrs-d151ca86-b33c-45df-be35-03835fbe6c59' class='xr-var-attrs-in' type='checkbox' ><label for='attrs-d151ca86-b33c-45df-be35-03835fbe6c59' title='Show/Hide attributes'><svg class='icon xr-icon-file-text2'><use xlink:href='#icon-file-text2'></use></svg></label><input id='data-866ba51e-f524-415d-9fcd-fa0b4693d1ad' class='xr-var-data-in' type='checkbox'><label for='data-866ba51e-f524-415d-9fcd-fa0b4693d1ad' title='Show/Hide data repr'><svg class='icon xr-icon-database'><use xlink:href='#icon-database'></use></svg></label><div class='xr-var-attrs'><dl class='xr-attrs'><dt><span>Units :</span></dt><dd></dd></dl></div><div class='xr-var-data'><pre>array([207, 208,   1, 367, 208, 368, 268, 269, 209,   1,  29,  38,  31,\n",
       "        26,  38,  25,  28, 223, 224, 224, 225,  51,  39,   5, 369,   3,\n",
       "       211, 212,   6, 370, 253, 316, 255, 335, 334, 334,  90, 252, 315,\n",
       "       315, 131, 132, 317, 216, 278, 218,  10,   9, 215, 277, 277,  46,\n",
       "        47, 279,  18,  27, 371, 213, 211, 273, 274, 214,   6, 209,   2,\n",
       "       372, 373,   2, 210, 211, 209, 210, 374, 270, 210, 271, 211,   7,\n",
       "       375, 272, 214,   8, 376, 215,   9, 377,  10, 378,  11, 379, 218,\n",
       "        20,  12, 380,  37, 276, 214, 274,  36, 276,  36,  44,  45,  45,\n",
       "       277, 215,  20,  13, 381,  21,  14, 382,  22,  15, 383,  21, 218,\n",
       "       219, 219, 220,  22,  23,  16, 384, 220, 221,  23,  24,  17, 385,\n",
       "        25,  18, 386, 221, 222,  28,  24,  26, 387,  28,  25,  26, 215,\n",
       "        45,  36, 302, 301, 301, 300,  55,  46, 277,  27,  61, 283,  50,\n",
       "        59,  69, 283,  70,  71, 285, 284, 284, 222, 282,  31, 388,  39,\n",
       "       389, 222, 223, 222, 284, 224,  51, 390,  72, 227,  87, 391, 227,\n",
       "       392,  62, 226, 226, 288, 228,  32,  43,  34, 271, 270, 269,  41,\n",
       "        42,  42,  54, 304, 303,  34,  42, 269, 268,  40,  53,  54,  46,\n",
       "       219, 281, 221, 241, 242, 243,  74,  84,  76, 242,  76, 240, 302,\n",
       "       303, 243, 225,  62, 393,  91,  99, 394,  87,  87, 228, 229,  97,\n",
       "        98,  98, 110, 361, 395, 396,  40, 269, 397,  52,  52,  64,  54,\n",
       "       303,  35, 273, 272, 398,  63, 304, 302,  35, 305, 243,  64, 306,\n",
       "...\n",
       "       160, 146, 365, 154, 170, 156, 153, 169, 169, 182, 342, 343, 171,\n",
       "       148, 164, 150, 152, 413, 163, 171, 165, 151, 166, 152, 167, 153,\n",
       "       168, 356, 321, 260, 260, 362, 362, 159, 160, 160, 161, 366, 365,\n",
       "       161, 159, 173, 174, 267, 328, 414, 167, 181, 169, 166, 180, 180,\n",
       "       339, 340, 182, 163, 177, 165, 415, 176, 343, 344, 178, 166, 179,\n",
       "       182, 260, 261, 262, 159, 344, 342, 351, 352, 345, 191, 184, 355,\n",
       "       354, 190, 192, 190, 202, 203, 193, 184, 173, 265, 266, 175, 266,\n",
       "       267, 416, 260, 323, 262, 322, 321, 347, 355, 323, 172, 264, 265,\n",
       "       178, 188, 180, 177, 187, 187, 197, 338, 180, 176, 186, 417, 185,\n",
       "       340, 341, 342, 346, 353, 354, 347, 339, 159, 262, 263, 264, 262,\n",
       "       324, 263, 193, 324, 323, 355, 264, 327, 266, 204, 205, 325, 324,\n",
       "       203, 418, 205, 325, 323, 205, 326, 263, 185, 195, 187, 419, 194,\n",
       "       194, 420, 196, 338, 196, 421, 422, 339, 196, 199, 351, 350, 349,\n",
       "       423, 351, 424, 200, 189, 189, 352, 350, 425, 348, 340, 352, 189,\n",
       "       190, 354, 264, 426, 427, 200, 190, 352, 428, 201, 201, 354, 341,\n",
       "       350, 429, 206, 326, 202, 430, 431, 203, 326, 432, 340, 349, 433,\n",
       "       349, 340, 327, 206, 206, 434, 328, 328, 267, 435, 436, 269, 271,\n",
       "       272, 272,  35, 274, 274, 279, 280, 290, 291, 291, 299, 300, 314,\n",
       "       314, 256, 319, 320, 321, 347, 355, 323, 354, 437, 349, 438, 366,\n",
       "       439, 440, 441, 442, 443])</pre></div></li><li class='xr-var-item'><div class='xr-var-name'><span>faces_surface_area</span></div><div class='xr-var-dims'>(nface)</div><div class='xr-var-dtype'>float32</div><div class='xr-var-preview xr-preview'>1.209e+04 1.155e+04 ... 0.0 0.0</div><input id='attrs-62df9e49-d671-4a50-8414-f13d06cd5346' class='xr-var-attrs-in' type='checkbox' ><label for='attrs-62df9e49-d671-4a50-8414-f13d06cd5346' title='Show/Hide attributes'><svg class='icon xr-icon-file-text2'><use xlink:href='#icon-file-text2'></use></svg></label><input id='data-99b1805f-c324-4b89-b755-b1ab1595dc5b' class='xr-var-data-in' type='checkbox'><label for='data-99b1805f-c324-4b89-b755-b1ab1595dc5b' title='Show/Hide data repr'><svg class='icon xr-icon-database'><use xlink:href='#icon-database'></use></svg></label><div class='xr-var-attrs'><dl class='xr-attrs'><dt><span>Can Plot :</span></dt><dd>False</dd><dt><span>Column :</span></dt><dd>[&#x27;Surface Area&#x27;]</dd><dt><span>Row :</span></dt><dd>Cell</dd></dl></div><div class='xr-var-data'><pre>array([12093.502 , 11548.585 , 11171.599 , 10933.172 , 10845.208 ,\n",
       "       11057.737 , 11076.327 , 11159.808 , 11355.937 , 11707.954 ,\n",
       "       12179.411 , 12372.714 , 10000.    , 10000.    , 10000.    ,\n",
       "       10000.    , 10000.    , 10000.    , 10000.    , 10000.    ,\n",
       "       10192.167 , 10157.063 , 11570.182 , 12511.738 , 10000.    ,\n",
       "       10000.    , 10000.    , 10000.    , 11643.33  , 12375.317 ,\n",
       "       10000.    , 10000.    , 10225.055 ,  9011.354 , 11800.216 ,\n",
       "       11948.948 , 11381.768 , 10379.308 , 13925.537 , 10000.    ,\n",
       "       12904.911 , 12812.023 , 10000.    , 12647.637 , 11685.764 ,\n",
       "       15638.24  , 13152.936 , 12571.16  , 11801.007 , 10739.222 ,\n",
       "       10746.115 , 12266.823 , 10000.    , 10000.    , 10505.016 ,\n",
       "       14465.06  , 10000.    , 10000.    , 10000.    , 10000.    ,\n",
       "       12278.9795, 12606.872 , 11669.523 , 10000.    , 10422.424 ,\n",
       "       13378.265 , 12460.002 , 10000.    , 10000.    , 10000.    ,\n",
       "       10000.    , 11893.997 , 10883.659 , 11015.559 , 11371.164 ,\n",
       "       12317.797 , 12140.093 , 11477.414 , 10786.679 , 11399.253 ,\n",
       "       12984.431 , 11392.88  , 11576.466 , 11528.987 , 11435.215 ,\n",
       "       12482.378 , 12737.938 , 12552.909 , 11622.415 , 11061.124 ,\n",
       "       14263.398 , 13467.075 , 10000.    , 10000.    , 13848.663 ,\n",
       "       12374.09  , 11786.802 , 11719.413 , 10000.    , 12591.233 ,\n",
       "...\n",
       "        9677.272 ,  9377.417 , 11661.28  , 13107.175 , 12163.041 ,\n",
       "        9246.305 , 11232.672 ,  9340.985 , 10520.21  , 10267.455 ,\n",
       "       11053.815 , 10812.306 , 10158.613 ,  8401.925 , 10414.027 ,\n",
       "        9197.689 , 15348.971 , 11569.981 ,  9116.009 , 10310.002 ,\n",
       "        8289.561 , 14907.459 ,     0.    ,     0.    ,     0.    ,\n",
       "           0.    ,     0.    ,     0.    ,     0.    ,     0.    ,\n",
       "           0.    ,     0.    ,     0.    ,     0.    ,     0.    ,\n",
       "           0.    ,     0.    ,     0.    ,     0.    ,     0.    ,\n",
       "           0.    ,     0.    ,     0.    ,     0.    ,     0.    ,\n",
       "           0.    ,     0.    ,     0.    ,     0.    ,     0.    ,\n",
       "           0.    ,     0.    ,     0.    ,     0.    ,     0.    ,\n",
       "           0.    ,     0.    ,     0.    ,     0.    ,     0.    ,\n",
       "           0.    ,     0.    ,     0.    ,     0.    ,     0.    ,\n",
       "           0.    ,     0.    ,     0.    ,     0.    ,     0.    ,\n",
       "           0.    ,     0.    ,     0.    ,     0.    ,     0.    ,\n",
       "           0.    ,     0.    ,     0.    ,     0.    ,     0.    ,\n",
       "           0.    ,     0.    ,     0.    ,     0.    ,     0.    ,\n",
       "           0.    ,     0.    ,     0.    ,     0.    ,     0.    ,\n",
       "           0.    ,     0.    ,     0.    ,     0.    ,     0.    ,\n",
       "           0.    ,     0.    ,     0.    ,     0.    ], dtype=float32)</pre></div></li><li class='xr-var-item'><div class='xr-var-name'><span>edge_velocity</span></div><div class='xr-var-dims'>(time, nedge)</div><div class='xr-var-dtype'>float32</div><div class='xr-var-preview xr-preview'>0.0 0.0 0.0 0.0 ... 0.0 0.0 0.5212</div><input id='attrs-b8bbcdb4-1b6e-4364-97d4-4831625d3d70' class='xr-var-attrs-in' type='checkbox' ><label for='attrs-b8bbcdb4-1b6e-4364-97d4-4831625d3d70' title='Show/Hide attributes'><svg class='icon xr-icon-file-text2'><use xlink:href='#icon-file-text2'></use></svg></label><input id='data-e1978c75-a3fa-4236-b5ba-7ba0e6e52dfa' class='xr-var-data-in' type='checkbox'><label for='data-e1978c75-a3fa-4236-b5ba-7ba0e6e52dfa' title='Show/Hide data repr'><svg class='icon xr-icon-database'><use xlink:href='#icon-database'></use></svg></label><div class='xr-var-attrs'><dl class='xr-attrs'><dt><span>Can Interpolate :</span></dt><dd>True</dd><dt><span>Can Plot :</span></dt><dd>True</dd><dt><span>Columns :</span></dt><dd>Faces</dd><dt><span>Coverage :</span></dt><dd>Wet</dd><dt><span>Location :</span></dt><dd>Faces</dd><dt><span>Maximum Value of Data Set :</span></dt><dd>nan</dd><dt><span>Name :</span></dt><dd>Velocity</dd><dt><span>Orientation :</span></dt><dd>Normal</dd><dt><span>Rows :</span></dt><dd>Times</dd><dt><span>Units :</span></dt><dd>m/s</dd></dl></div><div class='xr-var-data'><pre>array([[0.        , 0.        , 0.        , ..., 0.        , 0.        ,\n",
       "        0.        ],\n",
       "       [0.        , 0.        , 0.        , ..., 0.        , 0.        ,\n",
       "        0.        ],\n",
       "       [0.        , 0.        , 0.        , ..., 0.        , 0.        ,\n",
       "        0.        ],\n",
       "       ...,\n",
       "       [0.        , 0.        , 0.        , ..., 0.        , 0.        ,\n",
       "        0.52121276],\n",
       "       [0.        , 0.        , 0.        , ..., 0.        , 0.        ,\n",
       "        0.52121276],\n",
       "       [0.        , 0.        , 0.        , ..., 0.        , 0.        ,\n",
       "        0.52121276]], dtype=float32)</pre></div></li><li class='xr-var-item'><div class='xr-var-name'><span>edge_length</span></div><div class='xr-var-dims'>(nedge)</div><div class='xr-var-dtype'>float32</div><div class='xr-var-preview xr-preview'>85.89 17.44 113.5 ... 100.0 128.8</div><input id='attrs-f30bff56-4c4c-48f7-9e59-364866a57519' class='xr-var-attrs-in' type='checkbox' ><label for='attrs-f30bff56-4c4c-48f7-9e59-364866a57519' title='Show/Hide attributes'><svg class='icon xr-icon-file-text2'><use xlink:href='#icon-file-text2'></use></svg></label><input id='data-af9e9dd8-b0fa-404d-9723-b5f25f63b06c' class='xr-var-data-in' type='checkbox'><label for='data-af9e9dd8-b0fa-404d-9723-b5f25f63b06c' title='Show/Hide data repr'><svg class='icon xr-icon-database'><use xlink:href='#icon-database'></use></svg></label><div class='xr-var-attrs'><dl class='xr-attrs'><dt><span>Units :</span></dt><dd>ft</dd></dl></div><div class='xr-var-data'><pre>array([ 85.89211 ,  17.439554, 113.48682 , 100.      , 113.06435 ,\n",
       "       130.11964 ,  99.31437 ,  99.31749 , 109.39354 ,  88.81981 ,\n",
       "       100.      , 100.      , 100.      , 100.      ,  47.654926,\n",
       "       100.      , 108.437805,  24.934294,  50.220978,  93.907425,\n",
       "        58.96602 ,  50.471256, 100.      , 110.694496, 100.      ,\n",
       "       106.20966 , 100.10052 , 100.000275, 110.460236, 100.      ,\n",
       "        51.840977,  99.29926 ,  57.092033,  62.797802,  65.7461  ,\n",
       "        91.43993 ,  46.153507, 101.7107  ,  99.314575, 121.785515,\n",
       "        56.962395,  45.561947, 101.98182 , 120.9206  ,  99.31481 ,\n",
       "       127.53077 , 100.1376  , 100.08738 , 115.67217 ,  99.3232  ,\n",
       "       125.6258  ,  25.746962,  73.28819 , 119.10959 , 100.      ,\n",
       "       100.      , 100.      , 106.35971 , 105.50783 ,  99.32356 ,\n",
       "        99.31784 , 107.15623 , 100.00184 ,  14.152593, 109.41352 ,\n",
       "       100.      , 100.      , 107.216225,  93.56978 ,   8.411393,\n",
       "        91.33729 ,  11.232904, 100.      ,  99.315   , 106.179   ,\n",
       "        99.31781 , 105.758255, 111.066315, 100.      ,  99.32246 ,\n",
       "       100.00565 , 112.12984 , 100.      , 100.04086 , 114.988884,\n",
       "       100.      , 119.17019 , 100.      , 124.41802 , 100.      ,\n",
       "        69.78516 ,  43.103107, 100.      , 100.      ,  88.287224,\n",
       "        82.55536 ,  99.30882 ,  87.09727 ,  13.797156,  75.98283 ,\n",
       "...\n",
       "       100.      , 100.      , 100.73506 , 100.      ,  97.64508 ,\n",
       "       116.70721 , 172.67032 , 100.      , 105.26687 ,  16.351381,\n",
       "        96.13597 ,  85.58452 , 136.98862 ,  74.40756 , 100.      ,\n",
       "       100.      ,  42.041985,  17.8536  , 109.39284 , 102.350555,\n",
       "        39.445755,  83.03847 , 108.884384,  86.23403 ,  51.86689 ,\n",
       "        55.69457 , 112.298965,  88.05103 , 100.      , 100.      ,\n",
       "       100.      ,  98.142006,  98.26594 , 100.      , 100.      ,\n",
       "       100.      ,  27.054056,  92.423836,  95.497986, 100.      ,\n",
       "        96.17716 ,  43.140568, 100.      , 100.      , 100.      ,\n",
       "       100.      ,  99.21852 , 100.      ,  83.33201 ,  95.497986,\n",
       "       173.11029 , 133.3166  ,  95.497986,  77.49693 ,  81.49823 ,\n",
       "       125.902985,  16.832644, 152.82161 ,  99.262886, 131.5571  ,\n",
       "       116.32402 , 153.72005 ,  84.86046 ,  91.74184 ,  90.69268 ,\n",
       "        89.94224 ,  93.676575,  88.41198 ,   9.854439,  99.29854 ,\n",
       "       110.2637  , 125.302925, 114.64001 , 115.68813 , 128.34367 ,\n",
       "       112.596176,  83.31521 , 102.19095 ,  94.54581 ,  99.17044 ,\n",
       "        90.623886, 111.21425 ,  77.387024,  95.497986,  46.834377,\n",
       "        81.45024 , 137.7868  ,  91.29342 ,  36.103046,  91.270935,\n",
       "        59.904865, 119.09156 , 100.      , 100.      , 128.82701 ],\n",
       "      dtype=float32)</pre></div></li><li class='xr-var-item'><div class='xr-var-name'><span>water_surface_elev</span></div><div class='xr-var-dims'>(time, nface)</div><div class='xr-var-dtype'>float32</div><div class='xr-var-preview xr-preview'>22.24 22.22 22.26 ... 24.0 20.75</div><input id='attrs-2e76211c-94a5-42d5-9090-4090e9b3913f' class='xr-var-attrs-in' type='checkbox' ><label for='attrs-2e76211c-94a5-42d5-9090-4090e9b3913f' title='Show/Hide attributes'><svg class='icon xr-icon-file-text2'><use xlink:href='#icon-file-text2'></use></svg></label><input id='data-39625c1a-7f3f-44f9-9d9b-64c58771a366' class='xr-var-data-in' type='checkbox'><label for='data-39625c1a-7f3f-44f9-9d9b-64c58771a366' title='Show/Hide data repr'><svg class='icon xr-icon-database'><use xlink:href='#icon-database'></use></svg></label><div class='xr-var-attrs'><dl class='xr-attrs'><dt><span>Can Interpolate :</span></dt><dd>True</dd><dt><span>Can Plot :</span></dt><dd>True</dd><dt><span>Columns :</span></dt><dd>Cells</dd><dt><span>Coverage :</span></dt><dd>Wet</dd><dt><span>Location :</span></dt><dd>Cells</dd><dt><span>Maximum Value of Data Set :</span></dt><dd>21.932491</dd><dt><span>Minimum Value of Data Set :</span></dt><dd>20.750002</dd><dt><span>Name :</span></dt><dd>Water Surface</dd><dt><span>Orientation :</span></dt><dd>Scalar</dd><dt><span>Rows :</span></dt><dd>Times</dd><dt><span>Units :</span></dt><dd>m</dd></dl></div><div class='xr-var-data'><pre>array([[22.243147, 22.22242 , 22.258389, ..., 24.      , 24.      ,\n",
       "        20.      ],\n",
       "       [22.243147, 22.22242 , 22.258389, ..., 24.      , 24.      ,\n",
       "        20.750002],\n",
       "       [22.243147, 22.22242 , 22.258389, ..., 24.      , 24.      ,\n",
       "        20.750002],\n",
       "       ...,\n",
       "       [22.243147, 22.22242 , 22.258389, ..., 24.      , 24.      ,\n",
       "        20.750002],\n",
       "       [22.243147, 22.22242 , 22.258389, ..., 24.      , 24.      ,\n",
       "        20.750002],\n",
       "       [22.243147, 22.22242 , 22.258389, ..., 24.      , 24.      ,\n",
       "        20.750002]], dtype=float32)</pre></div></li><li class='xr-var-item'><div class='xr-var-name'><span>volume</span></div><div class='xr-var-dims'>(time, nface)</div><div class='xr-var-dtype'>float32</div><div class='xr-var-preview xr-preview'>0.0 0.0 0.0 0.0 ... 0.0 0.0 0.5214</div><input id='attrs-f5498300-e9dd-4a2c-b10e-7d3901dd29af' class='xr-var-attrs-in' type='checkbox' ><label for='attrs-f5498300-e9dd-4a2c-b10e-7d3901dd29af' title='Show/Hide attributes'><svg class='icon xr-icon-file-text2'><use xlink:href='#icon-file-text2'></use></svg></label><input id='data-056fe325-b8e2-4ec7-b132-37521ef978b1' class='xr-var-data-in' type='checkbox'><label for='data-056fe325-b8e2-4ec7-b132-37521ef978b1' title='Show/Hide data repr'><svg class='icon xr-icon-database'><use xlink:href='#icon-database'></use></svg></label><div class='xr-var-attrs'><dl class='xr-attrs'><dt><span>Can Interpolate :</span></dt><dd>True</dd><dt><span>Can Plot :</span></dt><dd>True</dd><dt><span>Columns :</span></dt><dd>Cells</dd><dt><span>Coverage :</span></dt><dd>Wet</dd><dt><span>Location :</span></dt><dd>Cells</dd><dt><span>Maximum Value of Data Set :</span></dt><dd>16477.807</dd><dt><span>Name :</span></dt><dd>Volume</dd><dt><span>Orientation :</span></dt><dd>Scalar</dd><dt><span>Rows :</span></dt><dd>Times</dd><dt><span>Units :</span></dt><dd>ft^3</dd></dl></div><div class='xr-var-data'><pre>array([[0.        , 0.        , 0.        , ..., 0.        , 0.        ,\n",
       "        0.07465479],\n",
       "       [0.        , 0.        , 0.        , ..., 0.        , 0.        ,\n",
       "        0.5653213 ],\n",
       "       [0.        , 0.        , 0.        , ..., 0.        , 0.        ,\n",
       "        0.5653213 ],\n",
       "       ...,\n",
       "       [0.        , 0.        , 0.        , ..., 0.        , 0.        ,\n",
       "        0.52144784],\n",
       "       [0.        , 0.        , 0.        , ..., 0.        , 0.        ,\n",
       "        0.52144784],\n",
       "       [0.        , 0.        , 0.        , ..., 0.        , 0.        ,\n",
       "        0.52144784]], dtype=float32)</pre></div></li><li class='xr-var-item'><div class='xr-var-name'><span>face_flow</span></div><div class='xr-var-dims'>(time, nedge)</div><div class='xr-var-dtype'>float32</div><div class='xr-var-preview xr-preview'>0.0 0.0 0.0 0.0 ... 0.0 0.0 14.48</div><input id='attrs-5ca53062-fc69-4014-b378-9b9554afa9e6' class='xr-var-attrs-in' type='checkbox' ><label for='attrs-5ca53062-fc69-4014-b378-9b9554afa9e6' title='Show/Hide attributes'><svg class='icon xr-icon-file-text2'><use xlink:href='#icon-file-text2'></use></svg></label><input id='data-60206c15-7312-4f6b-9f5e-04a00de43bbd' class='xr-var-data-in' type='checkbox'><label for='data-60206c15-7312-4f6b-9f5e-04a00de43bbd' title='Show/Hide data repr'><svg class='icon xr-icon-database'><use xlink:href='#icon-database'></use></svg></label><div class='xr-var-attrs'><dl class='xr-attrs'><dt><span>Can Interpolate :</span></dt><dd>True</dd><dt><span>Can Plot :</span></dt><dd>True</dd><dt><span>Columns :</span></dt><dd>Faces</dd><dt><span>Coverage :</span></dt><dd>Wet</dd><dt><span>Location :</span></dt><dd>Faces</dd><dt><span>Maximum Value of Data Set :</span></dt><dd>nan</dd><dt><span>Name :</span></dt><dd>Flow</dd><dt><span>Orientation :</span></dt><dd>Normal</dd><dt><span>Rows :</span></dt><dd>Times</dd><dt><span>Units :</span></dt><dd>m^3/s</dd></dl></div><div class='xr-var-data'><pre>array([[ 0.      ,  0.      ,  0.      , ...,  0.      ,  0.      ,\n",
       "         0.      ],\n",
       "       [ 0.      ,  0.      ,  0.      , ...,  0.      ,  0.      ,\n",
       "         0.      ],\n",
       "       [ 0.      ,  0.      ,  0.      , ...,  0.      ,  0.      ,\n",
       "         0.      ],\n",
       "       ...,\n",
       "       [ 0.      ,  0.      ,  0.      , ...,  0.      ,  0.      ,\n",
       "        14.482463],\n",
       "       [ 0.      ,  0.      ,  0.      , ...,  0.      ,  0.      ,\n",
       "        14.482463],\n",
       "       [ 0.      ,  0.      ,  0.      , ...,  0.      ,  0.      ,\n",
       "        14.482463]], dtype=float32)</pre></div></li><li class='xr-var-item'><div class='xr-var-name'><span>advection_coeff</span></div><div class='xr-var-dims'>(time, nedge)</div><div class='xr-var-dtype'>float32</div><div class='xr-var-preview xr-preview'>0.0 0.0 0.0 0.0 ... 0.0 0.0 14.48</div><input id='attrs-676ca099-f2fa-4276-a673-15e63a622edf' class='xr-var-attrs-in' type='checkbox' ><label for='attrs-676ca099-f2fa-4276-a673-15e63a622edf' title='Show/Hide attributes'><svg class='icon xr-icon-file-text2'><use xlink:href='#icon-file-text2'></use></svg></label><input id='data-d83c93d5-f3db-4f28-b20b-53b7ada08a2a' class='xr-var-data-in' type='checkbox'><label for='data-d83c93d5-f3db-4f28-b20b-53b7ada08a2a' title='Show/Hide data repr'><svg class='icon xr-icon-database'><use xlink:href='#icon-database'></use></svg></label><div class='xr-var-attrs'><dl class='xr-attrs'><dt><span>Units :</span></dt><dd>m3/s</dd></dl></div><div class='xr-var-data'><pre>array([[ 0.      ,  0.      ,  0.      , ...,  0.      ,  0.      ,\n",
       "         0.      ],\n",
       "       [ 0.      ,  0.      ,  0.      , ...,  0.      ,  0.      ,\n",
       "         0.      ],\n",
       "       [ 0.      ,  0.      ,  0.      , ...,  0.      ,  0.      ,\n",
       "         0.      ],\n",
       "       ...,\n",
       "       [ 0.      ,  0.      ,  0.      , ...,  0.      ,  0.      ,\n",
       "        14.482463],\n",
       "       [ 0.      ,  0.      ,  0.      , ...,  0.      ,  0.      ,\n",
       "        14.482463],\n",
       "       [ 0.      ,  0.      ,  0.      , ...,  0.      ,  0.      ,\n",
       "        14.482463]], dtype=float32)</pre></div></li><li class='xr-var-item'><div class='xr-var-name'><span>edge_vertical_area</span></div><div class='xr-var-dims'>(time, nedge)</div><div class='xr-var-dtype'>float32</div><div class='xr-var-preview xr-preview'>0.0 0.0 0.0 0.0 ... 0.0 0.0 27.79</div><input id='attrs-ac2967bb-1bdc-459e-aa83-91b3ff540a6d' class='xr-var-attrs-in' type='checkbox' ><label for='attrs-ac2967bb-1bdc-459e-aa83-91b3ff540a6d' title='Show/Hide attributes'><svg class='icon xr-icon-file-text2'><use xlink:href='#icon-file-text2'></use></svg></label><input id='data-9351e2ec-41b1-4fd3-92cf-2c87733e2dba' class='xr-var-data-in' type='checkbox'><label for='data-9351e2ec-41b1-4fd3-92cf-2c87733e2dba' title='Show/Hide data repr'><svg class='icon xr-icon-database'><use xlink:href='#icon-database'></use></svg></label><div class='xr-var-attrs'><dl class='xr-attrs'><dt><span>Units :</span></dt><dd>m2</dd></dl></div><div class='xr-var-data'><pre>array([[ 0.      ,  0.      ,  0.      , ...,  0.      ,  0.      ,\n",
       "         0.      ],\n",
       "       [ 0.      ,  0.      ,  0.      , ...,  0.      ,  0.      ,\n",
       "         0.      ],\n",
       "       [ 0.      ,  0.      ,  0.      , ...,  0.      ,  0.      ,\n",
       "         0.      ],\n",
       "       ...,\n",
       "       [ 0.      ,  0.      ,  0.      , ...,  0.      ,  0.      ,\n",
       "        27.786087],\n",
       "       [ 0.      ,  0.      ,  0.      , ...,  0.      ,  0.      ,\n",
       "        27.786087],\n",
       "       [ 0.      ,  0.      ,  0.      , ...,  0.      ,  0.      ,\n",
       "        27.786087]], dtype=float32)</pre></div></li><li class='xr-var-item'><div class='xr-var-name'><span>face_to_face_dist</span></div><div class='xr-var-dims'>(nedge)</div><div class='xr-var-dtype'>float64</div><div class='xr-var-preview xr-preview'>143.2 161.4 100.0 ... 50.0 55.01</div><input id='attrs-58e2798e-f727-417e-896c-f7cc055b8a5b' class='xr-var-attrs-in' type='checkbox' ><label for='attrs-58e2798e-f727-417e-896c-f7cc055b8a5b' title='Show/Hide attributes'><svg class='icon xr-icon-file-text2'><use xlink:href='#icon-file-text2'></use></svg></label><input id='data-acc4b5ef-1cdd-4ea4-b552-377bd5fb57b6' class='xr-var-data-in' type='checkbox'><label for='data-acc4b5ef-1cdd-4ea4-b552-377bd5fb57b6' title='Show/Hide data repr'><svg class='icon xr-icon-database'><use xlink:href='#icon-database'></use></svg></label><div class='xr-var-attrs'><dl class='xr-attrs'><dt><span>Units :</span></dt><dd>m</dd></dl></div><div class='xr-var-data'><pre>array([143.21540974, 161.42024958, 100.        ,  50.        ,\n",
       "       101.49697922,  43.43809912, 100.        , 100.        ,\n",
       "       100.42040736, 131.83277573, 100.        , 100.        ,\n",
       "       100.        , 100.        , 141.42135624, 100.        ,\n",
       "       100.        , 152.33126379, 161.68127564, 135.34648695,\n",
       "       154.58009105, 141.42135624, 100.        , 100.        ,\n",
       "        50.        , 100.        , 116.78676788, 116.48627536,\n",
       "       100.        ,  50.        , 100.97619201, 100.        ,\n",
       "       102.04391921,  71.19936701,  67.1136868 ,  79.090229  ,\n",
       "       136.71038729, 100.45425643, 100.        ,  97.61372313,\n",
       "       152.36809034, 138.49336843,  96.45721828, 100.53690985,\n",
       "       100.        , 101.2655537 , 146.02827476, 135.33645481,\n",
       "       100.27430882, 100.        ,  98.09911107, 176.12547534,\n",
       "       155.54294689,  97.30311011, 100.        , 100.        ,\n",
       "        49.99999999,  99.71616096, 100.19919835, 100.        ,\n",
       "       100.        , 101.06460223, 117.47669781, 155.0912824 ,\n",
       "       100.        ,  50.        ,  50.        , 100.        ,\n",
       "       118.90372266, 150.30855572, 123.91608102, 151.80937842,\n",
       "        50.        , 100.        , 101.1713926 , 100.        ,\n",
       "       100.24978554, 100.        ,  50.        , 100.        ,\n",
       "...\n",
       "       141.42135624, 148.1203963 ,  95.49798263,  95.49798263,\n",
       "       103.16115718, 138.27459884,  95.49798263,  95.49798263,\n",
       "       116.50431365, 135.18059706,  95.49798263,  91.2081525 ,\n",
       "        50.00000004,  50.        , 100.        , 100.        ,\n",
       "        92.93324897,  50.00000004, 100.        , 100.        ,\n",
       "       155.84579725,  95.49798263, 100.        ,  50.00000004,\n",
       "       100.        , 135.6540887 , 100.        ,  50.00000004,\n",
       "        50.00000004, 100.        , 100.        ,  50.00000004,\n",
       "        95.49798263, 100.        ,  54.37549584,  95.49798263,\n",
       "       100.        , 106.00042756, 100.32483763, 112.00682171,\n",
       "       116.33219621, 104.94170053, 100.        ,  94.16001165,\n",
       "        93.65580951,  56.75791385,  98.20041301,  97.42108072,\n",
       "        98.3852236 ,  98.43925773,  83.81304777,  98.93043931,\n",
       "       124.64797774, 100.        ,  96.88042599,  79.08844546,\n",
       "        77.95811688,  81.84148604,  87.44076823,  98.16289367,\n",
       "        98.1729813 ,  98.7708855 , 105.69997106, 100.        ,\n",
       "        88.33452989,  87.94799687, 120.56789845, 100.        ,\n",
       "       141.48526132,  95.49798263,  49.62389509,  95.49798263,\n",
       "        96.53218897,  90.82490657, 105.16093569,  50.90306391,\n",
       "        50.        ,  50.00000004,  55.0128063 ])</pre></div></li><li class='xr-var-item'><div class='xr-var-name'><span>coeff_to_diffusion</span></div><div class='xr-var-dims'>(time, nedge)</div><div class='xr-var-dtype'>float64</div><div class='xr-var-preview xr-preview'>0.0 0.0 0.0 0.0 ... 0.0 0.0 0.05051</div><input id='attrs-88719c20-2ebe-4aec-aae5-06e034d43fd3' class='xr-var-attrs-in' type='checkbox' ><label for='attrs-88719c20-2ebe-4aec-aae5-06e034d43fd3' title='Show/Hide attributes'><svg class='icon xr-icon-file-text2'><use xlink:href='#icon-file-text2'></use></svg></label><input id='data-dde6b072-30bc-4118-9bb0-81c9fe92ca4f' class='xr-var-data-in' type='checkbox'><label for='data-dde6b072-30bc-4118-9bb0-81c9fe92ca4f' title='Show/Hide data repr'><svg class='icon xr-icon-database'><use xlink:href='#icon-database'></use></svg></label><div class='xr-var-attrs'><dl class='xr-attrs'><dt><span>Units :</span></dt><dd>m3/s</dd></dl></div><div class='xr-var-data'><pre>array([[0.       , 0.       , 0.       , ..., 0.       , 0.       ,\n",
       "        0.       ],\n",
       "       [0.       , 0.       , 0.       , ..., 0.       , 0.       ,\n",
       "        0.       ],\n",
       "       [0.       , 0.       , 0.       , ..., 0.       , 0.       ,\n",
       "        0.       ],\n",
       "       ...,\n",
       "       [0.       , 0.       , 0.       , ..., 0.       , 0.       ,\n",
       "        0.0505084],\n",
       "       [0.       , 0.       , 0.       , ..., 0.       , 0.       ,\n",
       "        0.0505084],\n",
       "       [0.       , 0.       , 0.       , ..., 0.       , 0.       ,\n",
       "        0.0505084]])</pre></div></li><li class='xr-var-item'><div class='xr-var-name'><span>dt</span></div><div class='xr-var-dims'>(time)</div><div class='xr-var-dtype'>float64</div><div class='xr-var-preview xr-preview'>30.0 30.0 30.0 ... 30.0 30.0 nan</div><input id='attrs-47dc120c-cbb5-4898-bc42-c0bc9221dd27' class='xr-var-attrs-in' type='checkbox' ><label for='attrs-47dc120c-cbb5-4898-bc42-c0bc9221dd27' title='Show/Hide attributes'><svg class='icon xr-icon-file-text2'><use xlink:href='#icon-file-text2'></use></svg></label><input id='data-cec0a89a-1029-4fd3-a3f4-84fe5bb41cd3' class='xr-var-data-in' type='checkbox'><label for='data-cec0a89a-1029-4fd3-a3f4-84fe5bb41cd3' title='Show/Hide data repr'><svg class='icon xr-icon-database'><use xlink:href='#icon-database'></use></svg></label><div class='xr-var-attrs'><dl class='xr-attrs'><dt><span>Units :</span></dt><dd>s</dd></dl></div><div class='xr-var-data'><pre>array([30., 30., 30., ..., 30., 30., nan])</pre></div></li><li class='xr-var-item'><div class='xr-var-name'><span>tracer</span></div><div class='xr-var-dims'>(time, nface)</div><div class='xr-var-dtype'>float64</div><div class='xr-var-preview xr-preview'>100.0 100.0 100.0 ... nan nan nan</div><input id='attrs-9a93d53c-5e49-42f9-adcd-1cc43cdd9669' class='xr-var-attrs-in' type='checkbox' ><label for='attrs-9a93d53c-5e49-42f9-adcd-1cc43cdd9669' title='Show/Hide attributes'><svg class='icon xr-icon-file-text2'><use xlink:href='#icon-file-text2'></use></svg></label><input id='data-cf924e7d-6fe8-4777-ab0f-e05b519cb995' class='xr-var-data-in' type='checkbox'><label for='data-cf924e7d-6fe8-4777-ab0f-e05b519cb995' title='Show/Hide data repr'><svg class='icon xr-icon-database'><use xlink:href='#icon-database'></use></svg></label><div class='xr-var-attrs'><dl class='xr-attrs'><dt><span>Units :</span></dt><dd>mg/L</dd></dl></div><div class='xr-var-data'><pre>array([[100., 100., 100., ...,   0.,   0.,   0.],\n",
       "       [ nan,  nan,  nan, ...,  nan,  nan,  nan],\n",
       "       [ nan,  nan,  nan, ...,  nan,  nan,  nan],\n",
       "       ...,\n",
       "       [ nan,  nan,  nan, ...,  nan,  nan,  nan],\n",
       "       [ nan,  nan,  nan, ...,  nan,  nan,  nan],\n",
       "       [ nan,  nan,  nan, ...,  nan,  nan,  nan]])</pre></div></li><li class='xr-var-item'><div class='xr-var-name'><span>Ap</span></div><div class='xr-var-dims'>(time, nface)</div><div class='xr-var-dtype'>float64</div><div class='xr-var-preview xr-preview'>10.0 10.0 10.0 10.0 ... nan nan nan</div><input id='attrs-6e34af4d-0027-4081-a83f-b01ac7a81071' class='xr-var-attrs-in' type='checkbox' ><label for='attrs-6e34af4d-0027-4081-a83f-b01ac7a81071' title='Show/Hide attributes'><svg class='icon xr-icon-file-text2'><use xlink:href='#icon-file-text2'></use></svg></label><input id='data-d7dc33bd-6165-4728-84d9-8a099ae02fb9' class='xr-var-data-in' type='checkbox'><label for='data-d7dc33bd-6165-4728-84d9-8a099ae02fb9' title='Show/Hide data repr'><svg class='icon xr-icon-database'><use xlink:href='#icon-database'></use></svg></label><div class='xr-var-attrs'><dl class='xr-attrs'><dt><span>Units :</span></dt><dd>mg/L</dd></dl></div><div class='xr-var-data'><pre>array([[10., 10., 10., ..., 10., 10., 10.],\n",
       "       [nan, nan, nan, ..., nan, nan, nan],\n",
       "       [nan, nan, nan, ..., nan, nan, nan],\n",
       "       ...,\n",
       "       [nan, nan, nan, ..., nan, nan, nan],\n",
       "       [nan, nan, nan, ..., nan, nan, nan],\n",
       "       [nan, nan, nan, ..., nan, nan, nan]])</pre></div></li><li class='xr-var-item'><div class='xr-var-name'><span>DOX</span></div><div class='xr-var-dims'>(time, nface)</div><div class='xr-var-dtype'>float64</div><div class='xr-var-preview xr-preview'>8.0 8.0 8.0 8.0 ... nan nan nan nan</div><input id='attrs-75c5537b-215c-4148-adec-6be123ad6677' class='xr-var-attrs-in' type='checkbox' ><label for='attrs-75c5537b-215c-4148-adec-6be123ad6677' title='Show/Hide attributes'><svg class='icon xr-icon-file-text2'><use xlink:href='#icon-file-text2'></use></svg></label><input id='data-1c2ad165-d4ae-4864-aba7-ced9f4a212d3' class='xr-var-data-in' type='checkbox'><label for='data-1c2ad165-d4ae-4864-aba7-ced9f4a212d3' title='Show/Hide data repr'><svg class='icon xr-icon-database'><use xlink:href='#icon-database'></use></svg></label><div class='xr-var-attrs'><dl class='xr-attrs'><dt><span>Units :</span></dt><dd>mg/L</dd></dl></div><div class='xr-var-data'><pre>array([[ 8.,  8.,  8., ...,  8.,  8.,  8.],\n",
       "       [nan, nan, nan, ..., nan, nan, nan],\n",
       "       [nan, nan, nan, ..., nan, nan, nan],\n",
       "       ...,\n",
       "       [nan, nan, nan, ..., nan, nan, nan],\n",
       "       [nan, nan, nan, ..., nan, nan, nan],\n",
       "       [nan, nan, nan, ..., nan, nan, nan]])</pre></div></li><li class='xr-var-item'><div class='xr-var-name'><span>NH4</span></div><div class='xr-var-dims'>(time, nface)</div><div class='xr-var-dtype'>float64</div><div class='xr-var-preview xr-preview'>0.01 0.01 0.01 0.01 ... nan nan nan</div><input id='attrs-3c82be83-f4be-4942-a575-a59b993a17ac' class='xr-var-attrs-in' type='checkbox' ><label for='attrs-3c82be83-f4be-4942-a575-a59b993a17ac' title='Show/Hide attributes'><svg class='icon xr-icon-file-text2'><use xlink:href='#icon-file-text2'></use></svg></label><input id='data-cc7c05ad-d971-4217-a246-cd38d4d5bea0' class='xr-var-data-in' type='checkbox'><label for='data-cc7c05ad-d971-4217-a246-cd38d4d5bea0' title='Show/Hide data repr'><svg class='icon xr-icon-database'><use xlink:href='#icon-database'></use></svg></label><div class='xr-var-attrs'><dl class='xr-attrs'><dt><span>Units :</span></dt><dd>mg/L</dd></dl></div><div class='xr-var-data'><pre>array([[0.01, 0.01, 0.01, ..., 0.01, 0.01, 0.01],\n",
       "       [ nan,  nan,  nan, ...,  nan,  nan,  nan],\n",
       "       [ nan,  nan,  nan, ...,  nan,  nan,  nan],\n",
       "       ...,\n",
       "       [ nan,  nan,  nan, ...,  nan,  nan,  nan],\n",
       "       [ nan,  nan,  nan, ...,  nan,  nan,  nan],\n",
       "       [ nan,  nan,  nan, ...,  nan,  nan,  nan]])</pre></div></li><li class='xr-var-item'><div class='xr-var-name'><span>NO3</span></div><div class='xr-var-dims'>(time, nface)</div><div class='xr-var-dtype'>float64</div><div class='xr-var-preview xr-preview'>0.5 0.5 0.5 0.5 ... nan nan nan nan</div><input id='attrs-5242cb1e-9ece-4e61-8fcc-5c95e0a6c113' class='xr-var-attrs-in' type='checkbox' ><label for='attrs-5242cb1e-9ece-4e61-8fcc-5c95e0a6c113' title='Show/Hide attributes'><svg class='icon xr-icon-file-text2'><use xlink:href='#icon-file-text2'></use></svg></label><input id='data-87e984c4-5321-4e19-a6c7-3db6d4c6c66e' class='xr-var-data-in' type='checkbox'><label for='data-87e984c4-5321-4e19-a6c7-3db6d4c6c66e' title='Show/Hide data repr'><svg class='icon xr-icon-database'><use xlink:href='#icon-database'></use></svg></label><div class='xr-var-attrs'><dl class='xr-attrs'><dt><span>Units :</span></dt><dd>mg/L</dd></dl></div><div class='xr-var-data'><pre>array([[0.5, 0.5, 0.5, ..., 0.5, 0.5, 0.5],\n",
       "       [nan, nan, nan, ..., nan, nan, nan],\n",
       "       [nan, nan, nan, ..., nan, nan, nan],\n",
       "       ...,\n",
       "       [nan, nan, nan, ..., nan, nan, nan],\n",
       "       [nan, nan, nan, ..., nan, nan, nan],\n",
       "       [nan, nan, nan, ..., nan, nan, nan]])</pre></div></li><li class='xr-var-item'><div class='xr-var-name'><span>TIP</span></div><div class='xr-var-dims'>(time, nface)</div><div class='xr-var-dtype'>float64</div><div class='xr-var-preview xr-preview'>0.05 0.05 0.05 0.05 ... nan nan nan</div><input id='attrs-280c7ea3-5af0-4da0-943e-5ab77eac27b9' class='xr-var-attrs-in' type='checkbox' ><label for='attrs-280c7ea3-5af0-4da0-943e-5ab77eac27b9' title='Show/Hide attributes'><svg class='icon xr-icon-file-text2'><use xlink:href='#icon-file-text2'></use></svg></label><input id='data-193919cb-3aad-4b5b-9afc-6e68023fb2ad' class='xr-var-data-in' type='checkbox'><label for='data-193919cb-3aad-4b5b-9afc-6e68023fb2ad' title='Show/Hide data repr'><svg class='icon xr-icon-database'><use xlink:href='#icon-database'></use></svg></label><div class='xr-var-attrs'><dl class='xr-attrs'><dt><span>Units :</span></dt><dd>mg/L</dd></dl></div><div class='xr-var-data'><pre>array([[0.05, 0.05, 0.05, ..., 0.05, 0.05, 0.05],\n",
       "       [ nan,  nan,  nan, ...,  nan,  nan,  nan],\n",
       "       [ nan,  nan,  nan, ...,  nan,  nan,  nan],\n",
       "       ...,\n",
       "       [ nan,  nan,  nan, ...,  nan,  nan,  nan],\n",
       "       [ nan,  nan,  nan, ...,  nan,  nan,  nan],\n",
       "       [ nan,  nan,  nan, ...,  nan,  nan,  nan]])</pre></div></li><li class='xr-var-item'><div class='xr-var-name'><span>Ab</span></div><div class='xr-var-dims'>(time, nface)</div><div class='xr-var-dtype'>float64</div><div class='xr-var-preview xr-preview'>24.0 24.0 24.0 24.0 ... nan nan nan</div><input id='attrs-685aa4b9-5fe9-43ba-8005-c63fc2926b0c' class='xr-var-attrs-in' type='checkbox' ><label for='attrs-685aa4b9-5fe9-43ba-8005-c63fc2926b0c' title='Show/Hide attributes'><svg class='icon xr-icon-file-text2'><use xlink:href='#icon-file-text2'></use></svg></label><input id='data-5572a686-8792-4cc0-a37d-c5cf2eabb7c6' class='xr-var-data-in' type='checkbox'><label for='data-5572a686-8792-4cc0-a37d-c5cf2eabb7c6' title='Show/Hide data repr'><svg class='icon xr-icon-database'><use xlink:href='#icon-database'></use></svg></label><div class='xr-var-attrs'><dl class='xr-attrs'><dt><span>Units :</span></dt><dd>mg/L</dd></dl></div><div class='xr-var-data'><pre>array([[24., 24., 24., ..., 24., 24., 24.],\n",
       "       [nan, nan, nan, ..., nan, nan, nan],\n",
       "       [nan, nan, nan, ..., nan, nan, nan],\n",
       "       ...,\n",
       "       [nan, nan, nan, ..., nan, nan, nan],\n",
       "       [nan, nan, nan, ..., nan, nan, nan],\n",
       "       [nan, nan, nan, ..., nan, nan, nan]])</pre></div></li><li class='xr-var-item'><div class='xr-var-name'><span>OrgN</span></div><div class='xr-var-dims'>(time, nface)</div><div class='xr-var-dtype'>float64</div><div class='xr-var-preview xr-preview'>1.726 1.726 1.726 ... nan nan nan</div><input id='attrs-490e0a62-3fa4-407e-90cf-29dd9c8ee419' class='xr-var-attrs-in' type='checkbox' ><label for='attrs-490e0a62-3fa4-407e-90cf-29dd9c8ee419' title='Show/Hide attributes'><svg class='icon xr-icon-file-text2'><use xlink:href='#icon-file-text2'></use></svg></label><input id='data-c6a21b03-888b-4d5e-a1f7-6e9790da8862' class='xr-var-data-in' type='checkbox'><label for='data-c6a21b03-888b-4d5e-a1f7-6e9790da8862' title='Show/Hide data repr'><svg class='icon xr-icon-database'><use xlink:href='#icon-database'></use></svg></label><div class='xr-var-attrs'><dl class='xr-attrs'><dt><span>Units :</span></dt><dd>mg/L</dd></dl></div><div class='xr-var-data'><pre>array([[1.726, 1.726, 1.726, ..., 1.726, 1.726, 1.726],\n",
       "       [  nan,   nan,   nan, ...,   nan,   nan,   nan],\n",
       "       [  nan,   nan,   nan, ...,   nan,   nan,   nan],\n",
       "       ...,\n",
       "       [  nan,   nan,   nan, ...,   nan,   nan,   nan],\n",
       "       [  nan,   nan,   nan, ...,   nan,   nan,   nan],\n",
       "       [  nan,   nan,   nan, ...,   nan,   nan,   nan]])</pre></div></li><li class='xr-var-item'><div class='xr-var-name'><span>N2</span></div><div class='xr-var-dims'>(time, nface)</div><div class='xr-var-dtype'>float64</div><div class='xr-var-preview xr-preview'>1.0 1.0 1.0 1.0 ... nan nan nan nan</div><input id='attrs-18e460c3-cb0f-4d29-ad5c-7db9a7c251f3' class='xr-var-attrs-in' type='checkbox' ><label for='attrs-18e460c3-cb0f-4d29-ad5c-7db9a7c251f3' title='Show/Hide attributes'><svg class='icon xr-icon-file-text2'><use xlink:href='#icon-file-text2'></use></svg></label><input id='data-b944dd6f-3dce-439c-96e3-d0a708eab6d3' class='xr-var-data-in' type='checkbox'><label for='data-b944dd6f-3dce-439c-96e3-d0a708eab6d3' title='Show/Hide data repr'><svg class='icon xr-icon-database'><use xlink:href='#icon-database'></use></svg></label><div class='xr-var-attrs'><dl class='xr-attrs'><dt><span>Units :</span></dt><dd>mg/L</dd></dl></div><div class='xr-var-data'><pre>array([[ 1.,  1.,  1., ...,  1.,  1.,  1.],\n",
       "       [nan, nan, nan, ..., nan, nan, nan],\n",
       "       [nan, nan, nan, ..., nan, nan, nan],\n",
       "       ...,\n",
       "       [nan, nan, nan, ..., nan, nan, nan],\n",
       "       [nan, nan, nan, ..., nan, nan, nan],\n",
       "       [nan, nan, nan, ..., nan, nan, nan]])</pre></div></li><li class='xr-var-item'><div class='xr-var-name'><span>OrgP</span></div><div class='xr-var-dims'>(time, nface)</div><div class='xr-var-dtype'>float64</div><div class='xr-var-preview xr-preview'>0.24 0.24 0.24 0.24 ... nan nan nan</div><input id='attrs-1a59132e-d317-474d-b366-075842970df4' class='xr-var-attrs-in' type='checkbox' ><label for='attrs-1a59132e-d317-474d-b366-075842970df4' title='Show/Hide attributes'><svg class='icon xr-icon-file-text2'><use xlink:href='#icon-file-text2'></use></svg></label><input id='data-03a959b8-6857-4f86-b10f-14959ceea6b7' class='xr-var-data-in' type='checkbox'><label for='data-03a959b8-6857-4f86-b10f-14959ceea6b7' title='Show/Hide data repr'><svg class='icon xr-icon-database'><use xlink:href='#icon-database'></use></svg></label><div class='xr-var-attrs'><dl class='xr-attrs'><dt><span>Units :</span></dt><dd>mg/L</dd></dl></div><div class='xr-var-data'><pre>array([[0.24, 0.24, 0.24, ..., 0.24, 0.24, 0.24],\n",
       "       [ nan,  nan,  nan, ...,  nan,  nan,  nan],\n",
       "       [ nan,  nan,  nan, ...,  nan,  nan,  nan],\n",
       "       ...,\n",
       "       [ nan,  nan,  nan, ...,  nan,  nan,  nan],\n",
       "       [ nan,  nan,  nan, ...,  nan,  nan,  nan],\n",
       "       [ nan,  nan,  nan, ...,  nan,  nan,  nan]])</pre></div></li><li class='xr-var-item'><div class='xr-var-name'><span>POC</span></div><div class='xr-var-dims'>(time, nface)</div><div class='xr-var-dtype'>float64</div><div class='xr-var-preview xr-preview'>4.356 4.356 4.356 ... nan nan nan</div><input id='attrs-ba77b3b0-1bea-4063-9d97-c264596041d2' class='xr-var-attrs-in' type='checkbox' ><label for='attrs-ba77b3b0-1bea-4063-9d97-c264596041d2' title='Show/Hide attributes'><svg class='icon xr-icon-file-text2'><use xlink:href='#icon-file-text2'></use></svg></label><input id='data-d56983df-a144-4688-aec4-956ddb013b43' class='xr-var-data-in' type='checkbox'><label for='data-d56983df-a144-4688-aec4-956ddb013b43' title='Show/Hide data repr'><svg class='icon xr-icon-database'><use xlink:href='#icon-database'></use></svg></label><div class='xr-var-attrs'><dl class='xr-attrs'><dt><span>Units :</span></dt><dd>mg/L</dd></dl></div><div class='xr-var-data'><pre>array([[4.356, 4.356, 4.356, ..., 4.356, 4.356, 4.356],\n",
       "       [  nan,   nan,   nan, ...,   nan,   nan,   nan],\n",
       "       [  nan,   nan,   nan, ...,   nan,   nan,   nan],\n",
       "       ...,\n",
       "       [  nan,   nan,   nan, ...,   nan,   nan,   nan],\n",
       "       [  nan,   nan,   nan, ...,   nan,   nan,   nan],\n",
       "       [  nan,   nan,   nan, ...,   nan,   nan,   nan]])</pre></div></li><li class='xr-var-item'><div class='xr-var-name'><span>DOC</span></div><div class='xr-var-dims'>(time, nface)</div><div class='xr-var-dtype'>float64</div><div class='xr-var-preview xr-preview'>1.0 1.0 1.0 1.0 ... nan nan nan nan</div><input id='attrs-0fd0ac3c-2805-4c99-a206-725b3f2179ea' class='xr-var-attrs-in' type='checkbox' ><label for='attrs-0fd0ac3c-2805-4c99-a206-725b3f2179ea' title='Show/Hide attributes'><svg class='icon xr-icon-file-text2'><use xlink:href='#icon-file-text2'></use></svg></label><input id='data-2a976f42-c14e-455c-a16d-3b5837c4b43a' class='xr-var-data-in' type='checkbox'><label for='data-2a976f42-c14e-455c-a16d-3b5837c4b43a' title='Show/Hide data repr'><svg class='icon xr-icon-database'><use xlink:href='#icon-database'></use></svg></label><div class='xr-var-attrs'><dl class='xr-attrs'><dt><span>Units :</span></dt><dd>mg/L</dd></dl></div><div class='xr-var-data'><pre>array([[ 1.,  1.,  1., ...,  1.,  1.,  1.],\n",
       "       [nan, nan, nan, ..., nan, nan, nan],\n",
       "       [nan, nan, nan, ..., nan, nan, nan],\n",
       "       ...,\n",
       "       [nan, nan, nan, ..., nan, nan, nan],\n",
       "       [nan, nan, nan, ..., nan, nan, nan],\n",
       "       [nan, nan, nan, ..., nan, nan, nan]])</pre></div></li><li class='xr-var-item'><div class='xr-var-name'><span>DIC</span></div><div class='xr-var-dims'>(time, nface)</div><div class='xr-var-dtype'>float64</div><div class='xr-var-preview xr-preview'>1.0 1.0 1.0 1.0 ... nan nan nan nan</div><input id='attrs-eabd5b78-f4b0-4217-825b-c5e9fb47a7f0' class='xr-var-attrs-in' type='checkbox' ><label for='attrs-eabd5b78-f4b0-4217-825b-c5e9fb47a7f0' title='Show/Hide attributes'><svg class='icon xr-icon-file-text2'><use xlink:href='#icon-file-text2'></use></svg></label><input id='data-65df7810-6106-48f1-8fa7-010bed53b1e0' class='xr-var-data-in' type='checkbox'><label for='data-65df7810-6106-48f1-8fa7-010bed53b1e0' title='Show/Hide data repr'><svg class='icon xr-icon-database'><use xlink:href='#icon-database'></use></svg></label><div class='xr-var-attrs'><dl class='xr-attrs'><dt><span>Units :</span></dt><dd>mg/L</dd></dl></div><div class='xr-var-data'><pre>array([[ 1.,  1.,  1., ...,  1.,  1.,  1.],\n",
       "       [nan, nan, nan, ..., nan, nan, nan],\n",
       "       [nan, nan, nan, ..., nan, nan, nan],\n",
       "       ...,\n",
       "       [nan, nan, nan, ..., nan, nan, nan],\n",
       "       [nan, nan, nan, ..., nan, nan, nan],\n",
       "       [nan, nan, nan, ..., nan, nan, nan]])</pre></div></li><li class='xr-var-item'><div class='xr-var-name'><span>POM</span></div><div class='xr-var-dims'>(time, nface)</div><div class='xr-var-dtype'>float64</div><div class='xr-var-preview xr-preview'>1.0 1.0 1.0 1.0 ... nan nan nan nan</div><input id='attrs-affbb880-ca8e-41b9-921e-9ba7283f4344' class='xr-var-attrs-in' type='checkbox' ><label for='attrs-affbb880-ca8e-41b9-921e-9ba7283f4344' title='Show/Hide attributes'><svg class='icon xr-icon-file-text2'><use xlink:href='#icon-file-text2'></use></svg></label><input id='data-83beb6ef-6e45-4360-a7d6-fc7bc40bc52b' class='xr-var-data-in' type='checkbox'><label for='data-83beb6ef-6e45-4360-a7d6-fc7bc40bc52b' title='Show/Hide data repr'><svg class='icon xr-icon-database'><use xlink:href='#icon-database'></use></svg></label><div class='xr-var-attrs'><dl class='xr-attrs'><dt><span>Units :</span></dt><dd>mg/L</dd></dl></div><div class='xr-var-data'><pre>array([[ 1.,  1.,  1., ...,  1.,  1.,  1.],\n",
       "       [nan, nan, nan, ..., nan, nan, nan],\n",
       "       [nan, nan, nan, ..., nan, nan, nan],\n",
       "       ...,\n",
       "       [nan, nan, nan, ..., nan, nan, nan],\n",
       "       [nan, nan, nan, ..., nan, nan, nan],\n",
       "       [nan, nan, nan, ..., nan, nan, nan]])</pre></div></li><li class='xr-var-item'><div class='xr-var-name'><span>CBOD</span></div><div class='xr-var-dims'>(time, nface)</div><div class='xr-var-dtype'>float64</div><div class='xr-var-preview xr-preview'>1.0 1.0 1.0 1.0 ... nan nan nan nan</div><input id='attrs-2b4e3416-4ead-4951-8be7-90d3926e6e19' class='xr-var-attrs-in' type='checkbox' ><label for='attrs-2b4e3416-4ead-4951-8be7-90d3926e6e19' title='Show/Hide attributes'><svg class='icon xr-icon-file-text2'><use xlink:href='#icon-file-text2'></use></svg></label><input id='data-248552fa-c76e-435a-aa61-f916adecdb01' class='xr-var-data-in' type='checkbox'><label for='data-248552fa-c76e-435a-aa61-f916adecdb01' title='Show/Hide data repr'><svg class='icon xr-icon-database'><use xlink:href='#icon-database'></use></svg></label><div class='xr-var-attrs'><dl class='xr-attrs'><dt><span>Units :</span></dt><dd>mg/L</dd></dl></div><div class='xr-var-data'><pre>array([[ 1.,  1.,  1., ...,  1.,  1.,  1.],\n",
       "       [nan, nan, nan, ..., nan, nan, nan],\n",
       "       [nan, nan, nan, ..., nan, nan, nan],\n",
       "       ...,\n",
       "       [nan, nan, nan, ..., nan, nan, nan],\n",
       "       [nan, nan, nan, ..., nan, nan, nan],\n",
       "       [nan, nan, nan, ..., nan, nan, nan]])</pre></div></li><li class='xr-var-item'><div class='xr-var-name'><span>PX</span></div><div class='xr-var-dims'>(time, nface)</div><div class='xr-var-dtype'>float64</div><div class='xr-var-preview xr-preview'>1.0 1.0 1.0 1.0 ... nan nan nan nan</div><input id='attrs-77e0457a-298c-408a-916e-27798dca391a' class='xr-var-attrs-in' type='checkbox' ><label for='attrs-77e0457a-298c-408a-916e-27798dca391a' title='Show/Hide attributes'><svg class='icon xr-icon-file-text2'><use xlink:href='#icon-file-text2'></use></svg></label><input id='data-d15f56a3-da86-4648-b327-629051465928' class='xr-var-data-in' type='checkbox'><label for='data-d15f56a3-da86-4648-b327-629051465928' title='Show/Hide data repr'><svg class='icon xr-icon-database'><use xlink:href='#icon-database'></use></svg></label><div class='xr-var-attrs'><dl class='xr-attrs'><dt><span>Units :</span></dt><dd>mg/L</dd></dl></div><div class='xr-var-data'><pre>array([[ 1.,  1.,  1., ...,  1.,  1.,  1.],\n",
       "       [nan, nan, nan, ..., nan, nan, nan],\n",
       "       [nan, nan, nan, ..., nan, nan, nan],\n",
       "       ...,\n",
       "       [nan, nan, nan, ..., nan, nan, nan],\n",
       "       [nan, nan, nan, ..., nan, nan, nan],\n",
       "       [nan, nan, nan, ..., nan, nan, nan]])</pre></div></li><li class='xr-var-item'><div class='xr-var-name'><span>Alk</span></div><div class='xr-var-dims'>(time, nface)</div><div class='xr-var-dtype'>float64</div><div class='xr-var-preview xr-preview'>1.0 1.0 1.0 1.0 ... nan nan nan nan</div><input id='attrs-bc443766-5663-431d-bb95-9b520b9ecfae' class='xr-var-attrs-in' type='checkbox' ><label for='attrs-bc443766-5663-431d-bb95-9b520b9ecfae' title='Show/Hide attributes'><svg class='icon xr-icon-file-text2'><use xlink:href='#icon-file-text2'></use></svg></label><input id='data-dd7a9feb-bd83-4422-9b24-09c7ad81b964' class='xr-var-data-in' type='checkbox'><label for='data-dd7a9feb-bd83-4422-9b24-09c7ad81b964' title='Show/Hide data repr'><svg class='icon xr-icon-database'><use xlink:href='#icon-database'></use></svg></label><div class='xr-var-attrs'><dl class='xr-attrs'><dt><span>Units :</span></dt><dd>mg/L</dd></dl></div><div class='xr-var-data'><pre>array([[ 1.,  1.,  1., ...,  1.,  1.,  1.],\n",
       "       [nan, nan, nan, ..., nan, nan, nan],\n",
       "       [nan, nan, nan, ..., nan, nan, nan],\n",
       "       ...,\n",
       "       [nan, nan, nan, ..., nan, nan, nan],\n",
       "       [nan, nan, nan, ..., nan, nan, nan],\n",
       "       [nan, nan, nan, ..., nan, nan, nan]])</pre></div></li></ul></div></li><li class='xr-section-item'><input id='section-e30897a7-bfea-447f-b65a-9bc9001f34d3' class='xr-section-summary-in' type='checkbox'  ><label for='section-e30897a7-bfea-447f-b65a-9bc9001f34d3' class='xr-section-summary' >Indexes: <span>(1)</span></label><div class='xr-section-inline-details'></div><div class='xr-section-details'><ul class='xr-var-list'><li class='xr-var-item'><div class='xr-index-name'><div>time</div></div><div class='xr-index-preview'>PandasIndex</div><div></div><input id='index-d5d79bda-53f7-4fa6-949a-8d44c63fdbab' class='xr-index-data-in' type='checkbox'/><label for='index-d5d79bda-53f7-4fa6-949a-8d44c63fdbab' title='Show/Hide index repr'><svg class='icon xr-icon-database'><use xlink:href='#icon-database'></use></svg></label><div class='xr-index-data'><pre>PandasIndex(DatetimeIndex([&#x27;2022-05-13 00:00:00&#x27;, &#x27;2022-05-13 00:00:30&#x27;,\n",
       "               &#x27;2022-05-13 00:01:00&#x27;, &#x27;2022-05-13 00:01:30&#x27;,\n",
       "               &#x27;2022-05-13 00:02:00&#x27;, &#x27;2022-05-13 00:02:30&#x27;,\n",
       "               &#x27;2022-05-13 00:03:00&#x27;, &#x27;2022-05-13 00:03:30&#x27;,\n",
       "               &#x27;2022-05-13 00:04:00&#x27;, &#x27;2022-05-13 00:04:30&#x27;,\n",
       "               ...\n",
       "               &#x27;2022-05-14 23:55:30&#x27;, &#x27;2022-05-14 23:56:00&#x27;,\n",
       "               &#x27;2022-05-14 23:56:30&#x27;, &#x27;2022-05-14 23:57:00&#x27;,\n",
       "               &#x27;2022-05-14 23:57:30&#x27;, &#x27;2022-05-14 23:58:00&#x27;,\n",
       "               &#x27;2022-05-14 23:58:30&#x27;, &#x27;2022-05-14 23:59:00&#x27;,\n",
       "               &#x27;2022-05-14 23:59:30&#x27;, &#x27;2022-05-15 00:00:00&#x27;],\n",
       "              dtype=&#x27;datetime64[ns]&#x27;, name=&#x27;time&#x27;, length=5761, freq=None))</pre></div></li></ul></div></li><li class='xr-section-item'><input id='section-09ab1e5e-9087-4684-bed3-e5faddf3bd97' class='xr-section-summary-in' type='checkbox'  ><label for='section-09ab1e5e-9087-4684-bed3-e5faddf3bd97' class='xr-section-summary' >Attributes: <span>(13)</span></label><div class='xr-section-inline-details'></div><div class='xr-section-details'><dl class='xr-attrs'><dt><span>Conventions :</span></dt><dd>CF-1.8 UGRID-1.0 Deltares-0.10</dd><dt><span>diffusion_coefficient :</span></dt><dd>0.1</dd><dt><span>volume_calculation_required :</span></dt><dd>False</dd><dt><span>face_area_calculation_required :</span></dt><dd>False</dd><dt><span>face_area_elevation_info :</span></dt><dd>Empty DataFrame\n",
       "Columns: []\n",
       "Index: []</dd><dt><span>face_area_elevation_values :</span></dt><dd>Empty DataFrame\n",
       "Columns: []\n",
       "Index: []</dd><dt><span>face_normalunitvector_and_length :</span></dt><dd>Empty DataFrame\n",
       "Columns: []\n",
       "Index: []</dd><dt><span>face_cell_indexes_df :</span></dt><dd>Empty DataFrame\n",
       "Columns: []\n",
       "Index: []</dd><dt><span>face_volume_elevation_info :</span></dt><dd>Empty DataFrame\n",
       "Columns: []\n",
       "Index: []</dd><dt><span>face_volume_elevation_values :</span></dt><dd>Empty DataFrame\n",
       "Columns: []\n",
       "Index: []</dd><dt><span>boundary_data :</span></dt><dd>Empty DataFrame\n",
       "Columns: []\n",
       "Index: []</dd><dt><span>units :</span></dt><dd>Metric</dd><dt><span>nreal :</span></dt><dd>366</dd></dl></div></li></ul></div></div>"
      ],
      "text/plain": [
       "<xarray.Dataset> Size: 495MB\n",
       "Dimensions:                 (node: 549, time: 5761, nface: 444, nmax_face: 8,\n",
       "                             nedge: 915, 2: 2)\n",
       "Coordinates:\n",
       "    node_x                  (node) float64 4kB 5.004e+05 5.005e+05 ... 5.024e+05\n",
       "    node_y                  (node) float64 4kB 2.381e+03 2.376e+03 ... 500.0\n",
       "  * time                    (time) datetime64[ns] 46kB 2022-05-13 ... 2022-05-15\n",
       "    face_x                  (nface) float64 4kB 5.005e+05 ... 5.024e+05\n",
       "    face_y                  (nface) float64 4kB 2.45e+03 2.45e+03 ... 564.4\n",
       "Dimensions without coordinates: node, nface, nmax_face, nedge, 2\n",
       "Data variables: (12/34)\n",
       "    mesh2d                  int32 4B 0\n",
       "    face_nodes              (nface, nmax_face) int32 14kB 0 1 2 3 ... -1 -1 -1\n",
       "    edge_nodes              (nedge, 2) int32 7kB 0 1 1 2 2 ... 547 418 548 519\n",
       "    edge_face_connectivity  (nedge, 2) int32 7kB 0 207 0 208 ... 194 442 329 443\n",
       "    edges_face1             (nedge) int32 4kB 0 0 0 0 207 ... 366 0 19 194 329\n",
       "    edges_face2             (nedge) int32 4kB 207 208 1 367 ... 440 441 442 443\n",
       "    ...                      ...\n",
       "    DOC                     (time, nface) float64 20MB 1.0 1.0 1.0 ... nan nan\n",
       "    DIC                     (time, nface) float64 20MB 1.0 1.0 1.0 ... nan nan\n",
       "    POM                     (time, nface) float64 20MB 1.0 1.0 1.0 ... nan nan\n",
       "    CBOD                    (time, nface) float64 20MB 1.0 1.0 1.0 ... nan nan\n",
       "    PX                      (time, nface) float64 20MB 1.0 1.0 1.0 ... nan nan\n",
       "    Alk                     (time, nface) float64 20MB 1.0 1.0 1.0 ... nan nan\n",
       "Attributes: (12/13)\n",
       "    Conventions:                       CF-1.8 UGRID-1.0 Deltares-0.10\n",
       "    diffusion_coefficient:             0.1\n",
       "    volume_calculation_required:       False\n",
       "    face_area_calculation_required:    False\n",
       "    face_area_elevation_info:          Empty DataFrame\\nColumns: []\\nIndex: []\n",
       "    face_area_elevation_values:        Empty DataFrame\\nColumns: []\\nIndex: []\n",
       "    ...                                ...\n",
       "    face_cell_indexes_df:              Empty DataFrame\\nColumns: []\\nIndex: []\n",
       "    face_volume_elevation_info:        Empty DataFrame\\nColumns: []\\nIndex: []\n",
       "    face_volume_elevation_values:      Empty DataFrame\\nColumns: []\\nIndex: []\n",
       "    boundary_data:                     Empty DataFrame\\nColumns: []\\nIndex: []\n",
       "    units:                             Metric\n",
       "    nreal:                             366"
      ]
     },
     "execution_count": 12,
     "metadata": {},
     "output_type": "execute_result"
    }
   ],
   "source": [
    "#print(transport_model.constituent_dict)\n",
    "transport_model.mesh"
   ]
  },
  {
   "cell_type": "markdown",
   "id": "dcfb43d5-07c5-4c4a-842c-438734b71767",
   "metadata": {},
   "source": [
    "The Clearwater Riverine currently has the cell surface area, not the *wetted* cell surface area, as required for TSM. Ultimately, we will work on incorporating this calculation into Clearwater Riverine; however, for the sake of this example, we have the wetted surface areas saved in a zarr. "
   ]
  },
  {
   "cell_type": "code",
   "execution_count": 13,
   "id": "c0132f5a-2c31-4484-9680-44cb37407fd4",
   "metadata": {},
   "outputs": [],
   "source": [
    "wetted_sa = xr.open_zarr(wetted_surface_area_path)\n",
    "wetted_sa = wetted_sa.compute()"
   ]
  },
  {
   "cell_type": "code",
   "execution_count": 14,
   "id": "6365f6de-a977-4975-a4fb-ad1f2b2275d3",
   "metadata": {},
   "outputs": [],
   "source": [
    "wetted_sa_subset = wetted_sa.isel(time=slice(start_index, end_index+1))"
   ]
  },
  {
   "cell_type": "code",
   "execution_count": 15,
   "id": "8046a726",
   "metadata": {},
   "outputs": [
    {
     "data": {
      "text/plain": [
       "[<matplotlib.lines.Line2D at 0x1c1ee259f50>]"
      ]
     },
     "execution_count": 15,
     "metadata": {},
     "output_type": "execute_result"
    },
    {
     "data": {
      "image/png": "[encoded data removed]",
      "text/plain": [
       "<Figure size 640x480 with 1 Axes>"
      ]
     },
     "metadata": {},
     "output_type": "display_data"
    }
   ],
   "source": [
    "wetted_sa_subset.wetted_surface_area.isel(nface=216).plot()"
   ]
  },
  {
   "cell_type": "code",
   "execution_count": 16,
   "id": "a2846c4d-d26f-4ed4-b86e-6624aba1e696",
   "metadata": {},
   "outputs": [],
   "source": [
    "#transport_model.mesh['wetted_surface_area'] = wetted_sa_subset['wetted_surface_area']\n",
    "\n",
    "transport_model.mesh['wetted_surface_area'] = xr.DataArray(\n",
    "    wetted_sa_subset['wetted_surface_area'].values,\n",
    "    dims=('time', 'nface')\n",
    ")\n"
   ]
  },
  {
   "cell_type": "code",
   "execution_count": 17,
   "id": "c14fc85a",
   "metadata": {},
   "outputs": [
    {
     "data": {
      "text/plain": [
       "[<matplotlib.lines.Line2D at 0x1c1dbc292d0>]"
      ]
     },
     "execution_count": 17,
     "metadata": {},
     "output_type": "execute_result"
    },
    {
     "data": {
      "image/png": "[encoded data removed]",
      "text/plain": [
       "<Figure size 640x480 with 1 Axes>"
      ]
     },
     "metadata": {},
     "output_type": "display_data"
    }
   ],
   "source": [
    "transport_model.mesh.wetted_surface_area.isel(nface=216).plot()"
   ]
  },
  {
   "cell_type": "markdown",
   "id": "ef31e680-4792-4e1d-85b0-ab682dd36a53",
   "metadata": {},
   "source": [
    "### Clearwater-Modules\n",
    "\n",
    "#### Initial State Values\n",
    "The initial state values are `water_temp_c`, `volume`, and `surface_area` come from Clearwater-riverine mesh at the first timestep."
   ]
  },
  {
   "cell_type": "code",
   "execution_count": 18,
   "id": "befc95d9-663d-42f7-9f96-ec96821dcf40",
   "metadata": {},
   "outputs": [],
   "source": [
    "# Provide xr.data array values for initial state values\n",
    "initial_state_values = {\n",
    "    'Ap': transport_model.mesh['Ap'].isel(\n",
    "        time=0,\n",
    "        nface=slice(0, transport_model.mesh.nreal+1)\n",
    "    ),\n",
    "    'DOX': transport_model.mesh['DOX'].isel(\n",
    "        time=0,\n",
    "        nface=slice(0, transport_model.mesh.nreal+1)\n",
    "    ),\n",
    "    'NH4': transport_model.mesh['NH4'].isel(\n",
    "        time=0,\n",
    "        nface=slice(0, transport_model.mesh.nreal+1)\n",
    "    ),\n",
    "    'NO3': transport_model.mesh['NO3'].isel(\n",
    "        time=0,\n",
    "        nface=slice(0, transport_model.mesh.nreal+1)\n",
    "    ),\n",
    "    'TIP': transport_model.mesh['TIP'].isel(\n",
    "        time=0,\n",
    "        nface=slice(0, transport_model.mesh.nreal+1)\n",
    "    ),\n",
    "    'Ab': transport_model.mesh['Ab'].isel(\n",
    "        time=0,\n",
    "        nface=slice(0, transport_model.mesh.nreal+1)\n",
    "    ),\n",
    "    'OrgN': transport_model.mesh['OrgN'].isel(\n",
    "        time=0,\n",
    "        nface=slice(0, transport_model.mesh.nreal+1)\n",
    "    ),\n",
    "    'N2': transport_model.mesh['N2'].isel(\n",
    "        time=0,\n",
    "        nface=slice(0, transport_model.mesh.nreal+1)\n",
    "    ),\n",
    "    'OrgP': transport_model.mesh['OrgP'].isel(\n",
    "        time=0,\n",
    "        nface=slice(0, transport_model.mesh.nreal+1)\n",
    "    ),\n",
    "    'POC': transport_model.mesh['POC'].isel(\n",
    "        time=0,\n",
    "        nface=slice(0, transport_model.mesh.nreal+1)\n",
    "    ),\n",
    "    'DOC': transport_model.mesh['DOC'].isel(\n",
    "        time=0,\n",
    "        nface=slice(0, transport_model.mesh.nreal+1)\n",
    "    ),\n",
    "    'DIC': transport_model.mesh['DIC'].isel(\n",
    "        time=0,\n",
    "        nface=slice(0, transport_model.mesh.nreal+1)\n",
    "    ),\n",
    "    'POM': transport_model.mesh['POM'].isel(\n",
    "        time=0,\n",
    "        nface=slice(0, transport_model.mesh.nreal+1)\n",
    "    ),\n",
    "    'CBOD': transport_model.mesh['CBOD'].isel(\n",
    "        time=0,\n",
    "        nface=slice(0, transport_model.mesh.nreal+1)\n",
    "    ),\n",
    "    'PX': transport_model.mesh['PX'].isel(\n",
    "        time=0,\n",
    "        nface=slice(0, transport_model.mesh.nreal+1)\n",
    "    ),\n",
    "    'Alk': transport_model.mesh['Alk'].isel(\n",
    "        time=0,\n",
    "        nface=slice(0, transport_model.mesh.nreal+1)\n",
    "    ),\n",
    "    'volume': transport_model.mesh['volume'].isel(\n",
    "        time=0,\n",
    "        nface=slice(0, transport_model.mesh.nreal+1)\n",
    "    ),\n",
    "    'surface_area': transport_model.mesh['wetted_surface_area'].isel(\n",
    "        time=0,\n",
    "        nface=slice(0, transport_model.mesh.nreal + 1)\n",
    "    ),\n",
    "}"
   ]
  },
  {
   "cell_type": "markdown",
   "id": "738c906c-2143-404a-982c-cba751248fc1",
   "metadata": {},
   "source": [
    "#### Meteorological Parameters\n",
    "The meteorological parameters that we'll be adjusting for this model are `q_solar` and `air_temp_c`. In this example, `q_solar` and `air_temp_c` are pulled from meteorological stations in Arizona. \n",
    "We will need to interpolate these datasets to our model timestep, using the following function:"
   ]
  },
  {
   "cell_type": "code",
   "execution_count": 19,
   "id": "3d319864-884e-40db-9a85-93f56c87ba53",
   "metadata": {},
   "outputs": [],
   "source": [
    "def interpolate_to_model_timestep(meteo_df, model_dates, col_name):\n",
    "    merged_df = pd.merge_asof(\n",
    "        pd.DataFrame({'time': model_dates}),\n",
    "        meteo_df,\n",
    "        left_on='time',\n",
    "        right_on='Datetime')\n",
    "    merged_df[col_name.lower()] = merged_df[col_name].interpolate(method='linear')\n",
    "    merged_df.drop(\n",
    "        columns=['Datetime', col_name],\n",
    "        inplace=True)\n",
    "    merged_df.rename(\n",
    "        columns={'time': 'Datetime'},\n",
    "        inplace=True,\n",
    "    )\n",
    "    return merged_df"
   ]
  },
  {
   "cell_type": "code",
   "execution_count": 20,
   "id": "abc09be6-f808-49bc-b6e9-dc2f792928d6",
   "metadata": {},
   "outputs": [],
   "source": [
    "xarray_time_index = pd.DatetimeIndex(\n",
    "    transport_model.mesh.time.values\n",
    ")"
   ]
  },
  {
   "cell_type": "markdown",
   "id": "48f7491a-25ee-48cb-8609-4c174ff53073",
   "metadata": {},
   "source": [
    "Create timeseries of Q solar and Air Temperature aligned with the timestep of the model:"
   ]
  },
  {
   "cell_type": "code",
   "execution_count": 21,
   "id": "0145082a-c55b-43be-abd0-75647b5863bb",
   "metadata": {},
   "outputs": [],
   "source": [
    "# Q Solar\n",
    "q_solar = pd.read_csv(\n",
    "    q_solar_path, \n",
    "    parse_dates=['Datetime'])\n",
    "q_solar.dropna(axis=0, inplace=True)\n",
    "\n",
    "q_solar_interp = interpolate_to_model_timestep(\n",
    "    q_solar,\n",
    "    xarray_time_index,\n",
    "    'q_Solar'\n",
    ")"
   ]
  },
  {
   "cell_type": "code",
   "execution_count": 22,
   "id": "2b0ba137-e173-442e-b2a9-0478e7adad33",
   "metadata": {},
   "outputs": [],
   "source": [
    "# Air Temperature\n",
    "air_temp_c = pd.read_csv(\n",
    "    air_temp_path, \n",
    "    parse_dates=['Datetime'])\n",
    "air_temp_c.dropna(axis=0, inplace=True)\n",
    "\n",
    "air_temp_c_interp = interpolate_to_model_timestep(\n",
    "    air_temp_c,\n",
    "    xarray_time_index,\n",
    "    'TairC'\n",
    ")\n",
    "\n",
    "air_temp_c_interp['air_temp_c'] = (air_temp_c_interp.tairc - 32)* (5/9)"
   ]
  },
  {
   "cell_type": "code",
   "execution_count": 23,
   "id": "0964e5b0-b9b4-4299-bfe5-2514eaf4b795",
   "metadata": {},
   "outputs": [],
   "source": [
    "# process for clearwater-modules input\n",
    "q_solar_array = q_solar_interp.q_solar.to_numpy()\n",
    "air_temp_array = air_temp_c_interp.air_temp_c.to_numpy()\n",
    "\n",
    "# for each individual timestep\n",
    "all_meteo_params = {\n",
    "    'q_solar': q_solar_array,\n",
    "    'air_temp_c': air_temp_array,\n",
    "}\n",
    "\n",
    "# for initial conditions\n",
    "initial_meteo_params = {\n",
    "    'air_temp_c': air_temp_array[0],\n",
    "    'q_solar': q_solar_array[0],\n",
    "}"
   ]
  },
  {
   "cell_type": "code",
   "execution_count": 24,
   "id": "468dbf2a-5bc5-4186-b543-56e13ab4e34f",
   "metadata": {},
   "outputs": [
    {
     "data": {
      "text/plain": [
       "(5761,)"
      ]
     },
     "execution_count": 24,
     "metadata": {},
     "output_type": "execute_result"
    }
   ],
   "source": [
    "np.shape(air_temp_array)"
   ]
  },
  {
   "cell_type": "code",
   "execution_count": 25,
   "id": "e832b78f-9599-4c10-bdfc-d0dc0b0b69ca",
   "metadata": {},
   "outputs": [
    {
     "name": "stdout",
     "output_type": "stream",
     "text": [
      "5761\n",
      "<class 'int'>\n"
     ]
    }
   ],
   "source": [
    "time_Steps = len(transport_model.mesh.time)\n",
    "print(time_Steps)\n",
    "print(type(time_Steps))"
   ]
  },
  {
   "cell_type": "markdown",
   "id": "782cbe25-8c4f-4a3b-a134-3507bf20f247",
   "metadata": {},
   "source": [
    "#### Instantiate Clearwater Modules\n",
    "We instantiate Clearwater Modules with the following:\n",
    "* `initial_state_values` (required): our initial conditions of water temperature, cell volumes, and cell surface areas.\n",
    "* `time_dim` (optional): the model timestep\n",
    "* `meteo_parameters` (optional): intitial meteorological parameters. If not provided, all meteo parameters will fall to default values.\n",
    "* `track_dynamic_variables` (optional): boolean indicating whether or not the user wants to track all intermediate information used in the calculations. We set this to `False` to save on memory.\n",
    "* `use_sed_temp` (optional): boolean indicating whether to use the sediment temperature in TSM calculations. We opt to turn this off for simplicity.\n",
    "* `updateable_static_variables` (optional): by default, the meteorological variables are static in TSM. If we want these to update over time, we must provide a list of variables that we want to be updateable as input when instantiating the model. "
   ]
  },
  {
   "cell_type": "code",
   "execution_count": 26,
   "id": "86b811c9-f20b-4d23-8af4-85cd2a7876b0",
   "metadata": {},
   "outputs": [
    {
     "name": "stdout",
     "output_type": "stream",
     "text": [
      "Initializing from dicts...\n"
     ]
    },
    {
     "name": "stderr",
     "output_type": "stream",
     "text": [
      "D:\\Clearwater\\ClearWater-modules\\src\\clearwater_modules\\base.py:223: UserWarning: Variable volume is not a state variable, skipping.\n",
      "  warnings.warn(\n",
      "D:\\Clearwater\\ClearWater-modules\\src\\clearwater_modules\\base.py:223: UserWarning: Variable surface_area is not a state variable, skipping.\n",
      "  warnings.warn(\n"
     ]
    },
    {
     "name": "stdout",
     "output_type": "stream",
     "text": [
      "Model initialized from input dicts successfully!.\n"
     ]
    }
   ],
   "source": [
    "reaction_model = NutrientBudget(\n",
    "    time_steps=time_Steps,\n",
    "    initial_state_values=initial_state_values,\n",
    "    updateable_static_variables=['q_solar'],\n",
    "    \n",
    "    algae_parameters = {\n",
    "    'AWd': 100,\n",
    "    'AWc': 40,\n",
    "    'AWn': 7.2,\n",
    "    'AWp': 1,\n",
    "    'AWa': 1000,\n",
    "    'KL': 10,\n",
    "    'KsN': 0.04,\n",
    "    'KsP': 0.0012,\n",
    "    'mu_max_20': 1,\n",
    "    'kdp_20': 0.15,\n",
    "    'krp_20': 0.2,\n",
    "    'vsap': 0.15,\n",
    "    'growth_rate_option': 3,\n",
    "    'light_limitation_option': 1 \n",
    "    },\n",
    "\n",
    "    global_parameters={\n",
    "    'use_NH4': True,\n",
    "    'use_NO3': True, \n",
    "    'use_OrgN': False,\n",
    "    'use_OrgP': False,\n",
    "    'use_TIP': True,  \n",
    "    'use_SedFlux': False,\n",
    "    'use_DOX': True,\n",
    "    'use_Algae': True,\n",
    "    'use_Balgae': False,\n",
    "    'use_POC': False,\n",
    "    'use_DOC': False,\n",
    "    'use_DIC': False,\n",
    "    'use_N2': False,\n",
    "    'use_Pathogen': False,\n",
    "    'use_Alk': False,\n",
    "    'use_POM': False \n",
    "    },\n",
    "\n",
    "\n",
    "    global_vars = {\n",
    "    'vson': 0.01,\n",
    "    'vsoc': 0.01,\n",
    "    'vsop': 0.01,\n",
    "    'vs': 0.01,\n",
    "    'SOD_20': .5,\n",
    "    'SOD_theta': 1.047,\n",
    "    'vb': 0.01,\n",
    "    'fcom': 0.4,\n",
    "    'kaw_20_user': 0,\n",
    "    'kah_20_user': 1,\n",
    "    'hydraulic_reaeration_option': 1,\n",
    "    'wind_reaeration_option': 1,    \n",
    "    'dt': 0.0003472222,\n",
    "    'depth': 1.5,\n",
    "    'TwaterC': 25,\n",
    "    'theta': 1.047,\n",
    "    'velocity': 1,\n",
    "    'flow': 150,\n",
    "    'topwidth': 100,\n",
    "    'slope': .0002,\n",
    "    'shear_velocity': 0.05334,\n",
    "    'pressure_atm': 1013.25,\n",
    "    'wind_speed': 3,\n",
    "    'q_solar': 500,\n",
    "    'Solid': 1,\n",
    "    'lambda0': 0.02,\n",
    "    'lambda1': 0.0088,\n",
    "    'lambda2': 0.054,\n",
    "    'lambdas': 0.056,\n",
    "    'lambdam': 0.174, \n",
    "    'Fr_PAR': 0.47  \n",
    "    },\n",
    "\n",
    "    track_dynamic_variables=False, \n",
    "    time_dim='seconds'    \n",
    "    )\n"
   ]
  },
  {
   "cell_type": "markdown",
   "id": "2d2da52a-724d-46c7-9ed7-fda8bedfa6f3",
   "metadata": {},
   "source": [
    "## Couple Models\n",
    "Optionally, you can log output if you run for a long simulation to track progress."
   ]
  },
  {
   "cell_type": "code",
   "execution_count": 27,
   "id": "462f0a9e-7b70-4ae3-bb06-9e67ba4b80ca",
   "metadata": {},
   "outputs": [],
   "source": [
    "def setup_function_logger(name):\n",
    "    logger = logging.getLogger('function_logger')\n",
    "    handler = logging.FileHandler(f'{name}.log')\n",
    "    formatter = logging.Formatter('%(asctime)s - %(levelname)s - %(message)s')\n",
    "    handler.setFormatter(formatter)\n",
    "    logger.addHandler(handler)\n",
    "    logger.setLevel(logging.DEBUG)  # Adjust the level based on your needs\n",
    "    return logger"
   ]
  },
  {
   "cell_type": "code",
   "execution_count": 28,
   "id": "32e3aed0-8dad-4767-bd0f-2bfe5308b4fe",
   "metadata": {},
   "outputs": [],
   "source": [
    "def run_n_timesteps(\n",
    "    time_steps: int,\n",
    "    reaction: NutrientBudget,\n",
    "    transport: cwr.ClearwaterRiverine,\n",
    "    meteo_params: dict,\n",
    "    concentration_update = None,\n",
    "    logging = True,\n",
    "    log_file_name='log',\n",
    "):\n",
    "    \"\"\"Function to couple Clearwater Riverine and Modules for n timesteps.\"\"\"\n",
    "\n",
    "    # Set up logger\n",
    "    if logging:\n",
    "        logger = setup_function_logger(f'{log_file_name}')\n",
    "\n",
    "    for i in range(1, time_steps):\n",
    "        if i % 100 == 0:\n",
    "            status = {\n",
    "                'timesteps': i,\n",
    "                'cwr': transport.mesh.nbytes * 1e-9,\n",
    "                'cwm': reaction.dataset.nbytes*1e-9,\n",
    "            }\n",
    "            if logging:\n",
    "                logger.debug(status)\n",
    "\n",
    "        # Top of timestep: update transport model using values with output from reaction model, if available\n",
    "        transport.update(concentration_update)\n",
    "\n",
    "        # Update state values\n",
    "        updated_state_values = {\n",
    "            'Ap': transport.mesh['Ap'].isel(\n",
    "                time=i,\n",
    "                nface=slice(0,transport.mesh.nreal+1)\n",
    "            ), \n",
    "            'NH4': transport.mesh['NH4'].isel(\n",
    "                time=i,\n",
    "                nface=slice(0,transport.mesh.nreal+1)\n",
    "            ), \n",
    "            'NO3': transport.mesh['NO3'].isel(\n",
    "                time=i,\n",
    "                nface=slice(0,transport.mesh.nreal+1)\n",
    "            ), \n",
    "            'TIP': transport.mesh['TIP'].isel(\n",
    "                time=i,\n",
    "                nface=slice(0,transport.mesh.nreal+1)\n",
    "            ), \n",
    "            'DOX': transport.mesh['DOX'].isel(\n",
    "                time=i,\n",
    "                nface=slice(0,transport.mesh.nreal+1)\n",
    "            ), \n",
    "            'q_solar': transport.mesh.Ap.isel(\n",
    "                time=i,\n",
    "                nface=slice(0, transport.mesh.nreal + 1)\n",
    "            ) * 0 + meteo_params['q_solar'][i],\n",
    "        }\n",
    "\n",
    "        # Bottom of timestep: update nutrient budget (NSM1)\n",
    "        reaction.increment_timestep(updated_state_values)\n",
    "\n",
    "        # Prepare data for input back into Riverine\n",
    "        ds = reaction.dataset.copy()\n",
    "        ds['Ap'] = ds['Ap'].where(\n",
    "            ~np.isinf(ds['Ap']),\n",
    "            transport.mesh['Ap'].isel(\n",
    "                nface=slice(0, transport.mesh.nreal+1),\n",
    "                time=i\n",
    "            )\n",
    "        )            \n",
    "        ds['Ap'] = ds['Ap'].fillna(\n",
    "            transport.mesh['Ap'].isel(\n",
    "                nface=slice(0, transport.mesh.nreal+1),\n",
    "                time=i\n",
    "            )\n",
    "        )\n",
    "\n",
    "\n",
    "        ds['DOX'] = ds['DOX'].where(\n",
    "            ~np.isinf(ds['DOX']),\n",
    "            transport.mesh['DOX'].isel(\n",
    "                nface=slice(0, transport.mesh.nreal+1),\n",
    "                time=i\n",
    "            )\n",
    "        )            \n",
    "        ds['DOX'] = ds['DOX'].fillna(\n",
    "            transport.mesh['DOX'].isel(\n",
    "                nface=slice(0, transport.mesh.nreal+1),\n",
    "                time=i\n",
    "            )\n",
    "        )\n",
    "\n",
    "\n",
    "        ds['NH4'] = ds['NH4'].where(\n",
    "            ~np.isinf(ds['NH4']),\n",
    "            transport.mesh['NH4'].isel(\n",
    "                nface=slice(0, transport.mesh.nreal+1),\n",
    "                time=i\n",
    "            )\n",
    "        )            \n",
    "        ds['NH4'] = ds['NH4'].fillna(\n",
    "            transport.mesh['NH4'].isel(\n",
    "                nface=slice(0, transport.mesh.nreal+1),\n",
    "                time=i\n",
    "            )\n",
    "        )\n",
    "\n",
    "\n",
    "        ds['NO3'] = ds['NO3'].where(\n",
    "            ~np.isinf(ds['NO3']),\n",
    "            transport.mesh['NO3'].isel(\n",
    "                nface=slice(0, transport.mesh.nreal+1),\n",
    "                time=i\n",
    "            )\n",
    "        )            \n",
    "        ds['NO3'] = ds['NO3'].fillna(\n",
    "            transport.mesh['NO3'].isel(\n",
    "                nface=slice(0, transport.mesh.nreal+1),\n",
    "                time=i\n",
    "            )\n",
    "        )\n",
    "\n",
    "\n",
    "        ds['TIP'] = ds['TIP'].where(\n",
    "            ~np.isinf(ds['TIP']),\n",
    "            transport.mesh['TIP'].isel(\n",
    "                nface=slice(0, transport.mesh.nreal+1),\n",
    "                time=i\n",
    "            )\n",
    "        )            \n",
    "        ds['TIP'] = ds['TIP'].fillna(\n",
    "            transport.mesh['TIP'].isel(\n",
    "                nface=slice(0, transport.mesh.nreal+1),\n",
    "                time=i\n",
    "            )\n",
    "        )\n",
    "\n",
    "\n",
    "        concentration_update = {\"Ap\": ds.Ap.isel(seconds=i),\n",
    "                                \"DOX\": ds.DOX.isel(seconds=i),\n",
    "                                \"NH4\": ds.NH4.isel(seconds=i),\n",
    "                                \"NO3\": ds.NO3.isel(seconds=i),\n",
    "                                \"TIP\": ds.TIP.isel(seconds=i)\n",
    "                                }\n"
   ]
  },
  {
   "cell_type": "code",
   "execution_count": 29,
   "id": "28b35563-bf79-4be1-9c30-7d86b41d2e7e",
   "metadata": {},
   "outputs": [],
   "source": [
    "TIME_STEPS = len(transport_model.mesh.time) - 1 # 5760  # len(transport_model.mesh.time) - 60"
   ]
  },
  {
   "cell_type": "code",
   "execution_count": 30,
   "id": "6572e8e7",
   "metadata": {},
   "outputs": [
    {
     "data": {
      "text/plain": [
       "5760"
      ]
     },
     "execution_count": 30,
     "metadata": {},
     "output_type": "execute_result"
    }
   ],
   "source": [
    "TIME_STEPS"
   ]
  },
  {
   "cell_type": "code",
   "execution_count": 31,
   "id": "408f2fbe-ffbd-4cfb-afa2-45df1a5526f2",
   "metadata": {},
   "outputs": [
    {
     "ename": "ValueError",
     "evalue": "axis 0 index 442 exceeds matrix dimension 367",
     "output_type": "error",
     "traceback": [
      "\u001b[1;31m---------------------------------------------------------------------------\u001b[0m",
      "\u001b[1;31mValueError\u001b[0m                                Traceback (most recent call last)",
      "File \u001b[1;32m<timed eval>:1\u001b[0m\n",
      "Cell \u001b[1;32mIn[28], line 27\u001b[0m, in \u001b[0;36mrun_n_timesteps\u001b[1;34m(time_steps, reaction, transport, meteo_params, concentration_update, logging, log_file_name)\u001b[0m\n\u001b[0;32m     24\u001b[0m         logger\u001b[38;5;241m.\u001b[39mdebug(status)\n\u001b[0;32m     26\u001b[0m \u001b[38;5;66;03m# Top of timestep: update transport model using values with output from reaction model, if available\u001b[39;00m\n\u001b[1;32m---> 27\u001b[0m \u001b[43mtransport\u001b[49m\u001b[38;5;241;43m.\u001b[39;49m\u001b[43mupdate\u001b[49m\u001b[43m(\u001b[49m\u001b[43mconcentration_update\u001b[49m\u001b[43m)\u001b[49m\n\u001b[0;32m     29\u001b[0m \u001b[38;5;66;03m# Update state values\u001b[39;00m\n\u001b[0;32m     30\u001b[0m updated_state_values \u001b[38;5;241m=\u001b[39m {\n\u001b[0;32m     31\u001b[0m     \u001b[38;5;124m'\u001b[39m\u001b[38;5;124mAp\u001b[39m\u001b[38;5;124m'\u001b[39m: transport\u001b[38;5;241m.\u001b[39mmesh[\u001b[38;5;124m'\u001b[39m\u001b[38;5;124mAp\u001b[39m\u001b[38;5;124m'\u001b[39m]\u001b[38;5;241m.\u001b[39misel(\n\u001b[0;32m     32\u001b[0m         time\u001b[38;5;241m=\u001b[39mi,\n\u001b[1;32m   (...)\u001b[0m\n\u001b[0;32m     54\u001b[0m     ) \u001b[38;5;241m*\u001b[39m \u001b[38;5;241m0\u001b[39m \u001b[38;5;241m+\u001b[39m meteo_params[\u001b[38;5;124m'\u001b[39m\u001b[38;5;124mq_solar\u001b[39m\u001b[38;5;124m'\u001b[39m][i],\n\u001b[0;32m     55\u001b[0m }\n",
      "File \u001b[1;32mD:\\Clearwater\\ClearWater-riverine\\src\\clearwater_riverine\\transport.py:185\u001b[0m, in \u001b[0;36mClearwaterRiverine.update\u001b[1;34m(self, update_concentration)\u001b[0m\n\u001b[0;32m    179\u001b[0m \u001b[38;5;28mself\u001b[39m\u001b[38;5;241m.\u001b[39mlhs\u001b[38;5;241m.\u001b[39mupdate_values(\n\u001b[0;32m    180\u001b[0m     \u001b[38;5;28mself\u001b[39m\u001b[38;5;241m.\u001b[39mmesh,\n\u001b[0;32m    181\u001b[0m     \u001b[38;5;28mself\u001b[39m\u001b[38;5;241m.\u001b[39mtime_step\n\u001b[0;32m    182\u001b[0m )\n\u001b[0;32m    184\u001b[0m \u001b[38;5;66;03m# Define compressed sparse row matrix for LHS\u001b[39;00m\n\u001b[1;32m--> 185\u001b[0m A \u001b[38;5;241m=\u001b[39m \u001b[43mcsr_matrix\u001b[49m\u001b[43m(\u001b[49m\n\u001b[0;32m    186\u001b[0m \u001b[43m    \u001b[49m\u001b[43m(\u001b[49m\u001b[38;5;28;43mself\u001b[39;49m\u001b[38;5;241;43m.\u001b[39;49m\u001b[43mlhs\u001b[49m\u001b[38;5;241;43m.\u001b[39;49m\u001b[43mcoef\u001b[49m\u001b[43m,\u001b[49m\u001b[43m \u001b[49m\u001b[43m(\u001b[49m\u001b[38;5;28;43mself\u001b[39;49m\u001b[38;5;241;43m.\u001b[39;49m\u001b[43mlhs\u001b[49m\u001b[38;5;241;43m.\u001b[39;49m\u001b[43mrows\u001b[49m\u001b[43m,\u001b[49m\u001b[43m \u001b[49m\u001b[38;5;28;43mself\u001b[39;49m\u001b[38;5;241;43m.\u001b[39;49m\u001b[43mlhs\u001b[49m\u001b[38;5;241;43m.\u001b[39;49m\u001b[43mcols\u001b[49m\u001b[43m)\u001b[49m\u001b[43m)\u001b[49m\u001b[43m,\u001b[49m\n\u001b[0;32m    187\u001b[0m \u001b[43m    \u001b[49m\u001b[43mshape\u001b[49m\u001b[38;5;241;43m=\u001b[39;49m\u001b[43m(\u001b[49m\u001b[38;5;28;43mself\u001b[39;49m\u001b[38;5;241;43m.\u001b[39;49m\u001b[43mmesh\u001b[49m\u001b[38;5;241;43m.\u001b[39;49m\u001b[43mnreal\u001b[49m\u001b[43m \u001b[49m\u001b[38;5;241;43m+\u001b[39;49m\u001b[43m \u001b[49m\u001b[38;5;241;43m1\u001b[39;49m\u001b[43m,\u001b[49m\u001b[43m \u001b[49m\u001b[38;5;28;43mself\u001b[39;49m\u001b[38;5;241;43m.\u001b[39;49m\u001b[43mmesh\u001b[49m\u001b[38;5;241;43m.\u001b[39;49m\u001b[43mnreal\u001b[49m\u001b[43m \u001b[49m\u001b[38;5;241;43m+\u001b[39;49m\u001b[43m \u001b[49m\u001b[38;5;241;43m1\u001b[39;49m\u001b[43m)\u001b[49m\n\u001b[0;32m    188\u001b[0m \u001b[43m\u001b[49m\u001b[43m)\u001b[49m\n\u001b[0;32m    190\u001b[0m \u001b[38;5;66;03m# Check if constituent_name from update_concentration dict is one\u001b[39;00m\n\u001b[0;32m    191\u001b[0m \u001b[38;5;66;03m# of the constituents in the model\u001b[39;00m\n\u001b[0;32m    193\u001b[0m \u001b[38;5;28;01mif\u001b[39;00m \u001b[38;5;28misinstance\u001b[39m(update_concentration, \u001b[38;5;28mdict\u001b[39m):\n",
      "File \u001b[1;32mc:\\Users\\rushmore\\AppData\\Local\\miniconda3\\envs\\clearwater_riverine\\Lib\\site-packages\\scipy\\sparse\\_compressed.py:55\u001b[0m, in \u001b[0;36m_cs_matrix.__init__\u001b[1;34m(self, arg1, shape, dtype, copy)\u001b[0m\n\u001b[0;32m     52\u001b[0m \u001b[38;5;28;01melse\u001b[39;00m:\n\u001b[0;32m     53\u001b[0m     \u001b[38;5;28;01mif\u001b[39;00m \u001b[38;5;28mlen\u001b[39m(arg1) \u001b[38;5;241m==\u001b[39m \u001b[38;5;241m2\u001b[39m:\n\u001b[0;32m     54\u001b[0m         \u001b[38;5;66;03m# (data, ij) format\u001b[39;00m\n\u001b[1;32m---> 55\u001b[0m         coo \u001b[38;5;241m=\u001b[39m \u001b[38;5;28;43mself\u001b[39;49m\u001b[38;5;241;43m.\u001b[39;49m\u001b[43m_coo_container\u001b[49m\u001b[43m(\u001b[49m\u001b[43marg1\u001b[49m\u001b[43m,\u001b[49m\u001b[43m \u001b[49m\u001b[43mshape\u001b[49m\u001b[38;5;241;43m=\u001b[39;49m\u001b[43mshape\u001b[49m\u001b[43m,\u001b[49m\u001b[43m \u001b[49m\u001b[43mdtype\u001b[49m\u001b[38;5;241;43m=\u001b[39;49m\u001b[43mdtype\u001b[49m\u001b[43m)\u001b[49m\n\u001b[0;32m     56\u001b[0m         arrays \u001b[38;5;241m=\u001b[39m coo\u001b[38;5;241m.\u001b[39m_coo_to_compressed(\u001b[38;5;28mself\u001b[39m\u001b[38;5;241m.\u001b[39m_swap)\n\u001b[0;32m     57\u001b[0m         \u001b[38;5;28mself\u001b[39m\u001b[38;5;241m.\u001b[39mindptr, \u001b[38;5;28mself\u001b[39m\u001b[38;5;241m.\u001b[39mindices, \u001b[38;5;28mself\u001b[39m\u001b[38;5;241m.\u001b[39mdata, \u001b[38;5;28mself\u001b[39m\u001b[38;5;241m.\u001b[39m_shape \u001b[38;5;241m=\u001b[39m arrays\n",
      "File \u001b[1;32mc:\\Users\\rushmore\\AppData\\Local\\miniconda3\\envs\\clearwater_riverine\\Lib\\site-packages\\scipy\\sparse\\_coo.py:99\u001b[0m, in \u001b[0;36m_coo_base.__init__\u001b[1;34m(self, arg1, shape, dtype, copy)\u001b[0m\n\u001b[0;32m     96\u001b[0m \u001b[38;5;28;01mif\u001b[39;00m dtype \u001b[38;5;129;01mis\u001b[39;00m \u001b[38;5;129;01mnot\u001b[39;00m \u001b[38;5;28;01mNone\u001b[39;00m:\n\u001b[0;32m     97\u001b[0m     \u001b[38;5;28mself\u001b[39m\u001b[38;5;241m.\u001b[39mdata \u001b[38;5;241m=\u001b[39m \u001b[38;5;28mself\u001b[39m\u001b[38;5;241m.\u001b[39mdata\u001b[38;5;241m.\u001b[39mastype(dtype, copy\u001b[38;5;241m=\u001b[39m\u001b[38;5;28;01mFalse\u001b[39;00m)\n\u001b[1;32m---> 99\u001b[0m \u001b[38;5;28;43mself\u001b[39;49m\u001b[38;5;241;43m.\u001b[39;49m\u001b[43m_check\u001b[49m\u001b[43m(\u001b[49m\u001b[43m)\u001b[49m\n",
      "File \u001b[1;32mc:\\Users\\rushmore\\AppData\\Local\\miniconda3\\envs\\clearwater_riverine\\Lib\\site-packages\\scipy\\sparse\\_coo.py:205\u001b[0m, in \u001b[0;36m_coo_base._check\u001b[1;34m(self)\u001b[0m\n\u001b[0;32m    203\u001b[0m \u001b[38;5;28;01mfor\u001b[39;00m i, idx \u001b[38;5;129;01min\u001b[39;00m \u001b[38;5;28menumerate\u001b[39m(\u001b[38;5;28mself\u001b[39m\u001b[38;5;241m.\u001b[39mcoords):\n\u001b[0;32m    204\u001b[0m     \u001b[38;5;28;01mif\u001b[39;00m idx\u001b[38;5;241m.\u001b[39mmax() \u001b[38;5;241m>\u001b[39m\u001b[38;5;241m=\u001b[39m \u001b[38;5;28mself\u001b[39m\u001b[38;5;241m.\u001b[39mshape[i]:\n\u001b[1;32m--> 205\u001b[0m         \u001b[38;5;28;01mraise\u001b[39;00m \u001b[38;5;167;01mValueError\u001b[39;00m(\u001b[38;5;124mf\u001b[39m\u001b[38;5;124m'\u001b[39m\u001b[38;5;124maxis \u001b[39m\u001b[38;5;132;01m{\u001b[39;00mi\u001b[38;5;132;01m}\u001b[39;00m\u001b[38;5;124m index \u001b[39m\u001b[38;5;132;01m{\u001b[39;00midx\u001b[38;5;241m.\u001b[39mmax()\u001b[38;5;132;01m}\u001b[39;00m\u001b[38;5;124m exceeds \u001b[39m\u001b[38;5;124m'\u001b[39m\n\u001b[0;32m    206\u001b[0m                          \u001b[38;5;124mf\u001b[39m\u001b[38;5;124m'\u001b[39m\u001b[38;5;124mmatrix dimension \u001b[39m\u001b[38;5;132;01m{\u001b[39;00m\u001b[38;5;28mself\u001b[39m\u001b[38;5;241m.\u001b[39mshape[i]\u001b[38;5;132;01m}\u001b[39;00m\u001b[38;5;124m'\u001b[39m)\n\u001b[0;32m    207\u001b[0m     \u001b[38;5;28;01mif\u001b[39;00m idx\u001b[38;5;241m.\u001b[39mmin() \u001b[38;5;241m<\u001b[39m \u001b[38;5;241m0\u001b[39m:\n\u001b[0;32m    208\u001b[0m         \u001b[38;5;28;01mraise\u001b[39;00m \u001b[38;5;167;01mValueError\u001b[39;00m(\u001b[38;5;124mf\u001b[39m\u001b[38;5;124m'\u001b[39m\u001b[38;5;124mnegative axis \u001b[39m\u001b[38;5;132;01m{\u001b[39;00mi\u001b[38;5;132;01m}\u001b[39;00m\u001b[38;5;124m index: \u001b[39m\u001b[38;5;132;01m{\u001b[39;00midx\u001b[38;5;241m.\u001b[39mmin()\u001b[38;5;132;01m}\u001b[39;00m\u001b[38;5;124m'\u001b[39m)\n",
      "\u001b[1;31mValueError\u001b[0m: axis 0 index 442 exceeds matrix dimension 367"
     ]
    }
   ],
   "source": [
    "%%time\n",
    "run_n_timesteps(\n",
    "    TIME_STEPS,\n",
    "    reaction_model,\n",
    "    transport_model,\n",
    "    all_meteo_params,\n",
    "    logging=True,\n",
    ")\n",
    "\n",
    "#zarr_outpath = network_path / 'output.zarr'\n",
    "#netCDF_outpath = network_path / 'output.nc'\n",
    "#transport_model.finalize(True, zarr_outpath)\n",
    "#transport_model.finalize(True, netCDF_outpath)"
   ]
  },
  {
   "cell_type": "code",
   "execution_count": 32,
   "id": "d5ce5d8b",
   "metadata": {},
   "outputs": [],
   "source": [
    "zarr_outpath = network_path / 'output.zarr'\n",
    "netCDF_outpath = network_path / 'output.nc'\n",
    "transport_model.finalize(True, zarr_outpath)\n",
    "transport_model.finalize(True, netCDF_outpath)"
   ]
  },
  {
   "cell_type": "code",
   "execution_count": 33,
   "id": "1ffec8b8-04e2-4a05-b835-f4f507bfeb7c",
   "metadata": {},
   "outputs": [
    {
     "data": {
      "text/plain": [
       "[<matplotlib.lines.Line2D at 0x1c1ef9d3dd0>]"
      ]
     },
     "execution_count": 33,
     "metadata": {},
     "output_type": "execute_result"
    },
    {
     "data": {
      "image/png": "[encoded data removed]",
      "text/plain": [
       "<Figure size 640x480 with 1 Axes>"
      ]
     },
     "metadata": {},
     "output_type": "display_data"
    }
   ],
   "source": [
    "transport_model.mesh.Ap.isel(time=5000).plot()"
   ]
  },
  {
   "cell_type": "code",
   "execution_count": 34,
   "id": "d0c630a5-339a-495d-a2a0-91e4735869e5",
   "metadata": {},
   "outputs": [
    {
     "data": {
      "text/plain": [
       "[<matplotlib.lines.Line2D at 0x1c1ef9e3dd0>]"
      ]
     },
     "execution_count": 34,
     "metadata": {},
     "output_type": "execute_result"
    },
    {
     "data": {
      "image/png": "[encoded data removed]",
      "text/plain": [
       "<Figure size 640x480 with 1 Axes>"
      ]
     },
     "metadata": {},
     "output_type": "display_data"
    }
   ],
   "source": [
    "transport_model.mesh.Ap.isel(nface=151).plot()#, time=slice(0, TIME_STEPS)).plot()"
   ]
  },
  {
   "cell_type": "code",
   "execution_count": 35,
   "id": "5c81a38a",
   "metadata": {},
   "outputs": [
    {
     "data": {
      "text/plain": [
       "[<matplotlib.lines.Line2D at 0x1c25c6abdd0>]"
      ]
     },
     "execution_count": 35,
     "metadata": {},
     "output_type": "execute_result"
    },
    {
     "data": {
      "image/png": "[encoded data removed]",
      "text/plain": [
       "<Figure size 640x480 with 1 Axes>"
      ]
     },
     "metadata": {},
     "output_type": "display_data"
    }
   ],
   "source": [
    "transport_model.mesh.DOX.isel(nface=151, time=slice(0, 5000)).plot()\n"
   ]
  },
  {
   "cell_type": "code",
   "execution_count": 36,
   "id": "1dfaa667",
   "metadata": {},
   "outputs": [
    {
     "data": {
      "text/plain": [
       "[<matplotlib.lines.Line2D at 0x1c25ca0bdd0>]"
      ]
     },
     "execution_count": 36,
     "metadata": {},
     "output_type": "execute_result"
    },
    {
     "data": {
      "image/png": "[encoded data removed]",
      "text/plain": [
       "<Figure size 640x480 with 1 Axes>"
      ]
     },
     "metadata": {},
     "output_type": "display_data"
    }
   ],
   "source": [
    "transport_model.mesh.DOX.isel(nface=217, time=slice(0, 5000)).plot()"
   ]
  },
  {
   "cell_type": "code",
   "execution_count": 37,
   "id": "ad9bf52d",
   "metadata": {},
   "outputs": [
    {
     "data": {
      "text/plain": [
       "[<matplotlib.lines.Line2D at 0x1c25cba3dd0>]"
      ]
     },
     "execution_count": 37,
     "metadata": {},
     "output_type": "execute_result"
    },
    {
     "data": {
      "image/png": "[encoded data removed]",
      "text/plain": [
       "<Figure size 640x480 with 1 Axes>"
      ]
     },
     "metadata": {},
     "output_type": "display_data"
    }
   ],
   "source": [
    "transport_model.mesh.Ap.isel(nface=217, time=slice(0, 5000)).plot()"
   ]
  },
  {
   "cell_type": "code",
   "execution_count": 38,
   "id": "826ba5be",
   "metadata": {},
   "outputs": [
    {
     "data": {
      "text/plain": [
       "[<matplotlib.lines.Line2D at 0x1c25c5368d0>]"
      ]
     },
     "execution_count": 38,
     "metadata": {},
     "output_type": "execute_result"
    },
    {
     "data": {
      "image/png": "[encoded data removed]",
      "text/plain": [
       "<Figure size 640x480 with 1 Axes>"
      ]
     },
     "metadata": {},
     "output_type": "display_data"
    }
   ],
   "source": [
    "transport_model.mesh.N2.isel(nface=217, time=slice(0, 5000)).plot()"
   ]
  },
  {
   "cell_type": "code",
   "execution_count": 39,
   "id": "426fa202",
   "metadata": {},
   "outputs": [
    {
     "data": {
      "text/plain": [
       "[<matplotlib.lines.Line2D at 0x1c25cbd6e50>]"
      ]
     },
     "execution_count": 39,
     "metadata": {},
     "output_type": "execute_result"
    },
    {
     "data": {
      "image/png": "[encoded data removed]",
      "text/plain": [
       "<Figure size 640x480 with 1 Axes>"
      ]
     },
     "metadata": {},
     "output_type": "display_data"
    }
   ],
   "source": [
    "transport_model.mesh.NO3.isel(nface=151, time=slice(0, 5000)).plot()"
   ]
  },
  {
   "cell_type": "code",
   "execution_count": 40,
   "id": "92609341",
   "metadata": {},
   "outputs": [
    {
     "data": {
      "text/plain": [
       "[<matplotlib.lines.Line2D at 0x1c25cc70a10>]"
      ]
     },
     "execution_count": 40,
     "metadata": {},
     "output_type": "execute_result"
    },
    {
     "data": {
      "image/png": "[encoded data removed]",
      "text/plain": [
       "<Figure size 640x480 with 1 Axes>"
      ]
     },
     "metadata": {},
     "output_type": "display_data"
    }
   ],
   "source": [
    "transport_model.mesh.NH4.isel(nface=151, time=slice(0, 5000)).plot()"
   ]
  },
  {
   "cell_type": "code",
   "execution_count": 41,
   "id": "5db5b8be",
   "metadata": {},
   "outputs": [
    {
     "data": {
      "text/plain": [
       "[<matplotlib.lines.Line2D at 0x1c25c780310>]"
      ]
     },
     "execution_count": 41,
     "metadata": {},
     "output_type": "execute_result"
    },
    {
     "data": {
      "image/png": "[encoded data removed]",
      "text/plain": [
       "<Figure size 640x480 with 1 Axes>"
      ]
     },
     "metadata": {},
     "output_type": "display_data"
    }
   ],
   "source": [
    "transport_model.mesh.Ap.isel(nface=207, time=slice(0, 5000)).plot()"
   ]
  },
  {
   "cell_type": "code",
   "execution_count": 42,
   "id": "d6648856",
   "metadata": {},
   "outputs": [
    {
     "data": {
      "text/plain": [
       "[<matplotlib.lines.Line2D at 0x1c25c7e8310>]"
      ]
     },
     "execution_count": 42,
     "metadata": {},
     "output_type": "execute_result"
    },
    {
     "data": {
      "image/png": "[encoded data removed]",
      "text/plain": [
       "<Figure size 640x480 with 1 Axes>"
      ]
     },
     "metadata": {},
     "output_type": "display_data"
    }
   ],
   "source": [
    "transport_model.mesh.DOX.isel(nface=207, time=slice(0, 5000)).plot()"
   ]
  },
  {
   "cell_type": "code",
   "execution_count": 43,
   "id": "e4ecd765",
   "metadata": {},
   "outputs": [
    {
     "data": {
      "text/plain": [
       "[<matplotlib.lines.Line2D at 0x1c25c9f6750>]"
      ]
     },
     "execution_count": 43,
     "metadata": {},
     "output_type": "execute_result"
    },
    {
     "data": {
      "image/png": "[encoded data removed]",
      "text/plain": [
       "<Figure size 640x480 with 1 Axes>"
      ]
     },
     "metadata": {},
     "output_type": "display_data"
    }
   ],
   "source": [
    "transport_model.mesh.TIP.isel(nface=207, time=slice(0, 5000)).plot()"
   ]
  },
  {
   "cell_type": "code",
   "execution_count": 44,
   "id": "c7e3d3e4",
   "metadata": {},
   "outputs": [
    {
     "data": {
      "text/plain": [
       "[<matplotlib.lines.Line2D at 0x1c25d3fd490>]"
      ]
     },
     "execution_count": 44,
     "metadata": {},
     "output_type": "execute_result"
    },
    {
     "data": {
      "image/png": "[encoded data removed]",
      "text/plain": [
       "<Figure size 640x480 with 1 Axes>"
      ]
     },
     "metadata": {},
     "output_type": "display_data"
    }
   ],
   "source": [
    "transport_model.mesh.TIP.isel(nface=151, time=slice(0, 5000)).plot()"
   ]
  },
  {
   "cell_type": "code",
   "execution_count": 45,
   "id": "124a7880",
   "metadata": {},
   "outputs": [
    {
     "data": {
      "application/vnd.jupyter.widget-view+json": {
       "model_id": "18ff976a44a945f392793a261ec22806",
       "version_major": 2,
       "version_minor": 0
      },
      "text/plain": [
       "BokehModel(combine_events=True, render_bundle={'docs_json': {'daffa232-5185-485a-9c76-51170f2fdc30': {'version…"
      ]
     },
     "execution_count": 45,
     "metadata": {},
     "output_type": "execute_result"
    }
   ],
   "source": [
    "transport_model.plot(\n",
    "    crs='EPSG:26916',\n",
    "    constituent_name='Ap',\n",
    "    clim=(10, 25),\n",
    "    cmap='RdYlBu_r',\n",
    "    filter_empty = True\n",
    ")"
   ]
  },
  {
   "cell_type": "code",
   "execution_count": 46,
   "id": "742b621c",
   "metadata": {},
   "outputs": [
    {
     "data": {
      "image/png": "[encoded data removed]",
      "text/plain": [
       "<Figure size 640x480 with 1 Axes>"
      ]
     },
     "metadata": {},
     "output_type": "display_data"
    }
   ],
   "source": [
    "transport_model.static_plot(\n",
    "    plotting_timestep=1000,\n",
    "    crs='EPSG:26916',\n",
    "    constituent_name='Ap',\n",
    "    clim=(0, 15),\n",
    "    cmap='RdYlBu_r',\n",
    ")"
   ]
  },
  {
   "cell_type": "code",
   "execution_count": 47,
   "id": "639c4bd0",
   "metadata": {},
   "outputs": [
    {
     "data": {
      "image/png": "[encoded data removed]",
      "text/plain": [
       "<Figure size 640x480 with 1 Axes>"
      ]
     },
     "metadata": {},
     "output_type": "display_data"
    }
   ],
   "source": [
    "transport_model.static_plot(\n",
    "    plotting_timestep=5000,\n",
    "    crs='EPSG:26916',\n",
    "    constituent_name='Ap',\n",
    "    clim=(0, 550),\n",
    "    cmap='RdYlBu_r',\n",
    ")"
   ]
  },
  {
   "cell_type": "code",
   "execution_count": 48,
   "id": "d3c8887b",
   "metadata": {},
   "outputs": [
    {
     "data": {
      "image/png": "[encoded data removed]",
      "text/plain": [
       "<Figure size 640x480 with 1 Axes>"
      ]
     },
     "metadata": {},
     "output_type": "display_data"
    }
   ],
   "source": [
    "transport_model.static_plot(\n",
    "    plotting_timestep=1000,\n",
    "    crs='EPSG:26916',\n",
    "    constituent_name='DOX',\n",
    "    clim=(3, 9),\n",
    "    cmap='RdYlBu_r',\n",
    ")"
   ]
  },
  {
   "cell_type": "code",
   "execution_count": 49,
   "id": "c0af23be",
   "metadata": {},
   "outputs": [
    {
     "data": {
      "image/png": "[encoded data removed]",
      "text/plain": [
       "<Figure size 640x480 with 1 Axes>"
      ]
     },
     "metadata": {},
     "output_type": "display_data"
    }
   ],
   "source": [
    "transport_model.static_plot(\n",
    "    plotting_timestep=1000,\n",
    "    crs='EPSG:26916',\n",
    "    constituent_name='NH4',\n",
    "    clim=(0, 2),\n",
    "    cmap='RdYlBu_r',\n",
    ")"
   ]
  },
  {
   "cell_type": "code",
   "execution_count": 50,
   "id": "01dec69d",
   "metadata": {},
   "outputs": [
    {
     "data": {
      "image/png": "[encoded data removed]",
      "text/plain": [
       "<Figure size 640x480 with 1 Axes>"
      ]
     },
     "metadata": {},
     "output_type": "display_data"
    }
   ],
   "source": [
    "transport_model.static_plot(\n",
    "    plotting_timestep=1000,\n",
    "    crs='EPSG:26916',\n",
    "    constituent_name='NO3',\n",
    "    clim=(0, 1.25),\n",
    "    cmap='RdYlBu_r',\n",
    ")"
   ]
  },
  {
   "cell_type": "code",
   "execution_count": 51,
   "id": "a96eb135",
   "metadata": {},
   "outputs": [
    {
     "data": {
      "image/png": "[encoded data removed]",
      "text/plain": [
       "<Figure size 640x480 with 1 Axes>"
      ]
     },
     "metadata": {},
     "output_type": "display_data"
    }
   ],
   "source": [
    "transport_model.static_plot(\n",
    "    plotting_timestep=5000,\n",
    "    crs='EPSG:26916',\n",
    "    constituent_name='TIP',\n",
    "    clim=(0, 65),\n",
    "    cmap='RdYlBu_r',\n",
    ")"
   ]
  },
  {
   "cell_type": "code",
   "execution_count": 52,
   "id": "5377d829",
   "metadata": {},
   "outputs": [
    {
     "ename": "AttributeError",
     "evalue": "'Dataset' object has no attribute 'temperature'",
     "output_type": "error",
     "traceback": [
      "\u001b[1;31m---------------------------------------------------------------------------\u001b[0m",
      "\u001b[1;31mAttributeError\u001b[0m                            Traceback (most recent call last)",
      "Cell \u001b[1;32mIn[52], line 1\u001b[0m\n\u001b[1;32m----> 1\u001b[0m \u001b[43mtransport_model\u001b[49m\u001b[38;5;241;43m.\u001b[39;49m\u001b[43mmesh\u001b[49m\u001b[38;5;241;43m.\u001b[39;49m\u001b[43mtemperature\u001b[49m\u001b[38;5;241m.\u001b[39misel(nface\u001b[38;5;241m=\u001b[39m\u001b[38;5;241m217\u001b[39m, time\u001b[38;5;241m=\u001b[39m\u001b[38;5;28mslice\u001b[39m(\u001b[38;5;241m100\u001b[39m, TIME_STEPS))\u001b[38;5;241m.\u001b[39mplot()\n",
      "File \u001b[1;32mc:\\Users\\rushmore\\AppData\\Local\\miniconda3\\envs\\clearwater_riverine\\Lib\\site-packages\\xarray\\core\\common.py:285\u001b[0m, in \u001b[0;36mAttrAccessMixin.__getattr__\u001b[1;34m(self, name)\u001b[0m\n\u001b[0;32m    283\u001b[0m         \u001b[38;5;28;01mwith\u001b[39;00m suppress(\u001b[38;5;167;01mKeyError\u001b[39;00m):\n\u001b[0;32m    284\u001b[0m             \u001b[38;5;28;01mreturn\u001b[39;00m source[name]\n\u001b[1;32m--> 285\u001b[0m \u001b[38;5;28;01mraise\u001b[39;00m \u001b[38;5;167;01mAttributeError\u001b[39;00m(\n\u001b[0;32m    286\u001b[0m     \u001b[38;5;124mf\u001b[39m\u001b[38;5;124m\"\u001b[39m\u001b[38;5;132;01m{\u001b[39;00m\u001b[38;5;28mtype\u001b[39m(\u001b[38;5;28mself\u001b[39m)\u001b[38;5;241m.\u001b[39m\u001b[38;5;18m__name__\u001b[39m\u001b[38;5;132;01m!r}\u001b[39;00m\u001b[38;5;124m object has no attribute \u001b[39m\u001b[38;5;132;01m{\u001b[39;00mname\u001b[38;5;132;01m!r}\u001b[39;00m\u001b[38;5;124m\"\u001b[39m\n\u001b[0;32m    287\u001b[0m )\n",
      "\u001b[1;31mAttributeError\u001b[0m: 'Dataset' object has no attribute 'temperature'"
     ]
    }
   ],
   "source": [
    "transport_model.mesh.temperature.isel(nface=217, time=slice(100, TIME_STEPS)).plot()"
   ]
  },
  {
   "cell_type": "code",
   "execution_count": null,
   "id": "eab93216",
   "metadata": {},
   "outputs": [],
   "source": [
    "transport_model.mesh.temperature.isel(nface=207, time=slice(0, TIME_STEPS)).plot()"
   ]
  },
  {
   "cell_type": "code",
   "execution_count": null,
   "id": "57dd8774",
   "metadata": {},
   "outputs": [],
   "source": [
    "np.shape(transport_model.constituent_dict['temperature'].input_array)"
   ]
  },
  {
   "cell_type": "code",
   "execution_count": null,
   "id": "eaa7b560-a7ba-4737-a9c3-bd090bc8a7d6",
   "metadata": {},
   "outputs": [],
   "source": [
    "transport_model.mesh.temperature.isel(nface=165, time=slice(1000, TIME_STEPS)).plot()"
   ]
  },
  {
   "cell_type": "markdown",
   "id": "af441d7e-19d2-41a3-b7ff-6e0126993469",
   "metadata": {},
   "source": [
    "## Plot Results"
   ]
  },
  {
   "cell_type": "markdown",
   "id": "793d31d6-9ef8-4692-bd58-981e3dee7fb1",
   "metadata": {},
   "source": [
    "### Built-In Functions\n",
    "Use the built-in plotting function:"
   ]
  },
  {
   "cell_type": "code",
   "execution_count": null,
   "id": "440784b0-77a7-46fa-a73a-20b40ab2fd42",
   "metadata": {},
   "outputs": [],
   "source": [
    "transport_model.plot(\n",
    "    crs='EPSG:26916',\n",
    "    clim=(5, 26)\n",
    ")"
   ]
  },
  {
   "cell_type": "markdown",
   "id": "b6aadcb2-4186-4aac-a036-0f2c1e9978f6",
   "metadata": {},
   "source": [
    "### Build Panel Apps\n",
    "\n",
    "#### Interactive Timeseries Plotting\n",
    "This is an exmaple of an interactive map that allows you to click on a single cell and see the timeseries for that cell:"
   ]
  },
  {
   "cell_type": "code",
   "execution_count": null,
   "id": "6dc19e97-9725-4f80-864b-2d034623314a",
   "metadata": {},
   "outputs": [],
   "source": [
    "from clearwater_riverine.variables import (\n",
    "    NUMBER_OF_REAL_CELLS,\n",
    "    CONCENTRATION,\n",
    ")"
   ]
  },
  {
   "cell_type": "code",
   "execution_count": null,
   "id": "8cae6e61-9877-447d-bece-7b7dacfd3851",
   "metadata": {},
   "outputs": [],
   "source": [
    "# create inputs for panel app\n",
    "ds = transport_model.mesh\n",
    "gdf = transport_model.gdf\n",
    "time_index = 60\n",
    "mn_val = 4\n",
    "mval = 25\n",
    "date_value = ds.time.isel(time=time_index).values"
   ]
  },
  {
   "cell_type": "markdown",
   "id": "374633ff-30cf-48a3-b5c3-6bc73d690f88",
   "metadata": {},
   "source": [
    "Start by creating a base map of a plan view of Sumwere Creek using the `geoviews` library. Including the `hover` and `tap` tools allows users to hover over the plot to see values and turns on the ability to use the tap stream that allows users to click on a cell and receive feedback from that tap. "
   ]
  },
  {
   "cell_type": "code",
   "execution_count": null,
   "id": "95fb690b",
   "metadata": {},
   "outputs": [],
   "source": [
    "ras_sub_df = gdf[(gdf.datetime == date_value) & (gdf.concentration != 0)]\n",
    "units = ds[CONCENTRATION].Units\n",
    "ras_map = gv.Polygons(\n",
    "    ras_sub_df,\n",
    "    vdims=['concentration', 'cell']).opts(\n",
    "        height = 800,\n",
    "        width = 800,\n",
    "        color='concentration',\n",
    "        cmap='RdYlBu_r',\n",
    "        line_width = 0.1,\n",
    "        tools = ['hover', 'tap'],\n",
    "        clabel = f\"Concentration ({units})\",\n",
    "        xaxis=None,\n",
    "        yaxis=None,\n",
    ")"
   ]
  },
  {
   "cell_type": "markdown",
   "id": "10c064e1-58d7-44b5-90a5-e914f50a1e88",
   "metadata": {},
   "source": [
    "The cell below defines the tap stream and initializes an empty list of plots to display. "
   ]
  },
  {
   "cell_type": "code",
   "execution_count": null,
   "id": "f5b8a690",
   "metadata": {},
   "outputs": [],
   "source": [
    "tap_stream = hv.streams.Tap(source=ras_map, x=None, y=None)\n",
    "plots = []"
   ]
  },
  {
   "cell_type": "markdown",
   "id": "086f5ae1-61c9-43ec-8dd7-3d97233ca903",
   "metadata": {},
   "source": [
    "The `tap_plot` function identifies which cell has been clicked and generates a timeseries plot for that cell."
   ]
  },
  {
   "cell_type": "code",
   "execution_count": null,
   "id": "5b2c8431-06e6-44ca-8f5a-6f2ffae4f51b",
   "metadata": {},
   "outputs": [],
   "source": [
    "def tap_plot(x, y):\n",
    "    # filter data\n",
    "    clicked_data = ras_sub_df.cx[x:x, y:y]\n",
    "    if x != None and y != None:\n",
    "        # identify cell number and pull concentration timeseries for that cell\n",
    "        cell = clicked_data['cell'].iloc[0]\n",
    "        cs = ds.concentration.isel(nface=cell, time=slice(0, TIME_STEPS))\n",
    "\n",
    "        # Create timeseries plot\n",
    "        curve = hv.Curve(\n",
    "            cs,\n",
    "        ).opts(\n",
    "            title=f'Time series',\n",
    "            height=800,\n",
    "            width=800,\n",
    "            line_width=5,\n",
    "            fontsize= {'title': 18, 'labels': 16, 'xticks': 12, 'yticks': 12},\n",
    "            ylabel= 'Water Temperature (C)'\n",
    "        )\n",
    "\n",
    "        # Append to list of plots (allows multiple lines to appear at the same time)\n",
    "        plots.append(curve)\n",
    "        # Return an overlay of all the plots\n",
    "        return hv.Overlay(plots).opts(legend_position='right')\n",
    "    else:\n",
    "        # Create an empty timeseries plot telling users to click on a cell to generate a timeseries\n",
    "        xs = np.linspace(-5,5,100)\n",
    "        empty_curve = hv.Curve((xs,-(xs-2)**2)).opts(\n",
    "            title=f'Time series',\n",
    "            line_color='white',\n",
    "            height=800, \n",
    "            width=800,\n",
    "            xaxis=None,\n",
    "            yaxis=None,\n",
    "        )* hv.Text(0, -20, \"Please click a cell on the map to display a timeseries.\")\n",
    "        return empty_curve\n",
    "\n",
    "# Create Dynamic Map that references the tap stream.\n",
    "tap_dmap = hv.DynamicMap(tap_plot, streams=[tap_stream])"
   ]
  },
  {
   "cell_type": "markdown",
   "id": "6d3d9114-6daa-486f-beaf-629e7f06911c",
   "metadata": {},
   "source": [
    "The following function and button allows users to clear all timeseries plots if they wish to start fresh:"
   ]
  },
  {
   "cell_type": "code",
   "execution_count": null,
   "id": "bf70743d",
   "metadata": {},
   "outputs": [],
   "source": [
    "def reset_tap_stream(event):\n",
    "    global plots\n",
    "    tap_stream.event(x=None, y=None)\n",
    "    plots = []\n",
    "    \n",
    "button = pn.widgets.Button(name='Reset', button_type='primary')\n",
    "button.on_click(reset_tap_stream)"
   ]
  },
  {
   "cell_type": "markdown",
   "id": "1bea5541-de92-4f29-86ab-e0d8df1f7167",
   "metadata": {},
   "source": [
    "Now display the plot:"
   ]
  },
  {
   "cell_type": "code",
   "execution_count": null,
   "id": "1c1661ac-e670-4752-ae8f-8889bf81288a",
   "metadata": {},
   "outputs": [],
   "source": [
    "layout = pn.Row(\n",
    "    ras_map,\n",
    "    tap_dmap.opts(\n",
    "        hv.opts.Curve(framewise=True, yaxis='right'),\n",
    "       ),\n",
    "    button\n",
    "    )\n",
    "layout.servable()"
   ]
  },
  {
   "cell_type": "markdown",
   "id": "38a9609e-9090-413b-bbd3-b9fd0017f1cf",
   "metadata": {},
   "source": [
    "#### Dynamic Map Visualization\n",
    "Make a plot with a scrubber bar that shows a map over time:"
   ]
  },
  {
   "cell_type": "code",
   "execution_count": null,
   "id": "8fbb429e-0939-4513-9f35-a893f22f109c",
   "metadata": {},
   "outputs": [],
   "source": [
    "ds = transport_model.mesh\n",
    "gdf = transport_model.gdf\n",
    "import hvplot.pandas "
   ]
  },
  {
   "cell_type": "code",
   "execution_count": null,
   "id": "9d7bb0cb-32fd-4f96-916d-a084e60e4e6a",
   "metadata": {},
   "outputs": [],
   "source": [
    "# eliminate cells without any temperature\n",
    "gdf_sub = gdf[gdf.concentration != 0]\n",
    "gdf_subset = gdf_sub[(gdf_sub['datetime'] > '2022-05-13 08:00:00')]"
   ]
  },
  {
   "cell_type": "code",
   "execution_count": null,
   "id": "7937eec0-e050-43ff-8a3c-57bbb72abfc0",
   "metadata": {},
   "outputs": [],
   "source": [
    "plot_to_save = gdf_subset.hvplot(\n",
    "    geo=True,\n",
    "    groupby=\"datetime\",\n",
    "    # z = 'concentration',\n",
    "    c = 'concentration', # minute_gdf_subset.concentration,\n",
    "    clim=(4, 25),\n",
    "    cmap='RdYlBu_r',\n",
    "    clabel='Water Temperature (C)',\n",
    "    line_width = 0.1,\n",
    "    height=700,\n",
    "    width=800,\n",
    "    widget_location='bottom',\n",
    "    line_color='white',\n",
    "    \n",
    ")"
   ]
  },
  {
   "cell_type": "code",
   "execution_count": null,
   "id": "b62985fb-0876-4bf8-b79e-a5a30a8731f7",
   "metadata": {},
   "outputs": [],
   "source": [
    "plot_to_save"
   ]
  },
  {
   "cell_type": "raw",
   "id": "09061d44-666a-40fc-8388-8acc597b72d0",
   "metadata": {},
   "source": [
    "plot_to_save.save(filename='data_temp/output.html', embed=True)"
   ]
  }
 ],
 "metadata": {
  "kernelspec": {
   "display_name": "Python 3 (ipykernel)",
   "language": "python",
   "name": "python3"
  },
  "language_info": {
   "codemirror_mode": {
    "name": "ipython",
    "version": 3
   },
   "file_extension": ".py",
   "mimetype": "text/x-python",
   "name": "python",
   "nbconvert_exporter": "python",
   "pygments_lexer": "ipython3",
   "version": "3.11.9"
  }
 },
 "nbformat": 4,
 "nbformat_minor": 5
}
