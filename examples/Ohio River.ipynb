{
 "cells": [
  {
   "cell_type": "markdown",
   "id": "dfb9af86-9415-4b91-88fd-251d15d11b6b",
   "metadata": {},
   "source": [
    "# Ohio River Model\n",
    "\n",
    "This notebook showcases the Clearwater Riverine water quality model, which uses hydrodynamic outputs from HEC-RAS 2D in order to perform advection-diffusion water quality calculations. This model is in the `clearwater_riverine` package (in development). \n",
    "\n",
    "[Environmental Fluid Dynamics Code](https://www.epa.gov/ceam/environmental-fluid-dynamics-code-efdc) (EFDC) is a surface water modeling system developed by the EPA that can simulate water quality constituent transport in rivers, stratified estuaries, lakes, and coastal seas. Since EFDC is a widely used and trusted water quality model, we can compare results from an EFDC model to results from a comparable system in a Clearwater Riverine model to demonstrate this new model's efficacy. This demonstration leverages a RAS model of the Ohio River that was created based on an [EFDC](https://www.epa.gov/ceam/environmental-fluid-dynamics-code-efdc) model of the Ohio River that modeled E. coli transport through the system as a conservative dye. The RAS model was created to mirror the EFDC model, including the 2D model mesh, the initial conditions, and the boundary conditions. However, there are some key differences between the two models (e.g., the cells aren't perfectly aligned, the modeling timestep is different, and the spatial extent is different). It is then fed into the Clearwater Riverine water quality model, which simulates advection and diffusion of E. coli through the model domain. \n",
    "\n",
    "This notebook follows the following structure:\n",
    "1. Run the Clearwater Riverine water quality model using the Ohio River RAS model output. \n",
    "2. Load EFDC water quality results. \n",
    "3. Compare Clearwater Riverine water quality results to EFDC water quality results to demonstrate that the Clearwater Riverine model produces similar results. "
   ]
  },
  {
   "cell_type": "markdown",
   "id": "ffafdbee-3342-4ad8-bcb3-117e18ae00ec",
   "metadata": {},
   "source": [
    "# Set-Up Workspace\n",
    "\n",
    "## Package Imports\n",
    "\n",
    "Be sure to install the `clearwater_riverine` environment from the `environment.yml` - instructions are provided on the ReadMe of the [Clearwater-riverine repo](https://github.com/EnvironmentalSystems/ClearWater-riverine)."
   ]
  },
  {
   "cell_type": "code",
   "execution_count": null,
   "id": "d1a42a83-5f4d-4a6f-93e4-8c248cf8c4f1",
   "metadata": {},
   "outputs": [],
   "source": [
    "# import dependencies for running the notebook \n",
    "from importlib import reload\n",
    "from pathlib import Path\n",
    "import warnings\n",
    "\n",
    "import numpy as np\n",
    "import pandas as pd\n",
    "import geopandas as gpd\n",
    "\n",
    "#plotting \n",
    "import matplotlib.pyplot as plt\n",
    "import holoviews as hv\n",
    "from holoviews.operation.datashader import datashade, rasterize\n",
    "import geoviews as gv\n",
    "from shapely.geometry import Polygon\n",
    "import shapely\n",
    "from shapely.errors import ShapelyDeprecationWarning\n",
    "warnings.filterwarnings(\"ignore\", category=ShapelyDeprecationWarning) \n",
    "import panel as pn\n",
    "from bokeh.resources import INLINE\n",
    "hv.extension(\"bokeh\")"
   ]
  },
  {
   "cell_type": "code",
   "execution_count": null,
   "id": "baed1a38",
   "metadata": {},
   "outputs": [],
   "source": [
    "import sys\n",
    "sys.path.append('/Users/todd/GitHub/ecohydrology/ClearWater-riverine/src')"
   ]
  },
  {
   "cell_type": "code",
   "execution_count": null,
   "id": "a6e16a57",
   "metadata": {},
   "outputs": [],
   "source": [
    "import clearwater_riverine as cwr"
   ]
  },
  {
   "cell_type": "markdown",
   "id": "dc7ac1ca-c5e1-4502-813a-4884698c679c",
   "metadata": {},
   "source": [
    "## RAS File Paths\n",
    "\n",
    "Define the file path to the RAS2D HDF output file of interest. In this example, the HEC-RAS model output for the Ohio River is saved to the following path:"
   ]
  },
  {
   "cell_type": "code",
   "execution_count": 36,
   "id": "fa9367fa-7c7d-4b21-b608-844517f62463",
   "metadata": {},
   "outputs": [],
   "source": [
    "fpath = 'data/ohio_river/OhioRiver_m.p22.hdf'"
   ]
  },
  {
   "cell_type": "markdown",
   "id": "b938f27c-14b2-4e41-a48e-c0c85fec62d6",
   "metadata": {},
   "source": [
    "# Example Clearwater Riverine Workflow\n",
    "\n",
    "## Set-Up Model Mesh\n",
    "\n",
    "The code below creates a ClearwaterRiverine model. Initializing this model requires two arguments:\n",
    "* `fpath`: the filepath to the RAS2D HDF output (defined in the code block above).\n",
    "* `diffusion_coefficient`: assumed diffusion coefficient for the entire model domain (arbitrarily set to 0.1 here)"
   ]
  },
  {
   "cell_type": "code",
   "execution_count": 37,
   "id": "cdd69a7c-b2b8-435d-91fb-25b83fc93d57",
   "metadata": {},
   "outputs": [
    {
     "name": "stdout",
     "output_type": "stream",
     "text": [
      "Populating Model Mesh...\n",
      "Calculating Required Parameters...\n",
      "CPU times: user 2.54 s, sys: 115 ms, total: 2.66 s\n",
      "Wall time: 2.77 s\n"
     ]
    }
   ],
   "source": [
    "%%time\n",
    "ohio = cwr.ClearwaterRiverine(fpath, 0.1, verbose=True)"
   ]
  },
  {
   "cell_type": "code",
   "execution_count": 38,
   "id": "28c6f074-7d4b-49c8-8b22-c2d028a1898b",
   "metadata": {},
   "outputs": [
    {
     "data": {
      "text/html": [
       "<div><svg style=\"position: absolute; width: 0; height: 0; overflow: hidden\">\n",
       "<defs>\n",
       "<symbol id=\"icon-database\" viewBox=\"0 0 32 32\">\n",
       "<path d=\"M16 0c-8.837 0-16 2.239-16 5v4c0 2.761 7.163 5 16 5s16-2.239 16-5v-4c0-2.761-7.163-5-16-5z\"></path>\n",
       "<path d=\"M16 17c-8.837 0-16-2.239-16-5v6c0 2.761 7.163 5 16 5s16-2.239 16-5v-6c0 2.761-7.163 5-16 5z\"></path>\n",
       "<path d=\"M16 26c-8.837 0-16-2.239-16-5v6c0 2.761 7.163 5 16 5s16-2.239 16-5v-6c0 2.761-7.163 5-16 5z\"></path>\n",
       "</symbol>\n",
       "<symbol id=\"icon-file-text2\" viewBox=\"0 0 32 32\">\n",
       "<path d=\"M28.681 7.159c-0.694-0.947-1.662-2.053-2.724-3.116s-2.169-2.030-3.116-2.724c-1.612-1.182-2.393-1.319-2.841-1.319h-15.5c-1.378 0-2.5 1.121-2.5 2.5v27c0 1.378 1.122 2.5 2.5 2.5h23c1.378 0 2.5-1.122 2.5-2.5v-19.5c0-0.448-0.137-1.23-1.319-2.841zM24.543 5.457c0.959 0.959 1.712 1.825 2.268 2.543h-4.811v-4.811c0.718 0.556 1.584 1.309 2.543 2.268zM28 29.5c0 0.271-0.229 0.5-0.5 0.5h-23c-0.271 0-0.5-0.229-0.5-0.5v-27c0-0.271 0.229-0.5 0.5-0.5 0 0 15.499-0 15.5 0v7c0 0.552 0.448 1 1 1h7v19.5z\"></path>\n",
       "<path d=\"M23 26h-14c-0.552 0-1-0.448-1-1s0.448-1 1-1h14c0.552 0 1 0.448 1 1s-0.448 1-1 1z\"></path>\n",
       "<path d=\"M23 22h-14c-0.552 0-1-0.448-1-1s0.448-1 1-1h14c0.552 0 1 0.448 1 1s-0.448 1-1 1z\"></path>\n",
       "<path d=\"M23 18h-14c-0.552 0-1-0.448-1-1s0.448-1 1-1h14c0.552 0 1 0.448 1 1s-0.448 1-1 1z\"></path>\n",
       "</symbol>\n",
       "</defs>\n",
       "</svg>\n",
       "<style>/* CSS stylesheet for displaying xarray objects in jupyterlab.\n",
       " *\n",
       " */\n",
       "\n",
       ":root {\n",
       "  --xr-font-color0: var(--jp-content-font-color0, rgba(0, 0, 0, 1));\n",
       "  --xr-font-color2: var(--jp-content-font-color2, rgba(0, 0, 0, 0.54));\n",
       "  --xr-font-color3: var(--jp-content-font-color3, rgba(0, 0, 0, 0.38));\n",
       "  --xr-border-color: var(--jp-border-color2, #e0e0e0);\n",
       "  --xr-disabled-color: var(--jp-layout-color3, #bdbdbd);\n",
       "  --xr-background-color: var(--jp-layout-color0, white);\n",
       "  --xr-background-color-row-even: var(--jp-layout-color1, white);\n",
       "  --xr-background-color-row-odd: var(--jp-layout-color2, #eeeeee);\n",
       "}\n",
       "\n",
       "html[theme=dark],\n",
       "body[data-theme=dark],\n",
       "body.vscode-dark {\n",
       "  --xr-font-color0: rgba(255, 255, 255, 1);\n",
       "  --xr-font-color2: rgba(255, 255, 255, 0.54);\n",
       "  --xr-font-color3: rgba(255, 255, 255, 0.38);\n",
       "  --xr-border-color: #1F1F1F;\n",
       "  --xr-disabled-color: #515151;\n",
       "  --xr-background-color: #111111;\n",
       "  --xr-background-color-row-even: #111111;\n",
       "  --xr-background-color-row-odd: #313131;\n",
       "}\n",
       "\n",
       ".xr-wrap {\n",
       "  display: block !important;\n",
       "  min-width: 300px;\n",
       "  max-width: 700px;\n",
       "}\n",
       "\n",
       ".xr-text-repr-fallback {\n",
       "  /* fallback to plain text repr when CSS is not injected (untrusted notebook) */\n",
       "  display: none;\n",
       "}\n",
       "\n",
       ".xr-header {\n",
       "  padding-top: 6px;\n",
       "  padding-bottom: 6px;\n",
       "  margin-bottom: 4px;\n",
       "  border-bottom: solid 1px var(--xr-border-color);\n",
       "}\n",
       "\n",
       ".xr-header > div,\n",
       ".xr-header > ul {\n",
       "  display: inline;\n",
       "  margin-top: 0;\n",
       "  margin-bottom: 0;\n",
       "}\n",
       "\n",
       ".xr-obj-type,\n",
       ".xr-array-name {\n",
       "  margin-left: 2px;\n",
       "  margin-right: 10px;\n",
       "}\n",
       "\n",
       ".xr-obj-type {\n",
       "  color: var(--xr-font-color2);\n",
       "}\n",
       "\n",
       ".xr-sections {\n",
       "  padding-left: 0 !important;\n",
       "  display: grid;\n",
       "  grid-template-columns: 150px auto auto 1fr 20px 20px;\n",
       "}\n",
       "\n",
       ".xr-section-item {\n",
       "  display: contents;\n",
       "}\n",
       "\n",
       ".xr-section-item input {\n",
       "  display: none;\n",
       "}\n",
       "\n",
       ".xr-section-item input + label {\n",
       "  color: var(--xr-disabled-color);\n",
       "}\n",
       "\n",
       ".xr-section-item input:enabled + label {\n",
       "  cursor: pointer;\n",
       "  color: var(--xr-font-color2);\n",
       "}\n",
       "\n",
       ".xr-section-item input:enabled + label:hover {\n",
       "  color: var(--xr-font-color0);\n",
       "}\n",
       "\n",
       ".xr-section-summary {\n",
       "  grid-column: 1;\n",
       "  color: var(--xr-font-color2);\n",
       "  font-weight: 500;\n",
       "}\n",
       "\n",
       ".xr-section-summary > span {\n",
       "  display: inline-block;\n",
       "  padding-left: 0.5em;\n",
       "}\n",
       "\n",
       ".xr-section-summary-in:disabled + label {\n",
       "  color: var(--xr-font-color2);\n",
       "}\n",
       "\n",
       ".xr-section-summary-in + label:before {\n",
       "  display: inline-block;\n",
       "  content: '►';\n",
       "  font-size: 11px;\n",
       "  width: 15px;\n",
       "  text-align: center;\n",
       "}\n",
       "\n",
       ".xr-section-summary-in:disabled + label:before {\n",
       "  color: var(--xr-disabled-color);\n",
       "}\n",
       "\n",
       ".xr-section-summary-in:checked + label:before {\n",
       "  content: '▼';\n",
       "}\n",
       "\n",
       ".xr-section-summary-in:checked + label > span {\n",
       "  display: none;\n",
       "}\n",
       "\n",
       ".xr-section-summary,\n",
       ".xr-section-inline-details {\n",
       "  padding-top: 4px;\n",
       "  padding-bottom: 4px;\n",
       "}\n",
       "\n",
       ".xr-section-inline-details {\n",
       "  grid-column: 2 / -1;\n",
       "}\n",
       "\n",
       ".xr-section-details {\n",
       "  display: none;\n",
       "  grid-column: 1 / -1;\n",
       "  margin-bottom: 5px;\n",
       "}\n",
       "\n",
       ".xr-section-summary-in:checked ~ .xr-section-details {\n",
       "  display: contents;\n",
       "}\n",
       "\n",
       ".xr-array-wrap {\n",
       "  grid-column: 1 / -1;\n",
       "  display: grid;\n",
       "  grid-template-columns: 20px auto;\n",
       "}\n",
       "\n",
       ".xr-array-wrap > label {\n",
       "  grid-column: 1;\n",
       "  vertical-align: top;\n",
       "}\n",
       "\n",
       ".xr-preview {\n",
       "  color: var(--xr-font-color3);\n",
       "}\n",
       "\n",
       ".xr-array-preview,\n",
       ".xr-array-data {\n",
       "  padding: 0 5px !important;\n",
       "  grid-column: 2;\n",
       "}\n",
       "\n",
       ".xr-array-data,\n",
       ".xr-array-in:checked ~ .xr-array-preview {\n",
       "  display: none;\n",
       "}\n",
       "\n",
       ".xr-array-in:checked ~ .xr-array-data,\n",
       ".xr-array-preview {\n",
       "  display: inline-block;\n",
       "}\n",
       "\n",
       ".xr-dim-list {\n",
       "  display: inline-block !important;\n",
       "  list-style: none;\n",
       "  padding: 0 !important;\n",
       "  margin: 0;\n",
       "}\n",
       "\n",
       ".xr-dim-list li {\n",
       "  display: inline-block;\n",
       "  padding: 0;\n",
       "  margin: 0;\n",
       "}\n",
       "\n",
       ".xr-dim-list:before {\n",
       "  content: '(';\n",
       "}\n",
       "\n",
       ".xr-dim-list:after {\n",
       "  content: ')';\n",
       "}\n",
       "\n",
       ".xr-dim-list li:not(:last-child):after {\n",
       "  content: ',';\n",
       "  padding-right: 5px;\n",
       "}\n",
       "\n",
       ".xr-has-index {\n",
       "  font-weight: bold;\n",
       "}\n",
       "\n",
       ".xr-var-list,\n",
       ".xr-var-item {\n",
       "  display: contents;\n",
       "}\n",
       "\n",
       ".xr-var-item > div,\n",
       ".xr-var-item label,\n",
       ".xr-var-item > .xr-var-name span {\n",
       "  background-color: var(--xr-background-color-row-even);\n",
       "  margin-bottom: 0;\n",
       "}\n",
       "\n",
       ".xr-var-item > .xr-var-name:hover span {\n",
       "  padding-right: 5px;\n",
       "}\n",
       "\n",
       ".xr-var-list > li:nth-child(odd) > div,\n",
       ".xr-var-list > li:nth-child(odd) > label,\n",
       ".xr-var-list > li:nth-child(odd) > .xr-var-name span {\n",
       "  background-color: var(--xr-background-color-row-odd);\n",
       "}\n",
       "\n",
       ".xr-var-name {\n",
       "  grid-column: 1;\n",
       "}\n",
       "\n",
       ".xr-var-dims {\n",
       "  grid-column: 2;\n",
       "}\n",
       "\n",
       ".xr-var-dtype {\n",
       "  grid-column: 3;\n",
       "  text-align: right;\n",
       "  color: var(--xr-font-color2);\n",
       "}\n",
       "\n",
       ".xr-var-preview {\n",
       "  grid-column: 4;\n",
       "}\n",
       "\n",
       ".xr-index-preview {\n",
       "  grid-column: 2 / 5;\n",
       "  color: var(--xr-font-color2);\n",
       "}\n",
       "\n",
       ".xr-var-name,\n",
       ".xr-var-dims,\n",
       ".xr-var-dtype,\n",
       ".xr-preview,\n",
       ".xr-attrs dt {\n",
       "  white-space: nowrap;\n",
       "  overflow: hidden;\n",
       "  text-overflow: ellipsis;\n",
       "  padding-right: 10px;\n",
       "}\n",
       "\n",
       ".xr-var-name:hover,\n",
       ".xr-var-dims:hover,\n",
       ".xr-var-dtype:hover,\n",
       ".xr-attrs dt:hover {\n",
       "  overflow: visible;\n",
       "  width: auto;\n",
       "  z-index: 1;\n",
       "}\n",
       "\n",
       ".xr-var-attrs,\n",
       ".xr-var-data,\n",
       ".xr-index-data {\n",
       "  display: none;\n",
       "  background-color: var(--xr-background-color) !important;\n",
       "  padding-bottom: 5px !important;\n",
       "}\n",
       "\n",
       ".xr-var-attrs-in:checked ~ .xr-var-attrs,\n",
       ".xr-var-data-in:checked ~ .xr-var-data,\n",
       ".xr-index-data-in:checked ~ .xr-index-data {\n",
       "  display: block;\n",
       "}\n",
       "\n",
       ".xr-var-data > table {\n",
       "  float: right;\n",
       "}\n",
       "\n",
       ".xr-var-name span,\n",
       ".xr-var-data,\n",
       ".xr-index-name div,\n",
       ".xr-index-data,\n",
       ".xr-attrs {\n",
       "  padding-left: 25px !important;\n",
       "}\n",
       "\n",
       ".xr-attrs,\n",
       ".xr-var-attrs,\n",
       ".xr-var-data,\n",
       ".xr-index-data {\n",
       "  grid-column: 1 / -1;\n",
       "}\n",
       "\n",
       "dl.xr-attrs {\n",
       "  padding: 0;\n",
       "  margin: 0;\n",
       "  display: grid;\n",
       "  grid-template-columns: 125px auto;\n",
       "}\n",
       "\n",
       ".xr-attrs dt,\n",
       ".xr-attrs dd {\n",
       "  padding: 0;\n",
       "  margin: 0;\n",
       "  float: left;\n",
       "  padding-right: 10px;\n",
       "  width: auto;\n",
       "}\n",
       "\n",
       ".xr-attrs dt {\n",
       "  font-weight: normal;\n",
       "  grid-column: 1;\n",
       "}\n",
       "\n",
       ".xr-attrs dt:hover span {\n",
       "  display: inline-block;\n",
       "  background: var(--xr-background-color);\n",
       "  padding-right: 10px;\n",
       "}\n",
       "\n",
       ".xr-attrs dd {\n",
       "  grid-column: 2;\n",
       "  white-space: pre-wrap;\n",
       "  word-break: break-all;\n",
       "}\n",
       "\n",
       ".xr-icon-database,\n",
       ".xr-icon-file-text2,\n",
       ".xr-no-icon {\n",
       "  display: inline-block;\n",
       "  vertical-align: middle;\n",
       "  width: 1em;\n",
       "  height: 1.5em !important;\n",
       "  stroke-width: 0;\n",
       "  stroke: currentColor;\n",
       "  fill: currentColor;\n",
       "}\n",
       "</style><pre class='xr-text-repr-fallback'>&lt;xarray.Dataset&gt;\n",
       "Dimensions:                 (node: 3515, time: 913, nface: 4017, nmax_face: 6,\n",
       "                             nedge: 6457, 2: 2)\n",
       "Coordinates:\n",
       "    node_x                  (node) float64 4.84e+05 4.84e+05 ... 4.78e+05\n",
       "    node_y                  (node) float64 1.74e+05 1.74e+05 ... 1.767e+05\n",
       "  * time                    (time) datetime64[ns] 2010-05-29 ... 2010-07-06\n",
       "    face_x                  (nface) float64 4.84e+05 4.84e+05 ... 4.781e+05\n",
       "    face_y                  (nface) float64 1.74e+05 1.741e+05 ... 1.767e+05\n",
       "Dimensions without coordinates: node, nface, nmax_face, nedge, 2\n",
       "Data variables: (12/20)\n",
       "    mesh2d                  int64 0\n",
       "    face_nodes              (nface, nmax_face) int32 0 1 2 3 -1 ... -1 -1 -1 -1\n",
       "    edge_nodes              (nedge, 2) int32 527 526 526 528 ... 3437 3514 3513\n",
       "    edge_face_connectivity  (nedge, 2) int32 263 262 263 794 ... 4015 2942 4016\n",
       "    edges_face1             (nedge) int32 263 263 263 263 ... 2860 2942 2942\n",
       "    edges_face2             (nedge) int32 262 794 264 1325 ... 4014 4015 4016\n",
       "    ...                      ...\n",
       "    face_to_face_dist       (nedge) float64 74.94 75.0 74.94 ... 29.88 27.42\n",
       "    coeff_to_diffusion      (time, nedge) float64 0.0 0.0 0.0 ... 0.0 2.124\n",
       "    sum_coeff_to_diffusion  (time, nface) float64 0.0 0.0 0.0 ... 0.0 2.124\n",
       "    dt                      (time) float64 3.6e+03 3.6e+03 ... 3.6e+03 nan\n",
       "    ghost_volumes_in        (time, nface) float64 0.0 0.0 0.0 ... 0.0 0.0 0.0\n",
       "    ghost_volumes_out       (time, nface) float64 0.0 0.0 0.0 ... 0.0 0.0 0.0\n",
       "Attributes: (12/13)\n",
       "    Conventions:                       CF-1.8 UGRID-1.0 Deltares-0.10\n",
       "    diffusion_coefficient:             0.1\n",
       "    volume_calculation_required:       False\n",
       "    face_area_calculation_required:    False\n",
       "    face_area_elevation_info:          Empty DataFrame\\nColumns: []\\nIndex: []\n",
       "    face_area_elevation_values:        Empty DataFrame\\nColumns: []\\nIndex: []\n",
       "    ...                                ...\n",
       "    face_cell_indexes_df:              Empty DataFrame\\nColumns: []\\nIndex: []\n",
       "    face_volume_elevation_info:        Empty DataFrame\\nColumns: []\\nIndex: []\n",
       "    face_volume_elevation_values:      Empty DataFrame\\nColumns: []\\nIndex: []\n",
       "    boundary_data:                     Empty DataFrame\\nColumns: []\\nIndex: []\n",
       "    units:                             Metric\n",
       "    nreal:                             2942</pre><div class='xr-wrap' style='display:none'><div class='xr-header'><div class='xr-obj-type'>xarray.Dataset</div></div><ul class='xr-sections'><li class='xr-section-item'><input id='section-aad2f329-95fc-4b3a-9872-4d3bcf2b2026' class='xr-section-summary-in' type='checkbox' disabled ><label for='section-aad2f329-95fc-4b3a-9872-4d3bcf2b2026' class='xr-section-summary'  title='Expand/collapse section'>Dimensions:</label><div class='xr-section-inline-details'><ul class='xr-dim-list'><li><span>node</span>: 3515</li><li><span class='xr-has-index'>time</span>: 913</li><li><span>nface</span>: 4017</li><li><span>nmax_face</span>: 6</li><li><span>nedge</span>: 6457</li><li><span>2</span>: 2</li></ul></div><div class='xr-section-details'></div></li><li class='xr-section-item'><input id='section-366f0d93-1374-40b5-80be-d809f80d93a8' class='xr-section-summary-in' type='checkbox'  checked><label for='section-366f0d93-1374-40b5-80be-d809f80d93a8' class='xr-section-summary' >Coordinates: <span>(5)</span></label><div class='xr-section-inline-details'></div><div class='xr-section-details'><ul class='xr-var-list'><li class='xr-var-item'><div class='xr-var-name'><span>node_x</span></div><div class='xr-var-dims'>(node)</div><div class='xr-var-dtype'>float64</div><div class='xr-var-preview xr-preview'>4.84e+05 4.84e+05 ... 4.78e+05</div><input id='attrs-00915a40-89e6-4dd3-9663-80ab762a1e55' class='xr-var-attrs-in' type='checkbox' disabled><label for='attrs-00915a40-89e6-4dd3-9663-80ab762a1e55' title='Show/Hide attributes'><svg class='icon xr-icon-file-text2'><use xlink:href='#icon-file-text2'></use></svg></label><input id='data-b5985a6a-ee0b-4ceb-9fa6-265382f918d6' class='xr-var-data-in' type='checkbox'><label for='data-b5985a6a-ee0b-4ceb-9fa6-265382f918d6' title='Show/Hide data repr'><svg class='icon xr-icon-database'><use xlink:href='#icon-database'></use></svg></label><div class='xr-var-attrs'><dl class='xr-attrs'></dl></div><div class='xr-var-data'><pre>array([483959.8853452 , 483966.58139234, 484040.82137648, ...,\n",
       "       454945.72764396, 478140.48341147, 478038.82155093])</pre></div></li><li class='xr-var-item'><div class='xr-var-name'><span>node_y</span></div><div class='xr-var-dims'>(node)</div><div class='xr-var-dtype'>float64</div><div class='xr-var-preview xr-preview'>1.74e+05 1.74e+05 ... 1.767e+05</div><input id='attrs-edc303bb-4c68-46c2-8ac6-6626477e6822' class='xr-var-attrs-in' type='checkbox' disabled><label for='attrs-edc303bb-4c68-46c2-8ac6-6626477e6822' title='Show/Hide attributes'><svg class='icon xr-icon-file-text2'><use xlink:href='#icon-file-text2'></use></svg></label><input id='data-2ed314fd-5332-4b4b-aaae-bf1bc7c85f60' class='xr-var-data-in' type='checkbox'><label for='data-2ed314fd-5332-4b4b-aaae-bf1bc7c85f60' title='Show/Hide data repr'><svg class='icon xr-icon-database'><use xlink:href='#icon-database'></use></svg></label><div class='xr-var-attrs'><dl class='xr-attrs'></dl></div><div class='xr-var-data'><pre>array([174046.5264744 , 173990.82305163, 174001.63717633, ...,\n",
       "       181594.82845636, 176695.47471137, 176687.22012993])</pre></div></li><li class='xr-var-item'><div class='xr-var-name'><span class='xr-has-index'>time</span></div><div class='xr-var-dims'>(time)</div><div class='xr-var-dtype'>datetime64[ns]</div><div class='xr-var-preview xr-preview'>2010-05-29 ... 2010-07-06</div><input id='attrs-eb079813-8cd9-4930-90a3-ca9b4f9f84c4' class='xr-var-attrs-in' type='checkbox' disabled><label for='attrs-eb079813-8cd9-4930-90a3-ca9b4f9f84c4' title='Show/Hide attributes'><svg class='icon xr-icon-file-text2'><use xlink:href='#icon-file-text2'></use></svg></label><input id='data-45e6b566-f55b-489d-82b4-1e20e2689810' class='xr-var-data-in' type='checkbox'><label for='data-45e6b566-f55b-489d-82b4-1e20e2689810' title='Show/Hide data repr'><svg class='icon xr-icon-database'><use xlink:href='#icon-database'></use></svg></label><div class='xr-var-attrs'><dl class='xr-attrs'></dl></div><div class='xr-var-data'><pre>array([&#x27;2010-05-29T00:00:00.000000000&#x27;, &#x27;2010-05-29T01:00:00.000000000&#x27;,\n",
       "       &#x27;2010-05-29T02:00:00.000000000&#x27;, ..., &#x27;2010-07-05T22:00:00.000000000&#x27;,\n",
       "       &#x27;2010-07-05T23:00:00.000000000&#x27;, &#x27;2010-07-06T00:00:00.000000000&#x27;],\n",
       "      dtype=&#x27;datetime64[ns]&#x27;)</pre></div></li><li class='xr-var-item'><div class='xr-var-name'><span>face_x</span></div><div class='xr-var-dims'>(nface)</div><div class='xr-var-dtype'>float64</div><div class='xr-var-preview xr-preview'>4.84e+05 4.84e+05 ... 4.781e+05</div><input id='attrs-ae25fcf0-c93f-4f2b-88a5-80613557024d' class='xr-var-attrs-in' type='checkbox' disabled><label for='attrs-ae25fcf0-c93f-4f2b-88a5-80613557024d' title='Show/Hide attributes'><svg class='icon xr-icon-file-text2'><use xlink:href='#icon-file-text2'></use></svg></label><input id='data-e1f234a2-3e9a-4f27-8a25-f6b66d0e9b27' class='xr-var-data-in' type='checkbox'><label for='data-e1f234a2-3e9a-4f27-8a25-f6b66d0e9b27' title='Show/Hide data repr'><svg class='icon xr-icon-database'><use xlink:href='#icon-database'></use></svg></label><div class='xr-var-attrs'><dl class='xr-attrs'></dl></div><div class='xr-var-data'><pre>array([484001.66506226, 483993.291718  , 483985.62733532, ...,\n",
       "       454974.56603129, 478130.42615321, 478089.63952995])</pre></div></li><li class='xr-var-item'><div class='xr-var-name'><span>face_y</span></div><div class='xr-var-dims'>(nface)</div><div class='xr-var-dtype'>float64</div><div class='xr-var-preview xr-preview'>1.74e+05 1.741e+05 ... 1.767e+05</div><input id='attrs-10f0a31b-0780-4f04-bd2e-994c5b8f992f' class='xr-var-attrs-in' type='checkbox' disabled><label for='attrs-10f0a31b-0780-4f04-bd2e-994c5b8f992f' title='Show/Hide attributes'><svg class='icon xr-icon-file-text2'><use xlink:href='#icon-file-text2'></use></svg></label><input id='data-e9554b2e-ff29-4636-aa94-eff87fc88218' class='xr-var-data-in' type='checkbox'><label for='data-e9554b2e-ff29-4636-aa94-eff87fc88218' title='Show/Hide data repr'><svg class='icon xr-icon-database'><use xlink:href='#icon-database'></use></svg></label><div class='xr-var-attrs'><dl class='xr-attrs'></dl></div><div class='xr-var-data'><pre>array([174013.16997585, 174088.26632358, 174162.81192675, ...,\n",
       "       181574.61863631, 176729.87862756, 176691.57815162])</pre></div></li></ul></div></li><li class='xr-section-item'><input id='section-44f084ae-6c42-44ec-8c08-3dc0778d53af' class='xr-section-summary-in' type='checkbox'  ><label for='section-44f084ae-6c42-44ec-8c08-3dc0778d53af' class='xr-section-summary' >Data variables: <span>(20)</span></label><div class='xr-section-inline-details'></div><div class='xr-section-details'><ul class='xr-var-list'><li class='xr-var-item'><div class='xr-var-name'><span>mesh2d</span></div><div class='xr-var-dims'>()</div><div class='xr-var-dtype'>int64</div><div class='xr-var-preview xr-preview'>0</div><input id='attrs-8aa0d505-1df8-40a8-9102-415079a27be9' class='xr-var-attrs-in' type='checkbox' ><label for='attrs-8aa0d505-1df8-40a8-9102-415079a27be9' title='Show/Hide attributes'><svg class='icon xr-icon-file-text2'><use xlink:href='#icon-file-text2'></use></svg></label><input id='data-c556c4ce-e689-4ffd-9c9b-a429cfa4d3fe' class='xr-var-data-in' type='checkbox'><label for='data-c556c4ce-e689-4ffd-9c9b-a429cfa4d3fe' title='Show/Hide data repr'><svg class='icon xr-icon-database'><use xlink:href='#icon-database'></use></svg></label><div class='xr-var-attrs'><dl class='xr-attrs'><dt><span>cf_role :</span></dt><dd>mesh_topology</dd><dt><span>long_name :</span></dt><dd>Topology data of 2D mesh</dd><dt><span>topology_dimension :</span></dt><dd>2</dd><dt><span>node_coordinates :</span></dt><dd>node_x node_y</dd><dt><span>face_node_connectivity :</span></dt><dd>face_nodes</dd><dt><span>face_dimension :</span></dt><dd>face</dd><dt><span>edge_node_connectivity :</span></dt><dd>edge_nodes</dd><dt><span>edge_dimension :</span></dt><dd>edge</dd><dt><span>face_edge_connectivity :</span></dt><dd>face_edges</dd><dt><span>face_face_connectivity :</span></dt><dd>face_face_connectivity</dd><dt><span>edge_face_connectivity :</span></dt><dd>edge_face_connectivity</dd><dt><span>boundary_node_connectivity :</span></dt><dd>boundary_node_connectivity</dd><dt><span>face_coordinates :</span></dt><dd>face x face_y</dd><dt><span>edge_coordinates :</span></dt><dd>edge_x edge_y</dd></dl></div><div class='xr-var-data'><pre>array(0)</pre></div></li><li class='xr-var-item'><div class='xr-var-name'><span>face_nodes</span></div><div class='xr-var-dims'>(nface, nmax_face)</div><div class='xr-var-dtype'>int32</div><div class='xr-var-preview xr-preview'>0 1 2 3 -1 -1 ... 3513 -1 -1 -1 -1</div><input id='attrs-3825e106-ed53-4f92-ad09-d606008203ba' class='xr-var-attrs-in' type='checkbox' ><label for='attrs-3825e106-ed53-4f92-ad09-d606008203ba' title='Show/Hide attributes'><svg class='icon xr-icon-file-text2'><use xlink:href='#icon-file-text2'></use></svg></label><input id='data-11b18df1-c880-4fcc-8986-d2b55524c119' class='xr-var-data-in' type='checkbox'><label for='data-11b18df1-c880-4fcc-8986-d2b55524c119' title='Show/Hide data repr'><svg class='icon xr-icon-database'><use xlink:href='#icon-database'></use></svg></label><div class='xr-var-attrs'><dl class='xr-attrs'><dt><span>cf_role :</span></dt><dd>face_node_connectivity</dd><dt><span>long_name :</span></dt><dd>Vertex nodes of mesh faces (counterclockwise)</dd><dt><span>start_index :</span></dt><dd>0</dd><dt><span>_FillValue :</span></dt><dd>-1</dd></dl></div><div class='xr-var-data'><pre>array([[   0,    1,    2,    3,   -1,   -1],\n",
       "       [   3,    4,    5,    0,   -1,   -1],\n",
       "       [   5,    4,    6,    7,   -1,   -1],\n",
       "       ...,\n",
       "       [3512, 2700,   -1,   -1,   -1,   -1],\n",
       "       [3513, 3437,   -1,   -1,   -1,   -1],\n",
       "       [3514, 3513,   -1,   -1,   -1,   -1]], dtype=int32)</pre></div></li><li class='xr-var-item'><div class='xr-var-name'><span>edge_nodes</span></div><div class='xr-var-dims'>(nedge, 2)</div><div class='xr-var-dtype'>int32</div><div class='xr-var-preview xr-preview'>527 526 526 528 ... 3437 3514 3513</div><input id='attrs-5ef8b25a-a8f8-4ca2-80d8-c4fb17e71779' class='xr-var-attrs-in' type='checkbox' ><label for='attrs-5ef8b25a-a8f8-4ca2-80d8-c4fb17e71779' title='Show/Hide attributes'><svg class='icon xr-icon-file-text2'><use xlink:href='#icon-file-text2'></use></svg></label><input id='data-d46b99ce-6a24-45b1-9f7f-2a1d7fdd0503' class='xr-var-data-in' type='checkbox'><label for='data-d46b99ce-6a24-45b1-9f7f-2a1d7fdd0503' title='Show/Hide data repr'><svg class='icon xr-icon-database'><use xlink:href='#icon-database'></use></svg></label><div class='xr-var-attrs'><dl class='xr-attrs'><dt><span>cf_role :</span></dt><dd>edge_node_connectivity</dd><dt><span>long_name :</span></dt><dd>Vertex nodes of mesh edges</dd><dt><span>start_index :</span></dt><dd>0</dd></dl></div><div class='xr-var-data'><pre>array([[ 527,  526],\n",
       "       [ 526,  528],\n",
       "       [ 528,  529],\n",
       "       ...,\n",
       "       [3512, 2700],\n",
       "       [3513, 3437],\n",
       "       [3514, 3513]], dtype=int32)</pre></div></li><li class='xr-var-item'><div class='xr-var-name'><span>edge_face_connectivity</span></div><div class='xr-var-dims'>(nedge, 2)</div><div class='xr-var-dtype'>int32</div><div class='xr-var-preview xr-preview'>263 262 263 794 ... 4015 2942 4016</div><input id='attrs-307ab163-58e3-4ebd-8c66-871f41599b63' class='xr-var-attrs-in' type='checkbox' ><label for='attrs-307ab163-58e3-4ebd-8c66-871f41599b63' title='Show/Hide attributes'><svg class='icon xr-icon-file-text2'><use xlink:href='#icon-file-text2'></use></svg></label><input id='data-81efa3d2-8fa2-4190-bba3-d57558a909ac' class='xr-var-data-in' type='checkbox'><label for='data-81efa3d2-8fa2-4190-bba3-d57558a909ac' title='Show/Hide data repr'><svg class='icon xr-icon-database'><use xlink:href='#icon-database'></use></svg></label><div class='xr-var-attrs'><dl class='xr-attrs'><dt><span>cf_role :</span></dt><dd>edge_face_connectivity</dd><dt><span>long_name :</span></dt><dd>neighbor faces for edges</dd><dt><span>start_index :</span></dt><dd>0</dd></dl></div><div class='xr-var-data'><pre>array([[ 263,  262],\n",
       "       [ 263,  794],\n",
       "       [ 263,  264],\n",
       "       ...,\n",
       "       [2860, 4014],\n",
       "       [2942, 4015],\n",
       "       [2942, 4016]], dtype=int32)</pre></div></li><li class='xr-var-item'><div class='xr-var-name'><span>edges_face1</span></div><div class='xr-var-dims'>(nedge)</div><div class='xr-var-dtype'>int32</div><div class='xr-var-preview xr-preview'>263 263 263 263 ... 2860 2942 2942</div><input id='attrs-d296d9ce-81c8-4d91-8f3a-c08b42e4fcd4' class='xr-var-attrs-in' type='checkbox' ><label for='attrs-d296d9ce-81c8-4d91-8f3a-c08b42e4fcd4' title='Show/Hide attributes'><svg class='icon xr-icon-file-text2'><use xlink:href='#icon-file-text2'></use></svg></label><input id='data-57338fdf-6699-4400-8e4f-2a7e9eb83aba' class='xr-var-data-in' type='checkbox'><label for='data-57338fdf-6699-4400-8e4f-2a7e9eb83aba' title='Show/Hide data repr'><svg class='icon xr-icon-database'><use xlink:href='#icon-database'></use></svg></label><div class='xr-var-attrs'><dl class='xr-attrs'><dt><span>Units :</span></dt><dd></dd></dl></div><div class='xr-var-data'><pre>array([ 263,  263,  263, ..., 2860, 2942, 2942], dtype=int32)</pre></div></li><li class='xr-var-item'><div class='xr-var-name'><span>edges_face2</span></div><div class='xr-var-dims'>(nedge)</div><div class='xr-var-dtype'>int32</div><div class='xr-var-preview xr-preview'>262 794 264 1325 ... 4014 4015 4016</div><input id='attrs-471d18d7-ade2-4371-bcbe-669e8d65227c' class='xr-var-attrs-in' type='checkbox' ><label for='attrs-471d18d7-ade2-4371-bcbe-669e8d65227c' title='Show/Hide attributes'><svg class='icon xr-icon-file-text2'><use xlink:href='#icon-file-text2'></use></svg></label><input id='data-b75989a0-eb45-4996-8812-044f1759580f' class='xr-var-data-in' type='checkbox'><label for='data-b75989a0-eb45-4996-8812-044f1759580f' title='Show/Hide data repr'><svg class='icon xr-icon-database'><use xlink:href='#icon-database'></use></svg></label><div class='xr-var-attrs'><dl class='xr-attrs'><dt><span>Units :</span></dt><dd></dd></dl></div><div class='xr-var-data'><pre>array([ 262,  794,  264, ..., 4014, 4015, 4016], dtype=int32)</pre></div></li><li class='xr-var-item'><div class='xr-var-name'><span>faces_surface_area</span></div><div class='xr-var-dims'>(nface)</div><div class='xr-var-dtype'>float32</div><div class='xr-var-preview xr-preview'>4.113e+03 5.644e+03 ... 1.421e-14</div><input id='attrs-76e4f37f-554e-4274-8809-3641300632b2' class='xr-var-attrs-in' type='checkbox' ><label for='attrs-76e4f37f-554e-4274-8809-3641300632b2' title='Show/Hide attributes'><svg class='icon xr-icon-file-text2'><use xlink:href='#icon-file-text2'></use></svg></label><input id='data-c7c1ecb8-6cd8-4319-a6f9-8966329115f0' class='xr-var-data-in' type='checkbox'><label for='data-c7c1ecb8-6cd8-4319-a6f9-8966329115f0' title='Show/Hide data repr'><svg class='icon xr-icon-database'><use xlink:href='#icon-database'></use></svg></label><div class='xr-var-attrs'><dl class='xr-attrs'><dt><span>Can Plot :</span></dt><dd>False</dd><dt><span>Column :</span></dt><dd>[&#x27;Surface Area&#x27;]</dd><dt><span>Row :</span></dt><dd>Cell</dd></dl></div><div class='xr-var-data'><pre>array([4.1133096e+03, 5.6438716e+03, 5.6203931e+03, ..., 0.0000000e+00,\n",
       "       0.0000000e+00, 1.4210855e-14], dtype=float32)</pre></div></li><li class='xr-var-item'><div class='xr-var-name'><span>edge_velocity</span></div><div class='xr-var-dims'>(time, nedge)</div><div class='xr-var-dtype'>float32</div><div class='xr-var-preview xr-preview'>0.0 0.0 0.0 ... 0.3028 0.0 -0.01584</div><input id='attrs-a9bb80b1-30a9-4484-8012-7097e5d4775e' class='xr-var-attrs-in' type='checkbox' ><label for='attrs-a9bb80b1-30a9-4484-8012-7097e5d4775e' title='Show/Hide attributes'><svg class='icon xr-icon-file-text2'><use xlink:href='#icon-file-text2'></use></svg></label><input id='data-bb133bbd-dcc2-4abc-951d-49a0c2ba2c70' class='xr-var-data-in' type='checkbox'><label for='data-bb133bbd-dcc2-4abc-951d-49a0c2ba2c70' title='Show/Hide data repr'><svg class='icon xr-icon-database'><use xlink:href='#icon-database'></use></svg></label><div class='xr-var-attrs'><dl class='xr-attrs'><dt><span>Can Interpolate :</span></dt><dd>True</dd><dt><span>Can Plot :</span></dt><dd>True</dd><dt><span>Columns :</span></dt><dd>Faces</dd><dt><span>Coverage :</span></dt><dd>Wet</dd><dt><span>Location :</span></dt><dd>Faces</dd><dt><span>Name :</span></dt><dd>Velocity</dd><dt><span>Orientation :</span></dt><dd>Normal</dd><dt><span>Rows :</span></dt><dd>Times</dd><dt><span>Units :</span></dt><dd>m/s</dd></dl></div><div class='xr-var-data'><pre>array([[ 0.        ,  0.        ,  0.        , ...,  0.        ,\n",
       "         0.        ,  0.        ],\n",
       "       [-1.156882  ,  0.00844213,  1.1270218 , ...,  1.059696  ,\n",
       "         0.        , -0.22083692],\n",
       "       [-0.9189887 ,  0.00693253,  0.8952831 , ...,  0.7471803 ,\n",
       "         0.        , -0.2391788 ],\n",
       "       ...,\n",
       "       [-0.43860066,  0.00348777,  0.42748782, ...,  0.30147043,\n",
       "         0.        , -0.02155624],\n",
       "       [-0.43957052,  0.00349564,  0.42843273, ...,  0.3021523 ,\n",
       "         0.        , -0.01869783],\n",
       "       [-0.4405398 ,  0.00350353,  0.429377  , ...,  0.30283505,\n",
       "         0.        , -0.01584023]], dtype=float32)</pre></div></li><li class='xr-var-item'><div class='xr-var-name'><span>edge_length</span></div><div class='xr-var-dims'>(nedge)</div><div class='xr-var-dtype'>float32</div><div class='xr-var-preview xr-preview'>75.0 74.94 75.0 ... 71.69 102.0</div><input id='attrs-3afa792e-ddd6-4815-be89-1c4aa5a02546' class='xr-var-attrs-in' type='checkbox' ><label for='attrs-3afa792e-ddd6-4815-be89-1c4aa5a02546' title='Show/Hide attributes'><svg class='icon xr-icon-file-text2'><use xlink:href='#icon-file-text2'></use></svg></label><input id='data-3d4be423-3ed7-41e4-9f1c-1650bd390e6b' class='xr-var-data-in' type='checkbox'><label for='data-3d4be423-3ed7-41e4-9f1c-1650bd390e6b' title='Show/Hide data repr'><svg class='icon xr-icon-database'><use xlink:href='#icon-database'></use></svg></label><div class='xr-var-attrs'><dl class='xr-attrs'><dt><span>Units :</span></dt><dd>ft</dd></dl></div><div class='xr-var-data'><pre>array([ 75.      ,  74.938576,  75.      , ...,  70.42981 ,  71.6876  ,\n",
       "       101.99643 ], dtype=float32)</pre></div></li><li class='xr-var-item'><div class='xr-var-name'><span>water_surface_elev</span></div><div class='xr-var-dims'>(time, nface)</div><div class='xr-var-dtype'>float32</div><div class='xr-var-preview xr-preview'>141.3 141.3 141.3 ... 140.9 139.2</div><input id='attrs-b7bd47bf-7784-48c4-bf41-932cbe72b01e' class='xr-var-attrs-in' type='checkbox' ><label for='attrs-b7bd47bf-7784-48c4-bf41-932cbe72b01e' title='Show/Hide attributes'><svg class='icon xr-icon-file-text2'><use xlink:href='#icon-file-text2'></use></svg></label><input id='data-15ae8891-5c89-4c5c-8df7-db1b804ed9ce' class='xr-var-data-in' type='checkbox'><label for='data-15ae8891-5c89-4c5c-8df7-db1b804ed9ce' title='Show/Hide data repr'><svg class='icon xr-icon-database'><use xlink:href='#icon-database'></use></svg></label><div class='xr-var-attrs'><dl class='xr-attrs'><dt><span>Can Interpolate :</span></dt><dd>True</dd><dt><span>Can Plot :</span></dt><dd>True</dd><dt><span>Columns :</span></dt><dd>Cells</dd><dt><span>Coverage :</span></dt><dd>Wet</dd><dt><span>Location :</span></dt><dd>Cells</dd><dt><span>Maximum Value of Data Set :</span></dt><dd>143.44728</dd><dt><span>Minimum Value of Data Set :</span></dt><dd>139.00023</dd><dt><span>Name :</span></dt><dd>Water Surface</dd><dt><span>Orientation :</span></dt><dd>Scalar</dd><dt><span>Rows :</span></dt><dd>Times</dd><dt><span>Units :</span></dt><dd>m</dd></dl></div><div class='xr-var-data'><pre>array([[141.30011, 141.30011, 141.30011, ..., 126.86465, 141.30011,\n",
       "        141.30011],\n",
       "       [141.17659, 141.1764 , 141.17545, ..., 139.4    , 140.85295,\n",
       "        140.83975],\n",
       "       [140.57527, 140.57509, 140.574  , ..., 139.4    , 140.85295,\n",
       "        140.2665 ],\n",
       "       ...,\n",
       "       [139.35214, 139.35207, 139.35149, ..., 139.     , 140.85295,\n",
       "        139.20778],\n",
       "       [139.35399, 139.35393, 139.35333, ..., 139.     , 140.85295,\n",
       "        139.20866],\n",
       "       [139.35587, 139.35579, 139.3552 , ..., 139.     , 140.85295,\n",
       "        139.20956]], dtype=float32)</pre></div></li><li class='xr-var-item'><div class='xr-var-name'><span>volume</span></div><div class='xr-var-dims'>(time, nface)</div><div class='xr-var-dtype'>float32</div><div class='xr-var-preview xr-preview'>5.742e+04 7.829e+04 ... 0.0 0.0</div><input id='attrs-e4a9656a-0924-4cb0-ab79-248b9645416c' class='xr-var-attrs-in' type='checkbox' ><label for='attrs-e4a9656a-0924-4cb0-ab79-248b9645416c' title='Show/Hide attributes'><svg class='icon xr-icon-file-text2'><use xlink:href='#icon-file-text2'></use></svg></label><input id='data-f09074bb-5334-439e-8839-424be7b7e6c1' class='xr-var-data-in' type='checkbox'><label for='data-f09074bb-5334-439e-8839-424be7b7e6c1' title='Show/Hide data repr'><svg class='icon xr-icon-database'><use xlink:href='#icon-database'></use></svg></label><div class='xr-var-attrs'><dl class='xr-attrs'><dt><span>Can Interpolate :</span></dt><dd>True</dd><dt><span>Can Plot :</span></dt><dd>True</dd><dt><span>Columns :</span></dt><dd>Cells</dd><dt><span>Coverage :</span></dt><dd>Average</dd><dt><span>Location :</span></dt><dd>Cells</dd><dt><span>Maximum Value of Data Set :</span></dt><dd>142161.38</dd><dt><span>Name :</span></dt><dd>Volume</dd><dt><span>Orientation :</span></dt><dd>Scalar</dd><dt><span>Rows :</span></dt><dd>Times</dd><dt><span>Units :</span></dt><dd>m</dd></dl></div><div class='xr-var-data'><pre>array([[57423.91 , 78291.61 , 77300.94 , ...,     0.   ,     0.   ,\n",
       "            0.   ],\n",
       "       [56917.895, 77596.23 , 76603.05 , ...,     0.   ,     0.   ,\n",
       "            0.   ],\n",
       "       [54443.375, 74200.984, 73221.2  , ...,     0.   ,     0.   ,\n",
       "            0.   ],\n",
       "       ...,\n",
       "       [49411.305, 67297.14 , 66348.92 , ...,     0.   ,     0.   ,\n",
       "            0.   ],\n",
       "       [49418.94 , 67307.625, 66359.33 , ...,     0.   ,     0.   ,\n",
       "            0.   ],\n",
       "       [49426.62 , 67318.16 , 66369.79 , ...,     0.   ,     0.   ,\n",
       "            0.   ]], dtype=float32)</pre></div></li><li class='xr-var-item'><div class='xr-var-name'><span>face_flow</span></div><div class='xr-var-dims'>(time, nedge)</div><div class='xr-var-dtype'>float32</div><div class='xr-var-preview xr-preview'>0.0 0.0 0.0 ... 141.9 0.0 -9.225</div><input id='attrs-38076a6e-89dc-42ed-b1f2-74f61bae93b4' class='xr-var-attrs-in' type='checkbox' ><label for='attrs-38076a6e-89dc-42ed-b1f2-74f61bae93b4' title='Show/Hide attributes'><svg class='icon xr-icon-file-text2'><use xlink:href='#icon-file-text2'></use></svg></label><input id='data-83c0d069-909f-411f-9acc-9d47d5456649' class='xr-var-data-in' type='checkbox'><label for='data-83c0d069-909f-411f-9acc-9d47d5456649' title='Show/Hide data repr'><svg class='icon xr-icon-database'><use xlink:href='#icon-database'></use></svg></label><div class='xr-var-attrs'><dl class='xr-attrs'><dt><span>Can Interpolate :</span></dt><dd>True</dd><dt><span>Can Plot :</span></dt><dd>True</dd><dt><span>Columns :</span></dt><dd>Faces</dd><dt><span>Coverage :</span></dt><dd>Wet</dd><dt><span>Location :</span></dt><dd>Faces</dd><dt><span>Name :</span></dt><dd>Flow</dd><dt><span>Orientation :</span></dt><dd>Normal</dd><dt><span>Rows :</span></dt><dd>Times</dd><dt><span>Units :</span></dt><dd>m^3/s</dd></dl></div><div class='xr-var-data'><pre>array([[    0.       ,     0.       ,     0.       , ...,     0.       ,\n",
       "            0.       ,     0.       ],\n",
       "       [-1235.2174   ,     8.912355 ,  1172.9353   , ...,   524.4027   ,\n",
       "            0.       ,  -162.75974  ],\n",
       "       [ -948.17255  ,     7.0697   ,   899.5809   , ...,   369.6755   ,\n",
       "            0.       ,  -163.26744  ],\n",
       "       ...,\n",
       "       [ -423.8739   ,     3.3291955,   401.62424  , ...,   141.26201  ,\n",
       "            0.       ,   -12.549618 ],\n",
       "       [ -424.82986  ,     3.3368576,   402.53018  , ...,   141.58156  ,\n",
       "            0.       ,   -10.887081 ],\n",
       "       [ -425.78555  ,     3.3445382,   403.43576  , ...,   141.90149  ,\n",
       "            0.       ,    -9.224543 ]], dtype=float32)</pre></div></li><li class='xr-var-item'><div class='xr-var-name'><span>advection_coeff</span></div><div class='xr-var-dims'>(time, nedge)</div><div class='xr-var-dtype'>float32</div><div class='xr-var-preview xr-preview'>0.0 0.0 0.0 ... 141.9 0.0 -9.225</div><input id='attrs-46877b2d-9f65-4559-9442-ca6c41435b56' class='xr-var-attrs-in' type='checkbox' ><label for='attrs-46877b2d-9f65-4559-9442-ca6c41435b56' title='Show/Hide attributes'><svg class='icon xr-icon-file-text2'><use xlink:href='#icon-file-text2'></use></svg></label><input id='data-474d23f6-e9ae-48e9-a22c-629ea3d6cdb0' class='xr-var-data-in' type='checkbox'><label for='data-474d23f6-e9ae-48e9-a22c-629ea3d6cdb0' title='Show/Hide data repr'><svg class='icon xr-icon-database'><use xlink:href='#icon-database'></use></svg></label><div class='xr-var-attrs'><dl class='xr-attrs'><dt><span>Units :</span></dt><dd>m3/s</dd></dl></div><div class='xr-var-data'><pre>array([[    0.       ,     0.       ,     0.       , ...,     0.       ,\n",
       "            0.       ,     0.       ],\n",
       "       [-1235.2174   ,     8.912355 ,  1172.9353   , ...,   524.4027   ,\n",
       "            0.       ,  -162.75974  ],\n",
       "       [ -948.17255  ,     7.0697   ,   899.5809   , ...,   369.6755   ,\n",
       "            0.       ,  -163.26744  ],\n",
       "       ...,\n",
       "       [ -423.8739   ,     3.3291955,   401.62424  , ...,   141.26201  ,\n",
       "            0.       ,   -12.549618 ],\n",
       "       [ -424.82986  ,     3.3368576,   402.53018  , ...,   141.58156  ,\n",
       "            0.       ,   -10.887081 ],\n",
       "       [ -425.78555  ,     3.3445382,   403.43576  , ...,   141.90149  ,\n",
       "            0.       ,    -9.224543 ]], dtype=float32)</pre></div></li><li class='xr-var-item'><div class='xr-var-name'><span>edge_vertical_area</span></div><div class='xr-var-dims'>(time, nedge)</div><div class='xr-var-dtype'>float32</div><div class='xr-var-preview xr-preview'>0.0 0.0 0.0 0.0 ... 468.6 0.0 582.3</div><input id='attrs-9dfffd4f-fe33-4f3c-b2da-f40f1fafbed0' class='xr-var-attrs-in' type='checkbox' ><label for='attrs-9dfffd4f-fe33-4f3c-b2da-f40f1fafbed0' title='Show/Hide attributes'><svg class='icon xr-icon-file-text2'><use xlink:href='#icon-file-text2'></use></svg></label><input id='data-d7c74859-e002-4d64-b3b2-bc788b5eb332' class='xr-var-data-in' type='checkbox'><label for='data-d7c74859-e002-4d64-b3b2-bc788b5eb332' title='Show/Hide data repr'><svg class='icon xr-icon-database'><use xlink:href='#icon-database'></use></svg></label><div class='xr-var-attrs'><dl class='xr-attrs'><dt><span>Units :</span></dt><dd>m2</dd></dl></div><div class='xr-var-data'><pre>array([[   0.     ,    0.     ,    0.     , ...,    0.     ,    0.     ,\n",
       "           0.     ],\n",
       "       [1067.7125 , 1055.7002 , 1040.7388 , ...,  494.86148,    0.     ,\n",
       "         737.01324],\n",
       "       [1031.7565 , 1019.7868 , 1004.8005 , ...,  494.7608 ,    0.     ,\n",
       "         682.6167 ],\n",
       "       ...,\n",
       "       [ 966.42334,  954.53357,  939.49866, ...,  468.57666,    0.     ,\n",
       "         582.18036],\n",
       "       [ 966.46576,  954.5762 ,  939.54114, ...,  468.57678,    0.     ,\n",
       "         582.26447],\n",
       "       [ 966.50867,  954.6189 ,  939.58405, ...,  468.57684,    0.     ,\n",
       "         582.3491 ]], dtype=float32)</pre></div></li><li class='xr-var-item'><div class='xr-var-name'><span>face_to_face_dist</span></div><div class='xr-var-dims'>(nedge)</div><div class='xr-var-dtype'>float64</div><div class='xr-var-preview xr-preview'>74.94 75.0 74.94 ... 29.88 27.42</div><input id='attrs-126ccb49-1862-478f-8723-88b2dbba9df6' class='xr-var-attrs-in' type='checkbox' ><label for='attrs-126ccb49-1862-478f-8723-88b2dbba9df6' title='Show/Hide attributes'><svg class='icon xr-icon-file-text2'><use xlink:href='#icon-file-text2'></use></svg></label><input id='data-ad6862a0-d962-4f8b-8476-be64044c174d' class='xr-var-data-in' type='checkbox'><label for='data-ad6862a0-d962-4f8b-8476-be64044c174d' title='Show/Hide data repr'><svg class='icon xr-icon-database'><use xlink:href='#icon-database'></use></svg></label><div class='xr-var-attrs'><dl class='xr-attrs'><dt><span>Units :</span></dt><dd>m</dd></dl></div><div class='xr-var-data'><pre>array([74.93857293, 75.        , 74.93857293, ..., 75.59657549,\n",
       "       29.88419618, 27.41886169])</pre></div></li><li class='xr-var-item'><div class='xr-var-name'><span>coeff_to_diffusion</span></div><div class='xr-var-dims'>(time, nedge)</div><div class='xr-var-dtype'>float64</div><div class='xr-var-preview xr-preview'>0.0 0.0 0.0 ... 0.6198 0.0 2.124</div><input id='attrs-12d9a6db-69d8-4dcf-a5d7-841a0ac5fb10' class='xr-var-attrs-in' type='checkbox' ><label for='attrs-12d9a6db-69d8-4dcf-a5d7-841a0ac5fb10' title='Show/Hide attributes'><svg class='icon xr-icon-file-text2'><use xlink:href='#icon-file-text2'></use></svg></label><input id='data-dd7576bc-2c73-48d6-bfd8-d994b77f879d' class='xr-var-data-in' type='checkbox'><label for='data-dd7576bc-2c73-48d6-bfd8-d994b77f879d' title='Show/Hide data repr'><svg class='icon xr-icon-database'><use xlink:href='#icon-database'></use></svg></label><div class='xr-var-attrs'><dl class='xr-attrs'><dt><span>Units :</span></dt><dd>m3/s</dd></dl></div><div class='xr-var-data'><pre>array([[0.        , 0.        , 0.        , ..., 0.        , 0.        ,\n",
       "        0.        ],\n",
       "       [1.42478368, 1.4076003 , 1.38878913, ..., 0.65460834, 0.        ,\n",
       "        2.687979  ],\n",
       "       [1.37680299, 1.35971578, 1.34083217, ..., 0.65447517, 0.        ,\n",
       "        2.48958814],\n",
       "       ...,\n",
       "       [1.28962069, 1.27271149, 1.2536917 , ..., 0.61983847, 0.        ,\n",
       "        2.12328423],\n",
       "       [1.28967729, 1.27276825, 1.25374841, ..., 0.61983863, 0.        ,\n",
       "        2.12359101],\n",
       "       [1.28973461, 1.27282522, 1.25380563, ..., 0.61983873, 0.        ,\n",
       "        2.12389973]])</pre></div></li><li class='xr-var-item'><div class='xr-var-name'><span>sum_coeff_to_diffusion</span></div><div class='xr-var-dims'>(time, nface)</div><div class='xr-var-dtype'>float64</div><div class='xr-var-preview xr-preview'>0.0 0.0 0.0 ... 0.6198 0.0 2.124</div><input id='attrs-f954f75e-23c2-47d0-8305-4e27cd17bb1c' class='xr-var-attrs-in' type='checkbox' ><label for='attrs-f954f75e-23c2-47d0-8305-4e27cd17bb1c' title='Show/Hide attributes'><svg class='icon xr-icon-file-text2'><use xlink:href='#icon-file-text2'></use></svg></label><input id='data-aa5418f5-a32a-4334-8b68-e1326c01c8a0' class='xr-var-data-in' type='checkbox'><label for='data-aa5418f5-a32a-4334-8b68-e1326c01c8a0' title='Show/Hide data repr'><svg class='icon xr-icon-database'><use xlink:href='#icon-database'></use></svg></label><div class='xr-var-attrs'><dl class='xr-attrs'><dt><span>Units :</span></dt><dd>m3/s</dd></dl></div><div class='xr-var-data'><pre>array([[0.        , 0.        , 0.        , ..., 0.        , 0.        ,\n",
       "        0.        ],\n",
       "       [9.39154214, 5.36372186, 5.32254739, ..., 0.65460834, 0.        ,\n",
       "        2.687979  ],\n",
       "       [8.97943793, 5.12308738, 5.08187624, ..., 0.65447517, 0.        ,\n",
       "        2.48958814],\n",
       "       ...,\n",
       "       [8.14125276, 4.63374858, 4.59272962, ..., 0.61983847, 0.        ,\n",
       "        2.12328423],\n",
       "       [8.14252506, 4.63449158, 4.59347079, ..., 0.61983863, 0.        ,\n",
       "        2.12359101],\n",
       "       [8.14380391, 4.63523833, 4.59421572, ..., 0.61983873, 0.        ,\n",
       "        2.12389973]])</pre></div></li><li class='xr-var-item'><div class='xr-var-name'><span>dt</span></div><div class='xr-var-dims'>(time)</div><div class='xr-var-dtype'>float64</div><div class='xr-var-preview xr-preview'>3.6e+03 3.6e+03 ... 3.6e+03 nan</div><input id='attrs-8755a7fe-884d-4aee-9c19-1893802bd92e' class='xr-var-attrs-in' type='checkbox' ><label for='attrs-8755a7fe-884d-4aee-9c19-1893802bd92e' title='Show/Hide attributes'><svg class='icon xr-icon-file-text2'><use xlink:href='#icon-file-text2'></use></svg></label><input id='data-576bbc0f-0928-4e39-bfd4-6ff989e867e2' class='xr-var-data-in' type='checkbox'><label for='data-576bbc0f-0928-4e39-bfd4-6ff989e867e2' title='Show/Hide data repr'><svg class='icon xr-icon-database'><use xlink:href='#icon-database'></use></svg></label><div class='xr-var-attrs'><dl class='xr-attrs'><dt><span>Units :</span></dt><dd>s</dd></dl></div><div class='xr-var-data'><pre>array([3600., 3600., 3600., 3600., 3600., 3600., 3600., 3600., 3600.,\n",
       "       3600., 3600., 3600., 3600., 3600., 3600., 3600., 3600., 3600.,\n",
       "       3600., 3600., 3600., 3600., 3600., 3600., 3600., 3600., 3600.,\n",
       "       3600., 3600., 3600., 3600., 3600., 3600., 3600., 3600., 3600.,\n",
       "       3600., 3600., 3600., 3600., 3600., 3600., 3600., 3600., 3600.,\n",
       "       3600., 3600., 3600., 3600., 3600., 3600., 3600., 3600., 3600.,\n",
       "       3600., 3600., 3600., 3600., 3600., 3600., 3600., 3600., 3600.,\n",
       "       3600., 3600., 3600., 3600., 3600., 3600., 3600., 3600., 3600.,\n",
       "       3600., 3600., 3600., 3600., 3600., 3600., 3600., 3600., 3600.,\n",
       "       3600., 3600., 3600., 3600., 3600., 3600., 3600., 3600., 3600.,\n",
       "       3600., 3600., 3600., 3600., 3600., 3600., 3600., 3600., 3600.,\n",
       "       3600., 3600., 3600., 3600., 3600., 3600., 3600., 3600., 3600.,\n",
       "       3600., 3600., 3600., 3600., 3600., 3600., 3600., 3600., 3600.,\n",
       "       3600., 3600., 3600., 3600., 3600., 3600., 3600., 3600., 3600.,\n",
       "       3600., 3600., 3600., 3600., 3600., 3600., 3600., 3600., 3600.,\n",
       "       3600., 3600., 3600., 3600., 3600., 3600., 3600., 3600., 3600.,\n",
       "       3600., 3600., 3600., 3600., 3600., 3600., 3600., 3600., 3600.,\n",
       "       3600., 3600., 3600., 3600., 3600., 3600., 3600., 3600., 3600.,\n",
       "       3600., 3600., 3600., 3600., 3600., 3600., 3600., 3600., 3600.,\n",
       "       3600., 3600., 3600., 3600., 3600., 3600., 3600., 3600., 3600.,\n",
       "...\n",
       "       3600., 3600., 3600., 3600., 3600., 3600., 3600., 3600., 3600.,\n",
       "       3600., 3600., 3600., 3600., 3600., 3600., 3600., 3600., 3600.,\n",
       "       3600., 3600., 3600., 3600., 3600., 3600., 3600., 3600., 3600.,\n",
       "       3600., 3600., 3600., 3600., 3600., 3600., 3600., 3600., 3600.,\n",
       "       3600., 3600., 3600., 3600., 3600., 3600., 3600., 3600., 3600.,\n",
       "       3600., 3600., 3600., 3600., 3600., 3600., 3600., 3600., 3600.,\n",
       "       3600., 3600., 3600., 3600., 3600., 3600., 3600., 3600., 3600.,\n",
       "       3600., 3600., 3600., 3600., 3600., 3600., 3600., 3600., 3600.,\n",
       "       3600., 3600., 3600., 3600., 3600., 3600., 3600., 3600., 3600.,\n",
       "       3600., 3600., 3600., 3600., 3600., 3600., 3600., 3600., 3600.,\n",
       "       3600., 3600., 3600., 3600., 3600., 3600., 3600., 3600., 3600.,\n",
       "       3600., 3600., 3600., 3600., 3600., 3600., 3600., 3600., 3600.,\n",
       "       3600., 3600., 3600., 3600., 3600., 3600., 3600., 3600., 3600.,\n",
       "       3600., 3600., 3600., 3600., 3600., 3600., 3600., 3600., 3600.,\n",
       "       3600., 3600., 3600., 3600., 3600., 3600., 3600., 3600., 3600.,\n",
       "       3600., 3600., 3600., 3600., 3600., 3600., 3600., 3600., 3600.,\n",
       "       3600., 3600., 3600., 3600., 3600., 3600., 3600., 3600., 3600.,\n",
       "       3600., 3600., 3600., 3600., 3600., 3600., 3600., 3600., 3600.,\n",
       "       3600., 3600., 3600., 3600., 3600., 3600., 3600., 3600., 3600.,\n",
       "       3600., 3600., 3600.,   nan])</pre></div></li><li class='xr-var-item'><div class='xr-var-name'><span>ghost_volumes_in</span></div><div class='xr-var-dims'>(time, nface)</div><div class='xr-var-dtype'>float64</div><div class='xr-var-preview xr-preview'>0.0 0.0 0.0 0.0 ... 0.0 0.0 0.0 0.0</div><input id='attrs-9d2b9316-f33a-4dc8-8778-13c9035f3c5c' class='xr-var-attrs-in' type='checkbox' ><label for='attrs-9d2b9316-f33a-4dc8-8778-13c9035f3c5c' title='Show/Hide attributes'><svg class='icon xr-icon-file-text2'><use xlink:href='#icon-file-text2'></use></svg></label><input id='data-a27ed447-59bc-4d9b-af80-5e6469573825' class='xr-var-data-in' type='checkbox'><label for='data-a27ed447-59bc-4d9b-af80-5e6469573825' title='Show/Hide data repr'><svg class='icon xr-icon-database'><use xlink:href='#icon-database'></use></svg></label><div class='xr-var-attrs'><dl class='xr-attrs'><dt><span>Units :</span></dt><dd>m3</dd></dl></div><div class='xr-var-data'><pre>array([[     0.        ,      0.        ,      0.        , ...,\n",
       "             0.        ,      0.        , 585935.04638672],\n",
       "       [     0.        ,      0.        ,      0.        , ...,\n",
       "             0.        ,      0.        , 587762.78686523],\n",
       "       [     0.        ,      0.        ,      0.        , ...,\n",
       "             0.        ,      0.        , 589590.52734375],\n",
       "       ...,\n",
       "       [     0.        ,      0.        ,      0.        , ...,\n",
       "             0.        ,      0.        ,  39193.49212646],\n",
       "       [     0.        ,      0.        ,      0.        , ...,\n",
       "             0.        ,      0.        ,      0.        ],\n",
       "       [     0.        ,      0.        ,      0.        , ...,\n",
       "             0.        ,      0.        ,      0.        ]])</pre></div></li><li class='xr-var-item'><div class='xr-var-name'><span>ghost_volumes_out</span></div><div class='xr-var-dims'>(time, nface)</div><div class='xr-var-dtype'>float64</div><div class='xr-var-preview xr-preview'>0.0 0.0 0.0 0.0 ... 0.0 0.0 0.0 0.0</div><input id='attrs-93aaa240-4ee0-4c96-9630-355f34d99c46' class='xr-var-attrs-in' type='checkbox' ><label for='attrs-93aaa240-4ee0-4c96-9630-355f34d99c46' title='Show/Hide attributes'><svg class='icon xr-icon-file-text2'><use xlink:href='#icon-file-text2'></use></svg></label><input id='data-49f520fe-5616-4dc1-a006-0e99c0ffea5d' class='xr-var-data-in' type='checkbox'><label for='data-49f520fe-5616-4dc1-a006-0e99c0ffea5d' title='Show/Hide data repr'><svg class='icon xr-icon-database'><use xlink:href='#icon-database'></use></svg></label><div class='xr-var-attrs'><dl class='xr-attrs'><dt><span>Units :</span></dt><dd>m3</dd></dl></div><div class='xr-var-data'><pre>array([[      0.        ,       0.        ,       0.        , ...,\n",
       "              0.        ,       0.        ,       0.        ],\n",
       "       [      0.        ,       0.        ,       0.        , ...,\n",
       "        1887849.76111679,       0.        ,       0.        ],\n",
       "       [      0.        ,       0.        ,       0.        , ...,\n",
       "        1330831.86121315,       0.        ,       0.        ],\n",
       "       ...,\n",
       "       [      0.        ,       0.        ,       0.        , ...,\n",
       "         508543.22382683,       0.        ,       0.        ],\n",
       "       [      0.        ,       0.        ,       0.        , ...,\n",
       "         509693.59876868,       0.        ,       0.        ],\n",
       "       [      0.        ,       0.        ,       0.        , ...,\n",
       "              0.        ,       0.        ,       0.        ]])</pre></div></li></ul></div></li><li class='xr-section-item'><input id='section-9833a95f-7a5c-4072-831f-3f7c0e0c9665' class='xr-section-summary-in' type='checkbox'  ><label for='section-9833a95f-7a5c-4072-831f-3f7c0e0c9665' class='xr-section-summary' >Indexes: <span>(1)</span></label><div class='xr-section-inline-details'></div><div class='xr-section-details'><ul class='xr-var-list'><li class='xr-var-item'><div class='xr-index-name'><div>time</div></div><div class='xr-index-preview'>PandasIndex</div><div></div><input id='index-3e5469bf-488b-4012-960a-7523de6a6c1e' class='xr-index-data-in' type='checkbox'/><label for='index-3e5469bf-488b-4012-960a-7523de6a6c1e' title='Show/Hide index repr'><svg class='icon xr-icon-database'><use xlink:href='#icon-database'></use></svg></label><div class='xr-index-data'><pre>PandasIndex(DatetimeIndex([&#x27;2010-05-29 00:00:00&#x27;, &#x27;2010-05-29 01:00:00&#x27;,\n",
       "               &#x27;2010-05-29 02:00:00&#x27;, &#x27;2010-05-29 03:00:00&#x27;,\n",
       "               &#x27;2010-05-29 04:00:00&#x27;, &#x27;2010-05-29 05:00:00&#x27;,\n",
       "               &#x27;2010-05-29 06:00:00&#x27;, &#x27;2010-05-29 07:00:00&#x27;,\n",
       "               &#x27;2010-05-29 08:00:00&#x27;, &#x27;2010-05-29 09:00:00&#x27;,\n",
       "               ...\n",
       "               &#x27;2010-07-05 15:00:00&#x27;, &#x27;2010-07-05 16:00:00&#x27;,\n",
       "               &#x27;2010-07-05 17:00:00&#x27;, &#x27;2010-07-05 18:00:00&#x27;,\n",
       "               &#x27;2010-07-05 19:00:00&#x27;, &#x27;2010-07-05 20:00:00&#x27;,\n",
       "               &#x27;2010-07-05 21:00:00&#x27;, &#x27;2010-07-05 22:00:00&#x27;,\n",
       "               &#x27;2010-07-05 23:00:00&#x27;, &#x27;2010-07-06 00:00:00&#x27;],\n",
       "              dtype=&#x27;datetime64[ns]&#x27;, name=&#x27;time&#x27;, length=913, freq=None))</pre></div></li></ul></div></li><li class='xr-section-item'><input id='section-315eb581-6cf5-492e-95cd-30e189dc9031' class='xr-section-summary-in' type='checkbox'  ><label for='section-315eb581-6cf5-492e-95cd-30e189dc9031' class='xr-section-summary' >Attributes: <span>(13)</span></label><div class='xr-section-inline-details'></div><div class='xr-section-details'><dl class='xr-attrs'><dt><span>Conventions :</span></dt><dd>CF-1.8 UGRID-1.0 Deltares-0.10</dd><dt><span>diffusion_coefficient :</span></dt><dd>0.1</dd><dt><span>volume_calculation_required :</span></dt><dd>False</dd><dt><span>face_area_calculation_required :</span></dt><dd>False</dd><dt><span>face_area_elevation_info :</span></dt><dd>Empty DataFrame\n",
       "Columns: []\n",
       "Index: []</dd><dt><span>face_area_elevation_values :</span></dt><dd>Empty DataFrame\n",
       "Columns: []\n",
       "Index: []</dd><dt><span>face_normalunitvector_and_length :</span></dt><dd>Empty DataFrame\n",
       "Columns: []\n",
       "Index: []</dd><dt><span>face_cell_indexes_df :</span></dt><dd>Empty DataFrame\n",
       "Columns: []\n",
       "Index: []</dd><dt><span>face_volume_elevation_info :</span></dt><dd>Empty DataFrame\n",
       "Columns: []\n",
       "Index: []</dd><dt><span>face_volume_elevation_values :</span></dt><dd>Empty DataFrame\n",
       "Columns: []\n",
       "Index: []</dd><dt><span>boundary_data :</span></dt><dd>Empty DataFrame\n",
       "Columns: []\n",
       "Index: []</dd><dt><span>units :</span></dt><dd>Metric</dd><dt><span>nreal :</span></dt><dd>2942</dd></dl></div></li></ul></div></div>"
      ],
      "text/plain": [
       "<xarray.Dataset>\n",
       "Dimensions:                 (node: 3515, time: 913, nface: 4017, nmax_face: 6,\n",
       "                             nedge: 6457, 2: 2)\n",
       "Coordinates:\n",
       "    node_x                  (node) float64 4.84e+05 4.84e+05 ... 4.78e+05\n",
       "    node_y                  (node) float64 1.74e+05 1.74e+05 ... 1.767e+05\n",
       "  * time                    (time) datetime64[ns] 2010-05-29 ... 2010-07-06\n",
       "    face_x                  (nface) float64 4.84e+05 4.84e+05 ... 4.781e+05\n",
       "    face_y                  (nface) float64 1.74e+05 1.741e+05 ... 1.767e+05\n",
       "Dimensions without coordinates: node, nface, nmax_face, nedge, 2\n",
       "Data variables: (12/20)\n",
       "    mesh2d                  int64 0\n",
       "    face_nodes              (nface, nmax_face) int32 0 1 2 3 -1 ... -1 -1 -1 -1\n",
       "    edge_nodes              (nedge, 2) int32 527 526 526 528 ... 3437 3514 3513\n",
       "    edge_face_connectivity  (nedge, 2) int32 263 262 263 794 ... 4015 2942 4016\n",
       "    edges_face1             (nedge) int32 263 263 263 263 ... 2860 2942 2942\n",
       "    edges_face2             (nedge) int32 262 794 264 1325 ... 4014 4015 4016\n",
       "    ...                      ...\n",
       "    face_to_face_dist       (nedge) float64 74.94 75.0 74.94 ... 29.88 27.42\n",
       "    coeff_to_diffusion      (time, nedge) float64 0.0 0.0 0.0 ... 0.0 2.124\n",
       "    sum_coeff_to_diffusion  (time, nface) float64 0.0 0.0 0.0 ... 0.0 2.124\n",
       "    dt                      (time) float64 3.6e+03 3.6e+03 ... 3.6e+03 nan\n",
       "    ghost_volumes_in        (time, nface) float64 0.0 0.0 0.0 ... 0.0 0.0 0.0\n",
       "    ghost_volumes_out       (time, nface) float64 0.0 0.0 0.0 ... 0.0 0.0 0.0\n",
       "Attributes: (12/13)\n",
       "    Conventions:                       CF-1.8 UGRID-1.0 Deltares-0.10\n",
       "    diffusion_coefficient:             0.1\n",
       "    volume_calculation_required:       False\n",
       "    face_area_calculation_required:    False\n",
       "    face_area_elevation_info:          Empty DataFrame\\nColumns: []\\nIndex: []\n",
       "    face_area_elevation_values:        Empty DataFrame\\nColumns: []\\nIndex: []\n",
       "    ...                                ...\n",
       "    face_cell_indexes_df:              Empty DataFrame\\nColumns: []\\nIndex: []\n",
       "    face_volume_elevation_info:        Empty DataFrame\\nColumns: []\\nIndex: []\n",
       "    face_volume_elevation_values:      Empty DataFrame\\nColumns: []\\nIndex: []\n",
       "    boundary_data:                     Empty DataFrame\\nColumns: []\\nIndex: []\n",
       "    units:                             Metric\n",
       "    nreal:                             2942"
      ]
     },
     "execution_count": 38,
     "metadata": {},
     "output_type": "execute_result"
    }
   ],
   "source": [
    "# display the ohio model domain xarray\n",
    "ohio.mesh"
   ]
  },
  {
   "cell_type": "markdown",
   "id": "df62aac6-5771-49cd-a55c-638acf623eb8",
   "metadata": {},
   "source": [
    "## Define Initial Conditions\n",
    "\n",
    "Initial conditions for the Clear Water model simulation of the Ohio River were developed as follows: A 5 ft raster was made from the EFDC shape file with the E. coli initial conditions and then a zonal statistic average was calculated for the HEC-RAS cells, creating the timeseries imported here.\n",
    "\n",
    "To set up the initial conditions in a Clearwater Riverine model, use the `intitial_condtions` method, which accepts a CSV file with `Cell_Index` and `Concentration` as the column headers. "
   ]
  },
  {
   "cell_type": "code",
   "execution_count": 39,
   "id": "d536b6ae-9c06-4aca-97a3-71ae0ac5d84e",
   "metadata": {},
   "outputs": [
    {
     "name": "stdout",
     "output_type": "stream",
     "text": [
      "CPU times: user 3.08 ms, sys: 2.46 ms, total: 5.54 ms\n",
      "Wall time: 4.91 ms\n"
     ]
    }
   ],
   "source": [
    "%%time\n",
    "ohio.initial_conditions('data/ohio_river/cwr_initial_conditions.csv')"
   ]
  },
  {
   "cell_type": "markdown",
   "id": "7b8d0302-867d-4b41-ba2e-67e2a26af178",
   "metadata": {},
   "source": [
    "## Define Boundary Conditions\n",
    "\n",
    "Use the `boundary_conditions` method to pass a CSV containing boundary condition information, with should have the following columns:\n",
    "* `RAS2D_TS_Name`: name of boundary condition in the HEC-RAS model\n",
    "* `Datetime`: date and time of boundary condition\n",
    "* `Concentration`: concentration (mass per volume)\n",
    "\n",
    "The current set-up assumes that each timestep in the RAS model will have a concentration in this CSV file and no further interpolation/data cleaning is required. We will likely want to build out this functionality to accept any datetimes and properly interpolate the data to fit the RAS model, rather than requiring users to do all clean-up and interpolation on their own.\n",
    "\n",
    "The boundary conditions were developed based on data in the EFDC model so that we can directly compare model output. "
   ]
  },
  {
   "cell_type": "code",
   "execution_count": 40,
   "id": "b868848f-f62f-41ba-86cc-42b2532f0773",
   "metadata": {},
   "outputs": [
    {
     "name": "stdout",
     "output_type": "stream",
     "text": [
      "CPU times: user 11.7 s, sys: 96.1 ms, total: 11.8 s\n",
      "Wall time: 12 s\n"
     ]
    }
   ],
   "source": [
    "%%time\n",
    "ohio.boundary_conditions('data/ohio_river/cwr_boundary_conditions.csv')"
   ]
  },
  {
   "cell_type": "markdown",
   "id": "6418535a-358e-4aa7-bf1d-0d53e51f2dd7",
   "metadata": {
    "tags": []
   },
   "source": [
    "## Run Model\n",
    "\n",
    "Run the RAS2D water quality model using `simulate_wq`, which accepts the following (optional) parameters:\n",
    "* `input_mass_units`: User-defined mass units for concentration timeseries based on initial / boundary conditions. Assumes mg if no value is specified. \n",
    "* `input_volume_units`:     User-defined volume units for concentration timeseries based on initial / boundary conditions. Assumes L if no value\n",
    "                                        is specified.\n",
    "* `input_liter_conversion`: If concentration inputs (initial / boundary conditions) are not in mass/L, supply the conversion factor to \n",
    "                                        convert the volume unit to liters. \n",
    "* `save`:                   Boolean indicating whether the file should be saved. Default is to not save the output.\n",
    "* `fpath_out`:              Filepath where the output file should be stored. Default to save in current directory.\n",
    "* `fname_out`:              Filename of saved output.\n",
    "\n",
    "**The unit info should probably be moved to the boundary condition / initial condition setup** and also potentially needs to be re-thought out. \n",
    "\n",
    "In this example, the input mass units are `cfu` (`colony forming unit`) since we are modelling E. coli, and the input volume units are `100 mL`. We therefore have to provide the `input_liter_conversion` parameter to correctly convert our input units to liters, which is the assumed unit in all calculations."
   ]
  },
  {
   "cell_type": "code",
   "execution_count": 41,
   "id": "de11ca2d-fafb-447f-b316-32f3a952314a",
   "metadata": {},
   "outputs": [
    {
     "name": "stdout",
     "output_type": "stream",
     "text": [
      "Folder is already there\n"
     ]
    }
   ],
   "source": [
    "# create path to save output\n",
    "path = Path.cwd() / 'data_temp'\n",
    "try:\n",
    "    path.mkdir(parents=True, exist_ok=False)\n",
    "except FileExistsError:\n",
    "    print(\"Folder is already there\")\n",
    "else:\n",
    "    print(\"Folder was created\")"
   ]
  },
  {
   "cell_type": "code",
   "execution_count": 42,
   "id": "447998cb-284a-44b5-8238-c90501f0b8bc",
   "metadata": {},
   "outputs": [
    {
     "name": "stdout",
     "output_type": "stream",
     "text": [
      "Starting WQ Simulation...\n",
      " Assuming concentration input has units of cfu/100 mL...\n",
      "     If this is not true, please re-run the wq simulation with input_mass_units, input_volume_units, and liter_conversion parameters filled in appropriately.\n",
      " 25%\n",
      " 50%\n",
      " 75%\n",
      " 100%\n",
      "CPU times: user 9.9 s, sys: 433 ms, total: 10.3 s\n",
      "Wall time: 10.3 s\n"
     ]
    }
   ],
   "source": [
    "%%time\n",
    "ohio.simulate_wq(input_mass_units= 'cfu',\n",
    "                   input_volume_units = '100 mL',\n",
    "                   input_liter_conversion = 0.1,\n",
    "                   save=True,\n",
    "                   output_file_path= 'data_temp/ohio-river.zarr',\n",
    ")\n"
   ]
  },
  {
   "cell_type": "markdown",
   "id": "880454ed-b714-46fe-9129-4149874772f0",
   "metadata": {},
   "source": [
    "## Plot Model Results\n",
    "\n",
    "### Quick Plot \n",
    "\n",
    "If you want to quickly plot the model results, the `quick_plot` method takes the cell centroids and plots them in a scatter plot.\n"
   ]
  },
  {
   "cell_type": "code",
   "execution_count": 43,
   "id": "eb57f7bd-565c-4e3d-8679-e5fd1272d1b2",
   "metadata": {},
   "outputs": [
    {
     "name": "stderr",
     "output_type": "stream",
     "text": [
      "WARNING:param.Scatter: Chart elements should only be supplied a single kdim\n"
     ]
    },
    {
     "data": {
      "application/vnd.jupyter.widget-view+json": {
       "model_id": "acc53d401e3b4f51b4ab4cbcd6ca79e2",
       "version_major": 2,
       "version_minor": 0
      },
      "text/plain": [
       "BokehModel(combine_events=True, render_bundle={'docs_json': {'44f6c836-10c6-4c1f-8569-82a42c309b5c': {'version…"
      ]
     },
     "execution_count": 43,
     "metadata": {},
     "output_type": "execute_result"
    }
   ],
   "source": [
    "ohio.quick_plot()"
   ]
  },
  {
   "cell_type": "markdown",
   "id": "e0617c01-9dac-4dce-9dc0-7e51c51389b5",
   "metadata": {},
   "source": [
    "The default color bar will go from the minimum to maximum concentration value. If you want to specify a maximum value for your colorbar, use the `clim_max` parameter:"
   ]
  },
  {
   "cell_type": "code",
   "execution_count": 44,
   "id": "d94ee618-b568-436c-bc0c-1b5249a0a5ff",
   "metadata": {},
   "outputs": [
    {
     "name": "stderr",
     "output_type": "stream",
     "text": [
      "WARNING:param.Scatter: Chart elements should only be supplied a single kdim\n"
     ]
    },
    {
     "data": {
      "application/vnd.jupyter.widget-view+json": {
       "model_id": "0918cca5f9974d14b2f3ba27d0f4226e",
       "version_major": 2,
       "version_minor": 0
      },
      "text/plain": [
       "BokehModel(combine_events=True, render_bundle={'docs_json': {'dd359f5a-dc61-410e-a281-80765db78745': {'version…"
      ]
     },
     "execution_count": 44,
     "metadata": {},
     "output_type": "execute_result"
    }
   ],
   "source": [
    "# define maximum value for plotting\n",
    "ohio.quick_plot(clim_max = 500)"
   ]
  },
  {
   "cell_type": "markdown",
   "id": "8c66fd46-0813-401a-8710-cc02d120c4e9",
   "metadata": {
    "tags": []
   },
   "source": [
    "### Detailed Polygon Plot\n",
    "\n",
    "We can use the `plot()` method to plot a more detailed mesh. For this plotting function, you must specifiy the projection of the HEC-RAS model."
   ]
  },
  {
   "cell_type": "code",
   "execution_count": 45,
   "id": "3cba2752-4f8e-41fd-842f-27f234c414f1",
   "metadata": {},
   "outputs": [
    {
     "name": "stdout",
     "output_type": "stream",
     "text": [
      "CPU times: user 4.39 s, sys: 132 ms, total: 4.53 s\n",
      "Wall time: 4.56 s\n"
     ]
    },
    {
     "name": "stderr",
     "output_type": "stream",
     "text": [
      "/opt/homebrew/Caskroom/miniconda/base/envs/clearwater/lib/python3.11/site-packages/shapely/constructive.py:181: RuntimeWarning: invalid value encountered in buffer\n",
      "  return lib.buffer(\n",
      "/opt/homebrew/Caskroom/miniconda/base/envs/clearwater/lib/python3.11/site-packages/shapely/constructive.py:181: RuntimeWarning: invalid value encountered in buffer\n",
      "  return lib.buffer(\n",
      "/opt/homebrew/Caskroom/miniconda/base/envs/clearwater/lib/python3.11/site-packages/shapely/constructive.py:181: RuntimeWarning: invalid value encountered in buffer\n",
      "  return lib.buffer(\n"
     ]
    },
    {
     "data": {
      "application/vnd.jupyter.widget-view+json": {
       "model_id": "7d3257b2516e4b718951073f7984f100",
       "version_major": 2,
       "version_minor": 0
      },
      "text/plain": [
       "BokehModel(combine_events=True, render_bundle={'docs_json': {'a589abfa-9288-428f-b3ae-35439030eeda': {'version…"
      ]
     },
     "execution_count": 45,
     "metadata": {},
     "output_type": "execute_result"
    }
   ],
   "source": [
    "%%time\n",
    "ohio.plot(crs='ESRI:102279')"
   ]
  },
  {
   "cell_type": "markdown",
   "id": "46ee613a-9682-44bd-b246-742d0d1e5a4b",
   "metadata": {},
   "source": [
    "Some additional features of the `plot()` method:\n",
    "* You can use the `clim_max` parameter to specify the maximum colorbar value.\n",
    "* You can use the `time_index_range` to specify a start time index and and end time index. This limits the time extent displayed in the plot (e.g., if you only want to show a plot of a single event).\n",
    "\n",
    "Note that if you call the `plot()` method more than once, you do **not** need to re-specify the projection. Note that the method is much faster than the initial call, because all re-projections have already occurred."
   ]
  },
  {
   "cell_type": "code",
   "execution_count": 46,
   "id": "21affb4f-2f8a-4aea-b314-3c17079bbc96",
   "metadata": {},
   "outputs": [
    {
     "name": "stderr",
     "output_type": "stream",
     "text": [
      "/opt/homebrew/Caskroom/miniconda/base/envs/clearwater/lib/python3.11/site-packages/shapely/constructive.py:181: RuntimeWarning: invalid value encountered in buffer\n",
      "  return lib.buffer(\n",
      "/opt/homebrew/Caskroom/miniconda/base/envs/clearwater/lib/python3.11/site-packages/shapely/constructive.py:181: RuntimeWarning: invalid value encountered in buffer\n",
      "  return lib.buffer(\n"
     ]
    },
    {
     "name": "stdout",
     "output_type": "stream",
     "text": [
      "CPU times: user 12.7 ms, sys: 2.99 ms, total: 15.7 ms\n",
      "Wall time: 14.3 ms\n"
     ]
    },
    {
     "name": "stderr",
     "output_type": "stream",
     "text": [
      "/opt/homebrew/Caskroom/miniconda/base/envs/clearwater/lib/python3.11/site-packages/shapely/constructive.py:181: RuntimeWarning: invalid value encountered in buffer\n",
      "  return lib.buffer(\n"
     ]
    },
    {
     "data": {
      "application/vnd.jupyter.widget-view+json": {
       "model_id": "18c3363999c046fc8be3fbac77bf6be5",
       "version_major": 2,
       "version_minor": 0
      },
      "text/plain": [
       "BokehModel(combine_events=True, render_bundle={'docs_json': {'44d8d1c7-8a0e-4430-8ded-fe26b6354b1e': {'version…"
      ]
     },
     "execution_count": 46,
     "metadata": {},
     "output_type": "execute_result"
    }
   ],
   "source": [
    "%%time\n",
    "ohio.plot(clim_max = 1000, time_index_range= (280,340))"
   ]
  },
  {
   "cell_type": "markdown",
   "id": "bfda9601-56dd-4b6d-99b5-f01f869ea0b5",
   "metadata": {},
   "source": [
    "#### Example Save to HTML\n",
    "\n",
    "The code below shows how to save the plot as an interactive HTML file. These cells will be saved as raw cells because saving the html takes a long time. However, useres can convert these raw cells to code blocks if they would like to choose to save the file to HTML."
   ]
  },
  {
   "cell_type": "raw",
   "id": "ddd0e58d-ab3e-4c03-ab40-96e38dd3e27d",
   "metadata": {},
   "source": [
    "plot_to_save = ohio.plot(clim_max = 1000, time_index_range= (280,340))"
   ]
  },
  {
   "cell_type": "raw",
   "id": "e2d2cda3-e89f-4cfc-a794-dfc6c9fe7ca9",
   "metadata": {},
   "source": [
    "hv.save(plot_to_save, 'data_temp/ohio-polygons.html')"
   ]
  },
  {
   "cell_type": "markdown",
   "id": "b282d7e0-1c89-497a-9100-fab86c775624",
   "metadata": {},
   "source": [
    "#### Example Save to Gif \n",
    "\n",
    "Limit the timeframe so that it can be converted from a [HoloMap from a DynamicMap](https://holoviews.org/user_guide/Live_Data.html#converting-from-dynamicmap-to-holomap) and then [exported to a gif](https://holoviews.org/user_guide/Exporting_and_Archiving.html). These cells will be saved as raw cells because saving a gif takes a long time, but users can convert the raw cells to code blocks if they would like to choose to save a gif. "
   ]
  },
  {
   "cell_type": "raw",
   "id": "d0f834e6-d5f3-4cda-84b4-d63e9a76be76",
   "metadata": {},
   "source": [
    "plot_to_save = ohio.plot(clim_max = 1000, time_index_range= (280,340))\n",
    "hmap = hv.HoloMap(plot_to_save[{f for f in ohio.gdf.datetime.unique()[280:340]}])"
   ]
  },
  {
   "cell_type": "raw",
   "id": "88584fa4-e5e5-4242-a6ef-f7aa4751bfa2",
   "metadata": {},
   "source": [
    "hv.save(hmap, 'data_temp/ohio-polygons.gif', fps = 4, fmt='gif')"
   ]
  },
  {
   "cell_type": "markdown",
   "id": "9c56069a-bfc2-409e-b299-31b9718d7c77",
   "metadata": {},
   "source": [
    "# Load EFDC Model\n",
    "\n",
    "Now we need to load the EFDC model results of the Ohio River so that we have a point of comparison for the Clearwater Riverine water quality output. "
   ]
  },
  {
   "cell_type": "markdown",
   "id": "6451c0d4-d5b1-4a5f-9125-8b2ae531b1e0",
   "metadata": {},
   "source": [
    "## EFDC File Paths"
   ]
  },
  {
   "cell_type": "code",
   "execution_count": 47,
   "id": "322add28-dd8a-4db6-8345-777257d0f649",
   "metadata": {},
   "outputs": [
    {
     "data": {
      "text/plain": [
       "PosixPath('/Users/todd/GitHub/ecohydrology/ClearWater-riverine/examples')"
      ]
     },
     "execution_count": 47,
     "metadata": {},
     "output_type": "execute_result"
    }
   ],
   "source": [
    "# Set your project directory to your local folder for your clone of this repository\n",
    "project_path = Path.cwd()\n",
    "project_path"
   ]
  },
  {
   "cell_type": "code",
   "execution_count": 48,
   "id": "037de731-0abd-40a1-8d71-171816acda5a",
   "metadata": {},
   "outputs": [
    {
     "name": "stdout",
     "output_type": "stream",
     "text": [
      "/Users/todd/GitHub/ecohydrology/ClearWater-riverine/examples/data\n"
     ]
    }
   ],
   "source": [
    "# Assign relative paths for model output and EFDC domain\n",
    "data_folder = Path('data/')\n",
    "data_path = project_path / data_folder\n",
    "print(data_path)\n",
    "efdc_output = pd.read_parquet(data_path / 'ohio_river/efdc/ohio_river-2010.parquet')"
   ]
  },
  {
   "cell_type": "code",
   "execution_count": 49,
   "id": "ea81c4ef-cb2a-473d-b4b8-368390d6e913",
   "metadata": {},
   "outputs": [],
   "source": [
    "efdc_domain = gpd.read_file(data_path / 'ohio_river/efdc/efdc_ohio_river_model_shapefile/EFDC.shp')"
   ]
  },
  {
   "cell_type": "markdown",
   "id": "696d8811-d9d0-4e10-bbf7-53821abc18e8",
   "metadata": {},
   "source": [
    "## Process EFDC Data\n",
    "\n",
    "Now we must align the date range of EFDC to match with HEC-RAS, since the models were run over different time extents. Furthermore, the model domain and the model results (concentrations and timesteps) are currently in separate files. In this section we also combine the output data with the EFDC model mesh into a single geopandas dataframe."
   ]
  },
  {
   "cell_type": "code",
   "execution_count": 50,
   "id": "5c0b035b-2bc2-4d5c-becb-92145f1989f2",
   "metadata": {},
   "outputs": [],
   "source": [
    "arr = ohio.mesh"
   ]
  },
  {
   "cell_type": "code",
   "execution_count": 51,
   "id": "aa7b0737-0f40-4346-a392-3c31b2f64cf5",
   "metadata": {},
   "outputs": [],
   "source": [
    "# limit date range to match RAS\n",
    "efdc_output = efdc_output[(efdc_output.datetime >= pd.to_datetime(arr.time.min().values)) & (efdc_output.datetime <= pd.to_datetime(arr.time.max().values))]"
   ]
  },
  {
   "cell_type": "code",
   "execution_count": null,
   "id": "8c5e967e-2b16-42c2-9817-fb623e7fba52",
   "metadata": {},
   "outputs": [],
   "source": [
    "# combine output and geometry from EFDC\n",
    "efdc_domain.rename(columns={'GRIDNO': 'grid_no'}, inplace = True)\n",
    "efdc_domain = efdc_domain[['grid_no', 'geometry']]\n",
    "efdc = efdc_domain.merge(efdc_output, on = 'grid_no', how = 'right')"
   ]
  },
  {
   "cell_type": "code",
   "execution_count": null,
   "id": "e3aa410a-e539-49ec-a529-43ecbddd9856",
   "metadata": {},
   "outputs": [],
   "source": [
    "dts = efdc['datetime'].unique()\n",
    "df_dict = {}\n",
    "for i in range(len(dts)):\n",
    "    # efdc = efdc[efdc.geometry != None]\n",
    "    df_dict[i] = efdc[efdc.datetime == dts[i]]"
   ]
  },
  {
   "cell_type": "markdown",
   "id": "60fae06d-c394-4c22-be88-a65bd0a741d8",
   "metadata": {},
   "source": [
    "## EFDC Plot"
   ]
  },
  {
   "cell_type": "code",
   "execution_count": null,
   "id": "548eb806-fc0b-4a50-a24b-fc9604baad13",
   "metadata": {},
   "outputs": [],
   "source": [
    "mval = 5000\n",
    "def efdc_time_mesh(time, max_value = mval):\n",
    "    time_title = pd.to_datetime(str(dts[time])).strftime('%m/%d/%Y %H:%M ')\n",
    "    map = gv.Polygons(df_dict[time].to_crs('EPSG:4326'), vdims=['DYE_mgL', 'grid_no']).opts(height=700,\n",
    "                                                                            width = 1000,\n",
    "                                                                                color='DYE_mgL',\n",
    "                                                                            colorbar = True,\n",
    "                                                                            cmap = 'OrRd', \n",
    "                                                                            clim = (0,max_value),\n",
    "                                                                            line_width = 0.1,\n",
    "                                                                             title = time_title, \n",
    "                                                                               tools = ['hover'],\n",
    "                                                                           )\n",
    "    return map * gv.tile_sources.CartoLight()\n"
   ]
  },
  {
   "cell_type": "code",
   "execution_count": null,
   "id": "30665956-1c22-439c-9817-23f059620426",
   "metadata": {},
   "outputs": [],
   "source": [
    "efdc_meshes = gv.DynamicMap(efdc_time_mesh, kdims='Time').redim.values(Time=df_dict.keys())\n",
    "efdc_meshes"
   ]
  },
  {
   "cell_type": "markdown",
   "id": "6be794b9-553d-4633-ab8b-017601212043",
   "metadata": {},
   "source": [
    "## RAS Plot"
   ]
  },
  {
   "cell_type": "code",
   "execution_count": null,
   "id": "d8970756-838f-4fdc-a323-e083eced359f",
   "metadata": {},
   "outputs": [],
   "source": [
    "ras_meshes = ohio.plot() # gv.DynamicMap(time_mesh, kdims='Time').redim.values(Time=mesh2d_dict.keys())\n",
    "ras_meshes"
   ]
  },
  {
   "cell_type": "markdown",
   "id": "7a7dc368-2850-4355-a3d7-f1d69a6b71da",
   "metadata": {},
   "source": [
    "# RAS / EFDC Model Comparison\n",
    "## Make Domains Comparable\n",
    "\n",
    "You can see from the plots above that the model domains are not aligned; the HEC-RAS model and corresponding Clearwater Riverine model have a much more limited spatial extent. The following code is used to limit the EFDC spatial domain to align with the Clearwater Riverine spatial domain. \n",
    "\n",
    "We start by dissolving the Clearwater Riverine boundary into a single polygon so that we can identify all EFDC polygons that fall within the Clearwater Riverine domain:"
   ]
  },
  {
   "cell_type": "code",
   "execution_count": null,
   "id": "fa3e9c57-51ae-4cec-8a00-a88ac589dcbd",
   "metadata": {},
   "outputs": [],
   "source": [
    "%%time\n",
    "dissolve_boundary = ohio.gdf[ohio.gdf.datetime == pd.to_datetime(\" 2010-05-29 00:00:00\")]\n",
    "dissolve_boundary = dissolve_boundary.assign(dissolve_param = 1)\n",
    "ras_outline = dissolve_boundary.dissolve(by='dissolve_param')"
   ]
  },
  {
   "cell_type": "markdown",
   "id": "20968e0c-e4f9-47c3-96a9-b59136741e56",
   "metadata": {},
   "source": [
    "Then re-project the RAS outline to match the CRS of the EFDC dataset. This is required for future spatial joins."
   ]
  },
  {
   "cell_type": "code",
   "execution_count": null,
   "id": "7a0a933e-7a40-4459-a727-4c9c669b939f",
   "metadata": {},
   "outputs": [],
   "source": [
    "ras_outline = ras_outline.to_crs(efdc.crs)"
   ]
  },
  {
   "cell_type": "markdown",
   "id": "a9dcde71-b03c-4212-addd-503cc6a83444",
   "metadata": {},
   "source": [
    "Perform a spatial join to limit the EFDC extent to the Clearwater Riverine extent.  "
   ]
  },
  {
   "cell_type": "code",
   "execution_count": null,
   "id": "1f027c96-4870-4e99-852a-dc73cce0c82c",
   "metadata": {},
   "outputs": [],
   "source": [
    "%%time\n",
    "efdc_full_df_raw = gpd.sjoin(efdc, ras_outline, how='left')\n",
    "efdc_full_df = efdc_full_df_raw[~efdc_full_df_raw.cell.isna()]"
   ]
  },
  {
   "cell_type": "markdown",
   "id": "e3591a28-d5a0-4a1c-a188-11f715769395",
   "metadata": {},
   "source": [
    "Plotting the updated EFDC domain confirms that we have successfully limited the spatial extent to the model domain of our Clearwater Riverine model. "
   ]
  },
  {
   "cell_type": "code",
   "execution_count": null,
   "id": "a3f87a23-7414-49a0-94c1-1481d7340d3a",
   "metadata": {},
   "outputs": [],
   "source": [
    "mval = 5000\n",
    "def efdc_time_mesh(time, max_value = mval):\n",
    "    time_title = pd.to_datetime(str(dts[time])).strftime('%m/%d/%Y %H:%M ')\n",
    "    efdc_sub = efdc_full_df[efdc_full_df.datetime_left == dts[time]]\n",
    "    map = gv.Polygons(efdc_sub.to_crs('EPSG:4326'), vdims=['DYE_mgL', 'grid_no']).opts(height=700,\n",
    "                                                                            width = 1000,\n",
    "                                                                                color='DYE_mgL',\n",
    "                                                                            colorbar = True,\n",
    "                                                                            cmap = 'OrRd', \n",
    "                                                                            clim = (0,max_value),\n",
    "                                                                            line_width = 0.1,\n",
    "                                                                             title = time_title, \n",
    "                                                                               tools = ['hover'],\n",
    "                                                                           )\n",
    "    return map * gv.tile_sources.CartoLight()"
   ]
  },
  {
   "cell_type": "code",
   "execution_count": null,
   "id": "11406d48-8904-4da7-abd2-f2f7f2bc6808",
   "metadata": {},
   "outputs": [],
   "source": [
    "efdc_meshes = gv.DynamicMap(efdc_time_mesh, kdims='Time').redim.values(Time=df_dict.keys())\n",
    "efdc_meshes"
   ]
  },
  {
   "cell_type": "markdown",
   "id": "64f384ef-3be6-47eb-b5b2-06da3c51dfe5",
   "metadata": {},
   "source": [
    "## Side By Side Comparison Plots\n",
    "\n",
    "Create side by side comparison plots. "
   ]
  },
  {
   "cell_type": "code",
   "execution_count": null,
   "id": "055e5e44-daca-4bf8-8633-b00fd66b839d",
   "metadata": {},
   "outputs": [],
   "source": [
    "efdc_full_df = efdc_full_df.to_crs('EPSG:4326')\n",
    "ras_full_df =  ohio.gdf # ras_full_df.to_crs('EPSG:4326')"
   ]
  },
  {
   "cell_type": "code",
   "execution_count": null,
   "id": "a2879ab4-ad93-4be6-b9bb-e64ee772a325",
   "metadata": {},
   "outputs": [],
   "source": [
    "max_value = 1000\n",
    "def plot_maps(datetime):\n",
    "    efdc_sub_df = efdc_full_df[efdc_full_df.datetime_left == datetime]\n",
    "    ras_sub_df = ras_full_df[ras_full_df.datetime == datetime]\n",
    "\n",
    "    \n",
    "    efdc_map = gv.Polygons(efdc_sub_df, vdims=['DYE_mgL']).opts(height=600,\n",
    "                                                                       width = 800,\n",
    "                                                                    color='DYE_mgL',\n",
    "                                                                    colorbar = True,\n",
    "                                                                    cmap = 'OrRd', \n",
    "                                                                    clim = (0,max_value),\n",
    "                                                                    line_width = 0.1,\n",
    "                                                                    tools = ['hover'],\n",
    "                                                                    title = \"EFDC\"\n",
    "                                                                   )\n",
    "    ras_map = gv.Polygons(ras_sub_df, vdims=['concentration']).opts(height=600,\n",
    "                                                                       width = 800,\n",
    "                                                                    color='concentration',\n",
    "                                                                    colorbar = True,\n",
    "                                                                    cmap = 'OrRd', \n",
    "                                                                    clim = (0,max_value),\n",
    "                                                                    line_width = 0.1,\n",
    "                                                                    tools = ['hover'],\n",
    "                                                                    title = \"Clearwater Riverine\"\n",
    "                                                                   )\n",
    "    return (ras_map * gv.tile_sources.CartoLight()) + (efdc_map * gv.tile_sources.CartoLight())\n",
    "\n",
    "# create your dynamicmap\n",
    "dmap = hv.DynamicMap(plot_maps, kdims=['datetime'])\n",
    "\n",
    "# define the range of values that your dropdowns should have\n",
    "dmap.redim.values(datetime=efdc_full_df.datetime_left.unique())"
   ]
  },
  {
   "cell_type": "markdown",
   "id": "b43944ac-05b7-4a4d-8aa2-a9e61002dc3c",
   "metadata": {},
   "source": [
    "### Save to HTML"
   ]
  },
  {
   "cell_type": "raw",
   "id": "1b72058e-10b6-437e-8363-c7908293476e",
   "metadata": {},
   "source": [
    "dmap_comparison = dmap.redim.values(datetime=efdc_full_df.datetime_left.unique()[66:88])"
   ]
  },
  {
   "cell_type": "raw",
   "id": "eef4d5cb-826c-45e4-8f8c-707ce115fda7",
   "metadata": {},
   "source": [
    "hv.save(dmap_comparison, 'data_temp/ohio-comparison.html')"
   ]
  },
  {
   "cell_type": "markdown",
   "id": "fec04db2-3b41-44a9-bbed-b20d6eba548a",
   "metadata": {},
   "source": [
    "### Make a GIF"
   ]
  },
  {
   "cell_type": "raw",
   "id": "8ebf4ed8-dcde-4499-8048-ac4c092b3df6",
   "metadata": {},
   "source": [
    "dmap_comparison = dmap.redim.values(datetime=efdc_full_df.datetime_left.unique())"
   ]
  },
  {
   "cell_type": "raw",
   "id": "45b4ab96-3ba2-4a9b-97f2-0d1030e7fd99",
   "metadata": {},
   "source": [
    "hmap = hv.HoloMap(dmap_comparison[{f for f in efdc_full_df.datetime_left.unique()[66:88]}])"
   ]
  },
  {
   "cell_type": "raw",
   "id": "b59a69b7-9693-4b1a-bb72-dfb1f1c7f36e",
   "metadata": {},
   "source": [
    "hv.save(hmap, 'data_temp/ohio-comparison.gif', fps = 4, fmt='gif')"
   ]
  },
  {
   "cell_type": "markdown",
   "id": "2e7aa6b0-7ebe-4f86-82ed-0ae94468c522",
   "metadata": {},
   "source": [
    "## Compare Locations\n",
    "When we look at the side by side maps above, the model results from EFDC and Clearwater Riverine look similar! However, now we want to create timeseries plots for each cell that will  provide a quantitative comparison of results. \n",
    "\n",
    "First, we must link EFDC cells to Clearwater Riverine cells to provide approximate cell to cell / location to location comparisons. We do this by finding the centroid of each Clearwater Riverine cell and then find the closest EFDC cell using a spatial join. "
   ]
  },
  {
   "cell_type": "code",
   "execution_count": null,
   "id": "59deb2a8-a606-4b2e-9376-f29f9584d261",
   "metadata": {},
   "outputs": [],
   "source": [
    "# centroids works best with projected data. \n",
    "ras_centroids = dissolve_boundary.to_crs('ESRI:102279').centroid\n",
    "point_gdf = gpd.GeoDataFrame({\"geometry\": ras_centroids, 'ras_cell': dissolve_boundary.cell})\n",
    "efdc_full_df.drop(columns=['index_right'], inplace=True)\n",
    "\n",
    "# both datasets must be within same projection for spatial join\n",
    "efdc_full_proj = efdc_full_df.to_crs('ESRI:102279')\n",
    "efdc_full_df_cell_comparison = gpd.sjoin(point_gdf, efdc_full_proj, predicate='within')\n",
    "full_df = efdc_full_df_cell_comparison.merge(ras_full_df, left_on=['ras_cell', 'datetime_left'], right_on = ['cell', 'datetime'], how='left')"
   ]
  },
  {
   "cell_type": "markdown",
   "id": "15aecbc8-bd9c-4c69-bff6-2937157bfe79",
   "metadata": {},
   "source": [
    "The following plot will highlight the cell that is being displayed in the timeseries plot to the left. "
   ]
  },
  {
   "cell_type": "code",
   "execution_count": null,
   "id": "65b723e3-5a10-4020-92c8-6c96f59b0c06",
   "metadata": {},
   "outputs": [],
   "source": [
    "def plot_conc(cell):\n",
    "    sub_df = full_df[full_df.ras_cell == cell]\n",
    "    ras_curve = hv.Curve(sub_df, ('datetime_left', 'datetime_left'), ('concentration_y', 'concentration_y'), label='Clearwater Riverine').opts(height=600, width=800, tools=['hover'])\n",
    "    efdc_curve = hv.Curve(sub_df, ('datetime_left', 'datetime_left'), ('DYE_mgL', 'DYE_mgL'), label='EFDC').opts(height=600, width=800, tools=['hover'])\n",
    "    cell_df = dissolve_boundary\n",
    "    cell_df['color'] = [f * 0 if f != cell else 1 for f in cell_df.cell]\n",
    "    map = gv.Polygons(cell_df.to_crs('EPSG:4326'), vdims=['color']).opts(height=600,\n",
    "                                                                        width = 800,\n",
    "                                                                        color = 'color',\n",
    "                                                                        cmap = 'viridis', \n",
    "                                                                        clim = (0,1),\n",
    "                                                                        line_width = 0.1,\n",
    "                                                                        tools = ['hover'],\n",
    "                                                                       )\n",
    "    return ras_curve * efdc_curve + map * gv.tile_sources.CartoLight()\n",
    "\n",
    "# create your dynamicmap\n",
    "dmap = hv.DynamicMap(plot_conc, kdims=['cell'])\n",
    "\n",
    "# define the range of values that your dropdowns should have\n",
    "dmap.redim.values(cell=full_df.cell_y.unique())"
   ]
  },
  {
   "cell_type": "raw",
   "id": "e6658e68-beae-4149-aa36-71323ce2d54e",
   "metadata": {},
   "source": [
    "timeseries = dmap.redim.values(cell=full_df.cell_y.unique())\n",
    "hv.save(timeseries, 'data_temp/cwr-efdc-comparison.html')"
   ]
  },
  {
   "cell_type": "markdown",
   "id": "93aa2f7a-d622-45d4-9924-919e59b207dc",
   "metadata": {},
   "source": [
    "## Difference Plot\n",
    "\n",
    "Plot the difference in concentration for each cell. "
   ]
  },
  {
   "cell_type": "code",
   "execution_count": null,
   "id": "b66cc00d-a2da-4640-a14b-ebd7647fcf24",
   "metadata": {},
   "outputs": [],
   "source": [
    "# calculate the difference between RAS and EFDC \n",
    "full_df.drop(['geometry_x'], axis=1, inplace=True)\n",
    "full_df.rename(columns={'geometry_y':'geometry'}, inplace=True)\n",
    "full_df['difference'] = full_df['concentration_y'] - full_df['DYE_mgL'] # RAS - EFDC\n"
   ]
  },
  {
   "cell_type": "code",
   "execution_count": null,
   "id": "37681e79-2c65-4667-b33a-4b42bd647809",
   "metadata": {},
   "outputs": [],
   "source": [
    "test = full_df[['datetime_left', 'difference', 'geometry']]\n",
    "test = test.reset_index(drop=True)\n",
    "gdf = gpd.GeoDataFrame(test)"
   ]
  },
  {
   "cell_type": "code",
   "execution_count": null,
   "id": "8b4d6044-3e0d-4101-adaa-c996c6deb492",
   "metadata": {
    "tags": []
   },
   "outputs": [],
   "source": [
    "def plot_diff(datetime):\n",
    "    sub_df = gdf[gdf.datetime_left == datetime]\n",
    "    diff_map = gv.Polygons(sub_df, vdims=['difference']).opts(height=600,\n",
    "                                                                width = 800,\n",
    "                                                                color='difference',\n",
    "                                                              cmap = 'bwr',\n",
    "                                                              clim = (-1000, 1000),\n",
    "                                                                colorbar = True,\n",
    "                                                                line_width = 0.1,\n",
    "                                                                tools = ['hover'],\n",
    "                                                                title = \"RAS - EFDC\")\n",
    "    return diff_map * gv.tile_sources.CartoLight()\n",
    "\n",
    "# create your dynamicmap\n",
    "dmap = hv.DynamicMap(plot_diff, kdims=['datetime'])\n",
    "\n",
    "# define the range of values that your dropdowns should have\n",
    "dmap.redim.values(datetime=efdc_full_df.datetime_left.unique())"
   ]
  },
  {
   "cell_type": "markdown",
   "id": "0f6a62d1-f4b9-4432-bc27-9ddafc7f9b7d",
   "metadata": {},
   "source": [
    "### Make a GIF"
   ]
  },
  {
   "cell_type": "raw",
   "id": "84a6bd3a-7fb3-4a90-b4f9-1dff70b8503d",
   "metadata": {},
   "source": [
    "dmap_comparison = dmap.redim.values(datetime=efdc_full_df.datetime_left.unique())\n",
    "hmap = hv.HoloMap(dmap_comparison[{f for f in efdc_full_df.datetime_left.unique()[66:88]}])\n",
    "hv.save(hmap, 'data_temp/ohio-difference.gif', fps = 4, fmt='gif')"
   ]
  },
  {
   "cell_type": "code",
   "execution_count": null,
   "id": "09efd8b1-4158-4c03-b6f3-c9e17529233a",
   "metadata": {},
   "outputs": [],
   "source": []
  }
 ],
 "metadata": {
  "kernelspec": {
   "display_name": "Python 3 (ipykernel)",
   "language": "python",
   "name": "python3"
  },
  "language_info": {
   "codemirror_mode": {
    "name": "ipython",
    "version": 3
   },
   "file_extension": ".py",
   "mimetype": "text/x-python",
   "name": "python",
   "nbconvert_exporter": "python",
   "pygments_lexer": "ipython3",
   "version": "3.10.8"
  },
  "toc-autonumbering": true,
  "vscode": {
   "interpreter": {
    "hash": "1dc1c8f0e486163cc6552b690c4cb9420e965884e72d44dd5be8ace38e239faa"
   }
  }
 },
 "nbformat": 4,
 "nbformat_minor": 5
}
