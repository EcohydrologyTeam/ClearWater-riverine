{
 "cells": [
  {
   "cell_type": "markdown",
   "metadata": {},
   "source": [
    "# ClearWater-Riverine Demo 3 (part 2): Coupling Transport to Water Quality Reactions with ClearWater-Modules\n",
    "This notebook can load the saved model results form the part one notebook or load previously saved model results that were downloaded from Google Drive."
   ]
  },
  {
   "cell_type": "code",
   "execution_count": null,
   "metadata": {},
   "outputs": [],
   "source": [
    "from pathlib import Path\n",
    "import logging\n",
    "import numpy as np\n",
    "import pandas as pd\n",
    "import xarray as xr\n",
    "import holoviews as hv\n",
    "import geoviews as gv\n",
    "from holoviews import opts\n",
    "import panel as pn\n",
    "hv.extension(\"bokeh\")"
   ]
  },
  {
   "cell_type": "code",
   "execution_count": null,
   "metadata": {},
   "outputs": [],
   "source": [
    "import clearwater_riverine as cwr"
   ]
  },
  {
   "cell_type": "code",
   "execution_count": null,
   "metadata": {},
   "outputs": [],
   "source": [
    "# Find project directory (i.e. the parent to `/examples` directory for this notebook)\n",
    "project_path = Path.cwd().parent\n",
    "project_path"
   ]
  },
  {
   "cell_type": "code",
   "execution_count": 4,
   "metadata": {},
   "outputs": [],
   "source": [
    "from clearwater_modules.nsm1.model import NutrientBudget"
   ]
  },
  {
   "cell_type": "markdown",
   "metadata": {},
   "source": [
    "### Import Model Results\n",
    "The files downloaded from Google Drive in the part one notebook of this example has a previous set of riverine/NSMI model results that were included just in case you were not able to get the model to run or if you are not willing to wait until your simulation is complete and you are eager to see some plots of the results."
   ]
  },
  {
   "cell_type": "code",
   "execution_count": null,
   "metadata": {},
   "outputs": [],
   "source": [
    "model_name = 'sumwere_creek_coarse_p48_NSMI'\n",
    "test_case_path = project_path / 'examples/data_temp' / model_name\n",
    "\n",
    "#Use previously simulated and saved model results (uncomment the following line)\n",
    "output_file = 'output_prev.nc'\n",
    "\n",
    "#Use results from current model simulation (uncomment the following line)\n",
    "#output_file = 'output.nc'\n",
    "\n",
    "#Check if output file exists\n",
    "saved_nc_output = test_case_path / output_file\n",
    "saved_nc_output.exists()"
   ]
  },
  {
   "cell_type": "code",
   "execution_count": null,
   "metadata": {},
   "outputs": [],
   "source": [
    "%%time\n",
    "transport_model = cwr.ClearwaterRiverine(\n",
    "    mesh_file_path=saved_nc_output\n",
    ")"
   ]
  },
  {
   "cell_type": "markdown",
   "metadata": {},
   "source": [
    "### Plot Model Results"
   ]
  },
  {
   "cell_type": "code",
   "execution_count": null,
   "metadata": {},
   "outputs": [],
   "source": [
    "transport_model.plot(\n",
    "    crs='EPSG:26916',\n",
    "    constituent_name='DOX',\n",
    "    clim=(2, 12),\n",
    "    cmap='RdYlBu_r',\n",
    "    filter_empty = True\n",
    ")"
   ]
  },
  {
   "cell_type": "code",
   "execution_count": null,
   "metadata": {},
   "outputs": [],
   "source": [
    "transport_model.plot(\n",
    "    crs='EPSG:26916',\n",
    "    constituent_name='Ap',\n",
    "    clim=(0, 250),\n",
    "    cmap='RdYlBu_r',\n",
    "    filter_empty = True\n",
    ")"
   ]
  },
  {
   "cell_type": "code",
   "execution_count": null,
   "metadata": {},
   "outputs": [],
   "source": [
    "transport_model.plot(\n",
    "    crs='EPSG:26916',\n",
    "    constituent_name='Ap',\n",
    "    clim=(5, 50),\n",
    "    cmap='RdYlBu_r',\n",
    "    filter_empty = True\n",
    ")"
   ]
  },
  {
   "cell_type": "code",
   "execution_count": null,
   "metadata": {},
   "outputs": [],
   "source": [
    "transport_model.plot(\n",
    "    crs='EPSG:26916',\n",
    "    constituent_name='TIP',\n",
    "    clim=(0, 0.070),\n",
    "    cmap='RdYlBu_r',\n",
    "    filter_empty = True\n",
    ")"
   ]
  },
  {
   "cell_type": "code",
   "execution_count": null,
   "metadata": {},
   "outputs": [],
   "source": [
    "transport_model.plot(\n",
    "    crs='EPSG:26916',\n",
    "    constituent_name='NH4',\n",
    "    clim=(0, 2),\n",
    "    cmap='RdYlBu_r',\n",
    "    filter_empty = True\n",
    ")"
   ]
  },
  {
   "cell_type": "code",
   "execution_count": null,
   "metadata": {},
   "outputs": [],
   "source": [
    "transport_model.plot(\n",
    "    crs='EPSG:26916',\n",
    "    constituent_name='NO3',\n",
    "    clim=(0, 1),\n",
    "    cmap='RdYlBu_r',\n",
    "    filter_empty = True\n",
    ")"
   ]
  },
  {
   "cell_type": "code",
   "execution_count": null,
   "metadata": {},
   "outputs": [],
   "source": [
    "transport_model.mesh.DOX.isel(nface=151, time=slice(0, 5000)).plot()"
   ]
  },
  {
   "cell_type": "code",
   "execution_count": null,
   "metadata": {},
   "outputs": [],
   "source": [
    "transport_model.mesh.Ap.isel(nface=151, time=slice(0, 5000)).plot()"
   ]
  },
  {
   "cell_type": "code",
   "execution_count": null,
   "metadata": {},
   "outputs": [],
   "source": [
    "transport_model.mesh.TIP.isel(nface=151, time=slice(0, 5000)).plot()"
   ]
  },
  {
   "cell_type": "code",
   "execution_count": null,
   "metadata": {},
   "outputs": [],
   "source": [
    "transport_model.mesh.NH4.isel(nface=151, time=slice(0, 5000)).plot()"
   ]
  },
  {
   "cell_type": "code",
   "execution_count": null,
   "metadata": {},
   "outputs": [],
   "source": [
    "transport_model.mesh.NO3.isel(nface=151, time=slice(0, 5000)).plot()"
   ]
  },
  {
   "cell_type": "code",
   "execution_count": null,
   "metadata": {},
   "outputs": [],
   "source": [
    "transport_model.mesh.DOX.isel(nface=217, time=slice(0, 5000)).plot()"
   ]
  },
  {
   "cell_type": "code",
   "execution_count": null,
   "metadata": {},
   "outputs": [],
   "source": [
    "transport_model.mesh.Ap.isel(nface=217, time=slice(0, 5000)).plot()"
   ]
  },
  {
   "cell_type": "code",
   "execution_count": null,
   "metadata": {},
   "outputs": [],
   "source": [
    "transport_model.mesh.TIP.isel(nface=217, time=slice(0, 5000)).plot()"
   ]
  },
  {
   "cell_type": "code",
   "execution_count": null,
   "metadata": {},
   "outputs": [],
   "source": [
    "transport_model.mesh.NH4.isel(nface=217, time=slice(0, 5000)).plot()"
   ]
  },
  {
   "cell_type": "code",
   "execution_count": null,
   "metadata": {},
   "outputs": [],
   "source": [
    "transport_model.mesh.NO3.isel(nface=217, time=slice(0, 5000)).plot()"
   ]
  },
  {
   "cell_type": "code",
   "execution_count": null,
   "metadata": {},
   "outputs": [],
   "source": [
    "transport_model.mesh.DOX.isel(nface=180, time=slice(0, 5000)).plot()"
   ]
  },
  {
   "cell_type": "code",
   "execution_count": null,
   "metadata": {},
   "outputs": [],
   "source": [
    "transport_model.mesh.Ap.isel(nface=180, time=slice(0, 5000)).plot()"
   ]
  },
  {
   "cell_type": "code",
   "execution_count": null,
   "metadata": {},
   "outputs": [],
   "source": [
    "transport_model.mesh.TIP.isel(nface=180, time=slice(0, 5000)).plot()"
   ]
  },
  {
   "cell_type": "code",
   "execution_count": null,
   "metadata": {},
   "outputs": [],
   "source": [
    "transport_model.mesh.NH4.isel(nface=180, time=slice(0, 5000)).plot()"
   ]
  },
  {
   "cell_type": "code",
   "execution_count": null,
   "metadata": {},
   "outputs": [],
   "source": [
    "transport_model.mesh.NO3.isel(nface=180, time=slice(0, 5000)).plot()"
   ]
  },
  {
   "cell_type": "markdown",
   "metadata": {},
   "source": [
    "### Save a Dynamic Map Plot as an *.html File"
   ]
  },
  {
   "cell_type": "code",
   "execution_count": null,
   "metadata": {},
   "outputs": [],
   "source": [
    "#Select parameters for \"plot to save\" as an *.html file\n",
    "constituent_name_str = 'DOX' #select constituent_name: DOX, Ap, TIP, NH4, or NO3\n",
    "clim_tuple = (2, 12) #select min/max range of color bar for plot (should be changed for each constituent)\n",
    "time_index_range_tuple = (0, 500) #select time index range: between 0 and 2880\n",
    "\n",
    "#constituent_name_str = 'Ap'\n",
    "#clim_tuple = (5, 50)\n",
    "\n",
    "#constituent_name_str = 'TIP'\n",
    "#clim_tuple = (0.005, 0.070)\n",
    "\n",
    "#constituent_name_str = 'NH4'\n",
    "#clim_tuple = (0, 1.1)\n",
    "\n",
    "#constituent_name_str = 'NO3'\n",
    "#clim_tuple = (0, 1)\n",
    "\n",
    "#Create plot\n",
    "plot_to_save = transport_model.plot(\n",
    "    crs='EPSG:26916',\n",
    "    constituent_name=constituent_name_str,\n",
    "    clim=clim_tuple,\n",
    "    cmap='RdYlBu_r',\n",
    "    time_index_range=time_index_range_tuple,\n",
    "    filter_empty = True\n",
    ")\n",
    "\n",
    "#Show plot\n",
    "plot_to_save"
   ]
  },
  {
   "cell_type": "code",
   "execution_count": null,
   "metadata": {},
   "outputs": [],
   "source": [
    "#Create filepath for *.html file\n",
    "save_filename = 'plot_' +\\\n",
    "    constituent_name_str +\\\n",
    "    '_timeIndex_' +\\\n",
    "    str(time_index_range_tuple[0]) +\\\n",
    "    '_to_' +\\\n",
    "    str(time_index_range_tuple[1]) +\\\n",
    "    '.html'\n",
    "save_filepath = test_case_path / save_filename\n",
    "\n",
    "#Convert Holoviews dynamic map object to a Panel object\n",
    "plot_to_save_pn = pn.pane.HoloViews(plot_to_save)\n",
    "\n",
    "#Save Panel object as a *.html file\n",
    "plot_to_save_pn.save(filename=save_filepath, embed=True)"
   ]
  },
  {
   "cell_type": "code",
   "execution_count": null,
   "metadata": {},
   "outputs": [],
   "source": []
  }
 ],
 "metadata": {
  "kernelspec": {
   "display_name": "clearwater_riverine",
   "language": "python",
   "name": "python3"
  },
  "language_info": {
   "codemirror_mode": {
    "name": "ipython",
    "version": 3
   },
   "file_extension": ".py",
   "mimetype": "text/x-python",
   "name": "python",
   "nbconvert_exporter": "python",
   "pygments_lexer": "ipython3",
   "version": "3.11.6"
  }
 },
 "nbformat": 4,
 "nbformat_minor": 2
}
